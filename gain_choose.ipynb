{
 "cells": [
  {
   "cell_type": "code",
   "execution_count": 1,
   "metadata": {},
   "outputs": [],
   "source": [
    "import collections\n",
    "import math\n",
    "import string\n",
    "import numpy as np\n",
    "import pandas as pda\n",
    "import seaborn as sns\n",
    "from itertools import permutations\n",
    "from sympy.utilities.iterables import partitions\n",
    "import matplotlib.pyplot as plt \n",
    "%matplotlib notebook\n",
    "#pd.set_option('precision', 7)"
   ]
  },
  {
   "cell_type": "code",
   "execution_count": 2,
   "metadata": {},
   "outputs": [],
   "source": [
    "sns.set()"
   ]
  },
  {
   "cell_type": "markdown",
   "metadata": {},
   "source": [
    "**Test Variables**"
   ]
  },
  {
   "cell_type": "code",
   "execution_count": 2,
   "metadata": {},
   "outputs": [],
   "source": [
    "## Number of unique diseases possible\n",
    "k = 3\n",
    "\n",
    "## Priors\n",
    "pi = [1/2, 1/3, 1/6]\n",
    "pi_uni = [1/3, 1/3, 1/3]\n",
    "\n",
    "## Integer Partitions\n",
    "### n = 6\n",
    "pa = {3:1, 2:1, 1:1}\n",
    "pb = {3:2}\n",
    "pc = {6:1}\n",
    "pd = {4:1, 1:2}\n",
    "ph = {4:1, 2:1}\n",
    "pg = {5:1, 1:1}\n",
    "\n",
    "### n = 4\n",
    "pe = {3:1, 1:1}\n",
    "\n",
    "### n <= 3\n",
    "pf = {2:1}\n",
    "\n",
    "prior_test = pi\n",
    "partition_test = pd"
   ]
  },
  {
   "cell_type": "markdown",
   "metadata": {},
   "source": [
    "**k_dictionary**\n",
    "\n",
    "Input: pi, the probability distribution\n",
    "\n",
    "Output: a dictionary with letters for keys. The letters represent individual diseases. Can be used to keep track of individual diseases throughout the gain function calculations.\n",
    "\n",
    "```python\n",
    "pi = [1/2, 1/3, 1/6]\n",
    "k_dict = {'a': 0.5, 'b': 0.33333, 'c':0.166666}\n",
    "```"
   ]
  },
  {
   "cell_type": "code",
   "execution_count": 3,
   "metadata": {},
   "outputs": [],
   "source": [
    "def k_dictionary(pi):\n",
    "    return dict(zip(string.ascii_lowercase, pi))"
   ]
  },
  {
   "cell_type": "code",
   "execution_count": 12,
   "metadata": {},
   "outputs": [
    {
     "name": "stdout",
     "output_type": "stream",
     "text": [
      "{'a': 0.5, 'b': 0.3333333333333333, 'c': 0.16666666666666666}\n"
     ]
    }
   ],
   "source": [
    "my_pi_dict = k_dictionary(prior_test)\n",
    "\n",
    "print(my_pi_dict)"
   ]
  },
  {
   "cell_type": "markdown",
   "metadata": {},
   "source": [
    "---\n",
    "**list_all_ints** is a helper function to type_probability\n",
    "\n",
    "Input: the integer partition dictionary\n",
    "\n",
    "Output: a list of the integers\n",
    "\n",
    "```python\n",
    "p = {3:1, 1:2}\n",
    "col_names = [3, 1, 1]\n",
    "```"
   ]
  },
  {
   "cell_type": "code",
   "execution_count": 4,
   "metadata": {},
   "outputs": [],
   "source": [
    "def list_all_ints(p):\n",
    "    col_names = []\n",
    "    for i in p.keys(): # i = integer, m = multiplicity\n",
    "        m = p[i]\n",
    "        for x in range(m):\n",
    "            col_names.append(i)\n",
    "    return col_names"
   ]
  },
  {
   "cell_type": "markdown",
   "metadata": {},
   "source": [
    "---\n",
    "**type_3** calculates all possible probabilies for each column type, given an integer partition\n",
    "\n",
    "Input: \n",
    "- an integer partition p \n",
    "- pi_dict, a dictionary of diseases and probabilities in k \n",
    "- k, the number of unique plaintext values/diseases\n",
    "\n",
    "```python\n",
    "p = {6:1}\n",
    "pi_dict = {'a': 0.5, 'b': 0.33333, 'c':0.166666}\n",
    "k = 3\n",
    "```\n",
    "\n",
    "Output:\n",
    "- df: columns represent the different blocks. Each row has a different permutation of diseases. The final column is the probability of that particular column type occuring\n",
    "- int_list: the expanded form of the integer partition\n",
    "\n",
    "Notes: \n",
    "- hardcoded for k = 3\n",
    "- uses list_all_ints(p) as a helper function. "
   ]
  },
  {
   "cell_type": "code",
   "execution_count": 5,
   "metadata": {},
   "outputs": [],
   "source": [
    "def type_3(p, pi_dict, k):\n",
    "    int_list = list_all_ints(p)\n",
    "    int_list_len = len(int_list)\n",
    "    data = list(permutations(pi_dict.keys(), min(k, int_list_len)))\n",
    "    df = pda.DataFrame(data = data, columns=int_list)\n",
    "    if int_list_len == 1:\n",
    "        df['prob']= pow(df.iloc[:,0].map(pi_dict), df.columns.values[0])\n",
    "    elif int_list_len == 2:\n",
    "        df['prob']= pow(df.iloc[:,0].map(pi_dict), df.columns.values[0]) * pow(df.iloc[:,1].map(pi_dict), df.columns.values[1])\n",
    "    elif int_list_len == 3:\n",
    "        df['prob']= pow(df.iloc[:,0].map(pi_dict), df.columns.values[0]) * pow(df.iloc[:,1].map(pi_dict), df.columns.values[1]) * pow(df.iloc[:,2].map(pi_dict), df.columns.values[2])\n",
    "    elif int_list_len == 4:\n",
    "        df['prob']= pow(df.iloc[:,0].map(pi_dict), df.columns.values[0]) * pow(df.iloc[:,1].map(pi_dict), df.columns.values[1]) * pow(df.iloc[:,2].map(pi_dict), df.columns.values[2]) * pow(df.iloc[:,3].map(pi_dict), df.columns.values[3])\n",
    "    elif int_list_len == 5:\n",
    "        df['prob']= pow(df.iloc[:,0].map(pi_dict), df.columns.values[0]) * pow(df.iloc[:,1].map(pi_dict), df.columns.values[1]) * pow(df.iloc[:,2].map(pi_dict), df.columns.values[2]) * pow(df.iloc[:,3].map(pi_dict), df.columns.values[3]) * pow(df.iloc[:,4].map(pi_dict), df.columns.values[4])\n",
    "    else:\n",
    "         raise ValueError(\"The integer partition doesn't make sense\")\n",
    "    return df, int_list"
   ]
  },
  {
   "cell_type": "code",
   "execution_count": 13,
   "metadata": {},
   "outputs": [
    {
     "data": {
      "text/html": [
       "<div>\n",
       "<style scoped>\n",
       "    .dataframe tbody tr th:only-of-type {\n",
       "        vertical-align: middle;\n",
       "    }\n",
       "\n",
       "    .dataframe tbody tr th {\n",
       "        vertical-align: top;\n",
       "    }\n",
       "\n",
       "    .dataframe thead th {\n",
       "        text-align: right;\n",
       "    }\n",
       "</style>\n",
       "<table border=\"1\" class=\"dataframe\">\n",
       "  <thead>\n",
       "    <tr style=\"text-align: right;\">\n",
       "      <th></th>\n",
       "      <th>4</th>\n",
       "      <th>1</th>\n",
       "      <th>1</th>\n",
       "      <th>prob</th>\n",
       "    </tr>\n",
       "  </thead>\n",
       "  <tbody>\n",
       "    <tr>\n",
       "      <th>0</th>\n",
       "      <td>a</td>\n",
       "      <td>b</td>\n",
       "      <td>c</td>\n",
       "      <td>0.003472</td>\n",
       "    </tr>\n",
       "    <tr>\n",
       "      <th>1</th>\n",
       "      <td>a</td>\n",
       "      <td>c</td>\n",
       "      <td>b</td>\n",
       "      <td>0.003472</td>\n",
       "    </tr>\n",
       "    <tr>\n",
       "      <th>2</th>\n",
       "      <td>b</td>\n",
       "      <td>a</td>\n",
       "      <td>c</td>\n",
       "      <td>0.001029</td>\n",
       "    </tr>\n",
       "    <tr>\n",
       "      <th>3</th>\n",
       "      <td>b</td>\n",
       "      <td>c</td>\n",
       "      <td>a</td>\n",
       "      <td>0.001029</td>\n",
       "    </tr>\n",
       "    <tr>\n",
       "      <th>4</th>\n",
       "      <td>c</td>\n",
       "      <td>a</td>\n",
       "      <td>b</td>\n",
       "      <td>0.000129</td>\n",
       "    </tr>\n",
       "    <tr>\n",
       "      <th>5</th>\n",
       "      <td>c</td>\n",
       "      <td>b</td>\n",
       "      <td>a</td>\n",
       "      <td>0.000129</td>\n",
       "    </tr>\n",
       "  </tbody>\n",
       "</table>\n",
       "</div>"
      ],
      "text/plain": [
       "   4  1  1      prob\n",
       "0  a  b  c  0.003472\n",
       "1  a  c  b  0.003472\n",
       "2  b  a  c  0.001029\n",
       "3  b  c  a  0.001029\n",
       "4  c  a  b  0.000129\n",
       "5  c  b  a  0.000129"
      ]
     },
     "execution_count": 13,
     "metadata": {},
     "output_type": "execute_result"
    }
   ],
   "source": [
    "my_df, my_int_list = type_3(partition_test, my_pi_dict, k)\n",
    "my_df"
   ]
  },
  {
   "cell_type": "code",
   "execution_count": 14,
   "metadata": {},
   "outputs": [
    {
     "data": {
      "text/plain": [
       "4           aabbcc\n",
       "1           bcacab\n",
       "1           cbcaba\n",
       "prob    0.00925926\n",
       "dtype: object"
      ]
     },
     "execution_count": 14,
     "metadata": {},
     "output_type": "execute_result"
    }
   ],
   "source": [
    "my_df.sum(axis=0)"
   ]
  },
  {
   "cell_type": "markdown",
   "metadata": {},
   "source": [
    "---\n",
    "***choices_matrix()*** provides a matrix listing all the choices for a given integer partition and prior pi\n",
    "\n",
    "Input:\n",
    "- df: the dataframe with all possible types for the integer partition\n",
    "- int_list: the expanded integer partition\n",
    "\n",
    "Output:\n",
    "- df_g, or dataframe_guess, a matrix with the (not normalized) probabilities of every possible block in the integer partition being a particular disease.\n"
   ]
  },
  {
   "cell_type": "code",
   "execution_count": 6,
   "metadata": {},
   "outputs": [],
   "source": [
    "def choices_matrix(df, int_list):\n",
    "    df_g = pda.DataFrame(0, index=int_list, columns=['a','b','c'])\n",
    "    col = 0\n",
    "    for i in int_list:\n",
    "        df_g.loc[i,'a'] = df[df.iloc[:,col] == 'a']['prob'].sum()\n",
    "        df_g.loc[i,'b'] = df[df.iloc[:,col] == 'b']['prob'].sum()\n",
    "        df_g.loc[i,'c'] = df[df.iloc[:,col] == 'c']['prob'].sum()\n",
    "        col = col + 1\n",
    "    return df_g"
   ]
  },
  {
   "cell_type": "code",
   "execution_count": 7,
   "metadata": {},
   "outputs": [],
   "source": [
    "def choices_matrix_4(df, int_list):\n",
    "    df_g = pda.DataFrame(0, index=int_list, columns=['a','b','c','d'])\n",
    "    col = 0\n",
    "    for i in int_list:\n",
    "        df_g.loc[i,'a'] = df[df.iloc[:,col] == 'a']['prob'].sum()\n",
    "        df_g.loc[i,'b'] = df[df.iloc[:,col] == 'b']['prob'].sum()\n",
    "        df_g.loc[i,'c'] = df[df.iloc[:,col] == 'c']['prob'].sum()\n",
    "        df_g.loc[i,'d'] = df[df.iloc[:,col] == 'd']['prob'].sum()\n",
    "        col = col + 1\n",
    "    return df_g"
   ]
  },
  {
   "cell_type": "code",
   "execution_count": 8,
   "metadata": {},
   "outputs": [],
   "source": [
    "def choices_matrix_5(df, int_list):\n",
    "    df_g = pda.DataFrame(0, index=int_list, columns=['a','b','c','d','e'])\n",
    "    col = 0\n",
    "    for i in int_list:\n",
    "        df_g.loc[i,'a'] = df[df.iloc[:,col] == 'a']['prob'].sum()\n",
    "        df_g.loc[i,'b'] = df[df.iloc[:,col] == 'b']['prob'].sum()\n",
    "        df_g.loc[i,'c'] = df[df.iloc[:,col] == 'c']['prob'].sum()\n",
    "        df_g.loc[i,'d'] = df[df.iloc[:,col] == 'd']['prob'].sum()\n",
    "        df_g.loc[i,'e'] = df[df.iloc[:,col] == 'e']['prob'].sum()\n",
    "        col = col + 1\n",
    "    return df_g"
   ]
  },
  {
   "cell_type": "code",
   "execution_count": 15,
   "metadata": {
    "scrolled": true
   },
   "outputs": [
    {
     "data": {
      "text/html": [
       "<div>\n",
       "<style scoped>\n",
       "    .dataframe tbody tr th:only-of-type {\n",
       "        vertical-align: middle;\n",
       "    }\n",
       "\n",
       "    .dataframe tbody tr th {\n",
       "        vertical-align: top;\n",
       "    }\n",
       "\n",
       "    .dataframe thead th {\n",
       "        text-align: right;\n",
       "    }\n",
       "</style>\n",
       "<table border=\"1\" class=\"dataframe\">\n",
       "  <thead>\n",
       "    <tr style=\"text-align: right;\">\n",
       "      <th></th>\n",
       "      <th>a</th>\n",
       "      <th>b</th>\n",
       "      <th>c</th>\n",
       "    </tr>\n",
       "  </thead>\n",
       "  <tbody>\n",
       "    <tr>\n",
       "      <th>4</th>\n",
       "      <td>0.006944</td>\n",
       "      <td>0.002058</td>\n",
       "      <td>0.000257</td>\n",
       "    </tr>\n",
       "    <tr>\n",
       "      <th>1</th>\n",
       "      <td>0.001157</td>\n",
       "      <td>0.003601</td>\n",
       "      <td>0.004501</td>\n",
       "    </tr>\n",
       "    <tr>\n",
       "      <th>1</th>\n",
       "      <td>0.001157</td>\n",
       "      <td>0.003601</td>\n",
       "      <td>0.004501</td>\n",
       "    </tr>\n",
       "  </tbody>\n",
       "</table>\n",
       "</div>"
      ],
      "text/plain": [
       "          a         b         c\n",
       "4  0.006944  0.002058  0.000257\n",
       "1  0.001157  0.003601  0.004501\n",
       "1  0.001157  0.003601  0.004501"
      ]
     },
     "execution_count": 15,
     "metadata": {},
     "output_type": "execute_result"
    }
   ],
   "source": [
    "# Test of choices_matrix() w/type 4\n",
    "my_df_guess = choices_matrix(my_df, my_int_list)\n",
    "my_df_guess"
   ]
  },
  {
   "cell_type": "code",
   "execution_count": 70,
   "metadata": {},
   "outputs": [
    {
     "data": {
      "text/html": [
       "<div>\n",
       "<style scoped>\n",
       "    .dataframe tbody tr th:only-of-type {\n",
       "        vertical-align: middle;\n",
       "    }\n",
       "\n",
       "    .dataframe tbody tr th {\n",
       "        vertical-align: top;\n",
       "    }\n",
       "\n",
       "    .dataframe thead th {\n",
       "        text-align: right;\n",
       "    }\n",
       "</style>\n",
       "<table border=\"1\" class=\"dataframe\">\n",
       "  <thead>\n",
       "    <tr style=\"text-align: right;\">\n",
       "      <th></th>\n",
       "      <th>a</th>\n",
       "      <th>b</th>\n",
       "      <th>c</th>\n",
       "    </tr>\n",
       "  </thead>\n",
       "  <tbody>\n",
       "    <tr>\n",
       "      <th>4</th>\n",
       "      <td>0.750</td>\n",
       "      <td>0.222222</td>\n",
       "      <td>0.027778</td>\n",
       "    </tr>\n",
       "    <tr>\n",
       "      <th>1</th>\n",
       "      <td>0.125</td>\n",
       "      <td>0.388889</td>\n",
       "      <td>0.486111</td>\n",
       "    </tr>\n",
       "    <tr>\n",
       "      <th>1</th>\n",
       "      <td>0.125</td>\n",
       "      <td>0.388889</td>\n",
       "      <td>0.486111</td>\n",
       "    </tr>\n",
       "  </tbody>\n",
       "</table>\n",
       "</div>"
      ],
      "text/plain": [
       "       a         b         c\n",
       "4  0.750  0.222222  0.027778\n",
       "1  0.125  0.388889  0.486111\n",
       "1  0.125  0.388889  0.486111"
      ]
     },
     "execution_count": 70,
     "metadata": {},
     "output_type": "execute_result"
    }
   ],
   "source": [
    "norm = my_df_guess.div(my_df_guess.sum(axis=1), axis = 0)\n",
    "norm"
   ]
  },
  {
   "cell_type": "code",
   "execution_count": 71,
   "metadata": {},
   "outputs": [
    {
     "data": {
      "text/plain": [
       "4    1.0\n",
       "1    1.0\n",
       "1    1.0\n",
       "dtype: float64"
      ]
     },
     "execution_count": 71,
     "metadata": {},
     "output_type": "execute_result"
    }
   ],
   "source": [
    "norm.sum(axis = 1)"
   ]
  },
  {
   "cell_type": "code",
   "execution_count": 72,
   "metadata": {},
   "outputs": [
    {
     "name": "stdout",
     "output_type": "stream",
     "text": [
      "post:  0.75\n",
      "val:  4\n",
      "disease:  a\n"
     ]
    }
   ],
   "source": [
    "post, val, dis = choose_max(norm)\n",
    "print(\"post: \", post)\n",
    "print(\"val: \", val)\n",
    "print(\"disease: \", dis)"
   ]
  },
  {
   "cell_type": "markdown",
   "metadata": {},
   "source": [
    "---\n",
    "***reduce_choices()*** reduces the size of the df_g matrix by removing equal choices\n",
    "\n",
    "Input:\n",
    "- df_g, the matrix containing all of the possible choices\n",
    "- p, the integer partition dictionary\n",
    "\n",
    "Output:\n",
    "- df_reduced_guess, a dataframe that indicates the possible unique choices an adversary choice make given an integer partition\n",
    "\n",
    "**Note: Not currently in use**"
   ]
  },
  {
   "cell_type": "code",
   "execution_count": 9,
   "metadata": {},
   "outputs": [],
   "source": [
    "def reduce_choices(df_g, p):\n",
    "    data = []\n",
    "    # if p[k] (multiplicity) >1, only take one row\n",
    "    for k in p.keys(): # for every unique integer in p, copy a row in df_guess that matches the int\n",
    "        if p[k] > 1: # choose first example if >1\n",
    "            data.append(df_g.loc[k].iloc[0])\n",
    "        else:\n",
    "            data.append(df_g.loc[k]) #copy the row\n",
    "    df_reduced_guess = pda.DataFrame(data = data)\n",
    "    return df_reduced_guess"
   ]
  },
  {
   "cell_type": "code",
   "execution_count": 16,
   "metadata": {
    "scrolled": true
   },
   "outputs": [
    {
     "data": {
      "text/html": [
       "<div>\n",
       "<style scoped>\n",
       "    .dataframe tbody tr th:only-of-type {\n",
       "        vertical-align: middle;\n",
       "    }\n",
       "\n",
       "    .dataframe tbody tr th {\n",
       "        vertical-align: top;\n",
       "    }\n",
       "\n",
       "    .dataframe thead th {\n",
       "        text-align: right;\n",
       "    }\n",
       "</style>\n",
       "<table border=\"1\" class=\"dataframe\">\n",
       "  <thead>\n",
       "    <tr style=\"text-align: right;\">\n",
       "      <th></th>\n",
       "      <th>a</th>\n",
       "      <th>b</th>\n",
       "      <th>c</th>\n",
       "    </tr>\n",
       "  </thead>\n",
       "  <tbody>\n",
       "    <tr>\n",
       "      <th>4</th>\n",
       "      <td>0.006944</td>\n",
       "      <td>0.002058</td>\n",
       "      <td>0.000257</td>\n",
       "    </tr>\n",
       "    <tr>\n",
       "      <th>1</th>\n",
       "      <td>0.001157</td>\n",
       "      <td>0.003601</td>\n",
       "      <td>0.004501</td>\n",
       "    </tr>\n",
       "  </tbody>\n",
       "</table>\n",
       "</div>"
      ],
      "text/plain": [
       "          a         b         c\n",
       "4  0.006944  0.002058  0.000257\n",
       "1  0.001157  0.003601  0.004501"
      ]
     },
     "execution_count": 16,
     "metadata": {},
     "output_type": "execute_result"
    }
   ],
   "source": [
    "my_reduced_df = reduce_choices(my_df_guess, partition_test)\n",
    "my_reduced_df.head()"
   ]
  },
  {
   "cell_type": "code",
   "execution_count": 14,
   "metadata": {},
   "outputs": [
    {
     "data": {
      "text/plain": [
       "3    0.006173\n",
       "2    0.006173\n",
       "1    0.006173\n",
       "dtype: float64"
      ]
     },
     "execution_count": 14,
     "metadata": {},
     "output_type": "execute_result"
    }
   ],
   "source": [
    "my_reduced_df.sum(axis=1)"
   ]
  },
  {
   "cell_type": "code",
   "execution_count": 9,
   "metadata": {},
   "outputs": [],
   "source": [
    "def forced_max(df_g, num_index, n):\n",
    "    total = -1\n",
    "    df_block_max = df_g.max(axis=1)\n",
    "    index_list = list(df_block_max.index.values)\n",
    "    perc = [x / n for x in index_list]\n",
    "    vec = [x * num_index for x in perc]\n",
    "    total = df_block_max.mul(vec).sum(axis=0)\n",
    "    test_df = df_block_max\n",
    "    return total"
   ]
  },
  {
   "cell_type": "code",
   "execution_count": 17,
   "metadata": {},
   "outputs": [
    {
     "name": "stdout",
     "output_type": "stream",
     "text": [
      "total:  0.09194958847736626\n"
     ]
    }
   ],
   "source": [
    "my_num_index = 15\n",
    "total = forced_max(my_df_guess, my_num_index, 6)\n",
    "print(\"total: \", total)"
   ]
  },
  {
   "cell_type": "code",
   "execution_count": 19,
   "metadata": {},
   "outputs": [
    {
     "data": {
      "application/javascript": [
       "/* Put everything inside the global mpl namespace */\n",
       "window.mpl = {};\n",
       "\n",
       "\n",
       "mpl.get_websocket_type = function() {\n",
       "    if (typeof(WebSocket) !== 'undefined') {\n",
       "        return WebSocket;\n",
       "    } else if (typeof(MozWebSocket) !== 'undefined') {\n",
       "        return MozWebSocket;\n",
       "    } else {\n",
       "        alert('Your browser does not have WebSocket support.' +\n",
       "              'Please try Chrome, Safari or Firefox ≥ 6. ' +\n",
       "              'Firefox 4 and 5 are also supported but you ' +\n",
       "              'have to enable WebSockets in about:config.');\n",
       "    };\n",
       "}\n",
       "\n",
       "mpl.figure = function(figure_id, websocket, ondownload, parent_element) {\n",
       "    this.id = figure_id;\n",
       "\n",
       "    this.ws = websocket;\n",
       "\n",
       "    this.supports_binary = (this.ws.binaryType != undefined);\n",
       "\n",
       "    if (!this.supports_binary) {\n",
       "        var warnings = document.getElementById(\"mpl-warnings\");\n",
       "        if (warnings) {\n",
       "            warnings.style.display = 'block';\n",
       "            warnings.textContent = (\n",
       "                \"This browser does not support binary websocket messages. \" +\n",
       "                    \"Performance may be slow.\");\n",
       "        }\n",
       "    }\n",
       "\n",
       "    this.imageObj = new Image();\n",
       "\n",
       "    this.context = undefined;\n",
       "    this.message = undefined;\n",
       "    this.canvas = undefined;\n",
       "    this.rubberband_canvas = undefined;\n",
       "    this.rubberband_context = undefined;\n",
       "    this.format_dropdown = undefined;\n",
       "\n",
       "    this.image_mode = 'full';\n",
       "\n",
       "    this.root = $('<div/>');\n",
       "    this._root_extra_style(this.root)\n",
       "    this.root.attr('style', 'display: inline-block');\n",
       "\n",
       "    $(parent_element).append(this.root);\n",
       "\n",
       "    this._init_header(this);\n",
       "    this._init_canvas(this);\n",
       "    this._init_toolbar(this);\n",
       "\n",
       "    var fig = this;\n",
       "\n",
       "    this.waiting = false;\n",
       "\n",
       "    this.ws.onopen =  function () {\n",
       "            fig.send_message(\"supports_binary\", {value: fig.supports_binary});\n",
       "            fig.send_message(\"send_image_mode\", {});\n",
       "            if (mpl.ratio != 1) {\n",
       "                fig.send_message(\"set_dpi_ratio\", {'dpi_ratio': mpl.ratio});\n",
       "            }\n",
       "            fig.send_message(\"refresh\", {});\n",
       "        }\n",
       "\n",
       "    this.imageObj.onload = function() {\n",
       "            if (fig.image_mode == 'full') {\n",
       "                // Full images could contain transparency (where diff images\n",
       "                // almost always do), so we need to clear the canvas so that\n",
       "                // there is no ghosting.\n",
       "                fig.context.clearRect(0, 0, fig.canvas.width, fig.canvas.height);\n",
       "            }\n",
       "            fig.context.drawImage(fig.imageObj, 0, 0);\n",
       "        };\n",
       "\n",
       "    this.imageObj.onunload = function() {\n",
       "        fig.ws.close();\n",
       "    }\n",
       "\n",
       "    this.ws.onmessage = this._make_on_message_function(this);\n",
       "\n",
       "    this.ondownload = ondownload;\n",
       "}\n",
       "\n",
       "mpl.figure.prototype._init_header = function() {\n",
       "    var titlebar = $(\n",
       "        '<div class=\"ui-dialog-titlebar ui-widget-header ui-corner-all ' +\n",
       "        'ui-helper-clearfix\"/>');\n",
       "    var titletext = $(\n",
       "        '<div class=\"ui-dialog-title\" style=\"width: 100%; ' +\n",
       "        'text-align: center; padding: 3px;\"/>');\n",
       "    titlebar.append(titletext)\n",
       "    this.root.append(titlebar);\n",
       "    this.header = titletext[0];\n",
       "}\n",
       "\n",
       "\n",
       "\n",
       "mpl.figure.prototype._canvas_extra_style = function(canvas_div) {\n",
       "\n",
       "}\n",
       "\n",
       "\n",
       "mpl.figure.prototype._root_extra_style = function(canvas_div) {\n",
       "\n",
       "}\n",
       "\n",
       "mpl.figure.prototype._init_canvas = function() {\n",
       "    var fig = this;\n",
       "\n",
       "    var canvas_div = $('<div/>');\n",
       "\n",
       "    canvas_div.attr('style', 'position: relative; clear: both; outline: 0');\n",
       "\n",
       "    function canvas_keyboard_event(event) {\n",
       "        return fig.key_event(event, event['data']);\n",
       "    }\n",
       "\n",
       "    canvas_div.keydown('key_press', canvas_keyboard_event);\n",
       "    canvas_div.keyup('key_release', canvas_keyboard_event);\n",
       "    this.canvas_div = canvas_div\n",
       "    this._canvas_extra_style(canvas_div)\n",
       "    this.root.append(canvas_div);\n",
       "\n",
       "    var canvas = $('<canvas/>');\n",
       "    canvas.addClass('mpl-canvas');\n",
       "    canvas.attr('style', \"left: 0; top: 0; z-index: 0; outline: 0\")\n",
       "\n",
       "    this.canvas = canvas[0];\n",
       "    this.context = canvas[0].getContext(\"2d\");\n",
       "\n",
       "    var backingStore = this.context.backingStorePixelRatio ||\n",
       "\tthis.context.webkitBackingStorePixelRatio ||\n",
       "\tthis.context.mozBackingStorePixelRatio ||\n",
       "\tthis.context.msBackingStorePixelRatio ||\n",
       "\tthis.context.oBackingStorePixelRatio ||\n",
       "\tthis.context.backingStorePixelRatio || 1;\n",
       "\n",
       "    mpl.ratio = (window.devicePixelRatio || 1) / backingStore;\n",
       "\n",
       "    var rubberband = $('<canvas/>');\n",
       "    rubberband.attr('style', \"position: absolute; left: 0; top: 0; z-index: 1;\")\n",
       "\n",
       "    var pass_mouse_events = true;\n",
       "\n",
       "    canvas_div.resizable({\n",
       "        start: function(event, ui) {\n",
       "            pass_mouse_events = false;\n",
       "        },\n",
       "        resize: function(event, ui) {\n",
       "            fig.request_resize(ui.size.width, ui.size.height);\n",
       "        },\n",
       "        stop: function(event, ui) {\n",
       "            pass_mouse_events = true;\n",
       "            fig.request_resize(ui.size.width, ui.size.height);\n",
       "        },\n",
       "    });\n",
       "\n",
       "    function mouse_event_fn(event) {\n",
       "        if (pass_mouse_events)\n",
       "            return fig.mouse_event(event, event['data']);\n",
       "    }\n",
       "\n",
       "    rubberband.mousedown('button_press', mouse_event_fn);\n",
       "    rubberband.mouseup('button_release', mouse_event_fn);\n",
       "    // Throttle sequential mouse events to 1 every 20ms.\n",
       "    rubberband.mousemove('motion_notify', mouse_event_fn);\n",
       "\n",
       "    rubberband.mouseenter('figure_enter', mouse_event_fn);\n",
       "    rubberband.mouseleave('figure_leave', mouse_event_fn);\n",
       "\n",
       "    canvas_div.on(\"wheel\", function (event) {\n",
       "        event = event.originalEvent;\n",
       "        event['data'] = 'scroll'\n",
       "        if (event.deltaY < 0) {\n",
       "            event.step = 1;\n",
       "        } else {\n",
       "            event.step = -1;\n",
       "        }\n",
       "        mouse_event_fn(event);\n",
       "    });\n",
       "\n",
       "    canvas_div.append(canvas);\n",
       "    canvas_div.append(rubberband);\n",
       "\n",
       "    this.rubberband = rubberband;\n",
       "    this.rubberband_canvas = rubberband[0];\n",
       "    this.rubberband_context = rubberband[0].getContext(\"2d\");\n",
       "    this.rubberband_context.strokeStyle = \"#000000\";\n",
       "\n",
       "    this._resize_canvas = function(width, height) {\n",
       "        // Keep the size of the canvas, canvas container, and rubber band\n",
       "        // canvas in synch.\n",
       "        canvas_div.css('width', width)\n",
       "        canvas_div.css('height', height)\n",
       "\n",
       "        canvas.attr('width', width * mpl.ratio);\n",
       "        canvas.attr('height', height * mpl.ratio);\n",
       "        canvas.attr('style', 'width: ' + width + 'px; height: ' + height + 'px;');\n",
       "\n",
       "        rubberband.attr('width', width);\n",
       "        rubberband.attr('height', height);\n",
       "    }\n",
       "\n",
       "    // Set the figure to an initial 600x600px, this will subsequently be updated\n",
       "    // upon first draw.\n",
       "    this._resize_canvas(600, 600);\n",
       "\n",
       "    // Disable right mouse context menu.\n",
       "    $(this.rubberband_canvas).bind(\"contextmenu\",function(e){\n",
       "        return false;\n",
       "    });\n",
       "\n",
       "    function set_focus () {\n",
       "        canvas.focus();\n",
       "        canvas_div.focus();\n",
       "    }\n",
       "\n",
       "    window.setTimeout(set_focus, 100);\n",
       "}\n",
       "\n",
       "mpl.figure.prototype._init_toolbar = function() {\n",
       "    var fig = this;\n",
       "\n",
       "    var nav_element = $('<div/>')\n",
       "    nav_element.attr('style', 'width: 100%');\n",
       "    this.root.append(nav_element);\n",
       "\n",
       "    // Define a callback function for later on.\n",
       "    function toolbar_event(event) {\n",
       "        return fig.toolbar_button_onclick(event['data']);\n",
       "    }\n",
       "    function toolbar_mouse_event(event) {\n",
       "        return fig.toolbar_button_onmouseover(event['data']);\n",
       "    }\n",
       "\n",
       "    for(var toolbar_ind in mpl.toolbar_items) {\n",
       "        var name = mpl.toolbar_items[toolbar_ind][0];\n",
       "        var tooltip = mpl.toolbar_items[toolbar_ind][1];\n",
       "        var image = mpl.toolbar_items[toolbar_ind][2];\n",
       "        var method_name = mpl.toolbar_items[toolbar_ind][3];\n",
       "\n",
       "        if (!name) {\n",
       "            // put a spacer in here.\n",
       "            continue;\n",
       "        }\n",
       "        var button = $('<button/>');\n",
       "        button.addClass('ui-button ui-widget ui-state-default ui-corner-all ' +\n",
       "                        'ui-button-icon-only');\n",
       "        button.attr('role', 'button');\n",
       "        button.attr('aria-disabled', 'false');\n",
       "        button.click(method_name, toolbar_event);\n",
       "        button.mouseover(tooltip, toolbar_mouse_event);\n",
       "\n",
       "        var icon_img = $('<span/>');\n",
       "        icon_img.addClass('ui-button-icon-primary ui-icon');\n",
       "        icon_img.addClass(image);\n",
       "        icon_img.addClass('ui-corner-all');\n",
       "\n",
       "        var tooltip_span = $('<span/>');\n",
       "        tooltip_span.addClass('ui-button-text');\n",
       "        tooltip_span.html(tooltip);\n",
       "\n",
       "        button.append(icon_img);\n",
       "        button.append(tooltip_span);\n",
       "\n",
       "        nav_element.append(button);\n",
       "    }\n",
       "\n",
       "    var fmt_picker_span = $('<span/>');\n",
       "\n",
       "    var fmt_picker = $('<select/>');\n",
       "    fmt_picker.addClass('mpl-toolbar-option ui-widget ui-widget-content');\n",
       "    fmt_picker_span.append(fmt_picker);\n",
       "    nav_element.append(fmt_picker_span);\n",
       "    this.format_dropdown = fmt_picker[0];\n",
       "\n",
       "    for (var ind in mpl.extensions) {\n",
       "        var fmt = mpl.extensions[ind];\n",
       "        var option = $(\n",
       "            '<option/>', {selected: fmt === mpl.default_extension}).html(fmt);\n",
       "        fmt_picker.append(option)\n",
       "    }\n",
       "\n",
       "    // Add hover states to the ui-buttons\n",
       "    $( \".ui-button\" ).hover(\n",
       "        function() { $(this).addClass(\"ui-state-hover\");},\n",
       "        function() { $(this).removeClass(\"ui-state-hover\");}\n",
       "    );\n",
       "\n",
       "    var status_bar = $('<span class=\"mpl-message\"/>');\n",
       "    nav_element.append(status_bar);\n",
       "    this.message = status_bar[0];\n",
       "}\n",
       "\n",
       "mpl.figure.prototype.request_resize = function(x_pixels, y_pixels) {\n",
       "    // Request matplotlib to resize the figure. Matplotlib will then trigger a resize in the client,\n",
       "    // which will in turn request a refresh of the image.\n",
       "    this.send_message('resize', {'width': x_pixels, 'height': y_pixels});\n",
       "}\n",
       "\n",
       "mpl.figure.prototype.send_message = function(type, properties) {\n",
       "    properties['type'] = type;\n",
       "    properties['figure_id'] = this.id;\n",
       "    this.ws.send(JSON.stringify(properties));\n",
       "}\n",
       "\n",
       "mpl.figure.prototype.send_draw_message = function() {\n",
       "    if (!this.waiting) {\n",
       "        this.waiting = true;\n",
       "        this.ws.send(JSON.stringify({type: \"draw\", figure_id: this.id}));\n",
       "    }\n",
       "}\n",
       "\n",
       "\n",
       "mpl.figure.prototype.handle_save = function(fig, msg) {\n",
       "    var format_dropdown = fig.format_dropdown;\n",
       "    var format = format_dropdown.options[format_dropdown.selectedIndex].value;\n",
       "    fig.ondownload(fig, format);\n",
       "}\n",
       "\n",
       "\n",
       "mpl.figure.prototype.handle_resize = function(fig, msg) {\n",
       "    var size = msg['size'];\n",
       "    if (size[0] != fig.canvas.width || size[1] != fig.canvas.height) {\n",
       "        fig._resize_canvas(size[0], size[1]);\n",
       "        fig.send_message(\"refresh\", {});\n",
       "    };\n",
       "}\n",
       "\n",
       "mpl.figure.prototype.handle_rubberband = function(fig, msg) {\n",
       "    var x0 = msg['x0'] / mpl.ratio;\n",
       "    var y0 = (fig.canvas.height - msg['y0']) / mpl.ratio;\n",
       "    var x1 = msg['x1'] / mpl.ratio;\n",
       "    var y1 = (fig.canvas.height - msg['y1']) / mpl.ratio;\n",
       "    x0 = Math.floor(x0) + 0.5;\n",
       "    y0 = Math.floor(y0) + 0.5;\n",
       "    x1 = Math.floor(x1) + 0.5;\n",
       "    y1 = Math.floor(y1) + 0.5;\n",
       "    var min_x = Math.min(x0, x1);\n",
       "    var min_y = Math.min(y0, y1);\n",
       "    var width = Math.abs(x1 - x0);\n",
       "    var height = Math.abs(y1 - y0);\n",
       "\n",
       "    fig.rubberband_context.clearRect(\n",
       "        0, 0, fig.canvas.width, fig.canvas.height);\n",
       "\n",
       "    fig.rubberband_context.strokeRect(min_x, min_y, width, height);\n",
       "}\n",
       "\n",
       "mpl.figure.prototype.handle_figure_label = function(fig, msg) {\n",
       "    // Updates the figure title.\n",
       "    fig.header.textContent = msg['label'];\n",
       "}\n",
       "\n",
       "mpl.figure.prototype.handle_cursor = function(fig, msg) {\n",
       "    var cursor = msg['cursor'];\n",
       "    switch(cursor)\n",
       "    {\n",
       "    case 0:\n",
       "        cursor = 'pointer';\n",
       "        break;\n",
       "    case 1:\n",
       "        cursor = 'default';\n",
       "        break;\n",
       "    case 2:\n",
       "        cursor = 'crosshair';\n",
       "        break;\n",
       "    case 3:\n",
       "        cursor = 'move';\n",
       "        break;\n",
       "    }\n",
       "    fig.rubberband_canvas.style.cursor = cursor;\n",
       "}\n",
       "\n",
       "mpl.figure.prototype.handle_message = function(fig, msg) {\n",
       "    fig.message.textContent = msg['message'];\n",
       "}\n",
       "\n",
       "mpl.figure.prototype.handle_draw = function(fig, msg) {\n",
       "    // Request the server to send over a new figure.\n",
       "    fig.send_draw_message();\n",
       "}\n",
       "\n",
       "mpl.figure.prototype.handle_image_mode = function(fig, msg) {\n",
       "    fig.image_mode = msg['mode'];\n",
       "}\n",
       "\n",
       "mpl.figure.prototype.updated_canvas_event = function() {\n",
       "    // Called whenever the canvas gets updated.\n",
       "    this.send_message(\"ack\", {});\n",
       "}\n",
       "\n",
       "// A function to construct a web socket function for onmessage handling.\n",
       "// Called in the figure constructor.\n",
       "mpl.figure.prototype._make_on_message_function = function(fig) {\n",
       "    return function socket_on_message(evt) {\n",
       "        if (evt.data instanceof Blob) {\n",
       "            /* FIXME: We get \"Resource interpreted as Image but\n",
       "             * transferred with MIME type text/plain:\" errors on\n",
       "             * Chrome.  But how to set the MIME type?  It doesn't seem\n",
       "             * to be part of the websocket stream */\n",
       "            evt.data.type = \"image/png\";\n",
       "\n",
       "            /* Free the memory for the previous frames */\n",
       "            if (fig.imageObj.src) {\n",
       "                (window.URL || window.webkitURL).revokeObjectURL(\n",
       "                    fig.imageObj.src);\n",
       "            }\n",
       "\n",
       "            fig.imageObj.src = (window.URL || window.webkitURL).createObjectURL(\n",
       "                evt.data);\n",
       "            fig.updated_canvas_event();\n",
       "            fig.waiting = false;\n",
       "            return;\n",
       "        }\n",
       "        else if (typeof evt.data === 'string' && evt.data.slice(0, 21) == \"data:image/png;base64\") {\n",
       "            fig.imageObj.src = evt.data;\n",
       "            fig.updated_canvas_event();\n",
       "            fig.waiting = false;\n",
       "            return;\n",
       "        }\n",
       "\n",
       "        var msg = JSON.parse(evt.data);\n",
       "        var msg_type = msg['type'];\n",
       "\n",
       "        // Call the  \"handle_{type}\" callback, which takes\n",
       "        // the figure and JSON message as its only arguments.\n",
       "        try {\n",
       "            var callback = fig[\"handle_\" + msg_type];\n",
       "        } catch (e) {\n",
       "            console.log(\"No handler for the '\" + msg_type + \"' message type: \", msg);\n",
       "            return;\n",
       "        }\n",
       "\n",
       "        if (callback) {\n",
       "            try {\n",
       "                // console.log(\"Handling '\" + msg_type + \"' message: \", msg);\n",
       "                callback(fig, msg);\n",
       "            } catch (e) {\n",
       "                console.log(\"Exception inside the 'handler_\" + msg_type + \"' callback:\", e, e.stack, msg);\n",
       "            }\n",
       "        }\n",
       "    };\n",
       "}\n",
       "\n",
       "// from http://stackoverflow.com/questions/1114465/getting-mouse-location-in-canvas\n",
       "mpl.findpos = function(e) {\n",
       "    //this section is from http://www.quirksmode.org/js/events_properties.html\n",
       "    var targ;\n",
       "    if (!e)\n",
       "        e = window.event;\n",
       "    if (e.target)\n",
       "        targ = e.target;\n",
       "    else if (e.srcElement)\n",
       "        targ = e.srcElement;\n",
       "    if (targ.nodeType == 3) // defeat Safari bug\n",
       "        targ = targ.parentNode;\n",
       "\n",
       "    // jQuery normalizes the pageX and pageY\n",
       "    // pageX,Y are the mouse positions relative to the document\n",
       "    // offset() returns the position of the element relative to the document\n",
       "    var x = e.pageX - $(targ).offset().left;\n",
       "    var y = e.pageY - $(targ).offset().top;\n",
       "\n",
       "    return {\"x\": x, \"y\": y};\n",
       "};\n",
       "\n",
       "/*\n",
       " * return a copy of an object with only non-object keys\n",
       " * we need this to avoid circular references\n",
       " * http://stackoverflow.com/a/24161582/3208463\n",
       " */\n",
       "function simpleKeys (original) {\n",
       "  return Object.keys(original).reduce(function (obj, key) {\n",
       "    if (typeof original[key] !== 'object')\n",
       "        obj[key] = original[key]\n",
       "    return obj;\n",
       "  }, {});\n",
       "}\n",
       "\n",
       "mpl.figure.prototype.mouse_event = function(event, name) {\n",
       "    var canvas_pos = mpl.findpos(event)\n",
       "\n",
       "    if (name === 'button_press')\n",
       "    {\n",
       "        this.canvas.focus();\n",
       "        this.canvas_div.focus();\n",
       "    }\n",
       "\n",
       "    var x = canvas_pos.x * mpl.ratio;\n",
       "    var y = canvas_pos.y * mpl.ratio;\n",
       "\n",
       "    this.send_message(name, {x: x, y: y, button: event.button,\n",
       "                             step: event.step,\n",
       "                             guiEvent: simpleKeys(event)});\n",
       "\n",
       "    /* This prevents the web browser from automatically changing to\n",
       "     * the text insertion cursor when the button is pressed.  We want\n",
       "     * to control all of the cursor setting manually through the\n",
       "     * 'cursor' event from matplotlib */\n",
       "    event.preventDefault();\n",
       "    return false;\n",
       "}\n",
       "\n",
       "mpl.figure.prototype._key_event_extra = function(event, name) {\n",
       "    // Handle any extra behaviour associated with a key event\n",
       "}\n",
       "\n",
       "mpl.figure.prototype.key_event = function(event, name) {\n",
       "\n",
       "    // Prevent repeat events\n",
       "    if (name == 'key_press')\n",
       "    {\n",
       "        if (event.which === this._key)\n",
       "            return;\n",
       "        else\n",
       "            this._key = event.which;\n",
       "    }\n",
       "    if (name == 'key_release')\n",
       "        this._key = null;\n",
       "\n",
       "    var value = '';\n",
       "    if (event.ctrlKey && event.which != 17)\n",
       "        value += \"ctrl+\";\n",
       "    if (event.altKey && event.which != 18)\n",
       "        value += \"alt+\";\n",
       "    if (event.shiftKey && event.which != 16)\n",
       "        value += \"shift+\";\n",
       "\n",
       "    value += 'k';\n",
       "    value += event.which.toString();\n",
       "\n",
       "    this._key_event_extra(event, name);\n",
       "\n",
       "    this.send_message(name, {key: value,\n",
       "                             guiEvent: simpleKeys(event)});\n",
       "    return false;\n",
       "}\n",
       "\n",
       "mpl.figure.prototype.toolbar_button_onclick = function(name) {\n",
       "    if (name == 'download') {\n",
       "        this.handle_save(this, null);\n",
       "    } else {\n",
       "        this.send_message(\"toolbar_button\", {name: name});\n",
       "    }\n",
       "};\n",
       "\n",
       "mpl.figure.prototype.toolbar_button_onmouseover = function(tooltip) {\n",
       "    this.message.textContent = tooltip;\n",
       "};\n",
       "mpl.toolbar_items = [[\"Home\", \"Reset original view\", \"fa fa-home icon-home\", \"home\"], [\"Back\", \"Back to  previous view\", \"fa fa-arrow-left icon-arrow-left\", \"back\"], [\"Forward\", \"Forward to next view\", \"fa fa-arrow-right icon-arrow-right\", \"forward\"], [\"\", \"\", \"\", \"\"], [\"Pan\", \"Pan axes with left mouse, zoom with right\", \"fa fa-arrows icon-move\", \"pan\"], [\"Zoom\", \"Zoom to rectangle\", \"fa fa-square-o icon-check-empty\", \"zoom\"], [\"\", \"\", \"\", \"\"], [\"Download\", \"Download plot\", \"fa fa-floppy-o icon-save\", \"download\"]];\n",
       "\n",
       "mpl.extensions = [\"eps\", \"jpeg\", \"pdf\", \"png\", \"ps\", \"raw\", \"svg\", \"tif\"];\n",
       "\n",
       "mpl.default_extension = \"png\";var comm_websocket_adapter = function(comm) {\n",
       "    // Create a \"websocket\"-like object which calls the given IPython comm\n",
       "    // object with the appropriate methods. Currently this is a non binary\n",
       "    // socket, so there is still some room for performance tuning.\n",
       "    var ws = {};\n",
       "\n",
       "    ws.close = function() {\n",
       "        comm.close()\n",
       "    };\n",
       "    ws.send = function(m) {\n",
       "        //console.log('sending', m);\n",
       "        comm.send(m);\n",
       "    };\n",
       "    // Register the callback with on_msg.\n",
       "    comm.on_msg(function(msg) {\n",
       "        //console.log('receiving', msg['content']['data'], msg);\n",
       "        // Pass the mpl event to the overridden (by mpl) onmessage function.\n",
       "        ws.onmessage(msg['content']['data'])\n",
       "    });\n",
       "    return ws;\n",
       "}\n",
       "\n",
       "mpl.mpl_figure_comm = function(comm, msg) {\n",
       "    // This is the function which gets called when the mpl process\n",
       "    // starts-up an IPython Comm through the \"matplotlib\" channel.\n",
       "\n",
       "    var id = msg.content.data.id;\n",
       "    // Get hold of the div created by the display call when the Comm\n",
       "    // socket was opened in Python.\n",
       "    var element = $(\"#\" + id);\n",
       "    var ws_proxy = comm_websocket_adapter(comm)\n",
       "\n",
       "    function ondownload(figure, format) {\n",
       "        window.open(figure.imageObj.src);\n",
       "    }\n",
       "\n",
       "    var fig = new mpl.figure(id, ws_proxy,\n",
       "                           ondownload,\n",
       "                           element.get(0));\n",
       "\n",
       "    // Call onopen now - mpl needs it, as it is assuming we've passed it a real\n",
       "    // web socket which is closed, not our websocket->open comm proxy.\n",
       "    ws_proxy.onopen();\n",
       "\n",
       "    fig.parent_element = element.get(0);\n",
       "    fig.cell_info = mpl.find_output_cell(\"<div id='\" + id + \"'></div>\");\n",
       "    if (!fig.cell_info) {\n",
       "        console.error(\"Failed to find cell for figure\", id, fig);\n",
       "        return;\n",
       "    }\n",
       "\n",
       "    var output_index = fig.cell_info[2]\n",
       "    var cell = fig.cell_info[0];\n",
       "\n",
       "};\n",
       "\n",
       "mpl.figure.prototype.handle_close = function(fig, msg) {\n",
       "    var width = fig.canvas.width/mpl.ratio\n",
       "    fig.root.unbind('remove')\n",
       "\n",
       "    // Update the output cell to use the data from the current canvas.\n",
       "    fig.push_to_output();\n",
       "    var dataURL = fig.canvas.toDataURL();\n",
       "    // Re-enable the keyboard manager in IPython - without this line, in FF,\n",
       "    // the notebook keyboard shortcuts fail.\n",
       "    IPython.keyboard_manager.enable()\n",
       "    $(fig.parent_element).html('<img src=\"' + dataURL + '\" width=\"' + width + '\">');\n",
       "    fig.close_ws(fig, msg);\n",
       "}\n",
       "\n",
       "mpl.figure.prototype.close_ws = function(fig, msg){\n",
       "    fig.send_message('closing', msg);\n",
       "    // fig.ws.close()\n",
       "}\n",
       "\n",
       "mpl.figure.prototype.push_to_output = function(remove_interactive) {\n",
       "    // Turn the data on the canvas into data in the output cell.\n",
       "    var width = this.canvas.width/mpl.ratio\n",
       "    var dataURL = this.canvas.toDataURL();\n",
       "    this.cell_info[1]['text/html'] = '<img src=\"' + dataURL + '\" width=\"' + width + '\">';\n",
       "}\n",
       "\n",
       "mpl.figure.prototype.updated_canvas_event = function() {\n",
       "    // Tell IPython that the notebook contents must change.\n",
       "    IPython.notebook.set_dirty(true);\n",
       "    this.send_message(\"ack\", {});\n",
       "    var fig = this;\n",
       "    // Wait a second, then push the new image to the DOM so\n",
       "    // that it is saved nicely (might be nice to debounce this).\n",
       "    setTimeout(function () { fig.push_to_output() }, 1000);\n",
       "}\n",
       "\n",
       "mpl.figure.prototype._init_toolbar = function() {\n",
       "    var fig = this;\n",
       "\n",
       "    var nav_element = $('<div/>')\n",
       "    nav_element.attr('style', 'width: 100%');\n",
       "    this.root.append(nav_element);\n",
       "\n",
       "    // Define a callback function for later on.\n",
       "    function toolbar_event(event) {\n",
       "        return fig.toolbar_button_onclick(event['data']);\n",
       "    }\n",
       "    function toolbar_mouse_event(event) {\n",
       "        return fig.toolbar_button_onmouseover(event['data']);\n",
       "    }\n",
       "\n",
       "    for(var toolbar_ind in mpl.toolbar_items){\n",
       "        var name = mpl.toolbar_items[toolbar_ind][0];\n",
       "        var tooltip = mpl.toolbar_items[toolbar_ind][1];\n",
       "        var image = mpl.toolbar_items[toolbar_ind][2];\n",
       "        var method_name = mpl.toolbar_items[toolbar_ind][3];\n",
       "\n",
       "        if (!name) { continue; };\n",
       "\n",
       "        var button = $('<button class=\"btn btn-default\" href=\"#\" title=\"' + name + '\"><i class=\"fa ' + image + ' fa-lg\"></i></button>');\n",
       "        button.click(method_name, toolbar_event);\n",
       "        button.mouseover(tooltip, toolbar_mouse_event);\n",
       "        nav_element.append(button);\n",
       "    }\n",
       "\n",
       "    // Add the status bar.\n",
       "    var status_bar = $('<span class=\"mpl-message\" style=\"text-align:right; float: right;\"/>');\n",
       "    nav_element.append(status_bar);\n",
       "    this.message = status_bar[0];\n",
       "\n",
       "    // Add the close button to the window.\n",
       "    var buttongrp = $('<div class=\"btn-group inline pull-right\"></div>');\n",
       "    var button = $('<button class=\"btn btn-mini btn-primary\" href=\"#\" title=\"Stop Interaction\"><i class=\"fa fa-power-off icon-remove icon-large\"></i></button>');\n",
       "    button.click(function (evt) { fig.handle_close(fig, {}); } );\n",
       "    button.mouseover('Stop Interaction', toolbar_mouse_event);\n",
       "    buttongrp.append(button);\n",
       "    var titlebar = this.root.find($('.ui-dialog-titlebar'));\n",
       "    titlebar.prepend(buttongrp);\n",
       "}\n",
       "\n",
       "mpl.figure.prototype._root_extra_style = function(el){\n",
       "    var fig = this\n",
       "    el.on(\"remove\", function(){\n",
       "\tfig.close_ws(fig, {});\n",
       "    });\n",
       "}\n",
       "\n",
       "mpl.figure.prototype._canvas_extra_style = function(el){\n",
       "    // this is important to make the div 'focusable\n",
       "    el.attr('tabindex', 0)\n",
       "    // reach out to IPython and tell the keyboard manager to turn it's self\n",
       "    // off when our div gets focus\n",
       "\n",
       "    // location in version 3\n",
       "    if (IPython.notebook.keyboard_manager) {\n",
       "        IPython.notebook.keyboard_manager.register_events(el);\n",
       "    }\n",
       "    else {\n",
       "        // location in version 2\n",
       "        IPython.keyboard_manager.register_events(el);\n",
       "    }\n",
       "\n",
       "}\n",
       "\n",
       "mpl.figure.prototype._key_event_extra = function(event, name) {\n",
       "    var manager = IPython.notebook.keyboard_manager;\n",
       "    if (!manager)\n",
       "        manager = IPython.keyboard_manager;\n",
       "\n",
       "    // Check for shift+enter\n",
       "    if (event.shiftKey && event.which == 13) {\n",
       "        this.canvas_div.blur();\n",
       "        event.shiftKey = false;\n",
       "        // Send a \"J\" for go to next cell\n",
       "        event.which = 74;\n",
       "        event.keyCode = 74;\n",
       "        manager.command_mode();\n",
       "        manager.handle_keydown(event);\n",
       "    }\n",
       "}\n",
       "\n",
       "mpl.figure.prototype.handle_save = function(fig, msg) {\n",
       "    fig.ondownload(fig, null);\n",
       "}\n",
       "\n",
       "\n",
       "mpl.find_output_cell = function(html_output) {\n",
       "    // Return the cell and output element which can be found *uniquely* in the notebook.\n",
       "    // Note - this is a bit hacky, but it is done because the \"notebook_saving.Notebook\"\n",
       "    // IPython event is triggered only after the cells have been serialised, which for\n",
       "    // our purposes (turning an active figure into a static one), is too late.\n",
       "    var cells = IPython.notebook.get_cells();\n",
       "    var ncells = cells.length;\n",
       "    for (var i=0; i<ncells; i++) {\n",
       "        var cell = cells[i];\n",
       "        if (cell.cell_type === 'code'){\n",
       "            for (var j=0; j<cell.output_area.outputs.length; j++) {\n",
       "                var data = cell.output_area.outputs[j];\n",
       "                if (data.data) {\n",
       "                    // IPython >= 3 moved mimebundle to data attribute of output\n",
       "                    data = data.data;\n",
       "                }\n",
       "                if (data['text/html'] == html_output) {\n",
       "                    return [cell, data, j];\n",
       "                }\n",
       "            }\n",
       "        }\n",
       "    }\n",
       "}\n",
       "\n",
       "// Register the function which deals with the matplotlib target/channel.\n",
       "// The kernel may be null if the page has been refreshed.\n",
       "if (IPython.notebook.kernel != null) {\n",
       "    IPython.notebook.kernel.comm_manager.register_target('matplotlib', mpl.mpl_figure_comm);\n",
       "}\n"
      ],
      "text/plain": [
       "<IPython.core.display.Javascript object>"
      ]
     },
     "metadata": {},
     "output_type": "display_data"
    },
    {
     "data": {
      "text/html": [
       "<img src=\"data:image/png;base64,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\" width=\"640\">"
      ],
      "text/plain": [
       "<IPython.core.display.HTML object>"
      ]
     },
     "metadata": {},
     "output_type": "display_data"
    },
    {
     "data": {
      "text/plain": [
       "<matplotlib.axes._subplots.AxesSubplot at 0x2b13e1c8128>"
      ]
     },
     "execution_count": 19,
     "metadata": {},
     "output_type": "execute_result"
    }
   ],
   "source": [
    "my_reduced_df.plot.bar()"
   ]
  },
  {
   "cell_type": "markdown",
   "metadata": {},
   "source": [
    "---\n",
    "***choose_max()*** takes the reduced matrix and says which guess to make, along with the posterior vulnerability the integer partition provided\n",
    "\n",
    "Input:\n",
    "- df_reduced_guess, the reduced matrix of choices\n",
    "\n",
    "Output:\n",
    "- val, the contribution to the posterior vulnerability for one instance of one integer partition\n",
    "- block_size, the block to guess about\n",
    "- disease, the correct disease, or plaintext value, to guess"
   ]
  },
  {
   "cell_type": "code",
   "execution_count": 10,
   "metadata": {},
   "outputs": [],
   "source": [
    "def choose_max(df_reduced_guess):\n",
    "    col_max_values = df_reduced_guess.max() # per column, the max values\n",
    "    col_max_values_id = df_reduced_guess.idxmax() # per column (disease), the index/block size of the max values\n",
    "    val = col_max_values.max() # max of the column maximums\n",
    "    disease = col_max_values.idxmax() # disease (column) of the above value\n",
    "    block_size = col_max_values_id.loc[disease] # contribution to the posterior vuln by this integer partition\n",
    "    return val, block_size, disease"
   ]
  },
  {
   "cell_type": "code",
   "execution_count": 19,
   "metadata": {},
   "outputs": [
    {
     "name": "stdout",
     "output_type": "stream",
     "text": [
      "contribution of partition to posterior vuln:  0.006944444444444444\n",
      "*********The best choice is*********\n",
      "block size:  4\n",
      "disease:  a\n"
     ]
    }
   ],
   "source": [
    "# Tets of choose_max\n",
    "my_val, my_block, my_disease = choose_max(my_reduced_df)\n",
    "print(\"contribution of partition to posterior vuln: \", my_val)\n",
    "print(\"*********The best choice is*********\")\n",
    "print(\"block size: \", my_block)\n",
    "print(\"disease: \", my_disease)"
   ]
  },
  {
   "cell_type": "code",
   "execution_count": 20,
   "metadata": {},
   "outputs": [
    {
     "name": "stdout",
     "output_type": "stream",
     "text": [
      "contribution of partition to posterior vuln:  0.006944444444444444\n",
      "*********The best choice is*********\n",
      "block size:  4\n",
      "disease:  a\n"
     ]
    }
   ],
   "source": [
    "my_val, my_block, my_disease = choose_max(my_df_guess)\n",
    "print(\"contribution of partition to posterior vuln: \", my_val)\n",
    "print(\"*********The best choice is*********\")\n",
    "print(\"block size: \", my_block)\n",
    "print(\"disease: \", my_disease)"
   ]
  },
  {
   "cell_type": "markdown",
   "metadata": {},
   "source": [
    "---\n",
    "**calc_index_partitions()** calculates number of index partitions given an integer n and a integer partition p\n",
    "\n",
    "Input:\n",
    "- n: positive integer, the size of the column\n",
    "- p: a unique integer partition, as a python dictionary\n",
    "\n",
    "Output:\n",
    "- frac: the number of index partitions that can have integer partition p\n",
    "\n",
    "Generalized formula:<br>\n",
    "With an interger partition $p$ containing integers $i$, each with multiplicity of $m$,\n",
    "$$\\text{index partitions}(n,p)=\\frac{n!}{\\prod_{i \\in p} i!^m m!}$$\n",
    "\n",
    "Example:<br>\n",
    "$$\\text{index partitions}(6,\\{4:1, 1:2\\}) = \\frac{6!}{\\left(4!\\right)1! \\times \\left(1!\\right)^2 2!} $$"
   ]
  },
  {
   "cell_type": "code",
   "execution_count": 11,
   "metadata": {},
   "outputs": [],
   "source": [
    "def calc_index_partitions(n,p):\n",
    "    num = math.factorial(n)\n",
    "    den = 1\n",
    "    mul = 0\n",
    "    for i in p.keys():\n",
    "        mul = p[i]\n",
    "        den = den * pow(math.factorial(i), mul) * math.factorial(mul)\n",
    "    num_index = num / den\n",
    "    return num_index"
   ]
  },
  {
   "cell_type": "markdown",
   "metadata": {},
   "source": [
    "---\n",
    "**choose_post_vuln()** calculates the posterior gain vulnerability\n",
    "\n",
    "Input:\n",
    "- n: the size of the column (number of patients)\n",
    "- k: the number of plaintext values (diseases)\n",
    "- pi: the probability distrubution of the values in k\n",
    "\n",
    "Output:\n",
    "- pgvsum: the posterior gain vulnerability for that n value\n",
    "- post_vuln_df returns choices_df: a dataframe where every row represents a different integer partition and contains the number of index partitions given the integer partition, the correct block and disease guess, the per integer partition contribution to the posterior gain vulnerability, and the weighted contribution to the posterior gain vulnerability (by the number of index partitions)\n",
    "\n",
    "Notes:\n",
    "- Due to the helper functions, this is hardcoded for k = 3"
   ]
  },
  {
   "cell_type": "markdown",
   "metadata": {},
   "source": [
    "The following image displays functions or operations as rectangles and variables as ovals. The light purple background indicates the integer partition loop.\n",
    "![alt text](choose_flow.png \"Flow of Post_vuln\")"
   ]
  },
  {
   "cell_type": "code",
   "execution_count": 11,
   "metadata": {},
   "outputs": [],
   "source": [
    "def choose_post_vuln(n, k, pi): #does not return a dataframe w/every partition\n",
    "    pgvsum = 0\n",
    "    pi_dict = k_dictionary(pi) # the dictionary of diseases and probabilies {a:1/2, b:1/3, etc.}\n",
    "    for p in partitions(n, m=k): \n",
    "        num_index = calc_index_partitions(n,p) # p's number of index partitions\n",
    "        df, int_list = type_3(p, pi_dict, k) # the probabilities of different types of the column\n",
    "        df_g = choices_matrix(df, int_list) # the disease:block size guesses the adversary can make\n",
    "        df_reduced = reduce_choices(df_g, p) # reduced dataframe, no 0s or duplicates\n",
    "        contribution, block_size, disease = choose_max(df_reduced)#posterior vuln for 1 p and best guess\n",
    "        weighted = num_index * contribution\n",
    "        pgvsum = pgvsum + weighted\n",
    "    return pgvsum"
   ]
  },
  {
   "cell_type": "code",
   "execution_count": 12,
   "metadata": {},
   "outputs": [],
   "source": [
    "def choose_post_vuln_df(n, k, pi):\n",
    "    pgvsum = 0\n",
    "    pi_dict = k_dictionary(pi)\n",
    "    data = []\n",
    "    for p in partitions(n, m=k): \n",
    "        p_guess = {}\n",
    "        num_index = calc_index_partitions(n,p) # p's number of index partitions\n",
    "        df, int_list = type_3(p, pi_dict, k) # the probabilities of different types of the column\n",
    "        df_g = choices_matrix(df, int_list) # the disease:block size guesses the adversary can make\n",
    "        df_reduced = reduce_choices(df_g, p) # reduced dataframe, no 0s or duplicates\n",
    "        contribution, block_size, disease = choose_max(df_reduced)#posterior vuln for 1 p and best guess\n",
    "        weighted = num_index * contribution\n",
    "        pgvsum = pgvsum + weighted\n",
    "        p_guess = {'partition': int_list, 'contribution': contribution, 'indexes': num_index, 'block_size': block_size, 'disease': disease, 'weighted': weighted}\n",
    "        data.append(p_guess)\n",
    "    choices_df = pda.DataFrame(data = data)\n",
    "    return pgvsum, choices_df"
   ]
  },
  {
   "cell_type": "code",
   "execution_count": 83,
   "metadata": {},
   "outputs": [
    {
     "name": "stdout",
     "output_type": "stream",
     "text": [
      "posterior gain vulnerability for n = 6 \n",
      "0.6504629629629629\n"
     ]
    }
   ],
   "source": [
    "n = 6\n",
    "print(\"posterior gain vulnerability for n = %s \" % n)\n",
    "post, choices_df = choose_post_vuln_df(n, k, prior_test)\n",
    "print(post)"
   ]
  },
  {
   "cell_type": "code",
   "execution_count": 51,
   "metadata": {},
   "outputs": [
    {
     "data": {
      "text/html": [
       "<div>\n",
       "<style scoped>\n",
       "    .dataframe tbody tr th:only-of-type {\n",
       "        vertical-align: middle;\n",
       "    }\n",
       "\n",
       "    .dataframe tbody tr th {\n",
       "        vertical-align: top;\n",
       "    }\n",
       "\n",
       "    .dataframe thead th {\n",
       "        text-align: right;\n",
       "    }\n",
       "</style>\n",
       "<table border=\"1\" class=\"dataframe\">\n",
       "  <thead>\n",
       "    <tr style=\"text-align: right;\">\n",
       "      <th></th>\n",
       "      <th>block_size</th>\n",
       "      <th>contribution</th>\n",
       "      <th>disease</th>\n",
       "      <th>indexes</th>\n",
       "      <th>partition</th>\n",
       "      <th>weighted</th>\n",
       "    </tr>\n",
       "  </thead>\n",
       "  <tbody>\n",
       "    <tr>\n",
       "      <th>0</th>\n",
       "      <td>6</td>\n",
       "      <td>0.015625</td>\n",
       "      <td>a</td>\n",
       "      <td>1.0</td>\n",
       "      <td>[6]</td>\n",
       "      <td>0.015625</td>\n",
       "    </tr>\n",
       "    <tr>\n",
       "      <th>1</th>\n",
       "      <td>5</td>\n",
       "      <td>0.015625</td>\n",
       "      <td>a</td>\n",
       "      <td>6.0</td>\n",
       "      <td>[5, 1]</td>\n",
       "      <td>0.093750</td>\n",
       "    </tr>\n",
       "    <tr>\n",
       "      <th>2</th>\n",
       "      <td>4</td>\n",
       "      <td>0.008681</td>\n",
       "      <td>a</td>\n",
       "      <td>15.0</td>\n",
       "      <td>[4, 2]</td>\n",
       "      <td>0.130208</td>\n",
       "    </tr>\n",
       "    <tr>\n",
       "      <th>3</th>\n",
       "      <td>4</td>\n",
       "      <td>0.006944</td>\n",
       "      <td>a</td>\n",
       "      <td>15.0</td>\n",
       "      <td>[4, 1, 1]</td>\n",
       "      <td>0.104167</td>\n",
       "    </tr>\n",
       "    <tr>\n",
       "      <th>4</th>\n",
       "      <td>3</td>\n",
       "      <td>0.005208</td>\n",
       "      <td>a</td>\n",
       "      <td>10.0</td>\n",
       "      <td>[3, 3]</td>\n",
       "      <td>0.052083</td>\n",
       "    </tr>\n",
       "    <tr>\n",
       "      <th>5</th>\n",
       "      <td>1</td>\n",
       "      <td>0.003858</td>\n",
       "      <td>c</td>\n",
       "      <td>60.0</td>\n",
       "      <td>[3, 2, 1]</td>\n",
       "      <td>0.231481</td>\n",
       "    </tr>\n",
       "    <tr>\n",
       "      <th>6</th>\n",
       "      <td>2</td>\n",
       "      <td>0.001543</td>\n",
       "      <td>a</td>\n",
       "      <td>15.0</td>\n",
       "      <td>[2, 2, 2]</td>\n",
       "      <td>0.023148</td>\n",
       "    </tr>\n",
       "  </tbody>\n",
       "</table>\n",
       "</div>"
      ],
      "text/plain": [
       "   block_size  contribution disease  indexes  partition  weighted\n",
       "0           6      0.015625       a      1.0        [6]  0.015625\n",
       "1           5      0.015625       a      6.0     [5, 1]  0.093750\n",
       "2           4      0.008681       a     15.0     [4, 2]  0.130208\n",
       "3           4      0.006944       a     15.0  [4, 1, 1]  0.104167\n",
       "4           3      0.005208       a     10.0     [3, 3]  0.052083\n",
       "5           1      0.003858       c     60.0  [3, 2, 1]  0.231481\n",
       "6           2      0.001543       a     15.0  [2, 2, 2]  0.023148"
      ]
     },
     "execution_count": 51,
     "metadata": {},
     "output_type": "execute_result"
    }
   ],
   "source": [
    "choices_df"
   ]
  },
  {
   "cell_type": "code",
   "execution_count": 13,
   "metadata": {},
   "outputs": [],
   "source": [
    "def forced_post_vuln_df(n, k, pi):\n",
    "    forced_sum = 0\n",
    "    pi_dict = k_dictionary(pi)\n",
    "    data = []\n",
    "    for p in partitions(n, m=k): \n",
    "        p_guess = {}\n",
    "        num_index = calc_index_partitions(n,p) # p's number of index partitions\n",
    "        df, int_list = type_3(p, pi_dict, k) # the probabilities of different types of the column\n",
    "        df_g = choices_matrix(df, int_list) # the disease:block size guesses the adversary can make\n",
    "        weighted = forced_max(df_g, num_index, n)\n",
    "        forced_sum = forced_sum + weighted\n",
    "        p_guess = {'partition': int_list, 'indexes': num_index, 'weighted': weighted}\n",
    "        data.append(p_guess)\n",
    "    choices_df = pda.DataFrame(data = data)\n",
    "    return forced_sum, choices_df"
   ]
  },
  {
   "cell_type": "code",
   "execution_count": 52,
   "metadata": {},
   "outputs": [
    {
     "name": "stdout",
     "output_type": "stream",
     "text": [
      "Posterior vulnerability for n = 6 \n",
      "0.5875342935528121\n"
     ]
    }
   ],
   "source": [
    "n = 6\n",
    "forced_post, my_forced_choices_df = forced_post_vuln_df(n, 3, [1/2, 1/3, 1/6])\n",
    "print(\"Forced Posterior vulnerability for n = %s \" % n)\n",
    "print(forced_post)"
   ]
  },
  {
   "cell_type": "code",
   "execution_count": 54,
   "metadata": {},
   "outputs": [
    {
     "data": {
      "text/html": [
       "<div>\n",
       "<style scoped>\n",
       "    .dataframe tbody tr th:only-of-type {\n",
       "        vertical-align: middle;\n",
       "    }\n",
       "\n",
       "    .dataframe tbody tr th {\n",
       "        vertical-align: top;\n",
       "    }\n",
       "\n",
       "    .dataframe thead th {\n",
       "        text-align: right;\n",
       "    }\n",
       "</style>\n",
       "<table border=\"1\" class=\"dataframe\">\n",
       "  <thead>\n",
       "    <tr style=\"text-align: right;\">\n",
       "      <th></th>\n",
       "      <th>indexes</th>\n",
       "      <th>partition</th>\n",
       "      <th>weighted</th>\n",
       "    </tr>\n",
       "  </thead>\n",
       "  <tbody>\n",
       "    <tr>\n",
       "      <th>0</th>\n",
       "      <td>1.0</td>\n",
       "      <td>[6]</td>\n",
       "      <td>0.015625</td>\n",
       "    </tr>\n",
       "    <tr>\n",
       "      <th>1</th>\n",
       "      <td>6.0</td>\n",
       "      <td>[5, 1]</td>\n",
       "      <td>0.088585</td>\n",
       "    </tr>\n",
       "    <tr>\n",
       "      <th>2</th>\n",
       "      <td>15.0</td>\n",
       "      <td>[4, 2]</td>\n",
       "      <td>0.121956</td>\n",
       "    </tr>\n",
       "    <tr>\n",
       "      <th>3</th>\n",
       "      <td>15.0</td>\n",
       "      <td>[4, 1, 1]</td>\n",
       "      <td>0.091950</td>\n",
       "    </tr>\n",
       "    <tr>\n",
       "      <th>4</th>\n",
       "      <td>10.0</td>\n",
       "      <td>[3, 3]</td>\n",
       "      <td>0.052083</td>\n",
       "    </tr>\n",
       "    <tr>\n",
       "      <th>5</th>\n",
       "      <td>60.0</td>\n",
       "      <td>[3, 2, 1]</td>\n",
       "      <td>0.194187</td>\n",
       "    </tr>\n",
       "    <tr>\n",
       "      <th>6</th>\n",
       "      <td>15.0</td>\n",
       "      <td>[2, 2, 2]</td>\n",
       "      <td>0.023148</td>\n",
       "    </tr>\n",
       "  </tbody>\n",
       "</table>\n",
       "</div>"
      ],
      "text/plain": [
       "   indexes  partition  weighted\n",
       "0      1.0        [6]  0.015625\n",
       "1      6.0     [5, 1]  0.088585\n",
       "2     15.0     [4, 2]  0.121956\n",
       "3     15.0  [4, 1, 1]  0.091950\n",
       "4     10.0     [3, 3]  0.052083\n",
       "5     60.0  [3, 2, 1]  0.194187\n",
       "6     15.0  [2, 2, 2]  0.023148"
      ]
     },
     "execution_count": 54,
     "metadata": {},
     "output_type": "execute_result"
    }
   ],
   "source": [
    "my_forced_choices_df"
   ]
  },
  {
   "cell_type": "markdown",
   "metadata": {},
   "source": [
    "**normalized_choose_post_vuln** provides the normalized, per integer partition probability "
   ]
  },
  {
   "cell_type": "code",
   "execution_count": 23,
   "metadata": {},
   "outputs": [],
   "source": [
    "def int_list_distance(int_list):\n",
    "    distance = []\n",
    "    distance = [x-y for x, y in zip(int_list, int_list[1:])]   \n",
    "    return distance"
   ]
  },
  {
   "cell_type": "code",
   "execution_count": 133,
   "metadata": {},
   "outputs": [],
   "source": [
    "def normalized_choose_post_vuln(n, k, pi): #does not return a dataframe w/every partition\n",
    "    data = []\n",
    "    pi_dict = k_dictionary(pi) # the dictionary of diseases and probabilies {a:1/2, b:1/3, etc.}\n",
    "    for p in partitions(n, m=k): \n",
    "        p_guess = {}\n",
    "        num_index = calc_index_partitions(n,p) # p's number of index partitions\n",
    "        df, int_list = type_3(p, pi_dict, k) # the probabilities of different types of the column\n",
    "        if k == 3:\n",
    "            df_g = choices_matrix(df, int_list) # the disease:block size guesses the adversary can make\n",
    "        elif k == 4:\n",
    "            df_g = choices_matrix_4(df, int_list)\n",
    "        elif k == 5:\n",
    "            df_g = choices_matrix_5(df, int_list)\n",
    "        else:\n",
    "            raise ValueError(\"k isn't 3, 4, or 5\")\n",
    "        norm = df_g.div(df_g.sum(axis=1), axis = 0)\n",
    "        probability, block_size, disease = choose_max(norm)#posterior vuln for 1 p and best guess\n",
    "        int_list += [0] * (3 - len(int_list))\n",
    "        dis = int_list_distance(int_list)\n",
    "        p_guess = {'partition': int_list, 'distance':dis, 'probability': probability, 'first': int_list[0], 'second': int_list[1], 'third': int_list[2]}\n",
    "        data.append(p_guess)\n",
    "    partition_df = pda.DataFrame(data = data)\n",
    "    prob_df = partition_df.sort_values(by=['probability'], ascending=False).reset_index(drop=True)\n",
    "    #dist_df = partition_df.sort_values(by=['distance'], ascending=False).reset_index(drop=True)\n",
    "    return prob_df"
   ]
  },
  {
   "cell_type": "code",
   "execution_count": 24,
   "metadata": {},
   "outputs": [
    {
     "name": "stdout",
     "output_type": "stream",
     "text": [
      "[5, 18]\n"
     ]
    }
   ],
   "source": [
    "dis = int_list_distance([26, 21, 3])\n",
    "print(dis)"
   ]
  },
  {
   "cell_type": "code",
   "execution_count": 134,
   "metadata": {},
   "outputs": [
    {
     "data": {
      "text/html": [
       "<div>\n",
       "<style scoped>\n",
       "    .dataframe tbody tr th:only-of-type {\n",
       "        vertical-align: middle;\n",
       "    }\n",
       "\n",
       "    .dataframe tbody tr th {\n",
       "        vertical-align: top;\n",
       "    }\n",
       "\n",
       "    .dataframe thead th {\n",
       "        text-align: right;\n",
       "    }\n",
       "</style>\n",
       "<table border=\"1\" class=\"dataframe\">\n",
       "  <thead>\n",
       "    <tr style=\"text-align: right;\">\n",
       "      <th></th>\n",
       "      <th>distance</th>\n",
       "      <th>first</th>\n",
       "      <th>partition</th>\n",
       "      <th>probability</th>\n",
       "      <th>second</th>\n",
       "      <th>third</th>\n",
       "    </tr>\n",
       "  </thead>\n",
       "  <tbody>\n",
       "    <tr>\n",
       "      <th>0</th>\n",
       "      <td>[50, 0]</td>\n",
       "      <td>50</td>\n",
       "      <td>[50, 0, 0]</td>\n",
       "      <td>1.0</td>\n",
       "      <td>0</td>\n",
       "      <td>0</td>\n",
       "    </tr>\n",
       "    <tr>\n",
       "      <th>1</th>\n",
       "      <td>[48, 1]</td>\n",
       "      <td>49</td>\n",
       "      <td>[49, 1, 0]</td>\n",
       "      <td>1.0</td>\n",
       "      <td>1</td>\n",
       "      <td>0</td>\n",
       "    </tr>\n",
       "    <tr>\n",
       "      <th>2</th>\n",
       "      <td>[47, 0]</td>\n",
       "      <td>48</td>\n",
       "      <td>[48, 1, 1]</td>\n",
       "      <td>1.0</td>\n",
       "      <td>1</td>\n",
       "      <td>1</td>\n",
       "    </tr>\n",
       "    <tr>\n",
       "      <th>3</th>\n",
       "      <td>[46, 2]</td>\n",
       "      <td>48</td>\n",
       "      <td>[48, 2, 0]</td>\n",
       "      <td>1.0</td>\n",
       "      <td>2</td>\n",
       "      <td>0</td>\n",
       "    </tr>\n",
       "    <tr>\n",
       "      <th>4</th>\n",
       "      <td>[45, 1]</td>\n",
       "      <td>47</td>\n",
       "      <td>[47, 2, 1]</td>\n",
       "      <td>1.0</td>\n",
       "      <td>2</td>\n",
       "      <td>1</td>\n",
       "    </tr>\n",
       "  </tbody>\n",
       "</table>\n",
       "</div>"
      ],
      "text/plain": [
       "  distance  first   partition  probability  second  third\n",
       "0  [50, 0]     50  [50, 0, 0]          1.0       0      0\n",
       "1  [48, 1]     49  [49, 1, 0]          1.0       1      0\n",
       "2  [47, 0]     48  [48, 1, 1]          1.0       1      1\n",
       "3  [46, 2]     48  [48, 2, 0]          1.0       2      0\n",
       "4  [45, 1]     47  [47, 2, 1]          1.0       2      1"
      ]
     },
     "execution_count": 134,
     "metadata": {},
     "output_type": "execute_result"
    }
   ],
   "source": [
    "n = 50\n",
    "k = 3\n",
    "prob_df= normalized_choose_post_vuln(n, k, [1/2, 1/4, 1/4])\n",
    "prob_df.head()"
   ]
  },
  {
   "cell_type": "code",
   "execution_count": 13,
   "metadata": {},
   "outputs": [],
   "source": [
    "def graph_choose_normalized(n, k, probs, df):\n",
    "    df.reset_index().plot.scatter(x='index', \n",
    "                y='probability', figsize=(15,10))\n",
    "    plt.xticks(df.index, df['partition'], rotation=90)\n",
    "    plt.ylim(bottom=0, top = 1)\n",
    "    # title rounds the prior\n",
    "    format_probs = ['%.3f' % prob for prob in probs]\n",
    "    plt.title(f'k = {k}, prior = {format_probs}')\n",
    "    plt.legend()\n",
    "    plt.show()\n",
    "    plt.close()"
   ]
  },
  {
   "cell_type": "code",
   "execution_count": 135,
   "metadata": {},
   "outputs": [],
   "source": [
    "def graph_choose_normalized_distance(n, k, probs, df):\n",
    "    fig, ax = plt.subplots()\n",
    "    ax2 = ax.twinx()\n",
    "    df.reset_index().plot.scatter(ax = ax,\n",
    "                                  x='index',\n",
    "                                  y='probability', \n",
    "                                  figsize=(15,10))\n",
    "    #plt.xticks(df.index, df['distance'], rotation=90)\n",
    "    \n",
    "    ax.set_ylim(bottom=0, top = 1)\n",
    "    ax2.set_ylim(bottom=0, top = n)\n",
    "    \n",
    "    # title rounds the prior\n",
    "    format_probs = ['%.3f' % prob for prob in probs]\n",
    "    plt.title(f'k = {k}, prior = {format_probs}')\n",
    "    plt.legend()\n",
    "    plt.show()\n",
    "    plt.close()"
   ]
  },
  {
   "cell_type": "code",
   "execution_count": 168,
   "metadata": {},
   "outputs": [],
   "source": [
    "def graph_choose_normalized_distance_only(n, k, probs, df):\n",
    "    fig, ax = plt.subplots()\n",
    "\n",
    "    df2 = df[['first', 'second', 'third']]\n",
    "    df2.plot(kind='bar', stacked=True, ax = ax)\n",
    "    ax2 = ax.twinx()\n",
    "    \n",
    "    df.reset_index().plot.scatter(ax = ax2,\n",
    "                                  x='index',\n",
    "                                  y='probability',\n",
    "                                  c = 'purple',\n",
    "                                  marker = 'o',\n",
    "                                  figsize=(15,10))\n",
    "    \n",
    "    ax2.set_ylim(bottom=0, top = 1)\n",
    "    ax.set_ylim(bottom=0, top = n)\n",
    "\n",
    "    plt.show()\n",
    "    plt.close()"
   ]
  },
  {
   "cell_type": "code",
   "execution_count": 147,
   "metadata": {},
   "outputs": [],
   "source": [
    "small_close_dist = close_50_prob[(close_50_prob['probability'] < .99)]"
   ]
  },
  {
   "cell_type": "code",
   "execution_count": 171,
   "metadata": {},
   "outputs": [
    {
     "data": {
      "image/png": "[encoded data removed]",
      "text/plain": [
       "<Figure size 1080x720 with 2 Axes>"
      ]
     },
     "metadata": {},
     "output_type": "display_data"
    }
   ],
   "source": [
    "n = 50\n",
    "k = 3\n",
    "prob = [1/2, 1/4, 1/4]\n",
    "graph_choose_normalized_distance_only(n, k, prob, close_50_prob)"
   ]
  },
  {
   "cell_type": "markdown",
   "metadata": {},
   "source": [
    "## n = 12, then 24, both with nonuniform prior"
   ]
  },
  {
   "cell_type": "code",
   "execution_count": 14,
   "metadata": {},
   "outputs": [
    {
     "name": "stderr",
     "output_type": "stream",
     "text": [
      "No handles with labels found to put in legend.\n"
     ]
    },
    {
     "data": {
      "image/png": "[encoded data removed]",
      "text/plain": [
       "<Figure size 1080x720 with 1 Axes>"
      ]
     },
     "metadata": {},
     "output_type": "display_data"
    }
   ],
   "source": [
    "n =12\n",
    "k = 3\n",
    "prob = [1/2, 1/3, 1/6]\n",
    "norm_df = normalized_choose_post_vuln(n, k, prob)\n",
    "graph_choose_normalized(n, k, prob, norm_df)"
   ]
  },
  {
   "cell_type": "code",
   "execution_count": 15,
   "metadata": {},
   "outputs": [
    {
     "name": "stderr",
     "output_type": "stream",
     "text": [
      "No handles with labels found to put in legend.\n"
     ]
    },
    {
     "data": {
      "image/png": "[encoded data removed]",
      "text/plain": [
       "<Figure size 1080x720 with 1 Axes>"
      ]
     },
     "metadata": {},
     "output_type": "display_data"
    }
   ],
   "source": [
    "n = 24\n",
    "k = 3\n",
    "prob = [1/2, 1/3, 1/6]\n",
    "norm_df = normalized_choose_post_vuln(n, k, prob)\n",
    "graph_choose_normalized(n, k, prob, norm_df)"
   ]
  },
  {
   "cell_type": "markdown",
   "metadata": {},
   "source": [
    "## n = 50, two priors are close"
   ]
  },
  {
   "cell_type": "code",
   "execution_count": 139,
   "metadata": {},
   "outputs": [
    {
     "name": "stderr",
     "output_type": "stream",
     "text": [
      "No handles with labels found to put in legend.\n"
     ]
    },
    {
     "data": {
      "image/png": "[encoded data removed]",
      "text/plain": [
       "<Figure size 1080x720 with 1 Axes>"
      ]
     },
     "metadata": {},
     "output_type": "display_data"
    }
   ],
   "source": [
    "n = 50\n",
    "k = 3\n",
    "prob = [1/2, 1/4, 1/4]\n",
    "close_50_prob = normalized_choose_post_vuln(n, k, prob)\n",
    "graph_choose_normalized(n, k, prob, close_50_prob)"
   ]
  },
  {
   "cell_type": "markdown",
   "metadata": {},
   "source": [
    "## Zoomed in on cascading effect where probability < .99"
   ]
  },
  {
   "cell_type": "code",
   "execution_count": 56,
   "metadata": {},
   "outputs": [
    {
     "name": "stderr",
     "output_type": "stream",
     "text": [
      "No handles with labels found to put in legend.\n"
     ]
    },
    {
     "data": {
      "image/png": "[encoded data removed]",
      "text/plain": [
       "<Figure size 1080x720 with 1 Axes>"
      ]
     },
     "metadata": {},
     "output_type": "display_data"
    }
   ],
   "source": [
    "zoom_close_50 = close_50_prob[(close_50_prob['probability'] < .99)]\n",
    "graph_choose_normalized(n, k, prob, zoom_close_50)"
   ]
  },
  {
   "cell_type": "markdown",
   "metadata": {},
   "source": [
    "## n = 12, uniform prior"
   ]
  },
  {
   "cell_type": "code",
   "execution_count": 18,
   "metadata": {},
   "outputs": [
    {
     "name": "stderr",
     "output_type": "stream",
     "text": [
      "No handles with labels found to put in legend.\n"
     ]
    },
    {
     "data": {
      "image/png": "[encoded data removed]",
      "text/plain": [
       "<Figure size 1080x720 with 1 Axes>"
      ]
     },
     "metadata": {},
     "output_type": "display_data"
    }
   ],
   "source": [
    "n =12\n",
    "k = 3\n",
    "prob = [1/3, 1/3, 1/3]\n",
    "norm_uni = normalized_choose_post_vuln(n, k, prob)\n",
    "graph_choose_normalized(n, k, prob, norm_uni)"
   ]
  },
  {
   "cell_type": "markdown",
   "metadata": {},
   "source": [
    "***forced_and_choose_post_vuln***: most important function to calculate the posterior vulnerability for both versions of the gain function "
   ]
  },
  {
   "cell_type": "code",
   "execution_count": 87,
   "metadata": {},
   "outputs": [],
   "source": [
    "def forced_and_choose_post_vuln(n, k, pi):\n",
    "    forced_sum = 0\n",
    "    choose_sum = 0\n",
    "    pi_dict = k_dictionary(pi)\n",
    "    for p in partitions(n, m=k): \n",
    "        num_index = calc_index_partitions(n,p) # p's number of index partitions\n",
    "        df, int_list = type_3(p, pi_dict, k) # the probabilities of different types of the column\n",
    "        #print(\"***************DF *************\")\n",
    "        #print(df)\n",
    "        #print(\"*****************************\")\n",
    "        if k == 3:\n",
    "            df_g = choices_matrix(df, int_list) # the disease:block size guesses the adversary can make\n",
    "        elif k == 4:\n",
    "            df_g = choices_matrix_4(df, int_list)\n",
    "        elif k == 5:\n",
    "            df_g = choices_matrix_5(df, int_list)\n",
    "        else:\n",
    "            raise ValueError(\"k isn't 3, 4, or 5\")\n",
    "        #print(\"***************Choices *************\")\n",
    "        #print(df_g)\n",
    "        #print(\"*****************************\")\n",
    "        forced_per_p = forced_max(df_g, num_index, n)\n",
    "        forced_sum = forced_sum + forced_per_p # the post vuln for forced gain        \n",
    "        #df_reduced = reduce_choices(df_g, p) # reduced dataframe, no 0s or duplicates\n",
    "        choose_per_p, block_size, disease = choose_max(df_g)#posterior vuln for 1 p and best guess\n",
    "        #print(\"***************Choose *************\")\n",
    "        #print('post vuln: ', choose_per_p)\n",
    "        #print('block size: ', block_size)\n",
    "        #print('disease: ', disease)\n",
    "        #print(\"*****************************\")\n",
    "        weighted = num_index * choose_per_p\n",
    "        choose_sum = choose_sum + weighted  \n",
    "    return forced_sum, choose_sum"
   ]
  },
  {
   "cell_type": "code",
   "execution_count": 88,
   "metadata": {},
   "outputs": [
    {
     "name": "stdout",
     "output_type": "stream",
     "text": [
      "k = 3\n",
      "Choose Posterior vulnerability for n = 5 \n",
      "0.6388888888888888\n",
      "Forced Posterior vulnerability for n = 5 \n",
      "0.5736882716049383\n"
     ]
    }
   ],
   "source": [
    "n = 5\n",
    "k = 3\n",
    "forced_4, choose_4 = forced_and_choose_post_vuln(n, k, [1/2, 1/3, 1/6])\n",
    "print(\"k = %s\" % k)\n",
    "print(\"Choose Posterior vulnerability for n = %s \" % n)\n",
    "print(choose_4)\n",
    "print(\"Forced Posterior vulnerability for n = %s \" % n)\n",
    "print(forced_4)"
   ]
  },
  {
   "cell_type": "code",
   "execution_count": 29,
   "metadata": {},
   "outputs": [
    {
     "name": "stdout",
     "output_type": "stream",
     "text": [
      "k = 4\n",
      "Choose Posterior vulnerability for n = 10 \n",
      "0.7519400096888078\n",
      "Forced Posterior vulnerability for n = 10 \n",
      "0.6612893495251376\n"
     ]
    }
   ],
   "source": [
    "n = 10\n",
    "k = 4\n",
    "forced_4, choose_4 = forced_and_choose_post_vuln(n, k, [1/2, 1/3, 1/8, 1/24])\n",
    "print(\"k = %s\" % k)\n",
    "print(\"Choose Posterior vulnerability for n = %s \" % n)\n",
    "print(choose_4)\n",
    "print(\"Forced Posterior vulnerability for n = %s \" % n)\n",
    "print(forced_4)"
   ]
  },
  {
   "cell_type": "markdown",
   "metadata": {},
   "source": [
    "### Graphs"
   ]
  },
  {
   "cell_type": "code",
   "execution_count": 30,
   "metadata": {},
   "outputs": [],
   "source": [
    "sns.set()"
   ]
  },
  {
   "cell_type": "code",
   "execution_count": 31,
   "metadata": {},
   "outputs": [],
   "source": [
    "def choose_and_forced_prior_post(n_range, k, probs):\n",
    "    choose_post_vs = []\n",
    "    forced_post_vs = []\n",
    "    prior_vs = []\n",
    "    \n",
    "    probs.sort(reverse=True) \n",
    "    prior_val=probs[0] # sets the line for prior vuln\n",
    "    for i in range(n_range):\n",
    "        forced, choose = forced_and_choose_post_vuln(i+1, k, probs)\n",
    "        choose_post_vs.append(choose)\n",
    "        forced_post_vs.append(forced)\n",
    "        prior_vs.append(prior_val)\n",
    "    df = pda.DataFrame(\n",
    "        {'prior':prior_vs,\n",
    "         'forced posterior': forced_post_vs,\n",
    "         'choose posterior': choose_post_vs\n",
    "        }\n",
    "    )\n",
    "    return df"
   ]
  },
  {
   "cell_type": "code",
   "execution_count": 32,
   "metadata": {},
   "outputs": [],
   "source": [
    "def graph_it_prior_choose_forced(n_range, k, probs, df):\n",
    "    x = [i+1 for i in range(n_range)]\n",
    "    \n",
    "    plt.plot(x, 'prior', \n",
    "             data=df, \n",
    "             label=\"prior\")\n",
    "    plt.plot(x, 'choose posterior', \n",
    "             data=df, \n",
    "             label=\"choose\")\n",
    "    plt.plot(x, 'forced posterior', \n",
    "             data=df, \n",
    "             label=\"forced\")\n",
    "    plt.xlabel('n values')\n",
    "    plt.ylabel('gain vulnerability')\n",
    "    plt.ylim(bottom=0, top = 1)\n",
    "    \n",
    "    # title rounds the prior\n",
    "    format_probs = ['%.3f' % prob for prob in probs]\n",
    "    plt.title(f'k = {k}, prior = {format_probs}')\n",
    "    plt.legend()\n",
    "    plt.show()"
   ]
  },
  {
   "cell_type": "markdown",
   "metadata": {},
   "source": [
    "### K = 3"
   ]
  },
  {
   "cell_type": "code",
   "execution_count": 33,
   "metadata": {},
   "outputs": [],
   "source": [
    "df_non_uni = choose_and_forced_prior_post(100, 3, [1/2, 1/3, 1/6])"
   ]
  },
  {
   "cell_type": "code",
   "execution_count": 251,
   "metadata": {},
   "outputs": [],
   "source": [
    "df_non_uni.to_csv (r'data\\df_non_uni.csv', index = None, header=True) "
   ]
  },
  {
   "cell_type": "code",
   "execution_count": 240,
   "metadata": {},
   "outputs": [],
   "source": [
    "df_non_uni_csv = pda.read_csv('data\\df_non_uni.csv')"
   ]
  },
  {
   "cell_type": "code",
   "execution_count": 241,
   "metadata": {},
   "outputs": [
    {
     "data": {
      "image/png": "[encoded data removed]",
      "text/plain": [
       "<Figure size 432x288 with 1 Axes>"
      ]
     },
     "metadata": {},
     "output_type": "display_data"
    }
   ],
   "source": [
    "graph_it_prior_choose_forced(100, 3, [1/2, 1/3, 1/6], df_non_uni_csv)"
   ]
  },
  {
   "cell_type": "code",
   "execution_count": 56,
   "metadata": {},
   "outputs": [
    {
     "data": {
      "text/plain": [
       "0          NaN\n",
       "1     0.000000\n",
       "2     0.055556\n",
       "3     0.027778\n",
       "4     0.055556\n",
       "5     0.011574\n",
       "6     0.038580\n",
       "7     0.036008\n",
       "8     0.021905\n",
       "9     0.019542\n",
       "10    0.031188\n",
       "11    0.015099\n",
       "12    0.015599\n",
       "13    0.019372\n",
       "14    0.013715\n",
       "15    0.009856\n",
       "16    0.014061\n",
       "17    0.009771\n",
       "18    0.007806\n",
       "19    0.009326\n",
       "20    0.007766\n",
       "21    0.005628\n",
       "22    0.006832\n",
       "23    0.005710\n",
       "24    0.004495\n",
       "25    0.004855\n",
       "26    0.004430\n",
       "27    0.003449\n",
       "28    0.003662\n",
       "29    0.003333\n",
       "        ...   \n",
       "70    0.000123\n",
       "71    0.000116\n",
       "72    0.000106\n",
       "73    0.000097\n",
       "74    0.000093\n",
       "75    0.000084\n",
       "76    0.000078\n",
       "77    0.000074\n",
       "78    0.000067\n",
       "79    0.000062\n",
       "80    0.000059\n",
       "81    0.000053\n",
       "82    0.000049\n",
       "83    0.000047\n",
       "84    0.000043\n",
       "85    0.000039\n",
       "86    0.000038\n",
       "87    0.000034\n",
       "88    0.000031\n",
       "89    0.000030\n",
       "90    0.000027\n",
       "91    0.000025\n",
       "92    0.000024\n",
       "93    0.000022\n",
       "94    0.000020\n",
       "95    0.000019\n",
       "96    0.000017\n",
       "97    0.000016\n",
       "98    0.000015\n",
       "99    0.000014\n",
       "Name: choose posterior, Length: 100, dtype: float64"
      ]
     },
     "execution_count": 56,
     "metadata": {},
     "output_type": "execute_result"
    }
   ],
   "source": [
    "df_non_uni['choose posterior'] - df_non_uni['choose posterior'].shift()"
   ]
  },
  {
   "cell_type": "code",
   "execution_count": 44,
   "metadata": {},
   "outputs": [],
   "source": [
    "df_uni = choose_and_forced_prior_post(100, 3, [1/3, 1/3, 1/3])"
   ]
  },
  {
   "cell_type": "code",
   "execution_count": 250,
   "metadata": {},
   "outputs": [],
   "source": [
    "df_uni.to_csv(r'data\\df_uni.csv', index = None, header=True) "
   ]
  },
  {
   "cell_type": "code",
   "execution_count": 222,
   "metadata": {},
   "outputs": [],
   "source": [
    "df_uni_csv = pda.read_csv('data\\df_uni.csv')"
   ]
  },
  {
   "cell_type": "code",
   "execution_count": 223,
   "metadata": {},
   "outputs": [
    {
     "data": {
      "image/png": "[encoded data removed]",
      "text/plain": [
       "<Figure size 432x288 with 1 Axes>"
      ]
     },
     "metadata": {},
     "output_type": "display_data"
    }
   ],
   "source": [
    "graph_it_prior_choose_forced(100, 3, [1/3, 1/3, 1/3], df_uni_csv)"
   ]
  },
  {
   "cell_type": "code",
   "execution_count": 45,
   "metadata": {},
   "outputs": [],
   "source": [
    "df_two_same = choose_and_forced_prior_post(100, 3, [1/2, 1/4, 1/4])"
   ]
  },
  {
   "cell_type": "code",
   "execution_count": 247,
   "metadata": {},
   "outputs": [],
   "source": [
    "df_two_same.to_csv(r'data\\df_two_same.csv', index = None, header=True) "
   ]
  },
  {
   "cell_type": "code",
   "execution_count": 248,
   "metadata": {},
   "outputs": [],
   "source": [
    "df_two_same_csv = pda.read_csv('data\\df_two_same.csv')"
   ]
  },
  {
   "cell_type": "code",
   "execution_count": 249,
   "metadata": {},
   "outputs": [
    {
     "data": {
      "image/png": "[encoded data removed]",
      "text/plain": [
       "<Figure size 432x288 with 1 Axes>"
      ]
     },
     "metadata": {},
     "output_type": "display_data"
    }
   ],
   "source": [
    "graph_it_prior_choose_forced(100, 3, [1/2, 1/4, 1/4], df_two_same_csv)"
   ]
  },
  {
   "cell_type": "code",
   "execution_count": 46,
   "metadata": {},
   "outputs": [],
   "source": [
    "df_two_close = choose_and_forced_prior_post(100, 3, [.5, .26, .24])"
   ]
  },
  {
   "cell_type": "code",
   "execution_count": 252,
   "metadata": {},
   "outputs": [],
   "source": [
    "df_two_close.to_csv(r'data\\df_two_close.csv', index=None, header=True) "
   ]
  },
  {
   "cell_type": "code",
   "execution_count": 219,
   "metadata": {},
   "outputs": [],
   "source": [
    "df_two_close_csv = pda.read_csv('data\\df_two_close.csv')"
   ]
  },
  {
   "cell_type": "code",
   "execution_count": 218,
   "metadata": {},
   "outputs": [
    {
     "data": {
      "image/png": "[encoded data removed]",
      "text/plain": [
       "<Figure size 432x288 with 1 Axes>"
      ]
     },
     "metadata": {},
     "output_type": "display_data"
    }
   ],
   "source": [
    "graph_it_prior_choose_forced(100, 3, [.5, .26, .24], df_two_close_csv)"
   ]
  },
  {
   "cell_type": "markdown",
   "metadata": {},
   "source": [
    "### K = 4\n",
    "Note: n = 50 to save computation time"
   ]
  },
  {
   "cell_type": "code",
   "execution_count": 187,
   "metadata": {},
   "outputs": [],
   "source": [
    "n = 100\n",
    "k = 4\n",
    "probs = [1/2, 1/3, 1/8, 1/24]"
   ]
  },
  {
   "cell_type": "code",
   "execution_count": 188,
   "metadata": {},
   "outputs": [],
   "source": [
    "df_non_uni_4 = choose_and_forced_prior_post(n, k, probs)"
   ]
  },
  {
   "cell_type": "code",
   "execution_count": 253,
   "metadata": {},
   "outputs": [],
   "source": [
    "df_non_uni_4.to_csv(r'data\\df_non_uni_4.csv', index=None, header=True) "
   ]
  },
  {
   "cell_type": "code",
   "execution_count": 228,
   "metadata": {},
   "outputs": [],
   "source": [
    "df_non_uni_4_csv = pda.read_csv('data\\df_non_uni_4.csv')"
   ]
  },
  {
   "cell_type": "code",
   "execution_count": 229,
   "metadata": {},
   "outputs": [
    {
     "data": {
      "image/png": "[encoded data removed]",
      "text/plain": [
       "<Figure size 432x288 with 1 Axes>"
      ]
     },
     "metadata": {},
     "output_type": "display_data"
    }
   ],
   "source": [
    "graph_it_prior_choose_forced(n, k, probs, df_non_uni_4_csv)"
   ]
  },
  {
   "cell_type": "code",
   "execution_count": 192,
   "metadata": {},
   "outputs": [],
   "source": [
    "probs = [1/2, 1/6, 1/6, 1/6]"
   ]
  },
  {
   "cell_type": "code",
   "execution_count": 194,
   "metadata": {},
   "outputs": [],
   "source": [
    "df_two_same_4 = choose_and_forced_prior_post(n, k, probs)"
   ]
  },
  {
   "cell_type": "code",
   "execution_count": 254,
   "metadata": {},
   "outputs": [],
   "source": [
    "df_two_same_4.to_csv(r'data\\df_two_same_4.csv', index = None, header=True) "
   ]
  },
  {
   "cell_type": "code",
   "execution_count": 231,
   "metadata": {},
   "outputs": [],
   "source": [
    "df_two_same_4_csv = pda.read_csv('data\\df_two_same_4.csv')"
   ]
  },
  {
   "cell_type": "code",
   "execution_count": 232,
   "metadata": {},
   "outputs": [
    {
     "data": {
      "image/png": "[encoded data removed]",
      "text/plain": [
       "<Figure size 432x288 with 1 Axes>"
      ]
     },
     "metadata": {},
     "output_type": "display_data"
    }
   ],
   "source": [
    "graph_it_prior_choose_forced(n, k, probs, df_two_same_4_csv)"
   ]
  },
  {
   "cell_type": "code",
   "execution_count": 196,
   "metadata": {},
   "outputs": [],
   "source": [
    "probs = [1/4, 1/4, 1/4, 1/4]"
   ]
  },
  {
   "cell_type": "code",
   "execution_count": 197,
   "metadata": {
    "scrolled": true
   },
   "outputs": [],
   "source": [
    "df_uni_4 = choose_and_forced_prior_post(20, k, probs)"
   ]
  },
  {
   "cell_type": "code",
   "execution_count": 255,
   "metadata": {},
   "outputs": [],
   "source": [
    "df_uni_4.to_csv(r'data\\df_uni_4.csv', index=None, header=True) "
   ]
  },
  {
   "cell_type": "code",
   "execution_count": 234,
   "metadata": {},
   "outputs": [],
   "source": [
    "df_uni_4_csv = pda.read_csv('data\\df_uni_4.csv')"
   ]
  },
  {
   "cell_type": "code",
   "execution_count": 235,
   "metadata": {},
   "outputs": [
    {
     "data": {
      "image/png": "[encoded data removed]",
      "text/plain": [
       "<Figure size 432x288 with 1 Axes>"
      ]
     },
     "metadata": {},
     "output_type": "display_data"
    }
   ],
   "source": [
    "graph_it_prior_choose_forced(20, k, probs, df_uni_4_csv)"
   ]
  },
  {
   "cell_type": "markdown",
   "metadata": {},
   "source": [
    "### K = 5"
   ]
  },
  {
   "cell_type": "code",
   "execution_count": 104,
   "metadata": {},
   "outputs": [],
   "source": [
    "df_non_uni_5 = choose_and_forced_prior_post(50, 5, [13/25, 5/25, 4/25, 2/25, 1/25])"
   ]
  },
  {
   "cell_type": "code",
   "execution_count": 105,
   "metadata": {},
   "outputs": [
    {
     "data": {
      "image/png": "[encoded data removed]",
      "text/plain": [
       "<Figure size 432x288 with 1 Axes>"
      ]
     },
     "metadata": {},
     "output_type": "display_data"
    }
   ],
   "source": [
    "graph_it_prior_choose_forced(50, 5, [13/25, 5/25, 4/25, 2/25, 1/25], df_non_uni_5)"
   ]
  },
  {
   "cell_type": "code",
   "execution_count": 106,
   "metadata": {},
   "outputs": [],
   "source": [
    "df_uni_5 = choose_and_forced_prior_post(30, 5, [1/5, 1/5, 1/5, 1/5, 1/5])"
   ]
  },
  {
   "cell_type": "code",
   "execution_count": 107,
   "metadata": {},
   "outputs": [
    {
     "data": {
      "image/png": "[encoded data removed]",
      "text/plain": [
       "<Figure size 432x288 with 1 Axes>"
      ]
     },
     "metadata": {},
     "output_type": "display_data"
    }
   ],
   "source": [
    "graph_it_prior_choose_forced(30, 5, [1/5, 1/5, 1/5, 1/5, 1/5], df_uni_5)"
   ]
  },
  {
   "cell_type": "markdown",
   "metadata": {},
   "source": [
    "#### Old graphs"
   ]
  },
  {
   "cell_type": "code",
   "execution_count": 38,
   "metadata": {},
   "outputs": [],
   "source": [
    "def color_plot_vuln(df):\n",
    "    fig, ax = plt.subplots() # to show xtick labels\n",
    "    df.reset_index().plot.scatter(x='index', \n",
    "                y='weighted',\n",
    "                c = 'contribution', # the color map scale\n",
    "                colormap='winter_r',\n",
    "                ax = ax)\n",
    "    plt.xticks(df.index, df['partition'], rotation=90)\n",
    "    plt.title(\"Individual and Weighted Vulnerability Per Integer Partition\")\n",
    "    plt.show()\n",
    "##Graph options w/o colormap\n",
    "#choices_df.plot(x='partition', \n",
    "#                y='weighted',\n",
    "#                style='o-')\n",
    "#plt.xticks(choices_df.index, choices_df['partition'], rotation=90)\n",
    "#plt.show()"
   ]
  },
  {
   "cell_type": "code",
   "execution_count": 52,
   "metadata": {
    "scrolled": true
   },
   "outputs": [
    {
     "data": {
      "application/javascript": [
       "/* Put everything inside the global mpl namespace */\n",
       "window.mpl = {};\n",
       "\n",
       "\n",
       "mpl.get_websocket_type = function() {\n",
       "    if (typeof(WebSocket) !== 'undefined') {\n",
       "        return WebSocket;\n",
       "    } else if (typeof(MozWebSocket) !== 'undefined') {\n",
       "        return MozWebSocket;\n",
       "    } else {\n",
       "        alert('Your browser does not have WebSocket support.' +\n",
       "              'Please try Chrome, Safari or Firefox ≥ 6. ' +\n",
       "              'Firefox 4 and 5 are also supported but you ' +\n",
       "              'have to enable WebSockets in about:config.');\n",
       "    };\n",
       "}\n",
       "\n",
       "mpl.figure = function(figure_id, websocket, ondownload, parent_element) {\n",
       "    this.id = figure_id;\n",
       "\n",
       "    this.ws = websocket;\n",
       "\n",
       "    this.supports_binary = (this.ws.binaryType != undefined);\n",
       "\n",
       "    if (!this.supports_binary) {\n",
       "        var warnings = document.getElementById(\"mpl-warnings\");\n",
       "        if (warnings) {\n",
       "            warnings.style.display = 'block';\n",
       "            warnings.textContent = (\n",
       "                \"This browser does not support binary websocket messages. \" +\n",
       "                    \"Performance may be slow.\");\n",
       "        }\n",
       "    }\n",
       "\n",
       "    this.imageObj = new Image();\n",
       "\n",
       "    this.context = undefined;\n",
       "    this.message = undefined;\n",
       "    this.canvas = undefined;\n",
       "    this.rubberband_canvas = undefined;\n",
       "    this.rubberband_context = undefined;\n",
       "    this.format_dropdown = undefined;\n",
       "\n",
       "    this.image_mode = 'full';\n",
       "\n",
       "    this.root = $('<div/>');\n",
       "    this._root_extra_style(this.root)\n",
       "    this.root.attr('style', 'display: inline-block');\n",
       "\n",
       "    $(parent_element).append(this.root);\n",
       "\n",
       "    this._init_header(this);\n",
       "    this._init_canvas(this);\n",
       "    this._init_toolbar(this);\n",
       "\n",
       "    var fig = this;\n",
       "\n",
       "    this.waiting = false;\n",
       "\n",
       "    this.ws.onopen =  function () {\n",
       "            fig.send_message(\"supports_binary\", {value: fig.supports_binary});\n",
       "            fig.send_message(\"send_image_mode\", {});\n",
       "            if (mpl.ratio != 1) {\n",
       "                fig.send_message(\"set_dpi_ratio\", {'dpi_ratio': mpl.ratio});\n",
       "            }\n",
       "            fig.send_message(\"refresh\", {});\n",
       "        }\n",
       "\n",
       "    this.imageObj.onload = function() {\n",
       "            if (fig.image_mode == 'full') {\n",
       "                // Full images could contain transparency (where diff images\n",
       "                // almost always do), so we need to clear the canvas so that\n",
       "                // there is no ghosting.\n",
       "                fig.context.clearRect(0, 0, fig.canvas.width, fig.canvas.height);\n",
       "            }\n",
       "            fig.context.drawImage(fig.imageObj, 0, 0);\n",
       "        };\n",
       "\n",
       "    this.imageObj.onunload = function() {\n",
       "        fig.ws.close();\n",
       "    }\n",
       "\n",
       "    this.ws.onmessage = this._make_on_message_function(this);\n",
       "\n",
       "    this.ondownload = ondownload;\n",
       "}\n",
       "\n",
       "mpl.figure.prototype._init_header = function() {\n",
       "    var titlebar = $(\n",
       "        '<div class=\"ui-dialog-titlebar ui-widget-header ui-corner-all ' +\n",
       "        'ui-helper-clearfix\"/>');\n",
       "    var titletext = $(\n",
       "        '<div class=\"ui-dialog-title\" style=\"width: 100%; ' +\n",
       "        'text-align: center; padding: 3px;\"/>');\n",
       "    titlebar.append(titletext)\n",
       "    this.root.append(titlebar);\n",
       "    this.header = titletext[0];\n",
       "}\n",
       "\n",
       "\n",
       "\n",
       "mpl.figure.prototype._canvas_extra_style = function(canvas_div) {\n",
       "\n",
       "}\n",
       "\n",
       "\n",
       "mpl.figure.prototype._root_extra_style = function(canvas_div) {\n",
       "\n",
       "}\n",
       "\n",
       "mpl.figure.prototype._init_canvas = function() {\n",
       "    var fig = this;\n",
       "\n",
       "    var canvas_div = $('<div/>');\n",
       "\n",
       "    canvas_div.attr('style', 'position: relative; clear: both; outline: 0');\n",
       "\n",
       "    function canvas_keyboard_event(event) {\n",
       "        return fig.key_event(event, event['data']);\n",
       "    }\n",
       "\n",
       "    canvas_div.keydown('key_press', canvas_keyboard_event);\n",
       "    canvas_div.keyup('key_release', canvas_keyboard_event);\n",
       "    this.canvas_div = canvas_div\n",
       "    this._canvas_extra_style(canvas_div)\n",
       "    this.root.append(canvas_div);\n",
       "\n",
       "    var canvas = $('<canvas/>');\n",
       "    canvas.addClass('mpl-canvas');\n",
       "    canvas.attr('style', \"left: 0; top: 0; z-index: 0; outline: 0\")\n",
       "\n",
       "    this.canvas = canvas[0];\n",
       "    this.context = canvas[0].getContext(\"2d\");\n",
       "\n",
       "    var backingStore = this.context.backingStorePixelRatio ||\n",
       "\tthis.context.webkitBackingStorePixelRatio ||\n",
       "\tthis.context.mozBackingStorePixelRatio ||\n",
       "\tthis.context.msBackingStorePixelRatio ||\n",
       "\tthis.context.oBackingStorePixelRatio ||\n",
       "\tthis.context.backingStorePixelRatio || 1;\n",
       "\n",
       "    mpl.ratio = (window.devicePixelRatio || 1) / backingStore;\n",
       "\n",
       "    var rubberband = $('<canvas/>');\n",
       "    rubberband.attr('style', \"position: absolute; left: 0; top: 0; z-index: 1;\")\n",
       "\n",
       "    var pass_mouse_events = true;\n",
       "\n",
       "    canvas_div.resizable({\n",
       "        start: function(event, ui) {\n",
       "            pass_mouse_events = false;\n",
       "        },\n",
       "        resize: function(event, ui) {\n",
       "            fig.request_resize(ui.size.width, ui.size.height);\n",
       "        },\n",
       "        stop: function(event, ui) {\n",
       "            pass_mouse_events = true;\n",
       "            fig.request_resize(ui.size.width, ui.size.height);\n",
       "        },\n",
       "    });\n",
       "\n",
       "    function mouse_event_fn(event) {\n",
       "        if (pass_mouse_events)\n",
       "            return fig.mouse_event(event, event['data']);\n",
       "    }\n",
       "\n",
       "    rubberband.mousedown('button_press', mouse_event_fn);\n",
       "    rubberband.mouseup('button_release', mouse_event_fn);\n",
       "    // Throttle sequential mouse events to 1 every 20ms.\n",
       "    rubberband.mousemove('motion_notify', mouse_event_fn);\n",
       "\n",
       "    rubberband.mouseenter('figure_enter', mouse_event_fn);\n",
       "    rubberband.mouseleave('figure_leave', mouse_event_fn);\n",
       "\n",
       "    canvas_div.on(\"wheel\", function (event) {\n",
       "        event = event.originalEvent;\n",
       "        event['data'] = 'scroll'\n",
       "        if (event.deltaY < 0) {\n",
       "            event.step = 1;\n",
       "        } else {\n",
       "            event.step = -1;\n",
       "        }\n",
       "        mouse_event_fn(event);\n",
       "    });\n",
       "\n",
       "    canvas_div.append(canvas);\n",
       "    canvas_div.append(rubberband);\n",
       "\n",
       "    this.rubberband = rubberband;\n",
       "    this.rubberband_canvas = rubberband[0];\n",
       "    this.rubberband_context = rubberband[0].getContext(\"2d\");\n",
       "    this.rubberband_context.strokeStyle = \"#000000\";\n",
       "\n",
       "    this._resize_canvas = function(width, height) {\n",
       "        // Keep the size of the canvas, canvas container, and rubber band\n",
       "        // canvas in synch.\n",
       "        canvas_div.css('width', width)\n",
       "        canvas_div.css('height', height)\n",
       "\n",
       "        canvas.attr('width', width * mpl.ratio);\n",
       "        canvas.attr('height', height * mpl.ratio);\n",
       "        canvas.attr('style', 'width: ' + width + 'px; height: ' + height + 'px;');\n",
       "\n",
       "        rubberband.attr('width', width);\n",
       "        rubberband.attr('height', height);\n",
       "    }\n",
       "\n",
       "    // Set the figure to an initial 600x600px, this will subsequently be updated\n",
       "    // upon first draw.\n",
       "    this._resize_canvas(600, 600);\n",
       "\n",
       "    // Disable right mouse context menu.\n",
       "    $(this.rubberband_canvas).bind(\"contextmenu\",function(e){\n",
       "        return false;\n",
       "    });\n",
       "\n",
       "    function set_focus () {\n",
       "        canvas.focus();\n",
       "        canvas_div.focus();\n",
       "    }\n",
       "\n",
       "    window.setTimeout(set_focus, 100);\n",
       "}\n",
       "\n",
       "mpl.figure.prototype._init_toolbar = function() {\n",
       "    var fig = this;\n",
       "\n",
       "    var nav_element = $('<div/>')\n",
       "    nav_element.attr('style', 'width: 100%');\n",
       "    this.root.append(nav_element);\n",
       "\n",
       "    // Define a callback function for later on.\n",
       "    function toolbar_event(event) {\n",
       "        return fig.toolbar_button_onclick(event['data']);\n",
       "    }\n",
       "    function toolbar_mouse_event(event) {\n",
       "        return fig.toolbar_button_onmouseover(event['data']);\n",
       "    }\n",
       "\n",
       "    for(var toolbar_ind in mpl.toolbar_items) {\n",
       "        var name = mpl.toolbar_items[toolbar_ind][0];\n",
       "        var tooltip = mpl.toolbar_items[toolbar_ind][1];\n",
       "        var image = mpl.toolbar_items[toolbar_ind][2];\n",
       "        var method_name = mpl.toolbar_items[toolbar_ind][3];\n",
       "\n",
       "        if (!name) {\n",
       "            // put a spacer in here.\n",
       "            continue;\n",
       "        }\n",
       "        var button = $('<button/>');\n",
       "        button.addClass('ui-button ui-widget ui-state-default ui-corner-all ' +\n",
       "                        'ui-button-icon-only');\n",
       "        button.attr('role', 'button');\n",
       "        button.attr('aria-disabled', 'false');\n",
       "        button.click(method_name, toolbar_event);\n",
       "        button.mouseover(tooltip, toolbar_mouse_event);\n",
       "\n",
       "        var icon_img = $('<span/>');\n",
       "        icon_img.addClass('ui-button-icon-primary ui-icon');\n",
       "        icon_img.addClass(image);\n",
       "        icon_img.addClass('ui-corner-all');\n",
       "\n",
       "        var tooltip_span = $('<span/>');\n",
       "        tooltip_span.addClass('ui-button-text');\n",
       "        tooltip_span.html(tooltip);\n",
       "\n",
       "        button.append(icon_img);\n",
       "        button.append(tooltip_span);\n",
       "\n",
       "        nav_element.append(button);\n",
       "    }\n",
       "\n",
       "    var fmt_picker_span = $('<span/>');\n",
       "\n",
       "    var fmt_picker = $('<select/>');\n",
       "    fmt_picker.addClass('mpl-toolbar-option ui-widget ui-widget-content');\n",
       "    fmt_picker_span.append(fmt_picker);\n",
       "    nav_element.append(fmt_picker_span);\n",
       "    this.format_dropdown = fmt_picker[0];\n",
       "\n",
       "    for (var ind in mpl.extensions) {\n",
       "        var fmt = mpl.extensions[ind];\n",
       "        var option = $(\n",
       "            '<option/>', {selected: fmt === mpl.default_extension}).html(fmt);\n",
       "        fmt_picker.append(option)\n",
       "    }\n",
       "\n",
       "    // Add hover states to the ui-buttons\n",
       "    $( \".ui-button\" ).hover(\n",
       "        function() { $(this).addClass(\"ui-state-hover\");},\n",
       "        function() { $(this).removeClass(\"ui-state-hover\");}\n",
       "    );\n",
       "\n",
       "    var status_bar = $('<span class=\"mpl-message\"/>');\n",
       "    nav_element.append(status_bar);\n",
       "    this.message = status_bar[0];\n",
       "}\n",
       "\n",
       "mpl.figure.prototype.request_resize = function(x_pixels, y_pixels) {\n",
       "    // Request matplotlib to resize the figure. Matplotlib will then trigger a resize in the client,\n",
       "    // which will in turn request a refresh of the image.\n",
       "    this.send_message('resize', {'width': x_pixels, 'height': y_pixels});\n",
       "}\n",
       "\n",
       "mpl.figure.prototype.send_message = function(type, properties) {\n",
       "    properties['type'] = type;\n",
       "    properties['figure_id'] = this.id;\n",
       "    this.ws.send(JSON.stringify(properties));\n",
       "}\n",
       "\n",
       "mpl.figure.prototype.send_draw_message = function() {\n",
       "    if (!this.waiting) {\n",
       "        this.waiting = true;\n",
       "        this.ws.send(JSON.stringify({type: \"draw\", figure_id: this.id}));\n",
       "    }\n",
       "}\n",
       "\n",
       "\n",
       "mpl.figure.prototype.handle_save = function(fig, msg) {\n",
       "    var format_dropdown = fig.format_dropdown;\n",
       "    var format = format_dropdown.options[format_dropdown.selectedIndex].value;\n",
       "    fig.ondownload(fig, format);\n",
       "}\n",
       "\n",
       "\n",
       "mpl.figure.prototype.handle_resize = function(fig, msg) {\n",
       "    var size = msg['size'];\n",
       "    if (size[0] != fig.canvas.width || size[1] != fig.canvas.height) {\n",
       "        fig._resize_canvas(size[0], size[1]);\n",
       "        fig.send_message(\"refresh\", {});\n",
       "    };\n",
       "}\n",
       "\n",
       "mpl.figure.prototype.handle_rubberband = function(fig, msg) {\n",
       "    var x0 = msg['x0'] / mpl.ratio;\n",
       "    var y0 = (fig.canvas.height - msg['y0']) / mpl.ratio;\n",
       "    var x1 = msg['x1'] / mpl.ratio;\n",
       "    var y1 = (fig.canvas.height - msg['y1']) / mpl.ratio;\n",
       "    x0 = Math.floor(x0) + 0.5;\n",
       "    y0 = Math.floor(y0) + 0.5;\n",
       "    x1 = Math.floor(x1) + 0.5;\n",
       "    y1 = Math.floor(y1) + 0.5;\n",
       "    var min_x = Math.min(x0, x1);\n",
       "    var min_y = Math.min(y0, y1);\n",
       "    var width = Math.abs(x1 - x0);\n",
       "    var height = Math.abs(y1 - y0);\n",
       "\n",
       "    fig.rubberband_context.clearRect(\n",
       "        0, 0, fig.canvas.width, fig.canvas.height);\n",
       "\n",
       "    fig.rubberband_context.strokeRect(min_x, min_y, width, height);\n",
       "}\n",
       "\n",
       "mpl.figure.prototype.handle_figure_label = function(fig, msg) {\n",
       "    // Updates the figure title.\n",
       "    fig.header.textContent = msg['label'];\n",
       "}\n",
       "\n",
       "mpl.figure.prototype.handle_cursor = function(fig, msg) {\n",
       "    var cursor = msg['cursor'];\n",
       "    switch(cursor)\n",
       "    {\n",
       "    case 0:\n",
       "        cursor = 'pointer';\n",
       "        break;\n",
       "    case 1:\n",
       "        cursor = 'default';\n",
       "        break;\n",
       "    case 2:\n",
       "        cursor = 'crosshair';\n",
       "        break;\n",
       "    case 3:\n",
       "        cursor = 'move';\n",
       "        break;\n",
       "    }\n",
       "    fig.rubberband_canvas.style.cursor = cursor;\n",
       "}\n",
       "\n",
       "mpl.figure.prototype.handle_message = function(fig, msg) {\n",
       "    fig.message.textContent = msg['message'];\n",
       "}\n",
       "\n",
       "mpl.figure.prototype.handle_draw = function(fig, msg) {\n",
       "    // Request the server to send over a new figure.\n",
       "    fig.send_draw_message();\n",
       "}\n",
       "\n",
       "mpl.figure.prototype.handle_image_mode = function(fig, msg) {\n",
       "    fig.image_mode = msg['mode'];\n",
       "}\n",
       "\n",
       "mpl.figure.prototype.updated_canvas_event = function() {\n",
       "    // Called whenever the canvas gets updated.\n",
       "    this.send_message(\"ack\", {});\n",
       "}\n",
       "\n",
       "// A function to construct a web socket function for onmessage handling.\n",
       "// Called in the figure constructor.\n",
       "mpl.figure.prototype._make_on_message_function = function(fig) {\n",
       "    return function socket_on_message(evt) {\n",
       "        if (evt.data instanceof Blob) {\n",
       "            /* FIXME: We get \"Resource interpreted as Image but\n",
       "             * transferred with MIME type text/plain:\" errors on\n",
       "             * Chrome.  But how to set the MIME type?  It doesn't seem\n",
       "             * to be part of the websocket stream */\n",
       "            evt.data.type = \"image/png\";\n",
       "\n",
       "            /* Free the memory for the previous frames */\n",
       "            if (fig.imageObj.src) {\n",
       "                (window.URL || window.webkitURL).revokeObjectURL(\n",
       "                    fig.imageObj.src);\n",
       "            }\n",
       "\n",
       "            fig.imageObj.src = (window.URL || window.webkitURL).createObjectURL(\n",
       "                evt.data);\n",
       "            fig.updated_canvas_event();\n",
       "            fig.waiting = false;\n",
       "            return;\n",
       "        }\n",
       "        else if (typeof evt.data === 'string' && evt.data.slice(0, 21) == \"data:image/png;base64\") {\n",
       "            fig.imageObj.src = evt.data;\n",
       "            fig.updated_canvas_event();\n",
       "            fig.waiting = false;\n",
       "            return;\n",
       "        }\n",
       "\n",
       "        var msg = JSON.parse(evt.data);\n",
       "        var msg_type = msg['type'];\n",
       "\n",
       "        // Call the  \"handle_{type}\" callback, which takes\n",
       "        // the figure and JSON message as its only arguments.\n",
       "        try {\n",
       "            var callback = fig[\"handle_\" + msg_type];\n",
       "        } catch (e) {\n",
       "            console.log(\"No handler for the '\" + msg_type + \"' message type: \", msg);\n",
       "            return;\n",
       "        }\n",
       "\n",
       "        if (callback) {\n",
       "            try {\n",
       "                // console.log(\"Handling '\" + msg_type + \"' message: \", msg);\n",
       "                callback(fig, msg);\n",
       "            } catch (e) {\n",
       "                console.log(\"Exception inside the 'handler_\" + msg_type + \"' callback:\", e, e.stack, msg);\n",
       "            }\n",
       "        }\n",
       "    };\n",
       "}\n",
       "\n",
       "// from http://stackoverflow.com/questions/1114465/getting-mouse-location-in-canvas\n",
       "mpl.findpos = function(e) {\n",
       "    //this section is from http://www.quirksmode.org/js/events_properties.html\n",
       "    var targ;\n",
       "    if (!e)\n",
       "        e = window.event;\n",
       "    if (e.target)\n",
       "        targ = e.target;\n",
       "    else if (e.srcElement)\n",
       "        targ = e.srcElement;\n",
       "    if (targ.nodeType == 3) // defeat Safari bug\n",
       "        targ = targ.parentNode;\n",
       "\n",
       "    // jQuery normalizes the pageX and pageY\n",
       "    // pageX,Y are the mouse positions relative to the document\n",
       "    // offset() returns the position of the element relative to the document\n",
       "    var x = e.pageX - $(targ).offset().left;\n",
       "    var y = e.pageY - $(targ).offset().top;\n",
       "\n",
       "    return {\"x\": x, \"y\": y};\n",
       "};\n",
       "\n",
       "/*\n",
       " * return a copy of an object with only non-object keys\n",
       " * we need this to avoid circular references\n",
       " * http://stackoverflow.com/a/24161582/3208463\n",
       " */\n",
       "function simpleKeys (original) {\n",
       "  return Object.keys(original).reduce(function (obj, key) {\n",
       "    if (typeof original[key] !== 'object')\n",
       "        obj[key] = original[key]\n",
       "    return obj;\n",
       "  }, {});\n",
       "}\n",
       "\n",
       "mpl.figure.prototype.mouse_event = function(event, name) {\n",
       "    var canvas_pos = mpl.findpos(event)\n",
       "\n",
       "    if (name === 'button_press')\n",
       "    {\n",
       "        this.canvas.focus();\n",
       "        this.canvas_div.focus();\n",
       "    }\n",
       "\n",
       "    var x = canvas_pos.x * mpl.ratio;\n",
       "    var y = canvas_pos.y * mpl.ratio;\n",
       "\n",
       "    this.send_message(name, {x: x, y: y, button: event.button,\n",
       "                             step: event.step,\n",
       "                             guiEvent: simpleKeys(event)});\n",
       "\n",
       "    /* This prevents the web browser from automatically changing to\n",
       "     * the text insertion cursor when the button is pressed.  We want\n",
       "     * to control all of the cursor setting manually through the\n",
       "     * 'cursor' event from matplotlib */\n",
       "    event.preventDefault();\n",
       "    return false;\n",
       "}\n",
       "\n",
       "mpl.figure.prototype._key_event_extra = function(event, name) {\n",
       "    // Handle any extra behaviour associated with a key event\n",
       "}\n",
       "\n",
       "mpl.figure.prototype.key_event = function(event, name) {\n",
       "\n",
       "    // Prevent repeat events\n",
       "    if (name == 'key_press')\n",
       "    {\n",
       "        if (event.which === this._key)\n",
       "            return;\n",
       "        else\n",
       "            this._key = event.which;\n",
       "    }\n",
       "    if (name == 'key_release')\n",
       "        this._key = null;\n",
       "\n",
       "    var value = '';\n",
       "    if (event.ctrlKey && event.which != 17)\n",
       "        value += \"ctrl+\";\n",
       "    if (event.altKey && event.which != 18)\n",
       "        value += \"alt+\";\n",
       "    if (event.shiftKey && event.which != 16)\n",
       "        value += \"shift+\";\n",
       "\n",
       "    value += 'k';\n",
       "    value += event.which.toString();\n",
       "\n",
       "    this._key_event_extra(event, name);\n",
       "\n",
       "    this.send_message(name, {key: value,\n",
       "                             guiEvent: simpleKeys(event)});\n",
       "    return false;\n",
       "}\n",
       "\n",
       "mpl.figure.prototype.toolbar_button_onclick = function(name) {\n",
       "    if (name == 'download') {\n",
       "        this.handle_save(this, null);\n",
       "    } else {\n",
       "        this.send_message(\"toolbar_button\", {name: name});\n",
       "    }\n",
       "};\n",
       "\n",
       "mpl.figure.prototype.toolbar_button_onmouseover = function(tooltip) {\n",
       "    this.message.textContent = tooltip;\n",
       "};\n",
       "mpl.toolbar_items = [[\"Home\", \"Reset original view\", \"fa fa-home icon-home\", \"home\"], [\"Back\", \"Back to  previous view\", \"fa fa-arrow-left icon-arrow-left\", \"back\"], [\"Forward\", \"Forward to next view\", \"fa fa-arrow-right icon-arrow-right\", \"forward\"], [\"\", \"\", \"\", \"\"], [\"Pan\", \"Pan axes with left mouse, zoom with right\", \"fa fa-arrows icon-move\", \"pan\"], [\"Zoom\", \"Zoom to rectangle\", \"fa fa-square-o icon-check-empty\", \"zoom\"], [\"\", \"\", \"\", \"\"], [\"Download\", \"Download plot\", \"fa fa-floppy-o icon-save\", \"download\"]];\n",
       "\n",
       "mpl.extensions = [\"eps\", \"jpeg\", \"pdf\", \"png\", \"ps\", \"raw\", \"svg\", \"tif\"];\n",
       "\n",
       "mpl.default_extension = \"png\";var comm_websocket_adapter = function(comm) {\n",
       "    // Create a \"websocket\"-like object which calls the given IPython comm\n",
       "    // object with the appropriate methods. Currently this is a non binary\n",
       "    // socket, so there is still some room for performance tuning.\n",
       "    var ws = {};\n",
       "\n",
       "    ws.close = function() {\n",
       "        comm.close()\n",
       "    };\n",
       "    ws.send = function(m) {\n",
       "        //console.log('sending', m);\n",
       "        comm.send(m);\n",
       "    };\n",
       "    // Register the callback with on_msg.\n",
       "    comm.on_msg(function(msg) {\n",
       "        //console.log('receiving', msg['content']['data'], msg);\n",
       "        // Pass the mpl event to the overridden (by mpl) onmessage function.\n",
       "        ws.onmessage(msg['content']['data'])\n",
       "    });\n",
       "    return ws;\n",
       "}\n",
       "\n",
       "mpl.mpl_figure_comm = function(comm, msg) {\n",
       "    // This is the function which gets called when the mpl process\n",
       "    // starts-up an IPython Comm through the \"matplotlib\" channel.\n",
       "\n",
       "    var id = msg.content.data.id;\n",
       "    // Get hold of the div created by the display call when the Comm\n",
       "    // socket was opened in Python.\n",
       "    var element = $(\"#\" + id);\n",
       "    var ws_proxy = comm_websocket_adapter(comm)\n",
       "\n",
       "    function ondownload(figure, format) {\n",
       "        window.open(figure.imageObj.src);\n",
       "    }\n",
       "\n",
       "    var fig = new mpl.figure(id, ws_proxy,\n",
       "                           ondownload,\n",
       "                           element.get(0));\n",
       "\n",
       "    // Call onopen now - mpl needs it, as it is assuming we've passed it a real\n",
       "    // web socket which is closed, not our websocket->open comm proxy.\n",
       "    ws_proxy.onopen();\n",
       "\n",
       "    fig.parent_element = element.get(0);\n",
       "    fig.cell_info = mpl.find_output_cell(\"<div id='\" + id + \"'></div>\");\n",
       "    if (!fig.cell_info) {\n",
       "        console.error(\"Failed to find cell for figure\", id, fig);\n",
       "        return;\n",
       "    }\n",
       "\n",
       "    var output_index = fig.cell_info[2]\n",
       "    var cell = fig.cell_info[0];\n",
       "\n",
       "};\n",
       "\n",
       "mpl.figure.prototype.handle_close = function(fig, msg) {\n",
       "    var width = fig.canvas.width/mpl.ratio\n",
       "    fig.root.unbind('remove')\n",
       "\n",
       "    // Update the output cell to use the data from the current canvas.\n",
       "    fig.push_to_output();\n",
       "    var dataURL = fig.canvas.toDataURL();\n",
       "    // Re-enable the keyboard manager in IPython - without this line, in FF,\n",
       "    // the notebook keyboard shortcuts fail.\n",
       "    IPython.keyboard_manager.enable()\n",
       "    $(fig.parent_element).html('<img src=\"' + dataURL + '\" width=\"' + width + '\">');\n",
       "    fig.close_ws(fig, msg);\n",
       "}\n",
       "\n",
       "mpl.figure.prototype.close_ws = function(fig, msg){\n",
       "    fig.send_message('closing', msg);\n",
       "    // fig.ws.close()\n",
       "}\n",
       "\n",
       "mpl.figure.prototype.push_to_output = function(remove_interactive) {\n",
       "    // Turn the data on the canvas into data in the output cell.\n",
       "    var width = this.canvas.width/mpl.ratio\n",
       "    var dataURL = this.canvas.toDataURL();\n",
       "    this.cell_info[1]['text/html'] = '<img src=\"' + dataURL + '\" width=\"' + width + '\">';\n",
       "}\n",
       "\n",
       "mpl.figure.prototype.updated_canvas_event = function() {\n",
       "    // Tell IPython that the notebook contents must change.\n",
       "    IPython.notebook.set_dirty(true);\n",
       "    this.send_message(\"ack\", {});\n",
       "    var fig = this;\n",
       "    // Wait a second, then push the new image to the DOM so\n",
       "    // that it is saved nicely (might be nice to debounce this).\n",
       "    setTimeout(function () { fig.push_to_output() }, 1000);\n",
       "}\n",
       "\n",
       "mpl.figure.prototype._init_toolbar = function() {\n",
       "    var fig = this;\n",
       "\n",
       "    var nav_element = $('<div/>')\n",
       "    nav_element.attr('style', 'width: 100%');\n",
       "    this.root.append(nav_element);\n",
       "\n",
       "    // Define a callback function for later on.\n",
       "    function toolbar_event(event) {\n",
       "        return fig.toolbar_button_onclick(event['data']);\n",
       "    }\n",
       "    function toolbar_mouse_event(event) {\n",
       "        return fig.toolbar_button_onmouseover(event['data']);\n",
       "    }\n",
       "\n",
       "    for(var toolbar_ind in mpl.toolbar_items){\n",
       "        var name = mpl.toolbar_items[toolbar_ind][0];\n",
       "        var tooltip = mpl.toolbar_items[toolbar_ind][1];\n",
       "        var image = mpl.toolbar_items[toolbar_ind][2];\n",
       "        var method_name = mpl.toolbar_items[toolbar_ind][3];\n",
       "\n",
       "        if (!name) { continue; };\n",
       "\n",
       "        var button = $('<button class=\"btn btn-default\" href=\"#\" title=\"' + name + '\"><i class=\"fa ' + image + ' fa-lg\"></i></button>');\n",
       "        button.click(method_name, toolbar_event);\n",
       "        button.mouseover(tooltip, toolbar_mouse_event);\n",
       "        nav_element.append(button);\n",
       "    }\n",
       "\n",
       "    // Add the status bar.\n",
       "    var status_bar = $('<span class=\"mpl-message\" style=\"text-align:right; float: right;\"/>');\n",
       "    nav_element.append(status_bar);\n",
       "    this.message = status_bar[0];\n",
       "\n",
       "    // Add the close button to the window.\n",
       "    var buttongrp = $('<div class=\"btn-group inline pull-right\"></div>');\n",
       "    var button = $('<button class=\"btn btn-mini btn-primary\" href=\"#\" title=\"Stop Interaction\"><i class=\"fa fa-power-off icon-remove icon-large\"></i></button>');\n",
       "    button.click(function (evt) { fig.handle_close(fig, {}); } );\n",
       "    button.mouseover('Stop Interaction', toolbar_mouse_event);\n",
       "    buttongrp.append(button);\n",
       "    var titlebar = this.root.find($('.ui-dialog-titlebar'));\n",
       "    titlebar.prepend(buttongrp);\n",
       "}\n",
       "\n",
       "mpl.figure.prototype._root_extra_style = function(el){\n",
       "    var fig = this\n",
       "    el.on(\"remove\", function(){\n",
       "\tfig.close_ws(fig, {});\n",
       "    });\n",
       "}\n",
       "\n",
       "mpl.figure.prototype._canvas_extra_style = function(el){\n",
       "    // this is important to make the div 'focusable\n",
       "    el.attr('tabindex', 0)\n",
       "    // reach out to IPython and tell the keyboard manager to turn it's self\n",
       "    // off when our div gets focus\n",
       "\n",
       "    // location in version 3\n",
       "    if (IPython.notebook.keyboard_manager) {\n",
       "        IPython.notebook.keyboard_manager.register_events(el);\n",
       "    }\n",
       "    else {\n",
       "        // location in version 2\n",
       "        IPython.keyboard_manager.register_events(el);\n",
       "    }\n",
       "\n",
       "}\n",
       "\n",
       "mpl.figure.prototype._key_event_extra = function(event, name) {\n",
       "    var manager = IPython.notebook.keyboard_manager;\n",
       "    if (!manager)\n",
       "        manager = IPython.keyboard_manager;\n",
       "\n",
       "    // Check for shift+enter\n",
       "    if (event.shiftKey && event.which == 13) {\n",
       "        this.canvas_div.blur();\n",
       "        event.shiftKey = false;\n",
       "        // Send a \"J\" for go to next cell\n",
       "        event.which = 74;\n",
       "        event.keyCode = 74;\n",
       "        manager.command_mode();\n",
       "        manager.handle_keydown(event);\n",
       "    }\n",
       "}\n",
       "\n",
       "mpl.figure.prototype.handle_save = function(fig, msg) {\n",
       "    fig.ondownload(fig, null);\n",
       "}\n",
       "\n",
       "\n",
       "mpl.find_output_cell = function(html_output) {\n",
       "    // Return the cell and output element which can be found *uniquely* in the notebook.\n",
       "    // Note - this is a bit hacky, but it is done because the \"notebook_saving.Notebook\"\n",
       "    // IPython event is triggered only after the cells have been serialised, which for\n",
       "    // our purposes (turning an active figure into a static one), is too late.\n",
       "    var cells = IPython.notebook.get_cells();\n",
       "    var ncells = cells.length;\n",
       "    for (var i=0; i<ncells; i++) {\n",
       "        var cell = cells[i];\n",
       "        if (cell.cell_type === 'code'){\n",
       "            for (var j=0; j<cell.output_area.outputs.length; j++) {\n",
       "                var data = cell.output_area.outputs[j];\n",
       "                if (data.data) {\n",
       "                    // IPython >= 3 moved mimebundle to data attribute of output\n",
       "                    data = data.data;\n",
       "                }\n",
       "                if (data['text/html'] == html_output) {\n",
       "                    return [cell, data, j];\n",
       "                }\n",
       "            }\n",
       "        }\n",
       "    }\n",
       "}\n",
       "\n",
       "// Register the function which deals with the matplotlib target/channel.\n",
       "// The kernel may be null if the page has been refreshed.\n",
       "if (IPython.notebook.kernel != null) {\n",
       "    IPython.notebook.kernel.comm_manager.register_target('matplotlib', mpl.mpl_figure_comm);\n",
       "}\n"
      ],
      "text/plain": [
       "<IPython.core.display.Javascript object>"
      ]
     },
     "metadata": {},
     "output_type": "display_data"
    },
    {
     "data": {
      "text/html": [
       "<img src=\"data:image/png;base64,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\" width=\"640\">"
      ],
      "text/plain": [
       "<IPython.core.display.HTML object>"
      ]
     },
     "metadata": {},
     "output_type": "display_data"
    }
   ],
   "source": [
    "color_plot_vuln(choices_df)"
   ]
  },
  {
   "cell_type": "code",
   "execution_count": 25,
   "metadata": {},
   "outputs": [],
   "source": [
    "def graph_it_prior_post(n_range, k, probs, df):\n",
    "    x = [i+1 for i in range(n_range)]\n",
    "    y_posterior = df[\"posterior\"].iloc[-1] # saves last posterior y\n",
    "    \n",
    "    plt.plot(x, 'prior', \n",
    "             data=df, \n",
    "             linestyle='--', \n",
    "             label=\"prior\")\n",
    "    plt.plot(x, 'posterior', \n",
    "             data=df, \n",
    "             marker='', \n",
    "             label=\"posterior\")\n",
    "    plt.xlabel('n values')\n",
    "    plt.ylabel('gain vulnerability')\n",
    "    plt.ylim(bottom=0, top = 1)\n",
    "    \n",
    "     # orange dot for last y posterior vulnerability\n",
    "    plt.annotate('%.3f' % y_posterior, \n",
    "                 xy=[n_range, y_posterior],\n",
    "                 xytext=(-20, -15),\n",
    "                 textcoords='offset points')\n",
    "    plt.plot(n_range, y_posterior, \n",
    "             marker = 'o', \n",
    "             markerfacecolor='orange',\n",
    "             markeredgecolor='orange')\n",
    "    \n",
    "    # title rounds the prior\n",
    "    format_probs = ['%.3f' % prob for prob in probs]\n",
    "    plt.title(f'k = {k}, prior = {format_probs}')\n",
    "    \n",
    "    plt.show()"
   ]
  },
  {
   "cell_type": "code",
   "execution_count": 20,
   "metadata": {},
   "outputs": [],
   "source": [
    "def choose_prior_post(n_range, k, probs):\n",
    "    post_vs = []\n",
    "    prior_vs = []\n",
    "    probs.sort(reverse=True) \n",
    "    prior_val=probs[0] # sets the line for prior vuln\n",
    "    for i in range(n_range):\n",
    "        post_vs.append(choose_post_vuln(i+1, k, probs))\n",
    "        prior_vs.append(prior_val)\n",
    "    df = pd.DataFrame(\n",
    "        {'prior':prior_vs,\n",
    "         'posterior':post_vs\n",
    "        }\n",
    "    )\n",
    "    graph_it_prior_post(n_range, k, probs, df)"
   ]
  },
  {
   "cell_type": "code",
   "execution_count": 26,
   "metadata": {
    "scrolled": false
   },
   "outputs": [
    {
     "data": {
      "image/png": "[encoded data removed]",
      "text/plain": [
       "<Figure size 432x288 with 1 Axes>"
      ]
     },
     "metadata": {
      "needs_background": "light"
     },
     "output_type": "display_data"
    }
   ],
   "source": [
    "choose_prior_post(100, 3, [1/2, 1/3, 1/6])"
   ]
  },
  {
   "cell_type": "code",
   "execution_count": 27,
   "metadata": {},
   "outputs": [
    {
     "data": {
      "image/png": "[encoded data removed]",
      "text/plain": [
       "<Figure size 432x288 with 1 Axes>"
      ]
     },
     "metadata": {
      "needs_background": "light"
     },
     "output_type": "display_data"
    }
   ],
   "source": [
    "choose_prior_post(100, 3, [1/3, 1/3, 1/3])"
   ]
  },
  {
   "cell_type": "code",
   "execution_count": 28,
   "metadata": {},
   "outputs": [
    {
     "data": {
      "image/png": "[encoded data removed]",
      "text/plain": [
       "<Figure size 432x288 with 1 Axes>"
      ]
     },
     "metadata": {
      "needs_background": "light"
     },
     "output_type": "display_data"
    }
   ],
   "source": [
    "choose_prior_post(100, 3, [1/2, 1/4, 1/4])"
   ]
  },
  {
   "cell_type": "code",
   "execution_count": 29,
   "metadata": {},
   "outputs": [
    {
     "data": {
      "image/png": "[encoded data removed]",
      "text/plain": [
       "<Figure size 432x288 with 1 Axes>"
      ]
     },
     "metadata": {
      "needs_background": "light"
     },
     "output_type": "display_data"
    }
   ],
   "source": [
    "choose_prior_post(100, 3, [1/2, .24, .26])"
   ]
  }
 ],
 "metadata": {
  "kernelspec": {
   "display_name": "Python 3",
   "language": "python",
   "name": "python3"
  },
  "language_info": {
   "codemirror_mode": {
    "name": "ipython",
    "version": 3
   },
   "file_extension": ".py",
   "mimetype": "text/x-python",
   "name": "python",
   "nbconvert_exporter": "python",
   "pygments_lexer": "ipython3",
   "version": "3.6.7"
  }
 },
 "nbformat": 4,
 "nbformat_minor": 2
}
