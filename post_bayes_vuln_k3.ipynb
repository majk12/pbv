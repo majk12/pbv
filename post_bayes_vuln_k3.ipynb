{
 "cells": [
  {
   "cell_type": "markdown",
   "metadata": {},
   "source": [
    "## Posterior Bayes Vulnerability"
   ]
  },
  {
   "cell_type": "code",
   "execution_count": 1,
   "metadata": {},
   "outputs": [],
   "source": [
    "import collections\n",
    "import math\n",
    "import numpy as np\n",
    "import pandas as pd\n",
    "from sympy.utilities.iterables import partitions\n",
    "from sympy.functions.combinatorial.numbers import stirling\n",
    "import matplotlib.pyplot as plt \n",
    "%matplotlib inline"
   ]
  },
  {
   "cell_type": "markdown",
   "metadata": {},
   "source": [
    "### Variables To Test Functions"
   ]
  },
  {
   "cell_type": "code",
   "execution_count": 2,
   "metadata": {},
   "outputs": [],
   "source": [
    "k = 3"
   ]
  },
  {
   "cell_type": "code",
   "execution_count": 3,
   "metadata": {},
   "outputs": [],
   "source": [
    "n = 10"
   ]
  },
  {
   "cell_type": "code",
   "execution_count": 4,
   "metadata": {},
   "outputs": [],
   "source": [
    "probs = [1/2, 1/3, 1/6]"
   ]
  },
  {
   "cell_type": "code",
   "execution_count": 5,
   "metadata": {},
   "outputs": [],
   "source": [
    "uni_probs = [1/3, 1/3, 1/3]"
   ]
  },
  {
   "cell_type": "code",
   "execution_count": 6,
   "metadata": {},
   "outputs": [],
   "source": [
    "range_max = 200"
   ]
  },
  {
   "cell_type": "markdown",
   "metadata": {},
   "source": [
    "### Functions"
   ]
  },
  {
   "cell_type": "markdown",
   "metadata": {},
   "source": [
    "__uni_post_bayes_vuln__ calculates the posterior Bayes vulnerability under a *uniform* prior using Stirling numbers of the second kind. <br>\n",
    "n: size of the column <br>\n",
    "k: number of unique plaintext values/diseases <br>\n",
    "$$V_1[\\pi \\triangleright C] = \\frac{\\sum_{i=1}^{min(n,k)} s2(n, i)}{k^n} $$"
   ]
  },
  {
   "cell_type": "code",
   "execution_count": 7,
   "metadata": {},
   "outputs": [],
   "source": [
    "def uni_post_bayes_vuln(n, k):\n",
    "    num = 0\n",
    "    den = 0\n",
    "    for i in range(1, k+1): # goes from 1-k\n",
    "        num = num + stirling(n, i)\n",
    "    den = pow(k, n)\n",
    "    return num/den"
   ]
  },
  {
   "cell_type": "code",
   "execution_count": 8,
   "metadata": {},
   "outputs": [
    {
     "data": {
      "text/plain": [
       "5/27"
      ]
     },
     "execution_count": 8,
     "metadata": {},
     "output_type": "execute_result"
    }
   ],
   "source": [
    "uni_post_bayes_vuln(3, k)"
   ]
  },
  {
   "cell_type": "markdown",
   "metadata": {},
   "source": [
    "__prior_bayes_vuln__ calculates the prior Bayes vulnerability <br>\n",
    "n: the size of the column <br>\n",
    "Pi: the probability distribution of individual diseases <br>\n",
    "In this case, the adversary would choose the most likely disease for every column.<br>\n",
    "Therefore, the prior Bayes vulnerability is $\\max(Pi)^n$"
   ]
  },
  {
   "cell_type": "code",
   "execution_count": 5,
   "metadata": {},
   "outputs": [],
   "source": [
    "def prior_bayes_vuln(n, Pi):\n",
    "    Pi.sort(reverse=True) \n",
    "    return pow(Pi[0],n)"
   ]
  },
  {
   "cell_type": "markdown",
   "metadata": {},
   "source": [
    "__calc_set_partitions(n,p)__ calculates the number of set partitions\n",
    "<br>\n",
    "n: positive integer\n",
    "<br>\n",
    "p: a unique integer partition, as a python dictionary\n",
    "<br>\n",
    "Example:\n",
    "```python\n",
    "calc_set_partitions(6, {4:1, 1:2})\n",
    "```\n",
    "Output:\n",
    "```python\n",
    "15.0\n",
    "```\n",
    "Specific formula:<br>\n",
    "$$\\text{set partitions}(6,\\{4:1, 1:2\\}) = \\frac{6!}{\\left(4!\\right)1! \\times \\left(1!1!\\right)2!} $$\n",
    "\n",
    "Generalized formula:<br>\n",
    "With an interger partition $p$ containing integers $i$, each with multiplicity of $m$,\n",
    "$$\\text{set partitions}(n,p)=\\frac{n!}{\\prod_{i \\in p} i!^m m!}$$"
   ]
  },
  {
   "cell_type": "code",
   "execution_count": 6,
   "metadata": {},
   "outputs": [],
   "source": [
    "def calc_set_partitions(n,p):\n",
    "    num = math.factorial(n)\n",
    "    den = 1\n",
    "    mul = 0\n",
    "    for i in p.keys():\n",
    "        mul = p[i]\n",
    "        den = den * pow(math.factorial(i), mul) * math.factorial(mul)\n",
    "    frac = num / den\n",
    "    return frac"
   ]
  },
  {
   "cell_type": "markdown",
   "metadata": {},
   "source": [
    "__calc_max_prob__ calculates the maximum probability of a unique integer partition <br>\n",
    "Multiplies the largest fraction in $\\pi$ to the power of the largest integer in the integer partition in decending order<br>\n",
    "p: a unique integer partition, as a python dictionary<br>\n",
    "Pi: the prior probability distribution<br>\n",
    "Example:\n",
    "```python\n",
    "calc_max_prob({4:1,1:2},[1/2, 1/3, 1/6])\n",
    "```\n",
    "Output:\n",
    "```python\n",
    "0.003472222222222222\n",
    "``` \n",
    "which is equal to 1/288"
   ]
  },
  {
   "cell_type": "code",
   "execution_count": 7,
   "metadata": {},
   "outputs": [],
   "source": [
    "def calc_max_prob(p, Pi):\n",
    "    Pi.sort(reverse=True)\n",
    "    frac = 1\n",
    "    ind = 0\n",
    "    val = -1\n",
    "    for key in sorted(p.keys(), reverse=True):\n",
    "        val = p[key]\n",
    "        for i in range(val):\n",
    "            frac = frac * pow(Pi[ind], key)\n",
    "            ind = ind + 1\n",
    "    return frac"
   ]
  },
  {
   "cell_type": "markdown",
   "metadata": {},
   "source": [
    "$$ V_1 [C \\triangleright \\pi ]  = \\sum_{p=1}^{|\\text{partitions}(n, k)|} \\text{set partitions}(n, p)\\times\\text{max prob} (p, \\pi )  $$\n",
    "\n",
    "__partitions(n, m)__ generates a dictionary of integer partitions\n",
    "<br>\n",
    "n: positive integer\n",
    "<br>\n",
    "m: the maximum number of parts in partition\n",
    "<br>\n",
    "Outputs a dictionary where the keys are the integers and the values are the number of times that integer occurs\n",
    "\n",
    "Example:\n",
    "```python\n",
    "for p in partitions(6,3):\n",
    "    print(p)\n",
    "```\n",
    "Output:\n",
    "```python\n",
    "{6:1}\n",
    "{5:1, 1:1}\n",
    "{4:1, 2:1}\n",
    "{4:1, 1:2}\n",
    "{3:2}\n",
    "{3:1, 2:1, 1:1}\n",
    "{2:3}\n",
    "```\n",
    "For every dictionary, __nonuni_post_bayes_vuln__ multiplies the number of set partitions and its max probability.\n",
    "These numbers are added together for all integer partitions to calculate the final posterior bayes vulnerability."
   ]
  },
  {
   "cell_type": "code",
   "execution_count": 8,
   "metadata": {},
   "outputs": [],
   "source": [
    "def nonuni_post_bayes_vuln(n, k, Pi):\n",
    "    pbvsum = 0\n",
    "    for p in partitions(n, m=k):  \n",
    "        num = calc_set_partitions(n,p)\n",
    "        frac = calc_max_prob(p, Pi)\n",
    "        val = num * frac\n",
    "        pbvsum = pbvsum + val\n",
    "    return pbvsum"
   ]
  },
  {
   "cell_type": "code",
   "execution_count": 17,
   "metadata": {},
   "outputs": [
    {
     "name": "stdout",
     "output_type": "stream",
     "text": [
      "P:  {20: 1}\n",
      "num of index partitions:  1.0\n",
      "best you can do:  9.5367431640625e-07\n",
      "weigh by num of index partitions:  9.5367431640625e-07\n",
      "P:  {19: 1, 1: 1}\n",
      "num of index partitions:  20.0\n",
      "best you can do:  6.357828776041666e-07\n",
      "weigh by num of index partitions:  1.2715657552083332e-05\n",
      "P:  {18: 1, 2: 1}\n",
      "num of index partitions:  190.0\n",
      "best you can do:  4.238552517361111e-07\n",
      "weigh by num of index partitions:  8.053249782986111e-05\n",
      "P:  {18: 1, 1: 2}\n",
      "num of index partitions:  190.0\n",
      "best you can do:  2.1192762586805554e-07\n",
      "weigh by num of index partitions:  4.0266248914930555e-05\n",
      "P:  {17: 1, 3: 1}\n",
      "num of index partitions:  1140.0\n",
      "best you can do:  2.82570167824074e-07\n",
      "weigh by num of index partitions:  0.0003221299913194444\n",
      "P:  {17: 1, 2: 1, 1: 1}\n",
      "num of index partitions:  3420.0\n",
      "best you can do:  1.4128508391203703e-07\n",
      "weigh by num of index partitions:  0.00048319498697916663\n",
      "P:  {16: 1, 4: 1}\n",
      "num of index partitions:  4845.0\n",
      "best you can do:  1.88380111882716e-07\n",
      "weigh by num of index partitions:  0.0009127016420717591\n",
      "P:  {16: 1, 3: 1, 1: 1}\n",
      "num of index partitions:  19380.0\n",
      "best you can do:  9.419005594135799e-08\n",
      "weigh by num of index partitions:  0.001825403284143518\n",
      "P:  {16: 1, 2: 2}\n",
      "num of index partitions:  14535.0\n",
      "best you can do:  4.709502797067901e-08\n",
      "weigh by num of index partitions:  0.0006845262315538194\n",
      "P:  {15: 1, 5: 1}\n",
      "num of index partitions:  15504.0\n",
      "best you can do:  1.25586741255144e-07\n",
      "weigh by num of index partitions:  0.0019470968364197524\n",
      "P:  {15: 1, 4: 1, 1: 1}\n",
      "num of index partitions:  77520.0\n",
      "best you can do:  6.2793370627572e-08\n",
      "weigh by num of index partitions:  0.004867742091049381\n",
      "P:  {15: 1, 3: 1, 2: 1}\n",
      "num of index partitions:  155040.0\n",
      "best you can do:  3.1396685313786e-08\n",
      "weigh by num of index partitions:  0.004867742091049381\n",
      "P:  {14: 1, 6: 1}\n",
      "num of index partitions:  38760.0\n",
      "best you can do:  8.372449417009599e-08\n",
      "weigh by num of index partitions:  0.0032451613940329208\n",
      "P:  {14: 1, 5: 1, 1: 1}\n",
      "num of index partitions:  232560.0\n",
      "best you can do:  4.1862247085047995e-08\n",
      "weigh by num of index partitions:  0.009735484182098762\n",
      "P:  {14: 1, 4: 1, 2: 1}\n",
      "num of index partitions:  581400.0\n",
      "best you can do:  2.0931123542524e-08\n",
      "weigh by num of index partitions:  0.012169355227623455\n",
      "P:  {14: 1, 3: 2}\n",
      "num of index partitions:  387600.0\n",
      "best you can do:  1.0465561771261997e-08\n",
      "weigh by num of index partitions:  0.00405645174254115\n",
      "P:  {13: 1, 7: 1}\n",
      "num of index partitions:  77520.0\n",
      "best you can do:  5.581632944673066e-08\n",
      "weigh by num of index partitions:  0.00432688185871056\n",
      "P:  {13: 1, 6: 1, 1: 1}\n",
      "num of index partitions:  542640.0\n",
      "best you can do:  2.790816472336533e-08\n",
      "weigh by num of index partitions:  0.015144086505486962\n",
      "P:  {13: 1, 5: 1, 2: 1}\n",
      "num of index partitions:  1627920.0\n",
      "best you can do:  1.3954082361682665e-08\n",
      "weigh by num of index partitions:  0.022716129758230445\n",
      "P:  {13: 1, 4: 1, 3: 1}\n",
      "num of index partitions:  2713200.0\n",
      "best you can do:  6.9770411808413324e-09\n",
      "weigh by num of index partitions:  0.018930108131858702\n",
      "P:  {12: 1, 8: 1}\n",
      "num of index partitions:  125970.0\n",
      "best you can do:  3.7210886297820435e-08\n",
      "weigh by num of index partitions:  0.004687455346936441\n",
      "P:  {12: 1, 7: 1, 1: 1}\n",
      "num of index partitions:  1007760.0\n",
      "best you can do:  1.8605443148910218e-08\n",
      "weigh by num of index partitions:  0.018749821387745762\n",
      "P:  {12: 1, 6: 1, 2: 1}\n",
      "num of index partitions:  3527160.0\n",
      "best you can do:  9.302721574455109e-09\n",
      "weigh by num of index partitions:  0.03281218742855508\n",
      "P:  {12: 1, 5: 1, 3: 1}\n",
      "num of index partitions:  7054320.0\n",
      "best you can do:  4.651360787227554e-09\n",
      "weigh by num of index partitions:  0.03281218742855508\n",
      "P:  {12: 1, 4: 2}\n",
      "num of index partitions:  4408950.0\n",
      "best you can do:  2.3256803936137776e-09\n",
      "weigh by num of index partitions:  0.010253808571423466\n",
      "P:  {11: 1, 9: 1}\n",
      "num of index partitions:  167960.0\n",
      "best you can do:  2.480725753188029e-08\n",
      "weigh by num of index partitions:  0.004166626975054614\n",
      "P:  {11: 1, 8: 1, 1: 1}\n",
      "num of index partitions:  1511640.0\n",
      "best you can do:  1.2403628765940144e-08\n",
      "weigh by num of index partitions:  0.01874982138774576\n",
      "P:  {11: 1, 7: 1, 2: 1}\n",
      "num of index partitions:  6046560.0\n",
      "best you can do:  6.201814382970073e-09\n",
      "weigh by num of index partitions:  0.037499642775491525\n",
      "P:  {11: 1, 6: 1, 3: 1}\n",
      "num of index partitions:  14108640.0\n",
      "best you can do:  3.100907191485036e-09\n",
      "weigh by num of index partitions:  0.04374958323807344\n",
      "P:  {11: 1, 5: 1, 4: 1}\n",
      "num of index partitions:  21162960.0\n",
      "best you can do:  1.550453595742518e-09\n",
      "weigh by num of index partitions:  0.03281218742855508\n",
      "P:  {10: 2}\n",
      "num of index partitions:  92378.0\n",
      "best you can do:  1.6538171687920194e-08\n",
      "weigh by num of index partitions:  0.0015277632241866917\n",
      "P:  {10: 1, 9: 1, 1: 1}\n",
      "num of index partitions:  1847560.0\n",
      "best you can do:  8.269085843960097e-09\n",
      "weigh by num of index partitions:  0.015277632241866916\n",
      "P:  {10: 1, 8: 1, 2: 1}\n",
      "num of index partitions:  8314020.0\n",
      "best you can do:  4.1345429219800486e-09\n",
      "weigh by num of index partitions:  0.03437467254420056\n",
      "P:  {10: 1, 7: 1, 3: 1}\n",
      "num of index partitions:  22170720.0\n",
      "best you can do:  2.067271460990024e-09\n",
      "weigh by num of index partitions:  0.045832896725600744\n",
      "P:  {10: 1, 6: 1, 4: 1}\n",
      "num of index partitions:  38798760.0\n",
      "best you can do:  1.033635730495012e-09\n",
      "weigh by num of index partitions:  0.04010378463490065\n",
      "P:  {10: 1, 5: 2}\n",
      "num of index partitions:  23279256.0\n",
      "best you can do:  5.16817865247506e-10\n",
      "weigh by num of index partitions:  0.012031135390470194\n",
      "P:  {9: 2, 2: 1}\n",
      "num of index partitions:  4618900.0\n",
      "best you can do:  2.756361947986699e-09\n",
      "weigh by num of index partitions:  0.012731360201555764\n",
      "P:  {9: 1, 8: 1, 3: 1}\n",
      "num of index partitions:  27713400.0\n",
      "best you can do:  1.378180973993349e-09\n",
      "weigh by num of index partitions:  0.03819408060466728\n",
      "P:  {9: 1, 7: 1, 4: 1}\n",
      "num of index partitions:  55426800.0\n",
      "best you can do:  6.890904869966747e-10\n",
      "weigh by num of index partitions:  0.03819408060466729\n",
      "P:  {9: 1, 6: 1, 5: 1}\n",
      "num of index partitions:  77597520.0\n",
      "best you can do:  3.445452434983373e-10\n",
      "weigh by num of index partitions:  0.026735856423267097\n",
      "P:  {8: 2, 4: 1}\n",
      "num of index partitions:  31177575.0\n",
      "best you can do:  4.593936579977831e-10\n",
      "weigh by num of index partitions:  0.014322780226750232\n",
      "P:  {8: 1, 7: 1, 5: 1}\n",
      "num of index partitions:  99768240.0\n",
      "best you can do:  2.2969682899889152e-10\n",
      "weigh by num of index partitions:  0.02291644836280037\n",
      "P:  {8: 1, 6: 2}\n",
      "num of index partitions:  58198140.0\n",
      "best you can do:  1.1484841449944576e-10\n",
      "weigh by num of index partitions:  0.006683964105816774\n",
      "P:  {7: 2, 6: 1}\n",
      "num of index partitions:  66512160.0\n",
      "best you can do:  7.656560966629717e-11\n",
      "weigh by num of index partitions:  0.005092544080622304\n",
      "0.6566809853732916\n"
     ]
    }
   ],
   "source": [
    "Pi = [1/2, 1/3, 1/6]\n",
    "n = 20\n",
    "k = 3\n",
    "pbvsum = 0\n",
    "for p in partitions(n, m=k):\n",
    "    print(\"P: \", p)\n",
    "    num = calc_set_partitions(n,p)\n",
    "    print(\"num of index partitions: \", num)\n",
    "    frac = calc_max_prob(p, Pi)\n",
    "    print(\"best you can do: \", frac)\n",
    "    val = num * frac\n",
    "    print(\"weigh by num of index partitions: \", val)\n",
    "    pbvsum = pbvsum + val\n",
    "print(pbvsum)"
   ]
  },
  {
   "cell_type": "markdown",
   "metadata": {},
   "source": [
    "#### Test Calculations"
   ]
  },
  {
   "cell_type": "code",
   "execution_count": 13,
   "metadata": {},
   "outputs": [
    {
     "data": {
      "text/plain": [
       "0.015625"
      ]
     },
     "execution_count": 13,
     "metadata": {},
     "output_type": "execute_result"
    }
   ],
   "source": [
    "prior_bayes_vuln(6, probs)"
   ]
  },
  {
   "cell_type": "code",
   "execution_count": 10,
   "metadata": {},
   "outputs": [
    {
     "data": {
      "text/plain": [
       "0.5100027327674895"
      ]
     },
     "execution_count": 10,
     "metadata": {},
     "output_type": "execute_result"
    }
   ],
   "source": [
    "nonuni_post_bayes_vuln(10, 3, probs)"
   ]
  },
  {
   "cell_type": "code",
   "execution_count": 15,
   "metadata": {},
   "outputs": [
    {
     "data": {
      "text/plain": [
       "0.43113425925925924"
      ]
     },
     "execution_count": 15,
     "metadata": {},
     "output_type": "execute_result"
    }
   ],
   "source": [
    "745/1728"
   ]
  },
  {
   "cell_type": "markdown",
   "metadata": {},
   "source": [
    "### Functions to graph different priors, k, and n-ranges"
   ]
  },
  {
   "cell_type": "code",
   "execution_count": 16,
   "metadata": {},
   "outputs": [],
   "source": [
    "def graph_it_bayes(n_range, k, probs, df):\n",
    "    x = [i+1 for i in range(n_range)]\n",
    "    y_posterior = df[\"posterior\"].iloc[-1] # saves last posterior y\n",
    "    y_prior = df[\"prior\"].iloc[-1] # save last prior y for annotation\n",
    "    \n",
    "    plt.plot(x, 'prior', \n",
    "             data=df,\n",
    "             label=\"prior\")\n",
    "    plt.plot(x, 'posterior',\n",
    "             color='green',\n",
    "             data=df,\n",
    "             linestyle='--',\n",
    "             marker='', \n",
    "             label=\"posterior\")\n",
    "    plt.xlabel('n values')\n",
    "    plt.ylabel('Bayes vulnerability')\n",
    "    plt.ylim(bottom=-.1, top = 1)\n",
    "    \n",
    "    # green dot for last y posterior vulnerability\n",
    "    plt.annotate('%.4f' % y_posterior,\n",
    "                 xy=[n_range, y_posterior],\n",
    "                 xytext=(-20, -15),\n",
    "                 textcoords='offset points')\n",
    "    plt.plot(n_range, y_posterior, \n",
    "             marker = 'o', \n",
    "             markerfacecolor='green',\n",
    "             markeredgecolor='green')\n",
    "    \n",
    "    # green dot for last y prior vulnerability\n",
    "    plt.annotate('%.4f' % y_prior,\n",
    "                 xy=[n_range, y_prior],\n",
    "                 xytext=(-20, -15),\n",
    "                 textcoords='offset points')\n",
    "    plt.plot(n_range, y_prior, \n",
    "             marker = 'o', \n",
    "             markerfacecolor='blue',\n",
    "             markeredgecolor='blue')\n",
    "    \n",
    "    # title rounds the prior\n",
    "    format_probs = ['%.2f' % prob for prob in probs]\n",
    "    plt.title(f'Prior and Posterior Bayes Vulnerability, k = {k}')\n",
    "    plt.legend(loc='upper left')\n",
    "    # legend adjusted so it doesn't run into annotations\n",
    "    #plt.legend(loc='center left', \n",
    "     #         bbox_to_anchor= (1.01, .5),\n",
    "      #        frameon=False)\n",
    "    plt.show()\n",
    "    plt.close()"
   ]
  },
  {
   "cell_type": "code",
   "execution_count": 23,
   "metadata": {},
   "outputs": [],
   "source": [
    "def graph_it_bayes_4(n_range, k, probs, df):\n",
    "    x = [i+1 for i in range(n_range)]\n",
    "    y_posterior = df[\"posterior\"].iloc[-1] # saves last posterior y\n",
    "    y_prior = df[\"prior\"].iloc[-1] # save last prior y for annotation\n",
    "    \n",
    "    plt.plot(x, 'prior', \n",
    "             data=df,\n",
    "             label=\"prior\")\n",
    "    plt.plot(x, 'posterior',\n",
    "             color='green',\n",
    "             data=df,\n",
    "             linestyle='--',\n",
    "             marker='', \n",
    "             label=\"posterior\")\n",
    "    plt.xlabel('n values')\n",
    "    plt.ylabel('Bayes vulnerability')\n",
    "    plt.ylim(bottom=-.1, top = 1)\n",
    "    \n",
    "    # green dot for last y posterior vulnerability\n",
    "    plt.annotate('%.4f' % y_posterior,\n",
    "                 xy=[n_range, y_posterior],\n",
    "                 xytext=(-20, 15),\n",
    "                 textcoords='offset points')\n",
    "    plt.plot(n_range, y_posterior, \n",
    "             marker = 'o', \n",
    "             markerfacecolor='green',\n",
    "             markeredgecolor='green')\n",
    "    \n",
    "    # green dot for last y prior vulnerability\n",
    "    plt.annotate('%.4f' % y_prior,\n",
    "                 xy=[n_range, y_prior],\n",
    "                 xytext=(-20, -15),\n",
    "                 textcoords='offset points')\n",
    "    plt.plot(n_range, y_prior, \n",
    "             marker = 'o', \n",
    "             markerfacecolor='blue',\n",
    "             markeredgecolor='blue')\n",
    "    \n",
    "    # title rounds the prior\n",
    "    format_probs = ['%.2f' % prob for prob in probs]\n",
    "    plt.title(f'Prior and Posterior Bayes Vulnerability, k = {k}')\n",
    "    plt.legend(loc='upper left')\n",
    "    # legend adjusted so it doesn't run into annotations\n",
    "    #plt.legend(loc='center left', \n",
    "     #         bbox_to_anchor= (1.01, .5),\n",
    "      #        frameon=False)\n",
    "    plt.show()\n",
    "    plt.close()"
   ]
  },
  {
   "cell_type": "code",
   "execution_count": 26,
   "metadata": {},
   "outputs": [],
   "source": [
    "def graph_bayes_prior_post(n_range, k, probs):\n",
    "    post_bayes_vs = []\n",
    "    prior_bayes_vs = []\n",
    "    for i in range(n_range):\n",
    "        post_bayes_vs.append(nonuni_post_bayes_vuln(i+1, k, probs))\n",
    "        prior_bayes_vs.append(prior_bayes_vuln(i+1, probs))\n",
    "    df = pd.DataFrame(\n",
    "        {'prior':prior_bayes_vs,\n",
    "         'posterior':post_bayes_vs\n",
    "        }\n",
    "    )\n",
    "    if k == 3:\n",
    "        graph_it_bayes(n_range, k, probs, df)\n",
    "    elif k == 4:\n",
    "        graph_it_bayes_4(n_range, k, probs, df)\n",
    "    else:\n",
    "        raise ValueError(\"k is weird\")"
   ]
  },
  {
   "cell_type": "markdown",
   "metadata": {},
   "source": [
    "### Graphs"
   ]
  },
  {
   "cell_type": "code",
   "execution_count": 31,
   "metadata": {},
   "outputs": [
    {
     "name": "stdout",
     "output_type": "stream",
     "text": [
      "The prior bayes vuln:  3.764861949598985e-96\n",
      "The posterior bayes vuln:  0.1666666666666648\n"
     ]
    }
   ],
   "source": [
    "n = 200\n",
    "k = 3\n",
    "probs = [1/3, 1/3, 1/3]\n",
    "post = nonuni_post_bayes_vuln(n, k, probs)\n",
    "prior = prior_bayes_vuln(n, probs)\n",
    "print(\"The prior bayes vuln: \", prior)\n",
    "print(\"The posterior bayes vuln: \", post)"
   ]
  },
  {
   "cell_type": "code",
   "execution_count": 18,
   "metadata": {},
   "outputs": [
    {
     "data": {
      "image/png": "[encoded data removed]",
      "text/plain": [
       "<Figure size 432x288 with 1 Axes>"
      ]
     },
     "metadata": {
      "needs_background": "light"
     },
     "output_type": "display_data"
    }
   ],
   "source": [
    "graph_bayes_prior_post(200, 3, [1/3, 1/3, 1/3])"
   ]
  },
  {
   "cell_type": "code",
   "execution_count": 11,
   "metadata": {},
   "outputs": [
    {
     "name": "stdout",
     "output_type": "stream",
     "text": [
      "The prior bayes vuln:  0.0009765625\n",
      "The posterior bayes vuln:  0.5100027327674895\n"
     ]
    }
   ],
   "source": [
    "n = 10\n",
    "k = 3\n",
    "probs = [1/2, 1/3, 1/6]\n",
    "post = nonuni_post_bayes_vuln(n, k, probs)\n",
    "prior = prior_bayes_vuln(n, probs)\n",
    "print(\"The prior bayes vuln: \", prior)\n",
    "print(\"The posterior bayes vuln: \", post)"
   ]
  },
  {
   "cell_type": "code",
   "execution_count": 19,
   "metadata": {},
   "outputs": [
    {
     "data": {
      "image/png": "[encoded data removed]",
      "text/plain": [
       "<Figure size 432x288 with 1 Axes>"
      ]
     },
     "metadata": {
      "needs_background": "light"
     },
     "output_type": "display_data"
    }
   ],
   "source": [
    "graph_bayes_prior_post(200, 3, [1/2, 1/3, 1/6])"
   ]
  },
  {
   "cell_type": "code",
   "execution_count": 32,
   "metadata": {},
   "outputs": [
    {
     "name": "stdout",
     "output_type": "stream",
     "text": [
      "The prior bayes vuln:  6.223015277861142e-61\n",
      "The posterior bayes vuln:  0.4999859734203035\n"
     ]
    }
   ],
   "source": [
    "n = 200\n",
    "k = 3\n",
    "probs = [1/2, 1/4, 1/4]\n",
    "post = nonuni_post_bayes_vuln(n, k, probs)\n",
    "prior = prior_bayes_vuln(n, probs)\n",
    "print(\"The prior bayes vuln: \", prior)\n",
    "print(\"The posterior bayes vuln: \", post)"
   ]
  },
  {
   "cell_type": "code",
   "execution_count": 20,
   "metadata": {},
   "outputs": [
    {
     "data": {
      "image/png": "[encoded data removed]",
      "text/plain": [
       "<Figure size 432x288 with 1 Axes>"
      ]
     },
     "metadata": {
      "needs_background": "light"
     },
     "output_type": "display_data"
    }
   ],
   "source": [
    "graph_bayes_prior_post(200, 3, [1/2, 1/4, 1/4])"
   ]
  },
  {
   "cell_type": "code",
   "execution_count": 33,
   "metadata": {},
   "outputs": [
    {
     "name": "stdout",
     "output_type": "stream",
     "text": [
      "The prior bayes vuln:  6.223015277861142e-61\n",
      "The posterior bayes vuln:  0.6553398219376529\n"
     ]
    }
   ],
   "source": [
    "n = 200\n",
    "k = 3\n",
    "probs = [1/2, .24, .26]\n",
    "post = nonuni_post_bayes_vuln(n, k, probs)\n",
    "prior = prior_bayes_vuln(n, probs)\n",
    "print(\"The prior bayes vuln: \", prior)\n",
    "print(\"The posterior bayes vuln: \", post)"
   ]
  },
  {
   "cell_type": "code",
   "execution_count": 21,
   "metadata": {},
   "outputs": [
    {
     "data": {
      "image/png": "[encoded data removed]",
      "text/plain": [
       "<Figure size 432x288 with 1 Axes>"
      ]
     },
     "metadata": {
      "needs_background": "light"
     },
     "output_type": "display_data"
    }
   ],
   "source": [
    "graph_bayes_prior_post(200, 3, [1/2, .24, .26])"
   ]
  },
  {
   "cell_type": "code",
   "execution_count": 34,
   "metadata": {},
   "outputs": [
    {
     "name": "stdout",
     "output_type": "stream",
     "text": [
      "The prior bayes vuln:  3.8725919148493183e-121\n",
      "The posterior bayes vuln:  0.04166666666666664\n"
     ]
    }
   ],
   "source": [
    "n = 200\n",
    "k = 4\n",
    "probs = [1/4, 1/4, 1/4, 1/4]\n",
    "post = nonuni_post_bayes_vuln(n, k, probs)\n",
    "prior = prior_bayes_vuln(n, probs)\n",
    "print(\"The prior bayes vuln: \", prior)\n",
    "print(\"The posterior bayes vuln: \", post)"
   ]
  },
  {
   "cell_type": "code",
   "execution_count": 27,
   "metadata": {},
   "outputs": [
    {
     "data": {
      "image/png": "[encoded data removed]",
      "text/plain": [
       "<Figure size 432x288 with 1 Axes>"
      ]
     },
     "metadata": {
      "needs_background": "light"
     },
     "output_type": "display_data"
    }
   ],
   "source": [
    "graph_bayes_prior_post(200, 4, [1/4, 1/4, 1/4, 1/4])"
   ]
  },
  {
   "cell_type": "markdown",
   "metadata": {},
   "source": [
    "### Graph Under Uniform Prior"
   ]
  },
  {
   "cell_type": "code",
   "execution_count": 23,
   "metadata": {},
   "outputs": [
    {
     "data": {
      "text/html": [
       "<div>\n",
       "<style scoped>\n",
       "    .dataframe tbody tr th:only-of-type {\n",
       "        vertical-align: middle;\n",
       "    }\n",
       "\n",
       "    .dataframe tbody tr th {\n",
       "        vertical-align: top;\n",
       "    }\n",
       "\n",
       "    .dataframe thead th {\n",
       "        text-align: right;\n",
       "    }\n",
       "</style>\n",
       "<table border=\"1\" class=\"dataframe\">\n",
       "  <thead>\n",
       "    <tr style=\"text-align: right;\">\n",
       "      <th></th>\n",
       "      <th>prior</th>\n",
       "      <th>posterior</th>\n",
       "    </tr>\n",
       "  </thead>\n",
       "  <tbody>\n",
       "    <tr>\n",
       "      <th>0</th>\n",
       "      <td>0.333333</td>\n",
       "      <td>1/3</td>\n",
       "    </tr>\n",
       "    <tr>\n",
       "      <th>1</th>\n",
       "      <td>0.111111</td>\n",
       "      <td>2/9</td>\n",
       "    </tr>\n",
       "    <tr>\n",
       "      <th>2</th>\n",
       "      <td>0.037037</td>\n",
       "      <td>5/27</td>\n",
       "    </tr>\n",
       "    <tr>\n",
       "      <th>3</th>\n",
       "      <td>0.012346</td>\n",
       "      <td>14/81</td>\n",
       "    </tr>\n",
       "    <tr>\n",
       "      <th>4</th>\n",
       "      <td>0.004115</td>\n",
       "      <td>41/243</td>\n",
       "    </tr>\n",
       "  </tbody>\n",
       "</table>\n",
       "</div>"
      ],
      "text/plain": [
       "      prior posterior\n",
       "0  0.333333       1/3\n",
       "1  0.111111       2/9\n",
       "2  0.037037      5/27\n",
       "3  0.012346     14/81\n",
       "4  0.004115    41/243"
      ]
     },
     "execution_count": 23,
     "metadata": {},
     "output_type": "execute_result"
    }
   ],
   "source": [
    "uni_post_bayes_vs = []\n",
    "uni_prior_bayes_vs = []\n",
    "for i in range(range_max):\n",
    "    uni_post_bayes_vs.append(uni_post_bayes_vuln(i+1, k))\n",
    "    uni_prior_bayes_vs.append(prior_bayes_vuln(i+1, uni_probs))\n",
    "uni_bayes_vuln_df = pd.DataFrame(\n",
    "    {'prior':uni_prior_bayes_vs,\n",
    "     'posterior':uni_post_bayes_vs\n",
    "    }\n",
    ")\n",
    "uni_bayes_vuln_df.head()"
   ]
  },
  {
   "cell_type": "code",
   "execution_count": 24,
   "metadata": {
    "scrolled": true
   },
   "outputs": [
    {
     "data": {
      "image/png": "[encoded data removed]",
      "text/plain": [
       "<Figure size 432x288 with 1 Axes>"
      ]
     },
     "metadata": {
      "needs_background": "light"
     },
     "output_type": "display_data"
    }
   ],
   "source": [
    "x = [i+1 for i in range(range_max)]\n",
    "\n",
    "plt.plot(x, 'prior', data=uni_bayes_vuln_df, marker='', label=\"prior\")\n",
    "plt.plot(x, 'posterior', data=uni_bayes_vuln_df, marker='', label=\"posterior\")\n",
    "plt.xlabel('n values')\n",
    "plt.ylabel('bayes vulnerability')\n",
    "\n",
    "plt.title('k = 3, prior = 1/3, 1/3, 1/3')\n",
    "plt.legend()\n",
    "plt.show()"
   ]
  }
 ],
 "metadata": {
  "kernelspec": {
   "display_name": "Python 3",
   "language": "python",
   "name": "python3"
  },
  "language_info": {
   "codemirror_mode": {
    "name": "ipython",
    "version": 3
   },
   "file_extension": ".py",
   "mimetype": "text/x-python",
   "name": "python",
   "nbconvert_exporter": "python",
   "pygments_lexer": "ipython3",
   "version": "3.6.7"
  }
 },
 "nbformat": 4,
 "nbformat_minor": 1
}
