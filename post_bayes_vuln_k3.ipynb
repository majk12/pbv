{
 "cells": [
  {
   "cell_type": "markdown",
   "metadata": {},
   "source": [
    "## Posterior Bayes Vulnerability"
   ]
  },
  {
   "cell_type": "code",
   "execution_count": 1,
   "metadata": {},
   "outputs": [],
   "source": [
    "import collections\n",
    "import math\n",
    "import numpy as np\n",
    "import pandas as pd\n",
    "from sympy.utilities.iterables import partitions\n",
    "from sympy.functions.combinatorial.numbers import stirling\n",
    "import matplotlib.pyplot as plt \n",
    "%matplotlib notebook"
   ]
  },
  {
   "cell_type": "markdown",
   "metadata": {},
   "source": [
    "### Variables To Test Functions"
   ]
  },
  {
   "cell_type": "code",
   "execution_count": 2,
   "metadata": {},
   "outputs": [],
   "source": [
    "k = 3"
   ]
  },
  {
   "cell_type": "code",
   "execution_count": 3,
   "metadata": {},
   "outputs": [],
   "source": [
    "n = 6"
   ]
  },
  {
   "cell_type": "code",
   "execution_count": 4,
   "metadata": {},
   "outputs": [],
   "source": [
    "probs = [1/2, 1/3, 1/6]"
   ]
  },
  {
   "cell_type": "code",
   "execution_count": 5,
   "metadata": {},
   "outputs": [],
   "source": [
    "uni_probs = [1/3, 1/3, 1/3]"
   ]
  },
  {
   "cell_type": "code",
   "execution_count": 6,
   "metadata": {},
   "outputs": [],
   "source": [
    "range_max = 200"
   ]
  },
  {
   "cell_type": "markdown",
   "metadata": {},
   "source": [
    "### Functions"
   ]
  },
  {
   "cell_type": "markdown",
   "metadata": {},
   "source": [
    "__uni_post_bayes_vuln__ calculates the posterior Bayes vulnerability under a *uniform* prior using Stirling numbers of the second kind. <br>\n",
    "n: size of the column <br>\n",
    "k: number of unique plaintext values/diseases <br>\n",
    "$$V_1[\\pi \\triangleright C] = \\frac{\\sum_{i=1}^{min(n,k)} s2(n, i)}{k^n} $$"
   ]
  },
  {
   "cell_type": "code",
   "execution_count": 7,
   "metadata": {},
   "outputs": [],
   "source": [
    "def uni_post_bayes_vuln(n, k):\n",
    "    num = 0\n",
    "    den = 0\n",
    "    for i in range(1, k+1): # goes from 1-k\n",
    "        num = num + stirling(n, i)\n",
    "    den = pow(k, n)\n",
    "    return num/den"
   ]
  },
  {
   "cell_type": "code",
   "execution_count": 8,
   "metadata": {},
   "outputs": [
    {
     "data": {
      "text/plain": [
       "5/27"
      ]
     },
     "execution_count": 8,
     "metadata": {},
     "output_type": "execute_result"
    }
   ],
   "source": [
    "uni_post_bayes_vuln(3, k)"
   ]
  },
  {
   "cell_type": "markdown",
   "metadata": {},
   "source": [
    "__prior_bayes_vuln__ calculates the prior Bayes vulnerability <br>\n",
    "n: the size of the column <br>\n",
    "Pi: the probability distribution of individual diseases <br>\n",
    "In this case, the adversary would choose the most likely disease for every column.<br>\n",
    "Therefore, the prior Bayes vulnerability is $\\max(Pi)^n$"
   ]
  },
  {
   "cell_type": "code",
   "execution_count": 9,
   "metadata": {},
   "outputs": [],
   "source": [
    "def prior_bayes_vuln(n, Pi):\n",
    "    Pi.sort(reverse=True) \n",
    "    return pow(Pi[0],n)"
   ]
  },
  {
   "cell_type": "markdown",
   "metadata": {},
   "source": [
    "__calc_set_partitions(n,p)__ calculates the number of set partitions\n",
    "<br>\n",
    "n: positive integer\n",
    "<br>\n",
    "p: a unique integer partition, as a python dictionary\n",
    "<br>\n",
    "Example:\n",
    "```python\n",
    "calc_set_partitions(6, {4:1, 1:2})\n",
    "```\n",
    "Output:\n",
    "```python\n",
    "15.0\n",
    "```\n",
    "Specific formula:<br>\n",
    "$$\\text{set partitions}(6,\\{4:1, 1:2\\}) = \\frac{6!}{\\left(4!\\right)1! \\times \\left(1!1!\\right)2!} $$\n",
    "\n",
    "Generalized formula:<br>\n",
    "With an interger partition $p$ containing integers $i$, each with multiplicity of $m$,\n",
    "$$\\text{set partitions}(n,p)=\\frac{n!}{\\prod_{i \\in p} i!^m m!}$$"
   ]
  },
  {
   "cell_type": "code",
   "execution_count": 10,
   "metadata": {},
   "outputs": [],
   "source": [
    "def calc_set_partitions(n,p):\n",
    "    num = math.factorial(n)\n",
    "    den = 1\n",
    "    mul = 0\n",
    "    for i in p.keys():\n",
    "        m = p[i]\n",
    "        den = den * pow(math.factorial(i), m) * math.factorial(m)\n",
    "    frac = num / den\n",
    "    return frac"
   ]
  },
  {
   "cell_type": "markdown",
   "metadata": {},
   "source": [
    "__calc_max_prob__ calculates the maximum probability of a unique integer partition <br>\n",
    "Multiplies the largest fraction in $\\pi$ to the power of the largest integer in the integer partition in decending order<br>\n",
    "p: a unique integer partition, as a python dictionary<br>\n",
    "Pi: the prior probability distribution<br>\n",
    "Example:\n",
    "```python\n",
    "calc_max_prob({4:1,1:2},[1/2, 1/3, 1/6])\n",
    "```\n",
    "Output:\n",
    "```python\n",
    "0.003472222222222222\n",
    "``` \n",
    "which is equal to 1/288"
   ]
  },
  {
   "cell_type": "code",
   "execution_count": 11,
   "metadata": {},
   "outputs": [],
   "source": [
    "def calc_max_prob(p, Pi):\n",
    "    Pi.sort(reverse=True)\n",
    "    frac = 1\n",
    "    ind = 0\n",
    "    val = -1\n",
    "    for key in sorted(p.keys(), reverse=True):\n",
    "        val = p[key]\n",
    "        for i in range(val):\n",
    "            frac = frac * pow(Pi[ind], key)\n",
    "            ind = ind + 1\n",
    "    return frac"
   ]
  },
  {
   "cell_type": "markdown",
   "metadata": {},
   "source": [
    "$$ V_1 [C \\triangleright \\pi ]  = \\sum_{p=1}^{|\\text{partitions}(n, k)|} \\text{set partitions}(n, p)\\times\\text{max prob} (p, \\pi )  $$\n",
    "\n",
    "__partitions(n, m)__ generates a dictionary of integer partitions\n",
    "<br>\n",
    "n: positive integer\n",
    "<br>\n",
    "m: the maximum number of parts in partition\n",
    "<br>\n",
    "Outputs a dictionary where the keys are the integers and the values are the number of times that integer occurs\n",
    "\n",
    "Example:\n",
    "```python\n",
    "for p in partitions(6,3):\n",
    "    print(p)\n",
    "```\n",
    "Output:\n",
    "```python\n",
    "{6:1}\n",
    "{5:1, 1:1}\n",
    "{4:1, 2:1}\n",
    "{4:1, 1:2}\n",
    "{3:2}\n",
    "{3:1, 2:1, 1:1}\n",
    "{2:3}\n",
    "```\n",
    "For every dictionary, __nonuni_post_bayes_vuln__ multiplies the number of set partitions and its max probability.\n",
    "These numbers are added together for all integer partitions to calculate the final posterior bayes vulnerability."
   ]
  },
  {
   "cell_type": "code",
   "execution_count": 12,
   "metadata": {},
   "outputs": [],
   "source": [
    "def nonuni_post_bayes_vuln(n, k, Pi):\n",
    "    pbvsum = 0\n",
    "    for p in partitions(n, m=k):  \n",
    "        num = calc_set_partitions(n,p)\n",
    "        frac = calc_max_prob(p, Pi)\n",
    "        val = num * frac\n",
    "        pbvsum = pbvsum + val\n",
    "    return pbvsum"
   ]
  },
  {
   "cell_type": "markdown",
   "metadata": {},
   "source": [
    "#### Test Calculations"
   ]
  },
  {
   "cell_type": "code",
   "execution_count": 13,
   "metadata": {},
   "outputs": [
    {
     "data": {
      "text/plain": [
       "0.015625"
      ]
     },
     "execution_count": 13,
     "metadata": {},
     "output_type": "execute_result"
    }
   ],
   "source": [
    "prior_bayes_vuln(6, probs)"
   ]
  },
  {
   "cell_type": "code",
   "execution_count": 14,
   "metadata": {},
   "outputs": [
    {
     "data": {
      "text/plain": [
       "0.43113425925925924"
      ]
     },
     "execution_count": 14,
     "metadata": {},
     "output_type": "execute_result"
    }
   ],
   "source": [
    "nonuni_post_bayes_vuln(n, k, probs)"
   ]
  },
  {
   "cell_type": "code",
   "execution_count": 15,
   "metadata": {},
   "outputs": [
    {
     "data": {
      "text/plain": [
       "0.43113425925925924"
      ]
     },
     "execution_count": 15,
     "metadata": {},
     "output_type": "execute_result"
    }
   ],
   "source": [
    "745/1728"
   ]
  },
  {
   "cell_type": "markdown",
   "metadata": {},
   "source": [
    "### Functions to graph different priors, k, and n-ranges"
   ]
  },
  {
   "cell_type": "code",
   "execution_count": 16,
   "metadata": {},
   "outputs": [],
   "source": [
    "def graph_it_bayes(n_range, k, probs, df):\n",
    "    x = [i+1 for i in range(n_range)]\n",
    "    y_posterior = df[\"posterior\"].iloc[-1] # saves last posterior y\n",
    "    \n",
    "    plt.plot(x, 'prior', \n",
    "             data=df, \n",
    "             linestyle='--', \n",
    "             label=\"prior\")\n",
    "    plt.plot(x, 'posterior', \n",
    "             data=df, \n",
    "             marker='', \n",
    "             label=\"posterior\")\n",
    "    plt.xlabel('n values')\n",
    "    plt.ylabel('Bayes vulnerability')\n",
    "    plt.ylim(bottom=0, top = 1)\n",
    "    \n",
    "    # orange dot for last y posterior vulnerability\n",
    "    plt.annotate('%.3f' % y_posterior, \n",
    "                 xy=[n_range, y_posterior],\n",
    "                 xytext=(-20, -15),\n",
    "                 textcoords='offset points')\n",
    "    plt.plot(n_range, y_posterior, \n",
    "             marker = 'o', \n",
    "             markerfacecolor='orange',\n",
    "             markeredgecolor='orange')\n",
    "    \n",
    "    # title rounds the prior\n",
    "    format_probs = ['%.2f' % prob for prob in probs]\n",
    "    plt.title(f'k = {k}, prior = {format_probs}')\n",
    "    \n",
    "    # legend adjusted so it doesn't run into annotations\n",
    "    plt.legend(loc='center left', \n",
    "              bbox_to_anchor= (1.01, .5),\n",
    "              frameon=False)\n",
    "    plt.show()"
   ]
  },
  {
   "cell_type": "code",
   "execution_count": 17,
   "metadata": {},
   "outputs": [],
   "source": [
    "def graph_bayes_prior_post(n_range, k, probs):\n",
    "    post_bayes_vs = []\n",
    "    prior_bayes_vs = []\n",
    "    for i in range(n_range):\n",
    "        post_bayes_vs.append(nonuni_post_bayes_vuln(i+1, k, probs))\n",
    "        prior_bayes_vs.append(prior_bayes_vuln(i+1, probs))\n",
    "    df = pd.DataFrame(\n",
    "        {'prior':prior_bayes_vs,\n",
    "         'posterior':post_bayes_vs\n",
    "        }\n",
    "    )\n",
    "    graph_it_bayes(n_range, k, probs, df)"
   ]
  },
  {
   "cell_type": "markdown",
   "metadata": {},
   "source": [
    "### Graphs"
   ]
  },
  {
   "cell_type": "code",
   "execution_count": 18,
   "metadata": {},
   "outputs": [
    {
     "data": {
      "image/png": "[encoded data removed]",
      "text/plain": [
       "<Figure size 432x288 with 1 Axes>"
      ]
     },
     "metadata": {
      "needs_background": "light"
     },
     "output_type": "display_data"
    }
   ],
   "source": [
    "graph_bayes_prior_post(200, 3, [1/3, 1/3, 1/3])"
   ]
  },
  {
   "cell_type": "code",
   "execution_count": 19,
   "metadata": {},
   "outputs": [
    {
     "data": {
      "image/png": "[encoded data removed]",
      "text/plain": [
       "<Figure size 432x288 with 1 Axes>"
      ]
     },
     "metadata": {
      "needs_background": "light"
     },
     "output_type": "display_data"
    }
   ],
   "source": [
    "graph_bayes_prior_post(200, 3, [1/2, 1/3, 1/6])"
   ]
  },
  {
   "cell_type": "code",
   "execution_count": 20,
   "metadata": {},
   "outputs": [
    {
     "data": {
      "image/png": "[encoded data removed]",
      "text/plain": [
       "<Figure size 432x288 with 1 Axes>"
      ]
     },
     "metadata": {
      "needs_background": "light"
     },
     "output_type": "display_data"
    }
   ],
   "source": [
    "graph_bayes_prior_post(200, 3, [1/2, 1/4, 1/4])"
   ]
  },
  {
   "cell_type": "code",
   "execution_count": 21,
   "metadata": {},
   "outputs": [
    {
     "data": {
      "image/png": "[encoded data removed]",
      "text/plain": [
       "<Figure size 432x288 with 1 Axes>"
      ]
     },
     "metadata": {
      "needs_background": "light"
     },
     "output_type": "display_data"
    }
   ],
   "source": [
    "graph_bayes_prior_post(200, 3, [1/2, .24, .26])"
   ]
  },
  {
   "cell_type": "code",
   "execution_count": 22,
   "metadata": {},
   "outputs": [
    {
     "data": {
      "image/png": "[encoded data removed]",
      "text/plain": [
       "<Figure size 432x288 with 1 Axes>"
      ]
     },
     "metadata": {
      "needs_background": "light"
     },
     "output_type": "display_data"
    }
   ],
   "source": [
    "graph_bayes_prior_post(200, 4, [1/4, 1/4, 1/4, 1/4])"
   ]
  },
  {
   "cell_type": "markdown",
   "metadata": {},
   "source": [
    "### Graph Under Uniform Prior"
   ]
  },
  {
   "cell_type": "code",
   "execution_count": 23,
   "metadata": {},
   "outputs": [
    {
     "data": {
      "text/html": [
       "<div>\n",
       "<style scoped>\n",
       "    .dataframe tbody tr th:only-of-type {\n",
       "        vertical-align: middle;\n",
       "    }\n",
       "\n",
       "    .dataframe tbody tr th {\n",
       "        vertical-align: top;\n",
       "    }\n",
       "\n",
       "    .dataframe thead th {\n",
       "        text-align: right;\n",
       "    }\n",
       "</style>\n",
       "<table border=\"1\" class=\"dataframe\">\n",
       "  <thead>\n",
       "    <tr style=\"text-align: right;\">\n",
       "      <th></th>\n",
       "      <th>prior</th>\n",
       "      <th>posterior</th>\n",
       "    </tr>\n",
       "  </thead>\n",
       "  <tbody>\n",
       "    <tr>\n",
       "      <th>0</th>\n",
       "      <td>0.333333</td>\n",
       "      <td>1/3</td>\n",
       "    </tr>\n",
       "    <tr>\n",
       "      <th>1</th>\n",
       "      <td>0.111111</td>\n",
       "      <td>2/9</td>\n",
       "    </tr>\n",
       "    <tr>\n",
       "      <th>2</th>\n",
       "      <td>0.037037</td>\n",
       "      <td>5/27</td>\n",
       "    </tr>\n",
       "    <tr>\n",
       "      <th>3</th>\n",
       "      <td>0.012346</td>\n",
       "      <td>14/81</td>\n",
       "    </tr>\n",
       "    <tr>\n",
       "      <th>4</th>\n",
       "      <td>0.004115</td>\n",
       "      <td>41/243</td>\n",
       "    </tr>\n",
       "  </tbody>\n",
       "</table>\n",
       "</div>"
      ],
      "text/plain": [
       "      prior posterior\n",
       "0  0.333333       1/3\n",
       "1  0.111111       2/9\n",
       "2  0.037037      5/27\n",
       "3  0.012346     14/81\n",
       "4  0.004115    41/243"
      ]
     },
     "execution_count": 23,
     "metadata": {},
     "output_type": "execute_result"
    }
   ],
   "source": [
    "uni_post_bayes_vs = []\n",
    "uni_prior_bayes_vs = []\n",
    "for i in range(range_max):\n",
    "    uni_post_bayes_vs.append(uni_post_bayes_vuln(i+1, k))\n",
    "    uni_prior_bayes_vs.append(prior_bayes_vuln(i+1, uni_probs))\n",
    "uni_bayes_vuln_df = pd.DataFrame(\n",
    "    {'prior':uni_prior_bayes_vs,\n",
    "     'posterior':uni_post_bayes_vs\n",
    "    }\n",
    ")\n",
    "uni_bayes_vuln_df.head()"
   ]
  },
  {
   "cell_type": "code",
   "execution_count": 24,
   "metadata": {
    "scrolled": true
   },
   "outputs": [
    {
     "data": {
      "image/png": "[encoded data removed]",
      "text/plain": [
       "<Figure size 432x288 with 1 Axes>"
      ]
     },
     "metadata": {
      "needs_background": "light"
     },
     "output_type": "display_data"
    }
   ],
   "source": [
    "x = [i+1 for i in range(range_max)]\n",
    "\n",
    "plt.plot(x, 'prior', data=uni_bayes_vuln_df, marker='', label=\"prior\")\n",
    "plt.plot(x, 'posterior', data=uni_bayes_vuln_df, marker='', label=\"posterior\")\n",
    "plt.xlabel('n values')\n",
    "plt.ylabel('bayes vulnerability')\n",
    "\n",
    "plt.title('k = 3, prior = 1/3, 1/3, 1/3')\n",
    "plt.legend()\n",
    "plt.show()"
   ]
  }
 ],
 "metadata": {
  "kernelspec": {
   "display_name": "Python 3",
   "language": "python",
   "name": "python3"
  },
  "language_info": {
   "codemirror_mode": {
    "name": "ipython",
    "version": 3
   },
   "file_extension": ".py",
   "mimetype": "text/x-python",
   "name": "python",
   "nbconvert_exporter": "python",
   "pygments_lexer": "ipython3",
   "version": "3.6.7"
  }
 },
 "nbformat": 4,
 "nbformat_minor": 1
}
