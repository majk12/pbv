{
 "cells": [
  {
   "cell_type": "markdown",
   "metadata": {},
   "source": [
    "## Posterior Bayes Vulnerability"
   ]
  },
  {
   "cell_type": "code",
   "execution_count": 1,
   "metadata": {},
   "outputs": [],
   "source": [
    "import collections\n",
    "import math\n",
    "import numpy as np\n",
    "import pandas as pd\n",
    "from sympy.utilities.iterables import partitions\n",
    "from sympy.functions.combinatorial.numbers import stirling\n",
    "import matplotlib.pyplot as plt \n",
    "%matplotlib inline"
   ]
  },
  {
   "cell_type": "markdown",
   "metadata": {},
   "source": [
    "### Variables To Test Functions"
   ]
  },
  {
   "cell_type": "code",
   "execution_count": 2,
   "metadata": {},
   "outputs": [],
   "source": [
    "k = 3"
   ]
  },
  {
   "cell_type": "code",
   "execution_count": 3,
   "metadata": {},
   "outputs": [],
   "source": [
    "n = 10"
   ]
  },
  {
   "cell_type": "code",
   "execution_count": 4,
   "metadata": {},
   "outputs": [],
   "source": [
    "probs = [1/2, 1/3, 1/6]"
   ]
  },
  {
   "cell_type": "code",
   "execution_count": 5,
   "metadata": {},
   "outputs": [],
   "source": [
    "uni_probs = [1/3, 1/3, 1/3]"
   ]
  },
  {
   "cell_type": "code",
   "execution_count": 6,
   "metadata": {},
   "outputs": [],
   "source": [
    "range_max = 200"
   ]
  },
  {
   "cell_type": "markdown",
   "metadata": {},
   "source": [
    "### Functions"
   ]
  },
  {
   "cell_type": "markdown",
   "metadata": {},
   "source": [
    "__uni_post_bayes_vuln__ calculates the posterior Bayes vulnerability under a *uniform* prior using Stirling numbers of the second kind. <br>\n",
    "n: size of the column <br>\n",
    "k: number of unique plaintext values/diseases <br>\n",
    "$$V_1[\\pi \\triangleright C] = \\frac{\\sum_{i=1}^{min(n,k)} s2(n, i)}{k^n} $$"
   ]
  },
  {
   "cell_type": "code",
   "execution_count": 2,
   "metadata": {},
   "outputs": [],
   "source": [
    "def uni_post_bayes_vuln(n, k):\n",
    "    num = 0\n",
    "    den = 0\n",
    "    for i in range(1, k+1): # goes from 1-k\n",
    "        num = num + stirling(n, i)\n",
    "    den = pow(k, n)\n",
    "    return num/den"
   ]
  },
  {
   "cell_type": "code",
   "execution_count": 8,
   "metadata": {},
   "outputs": [
    {
     "data": {
      "text/plain": [
       "5/27"
      ]
     },
     "execution_count": 8,
     "metadata": {},
     "output_type": "execute_result"
    }
   ],
   "source": [
    "uni_post_bayes_vuln(3, k)"
   ]
  },
  {
   "cell_type": "markdown",
   "metadata": {},
   "source": [
    "__prior_bayes_vuln__ calculates the prior Bayes vulnerability <br>\n",
    "n: the size of the column <br>\n",
    "Pi: the probability distribution of individual diseases <br>\n",
    "In this case, the adversary would choose the most likely disease for every column.<br>\n",
    "Therefore, the prior Bayes vulnerability is $(\\max\\pi)^n$"
   ]
  },
  {
   "cell_type": "code",
   "execution_count": 3,
   "metadata": {},
   "outputs": [],
   "source": [
    "def prior_bayes_vuln(n, Pi):\n",
    "    Pi.sort(reverse=True) \n",
    "    return pow(Pi[0],n)"
   ]
  },
  {
   "cell_type": "markdown",
   "metadata": {},
   "source": [
    "__calc_set_partitions(n,p)__ calculates the number of set partitions\n",
    "<br>\n",
    "n: positive integer\n",
    "<br>\n",
    "p: a unique integer partition, as a python dictionary\n",
    "<br>\n",
    "Example:\n",
    "```python\n",
    "calc_set_partitions(6, {4:1, 1:2})\n",
    "```\n",
    "Output:\n",
    "```python\n",
    "15.0\n",
    "```\n",
    "Specific formula:<br>\n",
    "$$\\text{set partitions}(6,\\{4:1, 1:2\\}) = \\frac{6!}{\\left(4!\\right)1! \\times \\left(1!1!\\right)2!} $$\n",
    "\n",
    "Generalized formula:<br>\n",
    "With an interger partition $p$ containing integers $i$, each with multiplicity of $m$,\n",
    "$$\\text{set partitions}(n,p)=\\frac{n!}{\\prod_{i \\in p} i!^m m!}$$"
   ]
  },
  {
   "cell_type": "code",
   "execution_count": 4,
   "metadata": {},
   "outputs": [],
   "source": [
    "def calc_set_partitions(n,p):\n",
    "    num = math.factorial(n)\n",
    "    den = 1\n",
    "    mul = 0\n",
    "    for i in p.keys():\n",
    "        mul = p[i]\n",
    "        den = den * pow(math.factorial(i), mul) * math.factorial(mul)\n",
    "    num_index = num / den\n",
    "    return num_index"
   ]
  },
  {
   "cell_type": "markdown",
   "metadata": {},
   "source": [
    "__calc_max_prob__ calculates the maximum probability of a unique integer partition <br>\n",
    "Multiplies the largest fraction in $\\pi$ to the power of the largest integer in the integer partition in decending order<br>\n",
    "p: a unique integer partition, as a python dictionary<br>\n",
    "Pi: the prior probability distribution<br>\n",
    "Example:\n",
    "```python\n",
    "calc_max_prob({4:1,1:2},[1/2, 1/3, 1/6])\n",
    "```\n",
    "Output:\n",
    "```python\n",
    "0.003472222222222222\n",
    "``` \n",
    "which is equal to 1/288"
   ]
  },
  {
   "cell_type": "code",
   "execution_count": 5,
   "metadata": {},
   "outputs": [],
   "source": [
    "def calc_max_prob(p, Pi):\n",
    "    Pi.sort(reverse=True)\n",
    "    frac = 1\n",
    "    ind = 0\n",
    "    val = -1\n",
    "    for key in sorted(p.keys(), reverse=True):\n",
    "        val = p[key]\n",
    "        for i in range(val):\n",
    "            frac = frac * pow(Pi[ind], key)\n",
    "            ind = ind + 1\n",
    "    return frac"
   ]
  },
  {
   "cell_type": "markdown",
   "metadata": {},
   "source": [
    "$$ V_1 [C \\triangleright \\pi ]  = \\sum_{p=1}^{|\\text{partitions}(n, k)|} \\text{set partitions}(n, p)\\times\\text{max prob} (p, \\pi )  $$\n",
    "\n",
    "__partitions(n, m)__ generates a dictionary of integer partitions\n",
    "<br>\n",
    "n: positive integer\n",
    "<br>\n",
    "m: the maximum number of parts in partition\n",
    "<br>\n",
    "Outputs a dictionary where the keys are the integers and the values are the number of times that integer occurs\n",
    "\n",
    "Example:\n",
    "```python\n",
    "for p in partitions(6,3):\n",
    "    print(p)\n",
    "```\n",
    "Output:\n",
    "```python\n",
    "{6:1}\n",
    "{5:1, 1:1}\n",
    "{4:1, 2:1}\n",
    "{4:1, 1:2}\n",
    "{3:2}\n",
    "{3:1, 2:1, 1:1}\n",
    "{2:3}\n",
    "```\n",
    "For every dictionary, __nonuni_post_bayes_vuln__ multiplies the number of set partitions and its max probability.\n",
    "These numbers are added together for all integer partitions to calculate the final posterior bayes vulnerability."
   ]
  },
  {
   "cell_type": "code",
   "execution_count": 6,
   "metadata": {},
   "outputs": [],
   "source": [
    "def nonuni_post_bayes_vuln(n, k, Pi):\n",
    "    pbvsum = 0\n",
    "    for p in partitions(n, m=k):  \n",
    "        num = calc_set_partitions(n,p)\n",
    "        frac = calc_max_prob(p, Pi)\n",
    "        val = num * frac\n",
    "        pbvsum = pbvsum + val\n",
    "    return pbvsum"
   ]
  },
  {
   "cell_type": "code",
   "execution_count": 6,
   "metadata": {},
   "outputs": [
    {
     "name": "stdout",
     "output_type": "stream",
     "text": [
      "P:  {10: 1}\n",
      "num of index partitions:  1.0\n",
      "best you can do:  0.0009765625\n",
      "weigh by num of index partitions:  0.0009765625\n",
      "P:  {9: 1, 1: 1}\n",
      "num of index partitions:  10.0\n",
      "best you can do:  0.0006510416666666666\n",
      "weigh by num of index partitions:  0.006510416666666666\n",
      "P:  {8: 1, 2: 1}\n",
      "num of index partitions:  45.0\n",
      "best you can do:  0.00043402777777777775\n",
      "weigh by num of index partitions:  0.01953125\n",
      "P:  {8: 1, 1: 2}\n",
      "num of index partitions:  45.0\n",
      "best you can do:  0.00021701388888888888\n",
      "weigh by num of index partitions:  0.009765625\n",
      "P:  {7: 1, 3: 1}\n",
      "num of index partitions:  120.0\n",
      "best you can do:  0.0002893518518518518\n",
      "weigh by num of index partitions:  0.03472222222222222\n",
      "P:  {7: 1, 2: 1, 1: 1}\n",
      "num of index partitions:  360.0\n",
      "best you can do:  0.00014467592592592592\n",
      "weigh by num of index partitions:  0.05208333333333333\n",
      "P:  {6: 1, 4: 1}\n",
      "num of index partitions:  210.0\n",
      "best you can do:  0.0001929012345679012\n",
      "weigh by num of index partitions:  0.04050925925925925\n",
      "P:  {6: 1, 3: 1, 1: 1}\n",
      "num of index partitions:  840.0\n",
      "best you can do:  9.645061728395058e-05\n",
      "weigh by num of index partitions:  0.08101851851851849\n",
      "P:  {6: 1, 2: 2}\n",
      "num of index partitions:  630.0\n",
      "best you can do:  4.8225308641975306e-05\n",
      "weigh by num of index partitions:  0.030381944444444444\n",
      "P:  {5: 2}\n",
      "num of index partitions:  126.0\n",
      "best you can do:  0.00012860082304526745\n",
      "weigh by num of index partitions:  0.0162037037037037\n",
      "P:  {5: 1, 4: 1, 1: 1}\n",
      "num of index partitions:  1260.0\n",
      "best you can do:  6.430041152263372e-05\n",
      "weigh by num of index partitions:  0.08101851851851849\n",
      "P:  {5: 1, 3: 1, 2: 1}\n",
      "num of index partitions:  2520.0\n",
      "best you can do:  3.215020576131686e-05\n",
      "weigh by num of index partitions:  0.08101851851851849\n",
      "P:  {4: 2, 2: 1}\n",
      "num of index partitions:  1575.0\n",
      "best you can do:  2.1433470507544577e-05\n",
      "weigh by num of index partitions:  0.033757716049382706\n",
      "P:  {4: 1, 3: 2}\n",
      "num of index partitions:  2100.0\n",
      "best you can do:  1.0716735253772285e-05\n",
      "weigh by num of index partitions:  0.0225051440329218\n",
      "0.5100027327674895\n"
     ]
    }
   ],
   "source": [
    "Pi = [1/2, 1/3, 1/6]\n",
    "n = 10\n",
    "k = 3\n",
    "pbvsum = 0\n",
    "for p in partitions(n, m=k):\n",
    "    print(\"P: \", p)\n",
    "    num = calc_set_partitions(n,p)\n",
    "    print(\"num of index partitions: \", num)\n",
    "    frac = calc_max_prob(p, Pi)\n",
    "    print(\"best you can do: \", frac)\n",
    "    val = num * frac\n",
    "    print(\"weigh by num of index partitions: \", val)\n",
    "    pbvsum = pbvsum + val\n",
    "print(pbvsum)"
   ]
  },
  {
   "cell_type": "markdown",
   "metadata": {},
   "source": [
    "#### Test Calculations"
   ]
  },
  {
   "cell_type": "code",
   "execution_count": 13,
   "metadata": {},
   "outputs": [
    {
     "data": {
      "text/plain": [
       "0.015625"
      ]
     },
     "execution_count": 13,
     "metadata": {},
     "output_type": "execute_result"
    }
   ],
   "source": [
    "prior_bayes_vuln(6, probs)"
   ]
  },
  {
   "cell_type": "code",
   "execution_count": 10,
   "metadata": {},
   "outputs": [
    {
     "data": {
      "text/plain": [
       "0.5100027327674895"
      ]
     },
     "execution_count": 10,
     "metadata": {},
     "output_type": "execute_result"
    }
   ],
   "source": [
    "nonuni_post_bayes_vuln(10, 3, probs)"
   ]
  },
  {
   "cell_type": "code",
   "execution_count": 15,
   "metadata": {},
   "outputs": [
    {
     "data": {
      "text/plain": [
       "0.43113425925925924"
      ]
     },
     "execution_count": 15,
     "metadata": {},
     "output_type": "execute_result"
    }
   ],
   "source": [
    "745/1728"
   ]
  },
  {
   "cell_type": "markdown",
   "metadata": {},
   "source": [
    "### Functions to graph different priors, k, and n-ranges"
   ]
  },
  {
   "cell_type": "markdown",
   "metadata": {},
   "source": [
    "***Manually write correct graph heading***"
   ]
  },
  {
   "cell_type": "code",
   "execution_count": 47,
   "metadata": {},
   "outputs": [],
   "source": [
    "def graph_it_bayes(n_range, k, probs, df):\n",
    "    x = [i+1 for i in range(n_range)]\n",
    "    y_posterior = df[\"posterior\"].iloc[-1] # saves last posterior y\n",
    "    y_prior = df[\"prior\"].iloc[-1] # save last prior y for annotation\n",
    "    \n",
    "    plt.plot(x, 'prior', \n",
    "             data=df,\n",
    "             label=\"prior\")\n",
    "    plt.plot(x, 'posterior',\n",
    "             color='green',\n",
    "             data=df,\n",
    "             linestyle='--',\n",
    "             marker='', \n",
    "             label=\"posterior\")\n",
    "    plt.xlabel('n values')\n",
    "    plt.ylabel('Bayes vulnerability')\n",
    "    plt.ylim(bottom=-.1, top = 1)\n",
    "    \n",
    "    # green dot for last y posterior vulnerability\n",
    "    plt.annotate('%.4f' % y_posterior,\n",
    "                 xy=[n_range, y_posterior],\n",
    "                 xytext=(-20, -15),\n",
    "                 textcoords='offset points')\n",
    "    plt.plot(n_range, y_posterior, \n",
    "             marker = 'o', \n",
    "             markerfacecolor='green',\n",
    "             markeredgecolor='green')\n",
    "    \n",
    "    # green dot for last y prior vulnerability\n",
    "    plt.annotate('%.4f' % y_prior,\n",
    "                 xy=[n_range, y_prior],\n",
    "                 xytext=(-20, -15),\n",
    "                 textcoords='offset points')\n",
    "    plt.plot(n_range, y_prior, \n",
    "             marker = 'o', \n",
    "             markerfacecolor='blue',\n",
    "             markeredgecolor='blue')\n",
    "    \n",
    "    # title rounds the prior\n",
    "    format_probs = ['%.2f' % prob for prob in probs]\n",
    "    plt.title(r'Bayes vulnerability under $\\delta = \\left(\\frac{1}{2}, \\frac{26}{100}, \\frac{24}{100}\\right)$', fontsize = 16, y=1.02)\n",
    "    plt.legend(loc='upper left')\n",
    "    # legend adjusted so it doesn't run into annotations\n",
    "    #plt.legend(loc='center left', \n",
    "     #         bbox_to_anchor= (1.01, .5),\n",
    "      #        frameon=False)\n",
    "    plt.show()\n",
    "    plt.close()"
   ]
  },
  {
   "cell_type": "code",
   "execution_count": 23,
   "metadata": {},
   "outputs": [],
   "source": [
    "def graph_it_bayes_4(n_range, k, probs, df):\n",
    "    x = [i+1 for i in range(n_range)]\n",
    "    y_posterior = df[\"posterior\"].iloc[-1] # saves last posterior y\n",
    "    y_prior = df[\"prior\"].iloc[-1] # save last prior y for annotation\n",
    "    \n",
    "    plt.plot(x, 'prior', \n",
    "             data=df,\n",
    "             label=\"prior\")\n",
    "    plt.plot(x, 'posterior',\n",
    "             color='green',\n",
    "             data=df,\n",
    "             linestyle='--',\n",
    "             marker='', \n",
    "             label=\"posterior\")\n",
    "    plt.xlabel('n values')\n",
    "    plt.ylabel('Bayes vulnerability')\n",
    "    plt.ylim(bottom=-.1, top = 1)\n",
    "    \n",
    "    # green dot for last y posterior vulnerability\n",
    "    plt.annotate('%.4f' % y_posterior,\n",
    "                 xy=[n_range, y_posterior],\n",
    "                 xytext=(-20, 15),\n",
    "                 textcoords='offset points')\n",
    "    plt.plot(n_range, y_posterior, \n",
    "             marker = 'o', \n",
    "             markerfacecolor='green',\n",
    "             markeredgecolor='green')\n",
    "    \n",
    "    # green dot for last y prior vulnerability\n",
    "    plt.annotate('%.4f' % y_prior,\n",
    "                 xy=[n_range, y_prior],\n",
    "                 xytext=(-20, -15),\n",
    "                 textcoords='offset points')\n",
    "    plt.plot(n_range, y_prior, \n",
    "             marker = 'o', \n",
    "             markerfacecolor='blue',\n",
    "             markeredgecolor='blue')\n",
    "    \n",
    "    # title rounds the prior\n",
    "    format_probs = ['%.2f' % prob for prob in probs]\n",
    "    plt.title(f'Prior and Posterior Bayes Vulnerability, k = {k}')\n",
    "    plt.legend(loc='upper left')\n",
    "    # legend adjusted so it doesn't run into annotations\n",
    "    #plt.legend(loc='center left', \n",
    "     #         bbox_to_anchor= (1.01, .5),\n",
    "      #        frameon=False)\n",
    "    plt.show()\n",
    "    plt.close()"
   ]
  },
  {
   "cell_type": "code",
   "execution_count": 8,
   "metadata": {},
   "outputs": [],
   "source": [
    "def graph_bayes_prior_post(n_range, k, probs):\n",
    "    post_bayes_vs = []\n",
    "    prior_bayes_vs = []\n",
    "    for i in range(n_range):\n",
    "        post_bayes_vs.append(nonuni_post_bayes_vuln(i+1, k, probs))\n",
    "        prior_bayes_vs.append(prior_bayes_vuln(i+1, probs))\n",
    "    df = pd.DataFrame(\n",
    "        {'prior':prior_bayes_vs,\n",
    "         'posterior':post_bayes_vs\n",
    "        }\n",
    "    )\n",
    "    if k == 3:\n",
    "        graph_it_bayes(n_range, k, probs, df)\n",
    "    elif k == 4:\n",
    "        graph_it_bayes_4(n_range, k, probs, df)\n",
    "    else:\n",
    "        raise ValueError(\"k is weird\")"
   ]
  },
  {
   "cell_type": "markdown",
   "metadata": {},
   "source": [
    "### Graphs"
   ]
  },
  {
   "cell_type": "code",
   "execution_count": 9,
   "metadata": {},
   "outputs": [
    {
     "name": "stdout",
     "output_type": "stream",
     "text": [
      "The prior bayes vuln:  3.764861949598985e-96\n",
      "The posterior bayes vuln:  0.1666666666666648\n"
     ]
    }
   ],
   "source": [
    "n = 200\n",
    "k = 3\n",
    "probs = [1/3, 1/3, 1/3]\n",
    "post = nonuni_post_bayes_vuln(n, k, probs)\n",
    "prior = prior_bayes_vuln(n, probs)\n",
    "print(\"The prior bayes vuln: \", prior)\n",
    "print(\"The posterior bayes vuln: \", post)"
   ]
  },
  {
   "cell_type": "code",
   "execution_count": 41,
   "metadata": {},
   "outputs": [
    {
     "data": {
      "image/png": "[encoded data removed]",
      "text/plain": [
       "<Figure size 432x288 with 1 Axes>"
      ]
     },
     "metadata": {
      "needs_background": "light"
     },
     "output_type": "display_data"
    }
   ],
   "source": [
    "graph_bayes_prior_post(200, 3, [1/3, 1/3, 1/3])"
   ]
  },
  {
   "cell_type": "code",
   "execution_count": 36,
   "metadata": {},
   "outputs": [
    {
     "name": "stdout",
     "output_type": "stream",
     "text": [
      "The prior bayes vuln:  0.0009765625\n",
      "The posterior bayes vuln:  0.5100027327674895\n"
     ]
    }
   ],
   "source": [
    "n = 10\n",
    "k = 3\n",
    "probs = [1/2, 1/3, 1/6]\n",
    "post = nonuni_post_bayes_vuln(n, k, probs)\n",
    "prior = prior_bayes_vuln(n, probs)\n",
    "print(\"The prior bayes vuln: \", prior)\n",
    "print(\"The posterior bayes vuln: \", post)"
   ]
  },
  {
   "cell_type": "code",
   "execution_count": 39,
   "metadata": {
    "scrolled": true
   },
   "outputs": [
    {
     "data": {
      "image/png": "[encoded data removed]",
      "text/plain": [
       "<Figure size 432x288 with 1 Axes>"
      ]
     },
     "metadata": {
      "needs_background": "light"
     },
     "output_type": "display_data"
    }
   ],
   "source": [
    "graph_bayes_prior_post(200, 3, [1/2, 1/3, 1/6])"
   ]
  },
  {
   "cell_type": "code",
   "execution_count": 43,
   "metadata": {},
   "outputs": [
    {
     "name": "stdout",
     "output_type": "stream",
     "text": [
      "The prior bayes vuln:  6.223015277861142e-61\n",
      "The posterior bayes vuln:  0.4999859734203035\n"
     ]
    }
   ],
   "source": [
    "n = 200\n",
    "k = 3\n",
    "probs = [1/2, 1/4, 1/4]\n",
    "post = nonuni_post_bayes_vuln(n, k, probs)\n",
    "prior = prior_bayes_vuln(n, probs)\n",
    "print(\"The prior bayes vuln: \", prior)\n",
    "print(\"The posterior bayes vuln: \", post)"
   ]
  },
  {
   "cell_type": "code",
   "execution_count": 44,
   "metadata": {
    "scrolled": false
   },
   "outputs": [
    {
     "data": {
      "image/png": "[encoded data removed]",
      "text/plain": [
       "<Figure size 432x288 with 1 Axes>"
      ]
     },
     "metadata": {
      "needs_background": "light"
     },
     "output_type": "display_data"
    }
   ],
   "source": [
    "graph_bayes_prior_post(200, 3, [1/2, 1/4, 1/4])"
   ]
  },
  {
   "cell_type": "code",
   "execution_count": 45,
   "metadata": {},
   "outputs": [
    {
     "name": "stdout",
     "output_type": "stream",
     "text": [
      "The prior bayes vuln:  6.223015277861142e-61\n",
      "The posterior bayes vuln:  0.6553398219376529\n"
     ]
    }
   ],
   "source": [
    "n = 200\n",
    "k = 3\n",
    "probs = [1/2, .26, .24]\n",
    "post = nonuni_post_bayes_vuln(n, k, probs)\n",
    "prior = prior_bayes_vuln(n, probs)\n",
    "print(\"The prior bayes vuln: \", prior)\n",
    "print(\"The posterior bayes vuln: \", post)"
   ]
  },
  {
   "cell_type": "code",
   "execution_count": 48,
   "metadata": {
    "scrolled": true
   },
   "outputs": [
    {
     "data": {
      "image/png": "[encoded data removed]",
      "text/plain": [
       "<Figure size 432x288 with 1 Axes>"
      ]
     },
     "metadata": {
      "needs_background": "light"
     },
     "output_type": "display_data"
    }
   ],
   "source": [
    "graph_bayes_prior_post(200, 3, [1/2, .26, .24])"
   ]
  },
  {
   "cell_type": "code",
   "execution_count": 34,
   "metadata": {},
   "outputs": [
    {
     "name": "stdout",
     "output_type": "stream",
     "text": [
      "The prior bayes vuln:  3.8725919148493183e-121\n",
      "The posterior bayes vuln:  0.04166666666666664\n"
     ]
    }
   ],
   "source": [
    "n = 200\n",
    "k = 4\n",
    "probs = [1/4, 1/4, 1/4, 1/4]\n",
    "post = nonuni_post_bayes_vuln(n, k, probs)\n",
    "prior = prior_bayes_vuln(n, probs)\n",
    "print(\"The prior bayes vuln: \", prior)\n",
    "print(\"The posterior bayes vuln: \", post)"
   ]
  },
  {
   "cell_type": "code",
   "execution_count": 27,
   "metadata": {},
   "outputs": [
    {
     "data": {
      "image/png": "[encoded data removed]",
      "text/plain": [
       "<Figure size 432x288 with 1 Axes>"
      ]
     },
     "metadata": {
      "needs_background": "light"
     },
     "output_type": "display_data"
    }
   ],
   "source": [
    "graph_bayes_prior_post(200, 4, [1/4, 1/4, 1/4, 1/4])"
   ]
  },
  {
   "cell_type": "markdown",
   "metadata": {},
   "source": [
    "### Graph Under Uniform Prior"
   ]
  },
  {
   "cell_type": "code",
   "execution_count": 23,
   "metadata": {},
   "outputs": [
    {
     "data": {
      "text/html": [
       "<div>\n",
       "<style scoped>\n",
       "    .dataframe tbody tr th:only-of-type {\n",
       "        vertical-align: middle;\n",
       "    }\n",
       "\n",
       "    .dataframe tbody tr th {\n",
       "        vertical-align: top;\n",
       "    }\n",
       "\n",
       "    .dataframe thead th {\n",
       "        text-align: right;\n",
       "    }\n",
       "</style>\n",
       "<table border=\"1\" class=\"dataframe\">\n",
       "  <thead>\n",
       "    <tr style=\"text-align: right;\">\n",
       "      <th></th>\n",
       "      <th>prior</th>\n",
       "      <th>posterior</th>\n",
       "    </tr>\n",
       "  </thead>\n",
       "  <tbody>\n",
       "    <tr>\n",
       "      <th>0</th>\n",
       "      <td>0.333333</td>\n",
       "      <td>1/3</td>\n",
       "    </tr>\n",
       "    <tr>\n",
       "      <th>1</th>\n",
       "      <td>0.111111</td>\n",
       "      <td>2/9</td>\n",
       "    </tr>\n",
       "    <tr>\n",
       "      <th>2</th>\n",
       "      <td>0.037037</td>\n",
       "      <td>5/27</td>\n",
       "    </tr>\n",
       "    <tr>\n",
       "      <th>3</th>\n",
       "      <td>0.012346</td>\n",
       "      <td>14/81</td>\n",
       "    </tr>\n",
       "    <tr>\n",
       "      <th>4</th>\n",
       "      <td>0.004115</td>\n",
       "      <td>41/243</td>\n",
       "    </tr>\n",
       "  </tbody>\n",
       "</table>\n",
       "</div>"
      ],
      "text/plain": [
       "      prior posterior\n",
       "0  0.333333       1/3\n",
       "1  0.111111       2/9\n",
       "2  0.037037      5/27\n",
       "3  0.012346     14/81\n",
       "4  0.004115    41/243"
      ]
     },
     "execution_count": 23,
     "metadata": {},
     "output_type": "execute_result"
    }
   ],
   "source": [
    "uni_post_bayes_vs = []\n",
    "uni_prior_bayes_vs = []\n",
    "for i in range(range_max):\n",
    "    uni_post_bayes_vs.append(uni_post_bayes_vuln(i+1, k))\n",
    "    uni_prior_bayes_vs.append(prior_bayes_vuln(i+1, uni_probs))\n",
    "uni_bayes_vuln_df = pd.DataFrame(\n",
    "    {'prior':uni_prior_bayes_vs,\n",
    "     'posterior':uni_post_bayes_vs\n",
    "    }\n",
    ")\n",
    "uni_bayes_vuln_df.head()"
   ]
  },
  {
   "cell_type": "code",
   "execution_count": 24,
   "metadata": {
    "scrolled": true
   },
   "outputs": [
    {
     "data": {
      "image/png": "[encoded data removed]",
      "text/plain": [
       "<Figure size 432x288 with 1 Axes>"
      ]
     },
     "metadata": {
      "needs_background": "light"
     },
     "output_type": "display_data"
    }
   ],
   "source": [
    "x = [i+1 for i in range(range_max)]\n",
    "\n",
    "plt.plot(x, 'prior', data=uni_bayes_vuln_df, marker='', label=\"prior\")\n",
    "plt.plot(x, 'posterior', data=uni_bayes_vuln_df, marker='', label=\"posterior\")\n",
    "plt.xlabel('n values')\n",
    "plt.ylabel('bayes vulnerability')\n",
    "\n",
    "plt.title('k = 3, prior = 1/3, 1/3, 1/3')\n",
    "plt.legend()\n",
    "plt.show()"
   ]
  }
 ],
 "metadata": {
  "kernelspec": {
   "display_name": "Python 3",
   "language": "python",
   "name": "python3"
  },
  "language_info": {
   "codemirror_mode": {
    "name": "ipython",
    "version": 3
   },
   "file_extension": ".py",
   "mimetype": "text/x-python",
   "name": "python",
   "nbconvert_exporter": "python",
   "pygments_lexer": "ipython3",
   "version": "3.6.7"
  }
 },
 "nbformat": 4,
 "nbformat_minor": 1
}
