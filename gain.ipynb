{
 "cells": [
  {
   "cell_type": "code",
   "execution_count": 1,
   "metadata": {},
   "outputs": [],
   "source": [
    "import collections\n",
    "import math\n",
    "import string\n",
    "import numpy as np\n",
    "import pandas as pd\n",
    "from itertools import permutations\n",
    "from sympy.utilities.iterables import partitions\n",
    "from sympy.functions.combinatorial.numbers import stirling\n",
    "import matplotlib.pyplot as plt \n",
    "%matplotlib notebook\n",
    "pd.set_option('precision', 7)"
   ]
  },
  {
   "cell_type": "markdown",
   "metadata": {},
   "source": [
    "## Variables"
   ]
  },
  {
   "cell_type": "code",
   "execution_count": 2,
   "metadata": {},
   "outputs": [],
   "source": [
    "pi = [1/2, 1/3, 1/6]\n",
    "p1 = {3:1, 2:1, 1:1}\n",
    "p2 = {3:2}\n",
    "p3 = {6:1}\n",
    "k=3\n",
    "p_test = p3"
   ]
  },
  {
   "cell_type": "markdown",
   "metadata": {},
   "source": [
    "**list_all_ints** is a helper function to type_probability\n",
    "\n",
    "Input: the integer partition dictionary\n",
    "\n",
    "Output: a list of the integers\n",
    "\n",
    "```python\n",
    "p = {3:1, 1:2}\n",
    "col_names = [3, 1, 1]\n",
    "```"
   ]
  },
  {
   "cell_type": "code",
   "execution_count": 3,
   "metadata": {},
   "outputs": [],
   "source": [
    "def list_all_ints(p):\n",
    "    col_names = []\n",
    "    for i in p.keys(): # i = integer, m = multiplicity\n",
    "        m = p[i]\n",
    "        for x in range(m):\n",
    "            col_names.append(i)\n",
    "    return col_names"
   ]
  },
  {
   "cell_type": "markdown",
   "metadata": {},
   "source": [
    "**type_3**\n",
    "\n",
    "Input: \n",
    "- an integer partition p \n",
    "- pi, a list of probabilities per disease in k \n",
    "- k, the number of unique plaintext values/diseases\n",
    "\n",
    "```python\n",
    "p = {6:1}\n",
    "pi = [.5, .333, .166]\n",
    "k = 3\n",
    "```\n",
    "\n",
    "Output: \n",
    "- df, a dataframe. The first three columns are 'a', 'b', and 'c', the diseases.  The final column is the probability of the column's type. The rows represent the type of column.\n",
    "- int_list, a expanded list of the integer partition. For example, if p = {3:2}, int_list = [3, 3]\n",
    "\n",
    "An example of df:\n",
    "\n",
    "|   -  | a | b | c | probs |\n",
    "|---|--|---|---|-------|\n",
    "| 0   | 6 | 0 | 0 | 0.0156250 |\n",
    "| 1   | 0 | 0 | 6 | 0.0000214 |\n",
    "| 2   | 0 | 6 | 0 | 0.0013717 |\n",
    "\n",
    "\n",
    "Notes: \n",
    "- hardcoded for k = 3\n",
    "- uses list_all_ints(p) as a helper function. "
   ]
  },
  {
   "cell_type": "code",
   "execution_count": 4,
   "metadata": {},
   "outputs": [],
   "source": [
    "def type_3(p, pi, k):\n",
    "    int_list = list_all_ints(p)\n",
    "    int_list.extend([0] * (k-len(int_list))) # pads list with 0s\n",
    "    data = list(set(permutations(int_list, k)))\n",
    "    df = pd.DataFrame(data = data, columns=['a', 'b','c'])\n",
    "    df['prob'] = pow(pi[0], df['a']) * pow(pi[1], df['b']) * pow(pi[2], df['c'])\n",
    "    return df, int_list"
   ]
  },
  {
   "cell_type": "code",
   "execution_count": 5,
   "metadata": {},
   "outputs": [
    {
     "name": "stdout",
     "output_type": "stream",
     "text": [
      "   a  b  c       prob\n",
      "0  6  0  0  0.0156250\n",
      "1  0  0  6  0.0000214\n",
      "2  0  6  0  0.0013717\n"
     ]
    }
   ],
   "source": [
    "# Test of type_3 with different int partitions\n",
    "my_df, my_int_list = type_3(p_test, pi, k)\n",
    "print(my_df)"
   ]
  },
  {
   "cell_type": "markdown",
   "metadata": {},
   "source": [
    "***choices_matrix()*** provides a matrix listing all the choices for a given integer partition and prior pi\n",
    "\n",
    "Input:\n",
    "- df: the dataframe with all possible types for the integer partition\n",
    "- int_list: the expanded integer partition\n",
    "\n",
    "Output:\n",
    "- df_g, or dataframe_guess which contains the (not normalized) probabilities of every possible block in the integer partition being the respective diseases.\n",
    "\n",
    "An example of df_g:\n",
    "\n",
    "|   -  | a | b | c |\n",
    "|---|--|---|---|\n",
    "| 6   | 0.0156250 | 0.0013717 | 0.0000214 |\n",
    "| 0   | 0.0013932 | 0.0156464 | 0.0169967 |\n",
    "| 0   | 0.0013932 | 0.0156464 | 0.0169967 |"
   ]
  },
  {
   "cell_type": "code",
   "execution_count": 6,
   "metadata": {},
   "outputs": [],
   "source": [
    "def choices_matrix(df, int_list):\n",
    "    df_g = pd.DataFrame(0, index=int_list, columns=['a','b','c'])\n",
    "    for i in int_list:\n",
    "        df_g.loc[i,'a'] = df[df['a'] == i]['prob'].sum()\n",
    "        df_g.loc[i,'b'] = df[df['b'] == i]['prob'].sum()\n",
    "        df_g.loc[i,'c'] = df[df['c'] == i]['prob'].sum()\n",
    "    return df_g"
   ]
  },
  {
   "cell_type": "code",
   "execution_count": 7,
   "metadata": {},
   "outputs": [
    {
     "name": "stdout",
     "output_type": "stream",
     "text": [
      "           a          b          c\n",
      "6  0.0156250  0.0013717  0.0000214\n",
      "0  0.0013932  0.0156464  0.0169967\n",
      "0  0.0013932  0.0156464  0.0169967\n"
     ]
    }
   ],
   "source": [
    "# Test of choices_matrix() w/type 3\n",
    "my_df_guess = choices_matrix(my_df, my_int_list)\n",
    "print(my_df_guess)"
   ]
  },
  {
   "cell_type": "markdown",
   "metadata": {},
   "source": [
    "***reduce_choices()*** reduces the size of the df_g matrix to only feasible answers and removes equal choices\n",
    "\n",
    "Input:\n",
    "- df_g, the matrix containing all of the possible choices\n",
    "- p, the integer partition dictionary\n",
    "\n",
    "Output:\n",
    "- df_reduced_guess, a dataframe that indicates the possible unique choices an adversary choice make given an integer partition"
   ]
  },
  {
   "cell_type": "code",
   "execution_count": 8,
   "metadata": {},
   "outputs": [],
   "source": [
    "def reduce_choices(df_g, p):\n",
    "    data = []\n",
    "    ### Minimize df\n",
    "    # if p[k] (multiplicity) >1, only take one\n",
    "    # only keep blocks > size 0 (where row index ! = 0)\n",
    "    for k in p.keys(): # for every unique integer in p, copy a row in df_guess that matches the int\n",
    "        if p[k] > 1: # choose first example if >1\n",
    "            data.append(df_g.loc[k].iloc[0])# shouldn't need to .divide(p[k]))\n",
    "        else:\n",
    "            data.append(df_g.loc[k]) #copy the row, no edits\n",
    "    df_reduced_guess = pd.DataFrame(data = data)\n",
    "    return df_reduced_guess"
   ]
  },
  {
   "cell_type": "code",
   "execution_count": 9,
   "metadata": {},
   "outputs": [
    {
     "data": {
      "text/html": [
       "<div>\n",
       "<style scoped>\n",
       "    .dataframe tbody tr th:only-of-type {\n",
       "        vertical-align: middle;\n",
       "    }\n",
       "\n",
       "    .dataframe tbody tr th {\n",
       "        vertical-align: top;\n",
       "    }\n",
       "\n",
       "    .dataframe thead th {\n",
       "        text-align: right;\n",
       "    }\n",
       "</style>\n",
       "<table border=\"1\" class=\"dataframe\">\n",
       "  <thead>\n",
       "    <tr style=\"text-align: right;\">\n",
       "      <th></th>\n",
       "      <th>a</th>\n",
       "      <th>b</th>\n",
       "      <th>c</th>\n",
       "    </tr>\n",
       "  </thead>\n",
       "  <tbody>\n",
       "    <tr>\n",
       "      <th>6</th>\n",
       "      <td>0.015625</td>\n",
       "      <td>0.0013717</td>\n",
       "      <td>0.0000214</td>\n",
       "    </tr>\n",
       "  </tbody>\n",
       "</table>\n",
       "</div>"
      ],
      "text/plain": [
       "          a          b          c\n",
       "6  0.015625  0.0013717  0.0000214"
      ]
     },
     "execution_count": 9,
     "metadata": {},
     "output_type": "execute_result"
    }
   ],
   "source": [
    "my_reduced_df = reduce_choices(my_df_guess, p3)\n",
    "my_reduced_df.head()"
   ]
  },
  {
   "cell_type": "markdown",
   "metadata": {},
   "source": [
    "***choose_max()*** takes the reduced matrix and says which guess to make, along with the posterior vulnerability the integer partition provided\n",
    "\n",
    "Input:\n",
    "- df_reduced_guess, the reduced matrix of choices\n",
    "\n",
    "Output:\n",
    "- val, the contribution to the posterior vulnerability for one instance of one integer partition\n",
    "- block_size, the block to guess about\n",
    "- disease, the correct disease, or plaintext value, to guess"
   ]
  },
  {
   "cell_type": "code",
   "execution_count": 52,
   "metadata": {},
   "outputs": [],
   "source": [
    "def choose_max(df_reduced_guess):\n",
    "    ### Record max\n",
    "    #val = df_reduced_guess.max().max() # contribution to the posterior vuln by this integer partition\n",
    "    val = 5\n",
    "    block_size = 0\n",
    "    disease = 'a'\n",
    "    return val, block_size, disease"
   ]
  },
  {
   "cell_type": "code",
   "execution_count": 53,
   "metadata": {},
   "outputs": [
    {
     "name": "stdout",
     "output_type": "stream",
     "text": [
      "contribution of partition to posterior vuln:  5\n",
      "The best choice is***\n",
      "block size:  0\n",
      "disease:  a\n"
     ]
    }
   ],
   "source": [
    "# Tets of choose_max\n",
    "my_val, my_block, my_disease = choose_max(my_reduced_df)\n",
    "print(\"contribution of partition to posterior vuln: \", my_val)\n",
    "print(\"The best choice is***\")\n",
    "print(\"block size: \", my_block)\n",
    "print(\"disease: \", my_disease)"
   ]
  },
  {
   "cell_type": "code",
   "execution_count": null,
   "metadata": {},
   "outputs": [],
   "source": [
    "df.max() # to max down dataframe column"
   ]
  },
  {
   "cell_type": "code",
   "execution_count": null,
   "metadata": {},
   "outputs": [],
   "source": [
    "df.idxmax()"
   ]
  },
  {
   "cell_type": "code",
   "execution_count": null,
   "metadata": {},
   "outputs": [],
   "source": [
    "df.max().max() # to max over entire dataframe"
   ]
  },
  {
   "cell_type": "markdown",
   "metadata": {},
   "source": [
    "**calc_set_partitions()** calculates number of index partitions given an integer n and a integer partition p"
   ]
  },
  {
   "cell_type": "code",
   "execution_count": null,
   "metadata": {},
   "outputs": [],
   "source": [
    "def calc_set_partitions(n,p):\n",
    "    num = math.factorial(n)\n",
    "    den = 1\n",
    "    mul = 0\n",
    "    for i in p.keys():\n",
    "        m = p[i]\n",
    "        den = den * pow(math.factorial(i), m) * math.factorial(m)\n",
    "    frac = num / den\n",
    "    return frac"
   ]
  },
  {
   "cell_type": "markdown",
   "metadata": {},
   "source": [
    "### Tests"
   ]
  },
  {
   "cell_type": "code",
   "execution_count": null,
   "metadata": {},
   "outputs": [],
   "source": [
    "my_int_list = [3, 3, 0]\n",
    "my_list = list(set(permutations(my_int_list, k)))\n",
    "print(my_list)"
   ]
  },
  {
   "cell_type": "code",
   "execution_count": null,
   "metadata": {},
   "outputs": [],
   "source": [
    "for key in pi_dictionary:\n",
    "    print(\"key: \", key)"
   ]
  },
  {
   "cell_type": "code",
   "execution_count": null,
   "metadata": {
    "scrolled": true
   },
   "outputs": [],
   "source": [
    "n = 6\n",
    "k = 3\n",
    "for p in partitions(n, m = k):\n",
    "    print(\"p = \", p)\n",
    "    print(\"p.keys()= \", p.keys())\n",
    "    for k in p.keys():\n",
    "        print(\"value: \", p[k])\n",
    "    num = calc_set_partitions(n,p)\n",
    "    print(\"index_partitions: \", num)"
   ]
  },
  {
   "cell_type": "markdown",
   "metadata": {},
   "source": [
    "### Trash"
   ]
  },
  {
   "cell_type": "markdown",
   "metadata": {},
   "source": [
    "**k_dictionary**\n",
    "\n",
    "Input: pi, the probability distribution\n",
    "\n",
    "Output: a dictionary with letters for keys. The letters represent individual diseases. Can be used to keep track of individual diseases throughout the gain function calculations.\n",
    "\n",
    "Note-- Not currently in use\n",
    "\n",
    "```python\n",
    "pi = [1/2, 1/3, 1/6]\n",
    "k_dict = {'a': 0.5, 'b': 0.33333, 'c':0.166666}\n",
    "```"
   ]
  },
  {
   "cell_type": "code",
   "execution_count": 3,
   "metadata": {},
   "outputs": [],
   "source": [
    "def k_dictionary(pi):\n",
    "    return dict(zip(string.ascii_lowercase, pi))"
   ]
  },
  {
   "cell_type": "code",
   "execution_count": null,
   "metadata": {},
   "outputs": [],
   "source": [
    "pi_dictionary = k_dictionary(pi)\n",
    "\n",
    "print(pi_dictionary)"
   ]
  },
  {
   "cell_type": "markdown",
   "metadata": {},
   "source": [
    "**type_1**\n",
    "\n",
    "Input: \n",
    "- an integer partition p \n",
    "- pi, a list of probabilities per disease in k \n",
    "\n",
    "```python\n",
    "p = {5:1, 1:1}\n",
    "pi = [.5, .333, .166]\n",
    "```\n",
    "\n",
    "Output: a dataframe where the first three columns represent the type and the fourth is the type's probability\n",
    "\n",
    "Notes: \n",
    "- hardcoded for k = 3\n",
    "- uses col_names_p() as a helper function. "
   ]
  },
  {
   "cell_type": "code",
   "execution_count": null,
   "metadata": {},
   "outputs": [],
   "source": [
    "def type_1(p, pi):\n",
    "    '''\n",
    "    We use the int partition p to calculate \n",
    "    1. the number of bins and \n",
    "    2. the column names for the dataframe\n",
    "    '''\n",
    "    bins = sum(p.values()) #there will always be <=k 'bins' \n",
    "    col_names = list_all_ints(p)\n",
    "    df = pd.DataFrame(list(permutations(pi, bins)), columns=col_names)\n",
    "    df['prob'] = pow(df[col_names[0]],col_names[0]) *  pow(df[col_names[1]],col_names[1]) *  pow(df[col_names[2]],col_names[2])\n",
    "    return df"
   ]
  },
  {
   "cell_type": "code",
   "execution_count": 39,
   "metadata": {},
   "outputs": [
    {
     "name": "stdout",
     "output_type": "stream",
     "text": [
      "           3          2          1       prob\n",
      "0  0.5000000  0.3333333  0.1666667  0.0023148\n",
      "1  0.5000000  0.1666667  0.3333333  0.0011574\n",
      "2  0.3333333  0.5000000  0.1666667  0.0015432\n",
      "3  0.3333333  0.1666667  0.5000000  0.0005144\n",
      "4  0.1666667  0.5000000  0.3333333  0.0003858\n",
      "5  0.1666667  0.3333333  0.5000000  0.0002572\n"
     ]
    }
   ],
   "source": [
    "df = type_1({3:1, 2:1, 1:1}, pi)\n",
    "print(df)"
   ]
  },
  {
   "cell_type": "code",
   "execution_count": null,
   "metadata": {},
   "outputs": [],
   "source": [
    "def type_2(p, pi, k):\n",
    "    int_list = list_all_ints(p)\n",
    "    int_list.extend([0] * (k-len(int_list))) # pads list with 0s\n",
    "    df = pd.DataFrame(list(permutations(int_list, k)), columns=['a', 'b','c'])\n",
    "    df['prob'] = pow(pi[0], df['a']) * pow(pi[1], df['b']) * pow(pi[2], df['c'])\n",
    "    return df, int_list"
   ]
  },
  {
   "cell_type": "code",
   "execution_count": 40,
   "metadata": {},
   "outputs": [
    {
     "data": {
      "text/html": [
       "<div>\n",
       "<style scoped>\n",
       "    .dataframe tbody tr th:only-of-type {\n",
       "        vertical-align: middle;\n",
       "    }\n",
       "\n",
       "    .dataframe tbody tr th {\n",
       "        vertical-align: top;\n",
       "    }\n",
       "\n",
       "    .dataframe thead th {\n",
       "        text-align: right;\n",
       "    }\n",
       "</style>\n",
       "<table border=\"1\" class=\"dataframe\">\n",
       "  <thead>\n",
       "    <tr style=\"text-align: right;\">\n",
       "      <th></th>\n",
       "      <th>a</th>\n",
       "      <th>b</th>\n",
       "      <th>c</th>\n",
       "      <th>prob</th>\n",
       "    </tr>\n",
       "  </thead>\n",
       "  <tbody>\n",
       "    <tr>\n",
       "      <th>0</th>\n",
       "      <td>6</td>\n",
       "      <td>0</td>\n",
       "      <td>0</td>\n",
       "      <td>0.0156250</td>\n",
       "    </tr>\n",
       "    <tr>\n",
       "      <th>1</th>\n",
       "      <td>6</td>\n",
       "      <td>0</td>\n",
       "      <td>0</td>\n",
       "      <td>0.0156250</td>\n",
       "    </tr>\n",
       "    <tr>\n",
       "      <th>2</th>\n",
       "      <td>0</td>\n",
       "      <td>6</td>\n",
       "      <td>0</td>\n",
       "      <td>0.0013717</td>\n",
       "    </tr>\n",
       "    <tr>\n",
       "      <th>3</th>\n",
       "      <td>0</td>\n",
       "      <td>0</td>\n",
       "      <td>6</td>\n",
       "      <td>0.0000214</td>\n",
       "    </tr>\n",
       "    <tr>\n",
       "      <th>4</th>\n",
       "      <td>0</td>\n",
       "      <td>6</td>\n",
       "      <td>0</td>\n",
       "      <td>0.0013717</td>\n",
       "    </tr>\n",
       "  </tbody>\n",
       "</table>\n",
       "</div>"
      ],
      "text/plain": [
       "   a  b  c       prob\n",
       "0  6  0  0  0.0156250\n",
       "1  6  0  0  0.0156250\n",
       "2  0  6  0  0.0013717\n",
       "3  0  0  6  0.0000214\n",
       "4  0  6  0  0.0013717"
      ]
     },
     "execution_count": 40,
     "metadata": {},
     "output_type": "execute_result"
    }
   ],
   "source": [
    "# Test of type_2 with different int partitions\n",
    "df2, int_list = type_2(p_test, pi, k)\n",
    "df2.head()"
   ]
  },
  {
   "cell_type": "code",
   "execution_count": null,
   "metadata": {},
   "outputs": [],
   "source": []
  }
 ],
 "metadata": {
  "kernelspec": {
   "display_name": "Python 3",
   "language": "python",
   "name": "python3"
  },
  "language_info": {
   "codemirror_mode": {
    "name": "ipython",
    "version": 3
   },
   "file_extension": ".py",
   "mimetype": "text/x-python",
   "name": "python",
   "nbconvert_exporter": "python",
   "pygments_lexer": "ipython3",
   "version": "3.6.7"
  }
 },
 "nbformat": 4,
 "nbformat_minor": 2
}
