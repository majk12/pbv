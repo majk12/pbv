{
 "cells": [
  {
   "cell_type": "code",
   "execution_count": 1,
   "metadata": {},
   "outputs": [],
   "source": [
    "import collections\n",
    "import math\n",
    "import string\n",
    "import numpy as np\n",
    "import pandas as pd\n",
    "from itertools import permutations\n",
    "from sympy.utilities.iterables import partitions\n",
    "import matplotlib.pyplot as plt \n",
    "%matplotlib notebook\n",
    "pd.set_option('precision', 7)"
   ]
  },
  {
   "cell_type": "markdown",
   "metadata": {},
   "source": [
    "Todo: Update documentation. Check/fix case for n <= 3. Add annotation to graphs"
   ]
  },
  {
   "cell_type": "markdown",
   "metadata": {},
   "source": [
    "**Test Variables**"
   ]
  },
  {
   "cell_type": "code",
   "execution_count": 50,
   "metadata": {},
   "outputs": [],
   "source": [
    "## Number of unique diseases possible\n",
    "k = 3\n",
    "\n",
    "## Priors\n",
    "pi = [1/2, 1/3, 1/6]\n",
    "pi_uni = [1/3, 1/3, 1/3]\n",
    "\n",
    "## Integer Partitions\n",
    "### n = 6\n",
    "p_321 = {3:1, 2:1, 1:1}\n",
    "p_two_3s = {3:2}\n",
    "p_all_same = {6:1}\n",
    "p_two_1s = {4:1, 1:2}\n",
    "\n",
    "### n = 4\n",
    "p_3_1 = {3:1, 1:1}\n",
    "\n",
    "### n <= 3\n",
    "p_one_2 = {2:1}\n",
    "\n",
    "prior_test = pi_uni\n",
    "partition_test = p_3_1"
   ]
  },
  {
   "cell_type": "markdown",
   "metadata": {},
   "source": [
    "**k_dictionary**\n",
    "\n",
    "Input: pi, the probability distribution\n",
    "\n",
    "Output: a dictionary with letters for keys. The letters represent individual diseases. Can be used to keep track of individual diseases throughout the gain function calculations.\n",
    "\n",
    "```python\n",
    "pi = [1/2, 1/3, 1/6]\n",
    "k_dict = {'a': 0.5, 'b': 0.33333, 'c':0.166666}\n",
    "```"
   ]
  },
  {
   "cell_type": "code",
   "execution_count": 3,
   "metadata": {},
   "outputs": [],
   "source": [
    "def k_dictionary(pi):\n",
    "    return dict(zip(string.ascii_lowercase, pi))"
   ]
  },
  {
   "cell_type": "code",
   "execution_count": 51,
   "metadata": {},
   "outputs": [
    {
     "name": "stdout",
     "output_type": "stream",
     "text": [
      "{'a': 0.3333333333333333, 'b': 0.3333333333333333, 'c': 0.3333333333333333}\n"
     ]
    }
   ],
   "source": [
    "my_pi_dict = k_dictionary(prior_test)\n",
    "\n",
    "print(my_pi_dict)"
   ]
  },
  {
   "cell_type": "markdown",
   "metadata": {},
   "source": [
    "---\n",
    "**list_all_ints** is a helper function to type_probability\n",
    "\n",
    "Input: the integer partition dictionary\n",
    "\n",
    "Output: a list of the integers\n",
    "\n",
    "```python\n",
    "p = {3:1, 1:2}\n",
    "col_names = [3, 1, 1]\n",
    "```"
   ]
  },
  {
   "cell_type": "code",
   "execution_count": 5,
   "metadata": {},
   "outputs": [],
   "source": [
    "def list_all_ints(p):\n",
    "    col_names = []\n",
    "    for i in p.keys(): # i = integer, m = multiplicity\n",
    "        m = p[i]\n",
    "        for x in range(m):\n",
    "            col_names.append(i)\n",
    "    return col_names"
   ]
  },
  {
   "cell_type": "markdown",
   "metadata": {},
   "source": [
    "---\n",
    "**type_3**\n",
    "\n",
    "Input: \n",
    "- an integer partition p \n",
    "- pi_dict, a dictionary of diseases and probabilities in k \n",
    "- k, the number of unique plaintext values/diseases\n",
    "\n",
    "```python\n",
    "p = {6:1}\n",
    "pi_dict = {'a': 0.5, 'b': 0.33333, 'c':0.166666}\n",
    "k = 3\n",
    "```\n",
    "\n",
    "Output:\n",
    "- df:\n",
    "- int_list: \n",
    "\n",
    "Notes: \n",
    "- hardcoded for k = 3\n",
    "- uses list_all_ints(p) as a helper function. "
   ]
  },
  {
   "cell_type": "code",
   "execution_count": null,
   "metadata": {},
   "outputs": [],
   "source": [
    "def map_type_3(p, pi_dict, k):\n",
    "    int_list = list_all_ints(p)\n",
    "    int_list.extend([0] * (k-len(int_list))) # pads list with 0s\n",
    "    data = list(permutations(pi_dict.keys(), k))\n",
    "    df = pd.DataFrame(data = data, columns=int_list)\n",
    "    df['prob']= pow(df.iloc[:,0].map(pi_dict), df.columns.values[0]) * pow(df.iloc[:,1].map(pi_dict), df.columns.values[1]) * pow(df.iloc[:,2].map(pi_dict), df.columns.values[2])\n",
    "    return df, int_list"
   ]
  },
  {
   "cell_type": "code",
   "execution_count": 17,
   "metadata": {},
   "outputs": [],
   "source": [
    "def type_3(p, pi_dict, k):\n",
    "    int_list = list_all_ints(p)\n",
    "    int_list_len = len(int_list)\n",
    "    data = list(permutations(pi_dict.keys(), min(k, int_list_len)))\n",
    "    df = pd.DataFrame(data = data, columns=int_list)\n",
    "    if int_list_len == 1:\n",
    "        df['prob']= pow(df.iloc[:,0].map(pi_dict), df.columns.values[0])\n",
    "    elif int_list_len == 2:\n",
    "        df['prob']= pow(df.iloc[:,0].map(pi_dict), df.columns.values[0]) * pow(df.iloc[:,1].map(pi_dict), df.columns.values[1])\n",
    "    elif int_list_len == 3:\n",
    "        df['prob']= pow(df.iloc[:,0].map(pi_dict), df.columns.values[0]) * pow(df.iloc[:,1].map(pi_dict), df.columns.values[1]) * pow(df.iloc[:,2].map(pi_dict), df.columns.values[2])\n",
    "    else:\n",
    "         raise ValueError(\"The integer partition doesn't make sense\")\n",
    "    return df, int_list"
   ]
  },
  {
   "cell_type": "code",
   "execution_count": 52,
   "metadata": {},
   "outputs": [
    {
     "data": {
      "text/html": [
       "<div>\n",
       "<style scoped>\n",
       "    .dataframe tbody tr th:only-of-type {\n",
       "        vertical-align: middle;\n",
       "    }\n",
       "\n",
       "    .dataframe tbody tr th {\n",
       "        vertical-align: top;\n",
       "    }\n",
       "\n",
       "    .dataframe thead th {\n",
       "        text-align: right;\n",
       "    }\n",
       "</style>\n",
       "<table border=\"1\" class=\"dataframe\">\n",
       "  <thead>\n",
       "    <tr style=\"text-align: right;\">\n",
       "      <th></th>\n",
       "      <th>3</th>\n",
       "      <th>1</th>\n",
       "      <th>prob</th>\n",
       "    </tr>\n",
       "  </thead>\n",
       "  <tbody>\n",
       "    <tr>\n",
       "      <th>0</th>\n",
       "      <td>a</td>\n",
       "      <td>b</td>\n",
       "      <td>0.0123457</td>\n",
       "    </tr>\n",
       "    <tr>\n",
       "      <th>1</th>\n",
       "      <td>a</td>\n",
       "      <td>c</td>\n",
       "      <td>0.0123457</td>\n",
       "    </tr>\n",
       "    <tr>\n",
       "      <th>2</th>\n",
       "      <td>b</td>\n",
       "      <td>a</td>\n",
       "      <td>0.0123457</td>\n",
       "    </tr>\n",
       "    <tr>\n",
       "      <th>3</th>\n",
       "      <td>b</td>\n",
       "      <td>c</td>\n",
       "      <td>0.0123457</td>\n",
       "    </tr>\n",
       "    <tr>\n",
       "      <th>4</th>\n",
       "      <td>c</td>\n",
       "      <td>a</td>\n",
       "      <td>0.0123457</td>\n",
       "    </tr>\n",
       "    <tr>\n",
       "      <th>5</th>\n",
       "      <td>c</td>\n",
       "      <td>b</td>\n",
       "      <td>0.0123457</td>\n",
       "    </tr>\n",
       "  </tbody>\n",
       "</table>\n",
       "</div>"
      ],
      "text/plain": [
       "   3  1       prob\n",
       "0  a  b  0.0123457\n",
       "1  a  c  0.0123457\n",
       "2  b  a  0.0123457\n",
       "3  b  c  0.0123457\n",
       "4  c  a  0.0123457\n",
       "5  c  b  0.0123457"
      ]
     },
     "execution_count": 52,
     "metadata": {},
     "output_type": "execute_result"
    }
   ],
   "source": [
    "my_df, my_int_list = type_3(partition_test, my_pi_dict, k)\n",
    "my_df"
   ]
  },
  {
   "cell_type": "markdown",
   "metadata": {},
   "source": [
    "---\n",
    "***choices_matrix()*** provides a matrix listing all the choices for a given integer partition and prior pi\n",
    "\n",
    "Input:\n",
    "- df: the dataframe with all possible types for the integer partition\n",
    "- int_list: the expanded integer partition\n",
    "\n",
    "Output:\n",
    "- df_g, or dataframe_guess which contains the (not normalized) probabilities of every possible block in the integer partition being the respective diseases.\n"
   ]
  },
  {
   "cell_type": "code",
   "execution_count": 22,
   "metadata": {},
   "outputs": [],
   "source": [
    "def choices_matrix(df, int_list):\n",
    "    df_g = pd.DataFrame(0, index=int_list, columns=['a','b','c'])\n",
    "    col = 0\n",
    "    for i in int_list:\n",
    "        df_g.loc[i,'a'] = df[df.iloc[:,col] == 'a']['prob'].sum()\n",
    "        df_g.loc[i,'b'] = df[df.iloc[:,col] == 'b']['prob'].sum()\n",
    "        df_g.loc[i,'c'] = df[df.iloc[:,col] == 'c']['prob'].sum()\n",
    "        col = col + 1\n",
    "    return df_g"
   ]
  },
  {
   "cell_type": "code",
   "execution_count": 53,
   "metadata": {
    "scrolled": true
   },
   "outputs": [
    {
     "data": {
      "text/html": [
       "<div>\n",
       "<style scoped>\n",
       "    .dataframe tbody tr th:only-of-type {\n",
       "        vertical-align: middle;\n",
       "    }\n",
       "\n",
       "    .dataframe tbody tr th {\n",
       "        vertical-align: top;\n",
       "    }\n",
       "\n",
       "    .dataframe thead th {\n",
       "        text-align: right;\n",
       "    }\n",
       "</style>\n",
       "<table border=\"1\" class=\"dataframe\">\n",
       "  <thead>\n",
       "    <tr style=\"text-align: right;\">\n",
       "      <th></th>\n",
       "      <th>a</th>\n",
       "      <th>b</th>\n",
       "      <th>c</th>\n",
       "    </tr>\n",
       "  </thead>\n",
       "  <tbody>\n",
       "    <tr>\n",
       "      <th>3</th>\n",
       "      <td>0.0246914</td>\n",
       "      <td>0.0246914</td>\n",
       "      <td>0.0246914</td>\n",
       "    </tr>\n",
       "    <tr>\n",
       "      <th>1</th>\n",
       "      <td>0.0246914</td>\n",
       "      <td>0.0246914</td>\n",
       "      <td>0.0246914</td>\n",
       "    </tr>\n",
       "  </tbody>\n",
       "</table>\n",
       "</div>"
      ],
      "text/plain": [
       "           a          b          c\n",
       "3  0.0246914  0.0246914  0.0246914\n",
       "1  0.0246914  0.0246914  0.0246914"
      ]
     },
     "execution_count": 53,
     "metadata": {},
     "output_type": "execute_result"
    }
   ],
   "source": [
    "# Test of choices_matrix() w/type 4\n",
    "my_df_guess = choices_matrix(my_df, my_int_list)\n",
    "my_df_guess"
   ]
  },
  {
   "cell_type": "markdown",
   "metadata": {},
   "source": [
    "---\n",
    "***reduce_choices()*** reduces the size of the df_g matrix to only feasible answers and removes equal choices\n",
    "\n",
    "Input:\n",
    "- df_g, the matrix containing all of the possible choices\n",
    "- p, the integer partition dictionary\n",
    "\n",
    "Output:\n",
    "- df_reduced_guess, a dataframe that indicates the possible unique choices an adversary choice make given an integer partition"
   ]
  },
  {
   "cell_type": "code",
   "execution_count": 24,
   "metadata": {},
   "outputs": [],
   "source": [
    "def reduce_choices(df_g, p):\n",
    "    data = []\n",
    "    # if p[k] (multiplicity) >1, only take one row\n",
    "    for k in p.keys(): # for every unique integer in p, copy a row in df_guess that matches the int\n",
    "        if p[k] > 1: # choose first example if >1\n",
    "            data.append(df_g.loc[k].iloc[0])\n",
    "        else:\n",
    "            data.append(df_g.loc[k]) #copy the row\n",
    "    df_reduced_guess = pd.DataFrame(data = data)\n",
    "    return df_reduced_guess"
   ]
  },
  {
   "cell_type": "code",
   "execution_count": 25,
   "metadata": {
    "scrolled": true
   },
   "outputs": [
    {
     "data": {
      "text/html": [
       "<div>\n",
       "<style scoped>\n",
       "    .dataframe tbody tr th:only-of-type {\n",
       "        vertical-align: middle;\n",
       "    }\n",
       "\n",
       "    .dataframe tbody tr th {\n",
       "        vertical-align: top;\n",
       "    }\n",
       "\n",
       "    .dataframe thead th {\n",
       "        text-align: right;\n",
       "    }\n",
       "</style>\n",
       "<table border=\"1\" class=\"dataframe\">\n",
       "  <thead>\n",
       "    <tr style=\"text-align: right;\">\n",
       "      <th></th>\n",
       "      <th>a</th>\n",
       "      <th>b</th>\n",
       "      <th>c</th>\n",
       "    </tr>\n",
       "  </thead>\n",
       "  <tbody>\n",
       "    <tr>\n",
       "      <th>6</th>\n",
       "      <td>0.015625</td>\n",
       "      <td>0.0013717</td>\n",
       "      <td>0.0000214</td>\n",
       "    </tr>\n",
       "  </tbody>\n",
       "</table>\n",
       "</div>"
      ],
      "text/plain": [
       "          a          b          c\n",
       "6  0.015625  0.0013717  0.0000214"
      ]
     },
     "execution_count": 25,
     "metadata": {},
     "output_type": "execute_result"
    }
   ],
   "source": [
    "my_reduced_df = reduce_choices(my_df_guess, partition_test)\n",
    "my_reduced_df.head()"
   ]
  },
  {
   "cell_type": "code",
   "execution_count": 26,
   "metadata": {},
   "outputs": [
    {
     "data": {
      "text/plain": [
       "<matplotlib.axes._subplots.AxesSubplot at 0x248bd3e7630>"
      ]
     },
     "execution_count": 26,
     "metadata": {},
     "output_type": "execute_result"
    },
    {
     "data": {
      "image/png": "[encoded data removed]",
      "text/plain": [
       "<Figure size 432x288 with 1 Axes>"
      ]
     },
     "metadata": {
      "needs_background": "light"
     },
     "output_type": "display_data"
    }
   ],
   "source": [
    "my_reduced_df.plot.bar()"
   ]
  },
  {
   "cell_type": "markdown",
   "metadata": {},
   "source": [
    "---\n",
    "***choose_max()*** takes the reduced matrix and says which guess to make, along with the posterior vulnerability the integer partition provided\n",
    "\n",
    "Input:\n",
    "- df_reduced_guess, the reduced matrix of choices\n",
    "\n",
    "Output:\n",
    "- val, the contribution to the posterior vulnerability for one instance of one integer partition\n",
    "- block_size, the block to guess about\n",
    "- disease, the correct disease, or plaintext value, to guess"
   ]
  },
  {
   "cell_type": "code",
   "execution_count": 27,
   "metadata": {},
   "outputs": [],
   "source": [
    "def choose_max(df_reduced_guess):\n",
    "    col_max_values = df_reduced_guess.max() # per column, the max values\n",
    "    col_max_values_id = df_reduced_guess.idxmax() # per column (disease), the index/block size of the max values\n",
    "    val = col_max_values.max() # max of the column maximums\n",
    "    disease = col_max_values.idxmax() # disease (column) of the above value\n",
    "    block_size = col_max_values_id.loc[disease] # contribution to the posterior vuln by this integer partition\n",
    "    return val, block_size, disease"
   ]
  },
  {
   "cell_type": "code",
   "execution_count": 28,
   "metadata": {},
   "outputs": [
    {
     "name": "stdout",
     "output_type": "stream",
     "text": [
      "contribution of partition to posterior vuln:  0.015625\n",
      "*********The best choice is*********\n",
      "block size:  6\n",
      "disease:  a\n"
     ]
    }
   ],
   "source": [
    "# Tets of choose_max\n",
    "my_val, my_block, my_disease = choose_max(my_reduced_df)\n",
    "print(\"contribution of partition to posterior vuln: \", my_val)\n",
    "print(\"*********The best choice is*********\")\n",
    "print(\"block size: \", my_block)\n",
    "print(\"disease: \", my_disease)"
   ]
  },
  {
   "cell_type": "markdown",
   "metadata": {},
   "source": [
    "---\n",
    "**calc_index_partitions()** calculates number of index partitions given an integer n and a integer partition p\n",
    "\n",
    "Input:\n",
    "- n: positive integer, the size of the column\n",
    "- p: a unique integer partition, as a python dictionary\n",
    "\n",
    "Output:\n",
    "- frac: the number of index partitions that can have integer partition p\n",
    "\n",
    "Generalized formula:<br>\n",
    "With an interger partition $p$ containing integers $i$, each with multiplicity of $m$,\n",
    "$$\\text{index partitions}(n,p)=\\frac{n!}{\\prod_{i \\in p} i!^m m!}$$\n",
    "\n",
    "Example:<br>\n",
    "$$\\text{index partitions}(6,\\{4:1, 1:2\\}) = \\frac{6!}{\\left(4!\\right)1! \\times \\left(1!\\right)^2 2!} $$"
   ]
  },
  {
   "cell_type": "code",
   "execution_count": 29,
   "metadata": {},
   "outputs": [],
   "source": [
    "def calc_index_partitions(n,p):\n",
    "    num = math.factorial(n)\n",
    "    den = 1\n",
    "    mul = 0\n",
    "    for i in p.keys():\n",
    "        m = p[i]\n",
    "        den = den * pow(math.factorial(i), m) * math.factorial(m)\n",
    "    frac = num / den\n",
    "    return frac"
   ]
  },
  {
   "cell_type": "markdown",
   "metadata": {},
   "source": [
    "---\n",
    "**post_vuln()** calculates the posterior gain vulnerability\n",
    "\n",
    "Input:\n",
    "- n: the size of the column (number of patients)\n",
    "- k: the number of plaintext values (diseases)\n",
    "- pi: the probability distrubution of the values in k\n",
    "\n",
    "Output:\n",
    "- pgvsum: the posterior gain vulnerability for that n value\n",
    "- choices_df: a dataframe where every row represents a different integer partition and contains the number of index partitions given the integer partition, the correct block and disease guess, the per integer partition contribution to the posterior gain vulnerability, and the weighted contribution to the posterior gain vulnerability (by the number of index partitions)\n",
    "\n",
    "Notes:\n",
    "- Due to the helper functions, this is hardcoded for k = 3"
   ]
  },
  {
   "cell_type": "code",
   "execution_count": 30,
   "metadata": {},
   "outputs": [],
   "source": [
    "def post_vuln(n, k, pi): #does not return a dataframe w/every partition\n",
    "    pgvsum = 0\n",
    "    pi_dict = k_dictionary(pi)\n",
    "    for p in partitions(n, m=k): \n",
    "        p_guess = {}\n",
    "        num_index_partitions = calc_index_partitions(n,p) # p's number of index partitions\n",
    "        df, int_list = type_3(p, pi_dict, k) # the probabilities of different types of the column\n",
    "        df_g = choices_matrix(df, int_list) # the disease:block size guesses the adversary can make\n",
    "        df_reduced = reduce_choices(df_g, p) # reduced dataframe, no 0s or duplicates\n",
    "        contribution, block_size, disease = choose_max(df_reduced)#posterior vuln for 1 p and best guess\n",
    "        weighted = num_index_partitions * contribution\n",
    "        pgvsum = pgvsum + weighted\n",
    "    return pgvsum"
   ]
  },
  {
   "cell_type": "code",
   "execution_count": 31,
   "metadata": {},
   "outputs": [],
   "source": [
    "def post_vuln_df(n, k, pi):\n",
    "    pgvsum = 0\n",
    "    pi_dict = k_dictionary(pi)\n",
    "    data = []\n",
    "    for p in partitions(n, m=k): \n",
    "        p_guess = {}\n",
    "        num_index_partitions = calc_index_partitions(n,p) # p's number of index partitions\n",
    "        df, int_list = type_3(p, pi_dict, k) # the probabilities of different types of the column\n",
    "        df_g = choices_matrix(df, int_list) # the disease:block size guesses the adversary can make\n",
    "        df_reduced = reduce_choices(df_g, p) # reduced dataframe, no 0s or duplicates\n",
    "        contribution, block_size, disease = choose_max(df_reduced)#posterior vuln for 1 p and best guess\n",
    "        weighted = num_index_partitions * contribution\n",
    "        pgvsum = pgvsum + weighted\n",
    "        p_guess = {'partition': int_list, 'contribution': contribution, 'indexes': num_index_partitions, 'block_size': block_size, 'disease': disease, 'weighted': weighted}\n",
    "        data.append(p_guess)\n",
    "    choices_df = pd.DataFrame(data = data)\n",
    "    return pgvsum, choices_df"
   ]
  },
  {
   "cell_type": "code",
   "execution_count": 32,
   "metadata": {},
   "outputs": [
    {
     "name": "stdout",
     "output_type": "stream",
     "text": [
      "posterior gain vulnerability for n = 12 \n",
      "0.8127857796067669\n"
     ]
    }
   ],
   "source": [
    "n = 12\n",
    "print(\"posterior gain vulnerability for n = %s \" % n)\n",
    "post, choices_df = post_vuln_df(n, k, pi)\n",
    "print(post)"
   ]
  },
  {
   "cell_type": "code",
   "execution_count": 46,
   "metadata": {},
   "outputs": [
    {
     "name": "stdout",
     "output_type": "stream",
     "text": [
      "posterior gain vulnerability for n = 4 \n",
      "0.33333333333333326\n"
     ]
    }
   ],
   "source": [
    "n = 4\n",
    "print(\"posterior gain vulnerability for n = %s \" % n)\n",
    "post, choices_df = post_vuln_df(n, k, [1/3, 1/3, 1/3])\n",
    "print(post)"
   ]
  },
  {
   "cell_type": "code",
   "execution_count": 47,
   "metadata": {},
   "outputs": [
    {
     "data": {
      "text/html": [
       "<div>\n",
       "<style scoped>\n",
       "    .dataframe tbody tr th:only-of-type {\n",
       "        vertical-align: middle;\n",
       "    }\n",
       "\n",
       "    .dataframe tbody tr th {\n",
       "        vertical-align: top;\n",
       "    }\n",
       "\n",
       "    .dataframe thead th {\n",
       "        text-align: right;\n",
       "    }\n",
       "</style>\n",
       "<table border=\"1\" class=\"dataframe\">\n",
       "  <thead>\n",
       "    <tr style=\"text-align: right;\">\n",
       "      <th></th>\n",
       "      <th>block_size</th>\n",
       "      <th>contribution</th>\n",
       "      <th>disease</th>\n",
       "      <th>indexes</th>\n",
       "      <th>partition</th>\n",
       "      <th>weighted</th>\n",
       "    </tr>\n",
       "  </thead>\n",
       "  <tbody>\n",
       "    <tr>\n",
       "      <th>0</th>\n",
       "      <td>4</td>\n",
       "      <td>0.0123457</td>\n",
       "      <td>a</td>\n",
       "      <td>1.0</td>\n",
       "      <td>[4]</td>\n",
       "      <td>0.0123457</td>\n",
       "    </tr>\n",
       "    <tr>\n",
       "      <th>1</th>\n",
       "      <td>3</td>\n",
       "      <td>0.0246914</td>\n",
       "      <td>a</td>\n",
       "      <td>4.0</td>\n",
       "      <td>[3, 1]</td>\n",
       "      <td>0.0987654</td>\n",
       "    </tr>\n",
       "    <tr>\n",
       "      <th>2</th>\n",
       "      <td>2</td>\n",
       "      <td>0.0246914</td>\n",
       "      <td>a</td>\n",
       "      <td>3.0</td>\n",
       "      <td>[2, 2]</td>\n",
       "      <td>0.0740741</td>\n",
       "    </tr>\n",
       "    <tr>\n",
       "      <th>3</th>\n",
       "      <td>2</td>\n",
       "      <td>0.0246914</td>\n",
       "      <td>a</td>\n",
       "      <td>6.0</td>\n",
       "      <td>[2, 1, 1]</td>\n",
       "      <td>0.1481481</td>\n",
       "    </tr>\n",
       "  </tbody>\n",
       "</table>\n",
       "</div>"
      ],
      "text/plain": [
       "   block_size  contribution disease  indexes  partition   weighted\n",
       "0           4     0.0123457       a      1.0        [4]  0.0123457\n",
       "1           3     0.0246914       a      4.0     [3, 1]  0.0987654\n",
       "2           2     0.0246914       a      3.0     [2, 2]  0.0740741\n",
       "3           2     0.0246914       a      6.0  [2, 1, 1]  0.1481481"
      ]
     },
     "execution_count": 47,
     "metadata": {},
     "output_type": "execute_result"
    }
   ],
   "source": [
    "choices_df"
   ]
  },
  {
   "cell_type": "markdown",
   "metadata": {},
   "source": [
    "### Graphs"
   ]
  },
  {
   "cell_type": "code",
   "execution_count": 44,
   "metadata": {},
   "outputs": [],
   "source": [
    "def color_plot_vuln(df):\n",
    "    fig, ax = plt.subplots() # to show xtick labels\n",
    "    df.reset_index().plot.scatter(x='index', \n",
    "                y='weighted',\n",
    "                c = 'contribution', # the color map scale\n",
    "                colormap='winter_r',\n",
    "                ax = ax)\n",
    "    plt.xticks(df.index, df['partition'], rotation=90)\n",
    "    plt.title(\"Individual and Weighted Vulnerability Per Integer Partition\")\n",
    "    plt.show()\n",
    "##Graph options w/o colormap\n",
    "#choices_df.plot(x='partition', \n",
    "#                y='weighted',\n",
    "#                style='o-')\n",
    "#plt.xticks(choices_df.index, choices_df['partition'], rotation=90)\n",
    "#plt.show()"
   ]
  },
  {
   "cell_type": "code",
   "execution_count": 45,
   "metadata": {},
   "outputs": [
    {
     "data": {
      "image/png": "[encoded data removed]",
      "text/plain": [
       "<Figure size 432x288 with 2 Axes>"
      ]
     },
     "metadata": {
      "needs_background": "light"
     },
     "output_type": "display_data"
    }
   ],
   "source": [
    "color_plot_vuln(choices_df)"
   ]
  },
  {
   "cell_type": "code",
   "execution_count": 36,
   "metadata": {},
   "outputs": [],
   "source": [
    "def graph_it_prior_post(n_range, k, probs, df):\n",
    "    x = [i+1 for i in range(n_range)]\n",
    "    y_posterior = df[\"posterior\"].iloc[-1] # saves last posterior y\n",
    "    \n",
    "    plt.plot(x, 'prior', \n",
    "             data=df, \n",
    "             linestyle='--', \n",
    "             label=\"prior\")\n",
    "    plt.plot(x, 'posterior', \n",
    "             data=df, \n",
    "             marker='', \n",
    "             label=\"posterior\")\n",
    "    plt.xlabel('n values')\n",
    "    plt.ylabel('gain vulnerability')\n",
    "    plt.ylim(bottom=0, top = 1)\n",
    "    \n",
    "    plt.show()"
   ]
  },
  {
   "cell_type": "code",
   "execution_count": 35,
   "metadata": {},
   "outputs": [],
   "source": [
    "def graph_prior_post(n_range, k, probs):\n",
    "    post_vs = []\n",
    "    prior_vs = []\n",
    "    probs.sort(reverse=True) \n",
    "    prior_val=probs[0]\n",
    "    for i in range(n_range):\n",
    "        post_vs.append(post_vuln(i+1, k, probs))\n",
    "        prior_vs.append(prior_val)\n",
    "    df = pd.DataFrame(\n",
    "        {'prior':prior_vs,\n",
    "         'posterior':post_vs\n",
    "        }\n",
    "    )\n",
    "    graph_it_prior_post(n_range, k, probs, df)"
   ]
  },
  {
   "cell_type": "code",
   "execution_count": 37,
   "metadata": {
    "scrolled": false
   },
   "outputs": [
    {
     "data": {
      "image/png": "[encoded data removed]",
      "text/plain": [
       "<Figure size 432x288 with 1 Axes>"
      ]
     },
     "metadata": {
      "needs_background": "light"
     },
     "output_type": "display_data"
    }
   ],
   "source": [
    "graph_prior_post(100, 3, [1/2, 1/3, 1/6])"
   ]
  },
  {
   "cell_type": "code",
   "execution_count": 38,
   "metadata": {},
   "outputs": [
    {
     "data": {
      "image/png": "[encoded data removed]",
      "text/plain": [
       "<Figure size 432x288 with 1 Axes>"
      ]
     },
     "metadata": {
      "needs_background": "light"
     },
     "output_type": "display_data"
    }
   ],
   "source": [
    "graph_prior_post(100, 3, [1/3, 1/3, 1/3])"
   ]
  },
  {
   "cell_type": "code",
   "execution_count": 39,
   "metadata": {},
   "outputs": [
    {
     "data": {
      "image/png": "[encoded data removed]",
      "text/plain": [
       "<Figure size 432x288 with 1 Axes>"
      ]
     },
     "metadata": {
      "needs_background": "light"
     },
     "output_type": "display_data"
    }
   ],
   "source": [
    "graph_prior_post(100, 3, [1/2, 1/4, 1/4])"
   ]
  },
  {
   "cell_type": "code",
   "execution_count": 40,
   "metadata": {},
   "outputs": [
    {
     "data": {
      "image/png": "[encoded data removed]",
      "text/plain": [
       "<Figure size 432x288 with 1 Axes>"
      ]
     },
     "metadata": {
      "needs_background": "light"
     },
     "output_type": "display_data"
    }
   ],
   "source": [
    "graph_prior_post(100, 3, [1/2, .24, .26])"
   ]
  },
  {
   "cell_type": "markdown",
   "metadata": {},
   "source": [
    "### Old Functions"
   ]
  },
  {
   "cell_type": "markdown",
   "metadata": {},
   "source": [
    "Output: \n",
    "- df, a dataframe. The first three columns are 'a', 'b', and 'c', the diseases.  The final column is the probability of the column's type. The rows represent the type of column.\n",
    "- int_list, a expanded list of the integer partition. For example, if p = {3:2}, int_list = [3, 3]\n",
    "\n",
    "An example of df:\n",
    "\n",
    "|   -  | a | b | c | probs |\n",
    "|---|--|---|---|-------|\n",
    "| 0   | 6 | 0 | 0 | 0.0156250 |\n",
    "| 1   | 0 | 0 | 6 | 0.0000214 |\n",
    "| 2   | 0 | 6 | 0 | 0.0013717 |\n"
   ]
  },
  {
   "cell_type": "code",
   "execution_count": null,
   "metadata": {},
   "outputs": [],
   "source": [
    "def old_type_3(p, pi, k):\n",
    "    int_list = list_all_ints(p)\n",
    "    int_list.extend([0] * (k-len(int_list))) # pads list with 0s\n",
    "    data = list(permutations(int_list, k))\n",
    "    df = pd.DataFrame(data = data, columns=['a', 'b','c'])\n",
    "    df['prob'] = pow(pi[0], df['a']) * pow(pi[1], df['b']) * pow(pi[2], df['c'])\n",
    "    return df, int_list"
   ]
  },
  {
   "cell_type": "code",
   "execution_count": null,
   "metadata": {},
   "outputs": [],
   "source": [
    "def old_choices_matrix(df, int_list):\n",
    "    df_g = pd.DataFrame(0, index=int_list, columns=['a','b','c'])\n",
    "    for i in int_list:\n",
    "        df_g.loc[i,'a'] = df[df['a'] == i]['prob'].sum()\n",
    "        df_g.loc[i,'b'] = df[df['b'] == i]['prob'].sum()\n",
    "        df_g.loc[i,'c'] = df[df['c'] == i]['prob'].sum()\n",
    "    return df_g"
   ]
  }
 ],
 "metadata": {
  "kernelspec": {
   "display_name": "Python 3",
   "language": "python",
   "name": "python3"
  },
  "language_info": {
   "codemirror_mode": {
    "name": "ipython",
    "version": 3
   },
   "file_extension": ".py",
   "mimetype": "text/x-python",
   "name": "python",
   "nbconvert_exporter": "python",
   "pygments_lexer": "ipython3",
   "version": "3.6.7"
  }
 },
 "nbformat": 4,
 "nbformat_minor": 2
}
