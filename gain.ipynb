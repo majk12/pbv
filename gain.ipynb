{
 "cells": [
  {
   "cell_type": "code",
   "execution_count": 61,
   "metadata": {},
   "outputs": [],
   "source": [
    "import collections\n",
    "import math\n",
    "import string\n",
    "import numpy as np\n",
    "import pandas as pd\n",
    "from itertools import permutations, product\n",
    "from sympy.utilities.iterables import partitions\n",
    "from sympy.functions.combinatorial.numbers import stirling\n",
    "import matplotlib.pyplot as plt \n",
    "%matplotlib notebook\n",
    "pd.set_option('precision', 7)"
   ]
  },
  {
   "cell_type": "markdown",
   "metadata": {},
   "source": [
    "**k_dictionary**\n",
    "\n",
    "Input: pi, the probability distribution\n",
    "\n",
    "Output: a dictionary with letters for keys. The letters represent individual diseases. Can be used to keep track of individual diseases throughout the gain function calculations.\n",
    "\n",
    "Note-- Not currently in use\n",
    "\n",
    "```python\n",
    "pi = [1/2, 1/3, 1/6]\n",
    "k_dict = {'a': 0.5, 'b': 0.33333, 'c':0.166666}\n",
    "```"
   ]
  },
  {
   "cell_type": "code",
   "execution_count": 2,
   "metadata": {},
   "outputs": [],
   "source": [
    "def k_dictionary(pi):\n",
    "    return dict(zip(string.ascii_lowercase, pi))"
   ]
  },
  {
   "cell_type": "code",
   "execution_count": 3,
   "metadata": {},
   "outputs": [
    {
     "name": "stdout",
     "output_type": "stream",
     "text": [
      "{'a': 0.5, 'b': 0.3333333333333333, 'c': 0.16666666666666666}\n"
     ]
    }
   ],
   "source": [
    "pi = [1/2, 1/3, 1/6]\n",
    "\n",
    "pi_dictionary = k_dictionary(pi)\n",
    "\n",
    "print(pi_dictionary)"
   ]
  },
  {
   "cell_type": "markdown",
   "metadata": {},
   "source": [
    "**type_1**\n",
    "\n",
    "Input: \n",
    "- an integer partition p \n",
    "- pi, a list of probabilities per disease in k \n",
    "\n",
    "```python\n",
    "p = {5:1, 1:1}\n",
    "pi = [.5, .333, .166]\n",
    "```\n",
    "\n",
    "Output: a dataframe where the first three columns represent the type and the fourth is the type's probability\n",
    "\n",
    "Notes: \n",
    "- hardcoded for k = 3\n",
    "- uses col_names_p() as a helper function. "
   ]
  },
  {
   "cell_type": "code",
   "execution_count": 4,
   "metadata": {},
   "outputs": [],
   "source": [
    "def type_1(p, pi):\n",
    "    '''\n",
    "    We use the int partition p to calculate \n",
    "    1. the number of bins and \n",
    "    2. the column names for the dataframe\n",
    "    '''\n",
    "    bins = sum(p.values()) #there will always be <=k 'bins' \n",
    "    col_names = list_all_ints(p)\n",
    "    df = pd.DataFrame(list(permutations(pi, bins)), columns=col_names)\n",
    "    df['prob'] = pow(df[col_names[0]],col_names[0]) *  pow(df[col_names[1]],col_names[1]) *  pow(df[col_names[2]],col_names[2])\n",
    "    return df"
   ]
  },
  {
   "cell_type": "markdown",
   "metadata": {},
   "source": [
    "**list_all_ints** is a helper function to type_probability\n",
    "\n",
    "Input: the integer partition dictionary\n",
    "\n",
    "Output: a list of the integers\n",
    "\n",
    "```python\n",
    "p = {3:1, 1:2}\n",
    "col_names = [3, 1, 1]\n",
    "```"
   ]
  },
  {
   "cell_type": "code",
   "execution_count": 5,
   "metadata": {},
   "outputs": [],
   "source": [
    "def list_all_ints(p):\n",
    "    col_names = []\n",
    "    for i in p.keys(): # i = integer, m = multiplicity\n",
    "        m = p[i]\n",
    "        for x in range(m):\n",
    "            col_names.append(i)\n",
    "    return col_names"
   ]
  },
  {
   "cell_type": "code",
   "execution_count": 6,
   "metadata": {},
   "outputs": [
    {
     "name": "stdout",
     "output_type": "stream",
     "text": [
      "          3         2         1      prob\n",
      "0  0.500000  0.333333  0.166667  0.002315\n",
      "1  0.500000  0.166667  0.333333  0.001157\n",
      "2  0.333333  0.500000  0.166667  0.001543\n",
      "3  0.333333  0.166667  0.500000  0.000514\n",
      "4  0.166667  0.500000  0.333333  0.000386\n",
      "5  0.166667  0.333333  0.500000  0.000257\n"
     ]
    }
   ],
   "source": [
    "df = type_1({3:1, 2:1, 1:1}, pi)\n",
    "print(df)"
   ]
  },
  {
   "cell_type": "code",
   "execution_count": 7,
   "metadata": {},
   "outputs": [],
   "source": [
    "def type_2(p, pi, k):\n",
    "    int_list = list_all_ints(p)\n",
    "    int_list.extend([0] * (k-len(int_list))) # pads list with 0s\n",
    "    df = pd.DataFrame(list(permutations(int_list, k)), columns=['a', 'b','c'])\n",
    "    df['prob'] = pow(pi[0], df['a']) * pow(pi[1], df['b']) * pow(pi[2], df['c'])\n",
    "    return df, int_list"
   ]
  },
  {
   "cell_type": "code",
   "execution_count": 82,
   "metadata": {},
   "outputs": [
    {
     "name": "stdout",
     "output_type": "stream",
     "text": [
      "   a  b  c       prob\n",
      "0  3  2  1  0.0023148\n",
      "1  3  1  2  0.0011574\n",
      "2  2  3  1  0.0015432\n",
      "3  2  1  3  0.0003858\n",
      "4  1  3  2  0.0005144\n",
      "5  1  2  3  0.0002572\n"
     ]
    }
   ],
   "source": [
    "# Test of type_2 with different int partitions\n",
    "p1 = {3:1, 2:1, 1:1}\n",
    "p2 = {3:2}\n",
    "p3 = {6:1}\n",
    "k=3\n",
    "df2, int_list = type_2(p1, pi, k)\n",
    "print(df2)"
   ]
  },
  {
   "cell_type": "code",
   "execution_count": 76,
   "metadata": {},
   "outputs": [],
   "source": [
    "def choices_matrix(df, int_list):\n",
    "    df_g = pd.DataFrame(0, index=int_list, columns=['a','b','c'])\n",
    "    for i in int_list:\n",
    "        df_g.loc[i,'a'] = df[df['a'] == i]['prob'].sum()\n",
    "        df_g.loc[i,'b'] = df[df['b'] == i]['prob'].sum()\n",
    "        df_g.loc[i,'c'] = df[df['c'] == i]['prob'].sum()\n",
    "    return df_g"
   ]
  },
  {
   "cell_type": "code",
   "execution_count": 83,
   "metadata": {},
   "outputs": [
    {
     "name": "stdout",
     "output_type": "stream",
     "text": [
      "           a          b          c\n",
      "3  0.0034722  0.0020576  0.0006430\n",
      "2  0.0019290  0.0025720  0.0016718\n",
      "1  0.0007716  0.0015432  0.0038580\n"
     ]
    }
   ],
   "source": [
    "# Test of choices_matrix()\n",
    "df_guess = choices_matrix(df2, int_list)\n",
    "print(df_guess)"
   ]
  },
  {
   "cell_type": "code",
   "execution_count": 72,
   "metadata": {},
   "outputs": [
    {
     "data": {
      "text/plain": [
       "3       0.500000\n",
       "2       0.500000\n",
       "1       0.500000\n",
       "prob    0.002315\n",
       "dtype: float64"
      ]
     },
     "execution_count": 72,
     "metadata": {},
     "output_type": "execute_result"
    }
   ],
   "source": [
    "df.max() # to max down dataframe column"
   ]
  },
  {
   "cell_type": "code",
   "execution_count": 73,
   "metadata": {},
   "outputs": [
    {
     "data": {
      "text/plain": [
       "3       0\n",
       "2       2\n",
       "1       3\n",
       "prob    0\n",
       "dtype: int64"
      ]
     },
     "execution_count": 73,
     "metadata": {},
     "output_type": "execute_result"
    }
   ],
   "source": [
    "df.idxmax()"
   ]
  },
  {
   "cell_type": "code",
   "execution_count": 16,
   "metadata": {},
   "outputs": [
    {
     "data": {
      "text/plain": [
       "0.5"
      ]
     },
     "execution_count": 16,
     "metadata": {},
     "output_type": "execute_result"
    }
   ],
   "source": [
    "df.max().max() # to max over entire dataframe"
   ]
  },
  {
   "cell_type": "markdown",
   "metadata": {},
   "source": [
    "**calc_set_partitions()** calculates number of index partitions given an integer n and a integer partition p"
   ]
  },
  {
   "cell_type": "code",
   "execution_count": 2,
   "metadata": {},
   "outputs": [],
   "source": [
    "def calc_set_partitions(n,p):\n",
    "    num = math.factorial(n)\n",
    "    den = 1\n",
    "    mul = 0\n",
    "    for i in p.keys():\n",
    "        m = p[i]\n",
    "        den = den * pow(math.factorial(i), m) * math.factorial(m)\n",
    "    frac = num / den\n",
    "    return frac"
   ]
  },
  {
   "cell_type": "markdown",
   "metadata": {},
   "source": [
    "Tests"
   ]
  },
  {
   "cell_type": "code",
   "execution_count": 18,
   "metadata": {},
   "outputs": [
    {
     "name": "stdout",
     "output_type": "stream",
     "text": [
      "key:  a\n",
      "key:  b\n",
      "key:  c\n"
     ]
    }
   ],
   "source": [
    "for key in pi_dictionary:\n",
    "    print(\"key: \", key)"
   ]
  },
  {
   "cell_type": "code",
   "execution_count": 5,
   "metadata": {
    "scrolled": true
   },
   "outputs": [
    {
     "name": "stdout",
     "output_type": "stream",
     "text": [
      "p =  {6: 1}\n",
      "p.keys=  dict_keys([6])\n",
      "num:  1.0\n",
      "p =  {5: 1, 1: 1}\n",
      "p.keys=  dict_keys([5, 1])\n",
      "num:  6.0\n",
      "p =  {4: 1, 2: 1}\n",
      "p.keys=  dict_keys([4, 2])\n",
      "num:  15.0\n",
      "p =  {4: 1, 1: 2}\n",
      "p.keys=  dict_keys([4, 1])\n",
      "num:  15.0\n",
      "p =  {3: 2}\n",
      "p.keys=  dict_keys([3])\n",
      "num:  10.0\n",
      "p =  {3: 1, 2: 1, 1: 1}\n",
      "p.keys=  dict_keys([3, 2, 1])\n",
      "num:  60.0\n",
      "p =  {2: 3}\n",
      "p.keys=  dict_keys([2])\n",
      "num:  15.0\n"
     ]
    }
   ],
   "source": [
    "n = 6\n",
    "k = 3\n",
    "for p in partitions(n, m = k):\n",
    "    print(\"p = \", p)\n",
    "    print(\"p.keys= \", p.keys())\n",
    "    num = calc_set_partitions(n,p)\n",
    "    print(\"num: \", num)"
   ]
  },
  {
   "cell_type": "code",
   "execution_count": null,
   "metadata": {},
   "outputs": [],
   "source": []
  }
 ],
 "metadata": {
  "kernelspec": {
   "display_name": "Python 3",
   "language": "python",
   "name": "python3"
  },
  "language_info": {
   "codemirror_mode": {
    "name": "ipython",
    "version": 3
   },
   "file_extension": ".py",
   "mimetype": "text/x-python",
   "name": "python",
   "nbconvert_exporter": "python",
   "pygments_lexer": "ipython3",
   "version": "3.6.7"
  }
 },
 "nbformat": 4,
 "nbformat_minor": 2
}
