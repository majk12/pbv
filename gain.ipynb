{
 "cells": [
  {
   "cell_type": "code",
   "execution_count": 1,
   "metadata": {},
   "outputs": [],
   "source": [
    "import collections\n",
    "import math\n",
    "import string\n",
    "import numpy as np\n",
    "import pandas as pd\n",
    "from itertools import permutations\n",
    "from sympy.utilities.iterables import partitions\n",
    "import matplotlib.pyplot as plt \n",
    "%matplotlib notebook\n",
    "pd.set_option('precision', 7)"
   ]
  },
  {
   "cell_type": "markdown",
   "metadata": {},
   "source": [
    "**Test Variables**"
   ]
  },
  {
   "cell_type": "code",
   "execution_count": 2,
   "metadata": {},
   "outputs": [],
   "source": [
    "pi = [1/2, 1/3, 1/6]\n",
    "p1 = {3:1, 2:1, 1:1}\n",
    "p2 = {3:2}\n",
    "p3 = {6:1}\n",
    "p4 = {4:1, 1:2}\n",
    "k=3\n",
    "p_test = p1"
   ]
  },
  {
   "cell_type": "markdown",
   "metadata": {},
   "source": [
    "---\n",
    "**list_all_ints** is a helper function to type_probability\n",
    "\n",
    "Input: the integer partition dictionary\n",
    "\n",
    "Output: a list of the integers\n",
    "\n",
    "```python\n",
    "p = {3:1, 1:2}\n",
    "col_names = [3, 1, 1]\n",
    "```"
   ]
  },
  {
   "cell_type": "code",
   "execution_count": 3,
   "metadata": {},
   "outputs": [],
   "source": [
    "def list_all_ints(p):\n",
    "    col_names = []\n",
    "    for i in p.keys(): # i = integer, m = multiplicity\n",
    "        m = p[i]\n",
    "        for x in range(m):\n",
    "            col_names.append(i)\n",
    "    return col_names"
   ]
  },
  {
   "cell_type": "markdown",
   "metadata": {},
   "source": [
    "---\n",
    "**type_3**\n",
    "\n",
    "Input: \n",
    "- an integer partition p \n",
    "- pi, a list of probabilities per disease in k \n",
    "- k, the number of unique plaintext values/diseases\n",
    "\n",
    "```python\n",
    "p = {6:1}\n",
    "pi = [.5, .333, .166]\n",
    "k = 3\n",
    "```\n",
    "\n",
    "Output: \n",
    "- df, a dataframe. The first three columns are 'a', 'b', and 'c', the diseases.  The final column is the probability of the column's type. The rows represent the type of column.\n",
    "- int_list, a expanded list of the integer partition. For example, if p = {3:2}, int_list = [3, 3]\n",
    "\n",
    "An example of df:\n",
    "\n",
    "|   -  | a | b | c | probs |\n",
    "|---|--|---|---|-------|\n",
    "| 0   | 6 | 0 | 0 | 0.0156250 |\n",
    "| 1   | 0 | 0 | 6 | 0.0000214 |\n",
    "| 2   | 0 | 6 | 0 | 0.0013717 |\n",
    "\n",
    "\n",
    "Notes: \n",
    "- hardcoded for k = 3\n",
    "- uses list_all_ints(p) as a helper function. \n",
    "\n",
    "Question:\n",
    "- Should we take the set of the permutations or just the list of the permutations? For example, let's have the integer partition 4 + 1 + 1. The set would be {411, 141, 114) but the list would be {411, 411, 141, 141, 114, 114). \n",
    "\n",
    "The set option (in use currently) \n",
    "\n",
    "|   -  | a | b | c | ... |\n",
    "|---|--|---|---|-------|\n",
    "| 0   | 4 | 1 | 1 | ... |\n",
    "| 1   | 1 | 4 | 1 | ... |\n",
    "| 2   | 1 | 1 | 4 | ... |\n",
    "\n",
    "The list option\n",
    "\n",
    "|   -  | a | b | c | ... |\n",
    "|---|--|---|---|-------|\n",
    "| 0   | 4 | 1 | 1 | ... |\n",
    "| 1   | 4 | 1 | 1 | ... |\n",
    "| 2   | 1 | 4 | 1 | ... |\n",
    "| 3   | 1 | 4 | 1 | ... |\n",
    "| 4   | 1 | 1 | 4 | ... |\n",
    "| 5   | 1 | 1 | 4 | ... |"
   ]
  },
  {
   "cell_type": "code",
   "execution_count": 4,
   "metadata": {},
   "outputs": [],
   "source": [
    "def type_3(p, pi, k):\n",
    "    int_list = list_all_ints(p)\n",
    "    int_list.extend([0] * (k-len(int_list))) # pads list with 0s\n",
    "    data = list(set(permutations(int_list, k)))\n",
    "    df = pd.DataFrame(data = data, columns=['a', 'b','c'])\n",
    "    df['prob'] = pow(pi[0], df['a']) * pow(pi[1], df['b']) * pow(pi[2], df['c'])\n",
    "    return df, int_list"
   ]
  },
  {
   "cell_type": "code",
   "execution_count": 5,
   "metadata": {},
   "outputs": [
    {
     "name": "stdout",
     "output_type": "stream",
     "text": [
      "   a  b  c       prob\n",
      "0  3  1  2  0.0011574\n",
      "1  1  3  2  0.0005144\n",
      "2  3  2  1  0.0023148\n",
      "3  2  3  1  0.0015432\n",
      "4  1  2  3  0.0002572\n",
      "5  2  1  3  0.0003858\n"
     ]
    }
   ],
   "source": [
    "# Test of type_3 with different int partitions\n",
    "my_df, my_int_list = type_3(p_test, pi, k)\n",
    "print(my_df)"
   ]
  },
  {
   "cell_type": "markdown",
   "metadata": {},
   "source": [
    "---\n",
    "***choices_matrix()*** provides a matrix listing all the choices for a given integer partition and prior pi\n",
    "\n",
    "Input:\n",
    "- df: the dataframe with all possible types for the integer partition\n",
    "- int_list: the expanded integer partition\n",
    "\n",
    "Output:\n",
    "- df_g, or dataframe_guess which contains the (not normalized) probabilities of every possible block in the integer partition being the respective diseases.\n",
    "\n",
    "An example of df_g:\n",
    "\n",
    "|   -  | a | b | c |\n",
    "|---|--|---|---|\n",
    "| 6   | 0.0156250 | 0.0013717 | 0.0000214 |\n",
    "| 0   | 0.0013932 | 0.0156464 | 0.0169967 |\n",
    "| 0   | 0.0013932 | 0.0156464 | 0.0169967 |\n",
    "\n",
    "Question:\n",
    "- In the case where there are two of the same integers (ex: 4 + 1 + 1), should we add the probabilities together? df_g for 4 + 1 + 1 looks like the following:\n",
    "\n",
    "|   -  | a | b | c |\n",
    "|---|--|---|---|\n",
    "| 4   | 0.0034722 | 0.0010288 | 0.0001286\n",
    "| 1   | 0.0011574 | 0.0036008 | 0.0045010\n",
    "| 1   | 0.0011574 | 0.0036008 | 0.0045010\n",
    "\n",
    "But is the probability that a block of size 1 == c .0045 or .009?"
   ]
  },
  {
   "cell_type": "code",
   "execution_count": 6,
   "metadata": {},
   "outputs": [],
   "source": [
    "def choices_matrix(df, int_list):\n",
    "    df_g = pd.DataFrame(0, index=int_list, columns=['a','b','c'])\n",
    "    for i in int_list:\n",
    "        df_g.loc[i,'a'] = df[df['a'] == i]['prob'].sum()\n",
    "        df_g.loc[i,'b'] = df[df['b'] == i]['prob'].sum()\n",
    "        df_g.loc[i,'c'] = df[df['c'] == i]['prob'].sum()\n",
    "    return df_g"
   ]
  },
  {
   "cell_type": "code",
   "execution_count": 7,
   "metadata": {},
   "outputs": [
    {
     "name": "stdout",
     "output_type": "stream",
     "text": [
      "           a          b          c\n",
      "3  0.0034722  0.0020576  0.0006430\n",
      "2  0.0019290  0.0025720  0.0016718\n",
      "1  0.0007716  0.0015432  0.0038580\n"
     ]
    }
   ],
   "source": [
    "# Test of choices_matrix() w/type 3\n",
    "my_df_guess = choices_matrix(my_df, my_int_list)\n",
    "print(my_df_guess)"
   ]
  },
  {
   "cell_type": "markdown",
   "metadata": {},
   "source": [
    "---\n",
    "***reduce_choices()*** reduces the size of the df_g matrix to only feasible answers and removes equal choices\n",
    "\n",
    "Input:\n",
    "- df_g, the matrix containing all of the possible choices\n",
    "- p, the integer partition dictionary\n",
    "\n",
    "Output:\n",
    "- df_reduced_guess, a dataframe that indicates the possible unique choices an adversary choice make given an integer partition"
   ]
  },
  {
   "cell_type": "code",
   "execution_count": 8,
   "metadata": {},
   "outputs": [],
   "source": [
    "def reduce_choices(df_g, p):\n",
    "    data = []\n",
    "    # if p[k] (multiplicity) >1, only take one row\n",
    "    # only keep blocks > size 0 (where row index ! = 0)\n",
    "    for k in p.keys(): # for every unique integer in p, copy a row in df_guess that matches the int\n",
    "        if p[k] > 1: # choose first example if >1\n",
    "            data.append(df_g.loc[k].iloc[0])# (old) .divide(p[k]))\n",
    "        else:\n",
    "            data.append(df_g.loc[k]) #copy the row\n",
    "    df_reduced_guess = pd.DataFrame(data = data)\n",
    "    return df_reduced_guess"
   ]
  },
  {
   "cell_type": "code",
   "execution_count": 9,
   "metadata": {},
   "outputs": [
    {
     "data": {
      "text/html": [
       "<div>\n",
       "<style scoped>\n",
       "    .dataframe tbody tr th:only-of-type {\n",
       "        vertical-align: middle;\n",
       "    }\n",
       "\n",
       "    .dataframe tbody tr th {\n",
       "        vertical-align: top;\n",
       "    }\n",
       "\n",
       "    .dataframe thead th {\n",
       "        text-align: right;\n",
       "    }\n",
       "</style>\n",
       "<table border=\"1\" class=\"dataframe\">\n",
       "  <thead>\n",
       "    <tr style=\"text-align: right;\">\n",
       "      <th></th>\n",
       "      <th>a</th>\n",
       "      <th>b</th>\n",
       "      <th>c</th>\n",
       "    </tr>\n",
       "  </thead>\n",
       "  <tbody>\n",
       "    <tr>\n",
       "      <th>3</th>\n",
       "      <td>0.0034722</td>\n",
       "      <td>0.0020576</td>\n",
       "      <td>0.0006430</td>\n",
       "    </tr>\n",
       "    <tr>\n",
       "      <th>2</th>\n",
       "      <td>0.0019290</td>\n",
       "      <td>0.0025720</td>\n",
       "      <td>0.0016718</td>\n",
       "    </tr>\n",
       "    <tr>\n",
       "      <th>1</th>\n",
       "      <td>0.0007716</td>\n",
       "      <td>0.0015432</td>\n",
       "      <td>0.0038580</td>\n",
       "    </tr>\n",
       "  </tbody>\n",
       "</table>\n",
       "</div>"
      ],
      "text/plain": [
       "           a          b          c\n",
       "3  0.0034722  0.0020576  0.0006430\n",
       "2  0.0019290  0.0025720  0.0016718\n",
       "1  0.0007716  0.0015432  0.0038580"
      ]
     },
     "execution_count": 9,
     "metadata": {},
     "output_type": "execute_result"
    }
   ],
   "source": [
    "my_reduced_df = reduce_choices(my_df_guess, p_test)\n",
    "my_reduced_df.head()"
   ]
  },
  {
   "cell_type": "code",
   "execution_count": 10,
   "metadata": {},
   "outputs": [
    {
     "data": {
      "text/plain": [
       "<matplotlib.axes._subplots.AxesSubplot at 0x1af771d3390>"
      ]
     },
     "execution_count": 10,
     "metadata": {},
     "output_type": "execute_result"
    },
    {
     "data": {
      "image/png": "[encoded data removed]",
      "text/plain": [
       "<Figure size 432x288 with 1 Axes>"
      ]
     },
     "metadata": {
      "needs_background": "light"
     },
     "output_type": "display_data"
    }
   ],
   "source": [
    "my_reduced_df.plot.bar()"
   ]
  },
  {
   "cell_type": "markdown",
   "metadata": {},
   "source": [
    "---\n",
    "***choose_max()*** takes the reduced matrix and says which guess to make, along with the posterior vulnerability the integer partition provided\n",
    "\n",
    "Input:\n",
    "- df_reduced_guess, the reduced matrix of choices\n",
    "\n",
    "Output:\n",
    "- val, the contribution to the posterior vulnerability for one instance of one integer partition\n",
    "- block_size, the block to guess about\n",
    "- disease, the correct disease, or plaintext value, to guess"
   ]
  },
  {
   "cell_type": "code",
   "execution_count": 11,
   "metadata": {},
   "outputs": [],
   "source": [
    "def choose_max(df_reduced_guess):\n",
    "    col_max_values = df_reduced_guess.max() # per column, the max values\n",
    "    col_max_values_id = df_reduced_guess.idxmax() # per column (disease), the index/block size of the max values\n",
    "    val = col_max_values.max() # max of the column maximums\n",
    "    disease = col_max_values.idxmax() # disease (column) of the above value\n",
    "    block_size = col_max_values_id.loc[disease] # contribution to the posterior vuln by this integer partition\n",
    "    return val, block_size, disease"
   ]
  },
  {
   "cell_type": "code",
   "execution_count": 12,
   "metadata": {},
   "outputs": [
    {
     "name": "stdout",
     "output_type": "stream",
     "text": [
      "contribution of partition to posterior vuln:  0.003858024691358024\n",
      "*********The best choice is*********\n",
      "block size:  1\n",
      "disease:  c\n"
     ]
    }
   ],
   "source": [
    "# Tets of choose_max\n",
    "my_val, my_block, my_disease = choose_max(my_reduced_df)\n",
    "print(\"contribution of partition to posterior vuln: \", my_val)\n",
    "print(\"*********The best choice is*********\")\n",
    "print(\"block size: \", my_block)\n",
    "print(\"disease: \", my_disease)"
   ]
  },
  {
   "cell_type": "markdown",
   "metadata": {},
   "source": [
    "---\n",
    "**calc_index_partitions()** calculates number of index partitions given an integer n and a integer partition p\n",
    "\n",
    "Input:\n",
    "- n: positive integer, the size of the column\n",
    "- p: a unique integer partition, as a python dictionary\n",
    "\n",
    "Output:\n",
    "- frac: the number of index partitions that can have integer partition p\n",
    "\n",
    "Generalized formula:<br>\n",
    "With an interger partition $p$ containing integers $i$, each with multiplicity of $m$,\n",
    "$$\\text{index partitions}(n,p)=\\frac{n!}{\\prod_{i \\in p} i!^m m!}$$\n",
    "\n",
    "Example:<br>\n",
    "$$\\text{index partitions}(6,\\{4:1, 1:2\\}) = \\frac{6!}{\\left(4!\\right)1! \\times \\left(1!\\right)^2 2!} $$"
   ]
  },
  {
   "cell_type": "code",
   "execution_count": 13,
   "metadata": {},
   "outputs": [],
   "source": [
    "def calc_index_partitions(n,p):\n",
    "    num = math.factorial(n)\n",
    "    den = 1\n",
    "    mul = 0\n",
    "    for i in p.keys():\n",
    "        m = p[i]\n",
    "        den = den * pow(math.factorial(i), m) * math.factorial(m)\n",
    "    frac = num / den\n",
    "    return frac"
   ]
  },
  {
   "cell_type": "markdown",
   "metadata": {},
   "source": [
    "---\n",
    "**post_vuln()** calculates the posterior gain vulnerability\n",
    "\n",
    "Input:\n",
    "- n: the size of the column (number of patients)\n",
    "- k: the number of plaintext values (diseases)\n",
    "- pi: the probability distrubution of the values in k\n",
    "\n",
    "Output:\n",
    "- pgvsum: the posterior gain vulnerability for that n value\n",
    "- choices_df: a dataframe where every row represents a different integer partition and contains the number of index partitions given the integer partition, the correct block and disease guess, the per integer partition contribution to the posterior gain vulnerability, and the weighted contribution to the posterior gain vulnerability (by the number of index partitions)\n",
    "\n",
    "Notes:\n",
    "- Due to the helper functions, this is hardcoded for k = 3"
   ]
  },
  {
   "cell_type": "code",
   "execution_count": 14,
   "metadata": {},
   "outputs": [],
   "source": [
    "def post_vuln(n, k, pi): #does not return a dataframe w/every partition\n",
    "    pgvsum = 0\n",
    "    for p in partitions(n, m=k): \n",
    "        p_guess = {}\n",
    "        num_index_partitions = calc_index_partitions(n,p) # p's number of index partitions\n",
    "        df, int_list = type_3(p, pi, k) # the probabilities of different types of the column\n",
    "        df_g = choices_matrix(df, int_list) # the disease:block size guesses the adversary can make\n",
    "        df_reduced = reduce_choices(df_g, p) # reduced dataframe, no 0s or duplicates\n",
    "        contribution, block_size, disease = choose_max(df_reduced)#posterior vuln for 1 p and best guess\n",
    "        weighted = num_index_partitions * contribution\n",
    "        pgvsum = pgvsum + weighted\n",
    "    return pgvsum"
   ]
  },
  {
   "cell_type": "code",
   "execution_count": 15,
   "metadata": {},
   "outputs": [],
   "source": [
    "def post_vuln_df(n, k, pi):\n",
    "    pgvsum = 0\n",
    "    data = []\n",
    "    for p in partitions(n, m=k): \n",
    "        p_guess = {}\n",
    "        num_index_partitions = calc_index_partitions(n,p) # p's number of index partitions\n",
    "        df, int_list = type_3(p, pi, k) # the probabilities of different types of the column\n",
    "        df_g = choices_matrix(df, int_list) # the disease:block size guesses the adversary can make\n",
    "        df_reduced = reduce_choices(df_g, p) # reduced dataframe, no 0s or duplicates\n",
    "        contribution, block_size, disease = choose_max(df_reduced)#posterior vuln for 1 p and best guess\n",
    "        weighted = num_index_partitions * contribution\n",
    "        pgvsum = pgvsum + weighted\n",
    "        p_guess = {'partition': int_list, 'contribution': contribution, 'indexes': num_index_partitions, 'block_size': block_size, 'disease': disease, 'weighted': weighted}\n",
    "        data.append(p_guess)\n",
    "    choices_df = pd.DataFrame(data = data)\n",
    "    return pgvsum, choices_df"
   ]
  },
  {
   "cell_type": "code",
   "execution_count": 16,
   "metadata": {},
   "outputs": [
    {
     "name": "stdout",
     "output_type": "stream",
     "text": [
      "posterior gain vulnerability for n = 12 \n",
      "0.7461139596458024\n"
     ]
    }
   ],
   "source": [
    "n = 12\n",
    "print(\"posterior gain vulnerability for n = %s \" % n)\n",
    "post, choices_df = post_vuln_df(n, k, pi)\n",
    "print(post)"
   ]
  },
  {
   "cell_type": "code",
   "execution_count": 17,
   "metadata": {},
   "outputs": [
    {
     "data": {
      "text/html": [
       "<div>\n",
       "<style scoped>\n",
       "    .dataframe tbody tr th:only-of-type {\n",
       "        vertical-align: middle;\n",
       "    }\n",
       "\n",
       "    .dataframe tbody tr th {\n",
       "        vertical-align: top;\n",
       "    }\n",
       "\n",
       "    .dataframe thead th {\n",
       "        text-align: right;\n",
       "    }\n",
       "</style>\n",
       "<table border=\"1\" class=\"dataframe\">\n",
       "  <thead>\n",
       "    <tr style=\"text-align: right;\">\n",
       "      <th></th>\n",
       "      <th>block_size</th>\n",
       "      <th>contribution</th>\n",
       "      <th>disease</th>\n",
       "      <th>indexes</th>\n",
       "      <th>partition</th>\n",
       "      <th>weighted</th>\n",
       "    </tr>\n",
       "  </thead>\n",
       "  <tbody>\n",
       "    <tr>\n",
       "      <th>0</th>\n",
       "      <td>12</td>\n",
       "      <td>0.0002441</td>\n",
       "      <td>a</td>\n",
       "      <td>1.0</td>\n",
       "      <td>[12, 0, 0]</td>\n",
       "      <td>0.0002441</td>\n",
       "    </tr>\n",
       "    <tr>\n",
       "      <th>1</th>\n",
       "      <td>11</td>\n",
       "      <td>0.0002441</td>\n",
       "      <td>a</td>\n",
       "      <td>12.0</td>\n",
       "      <td>[11, 1, 0]</td>\n",
       "      <td>0.0029297</td>\n",
       "    </tr>\n",
       "    <tr>\n",
       "      <th>2</th>\n",
       "      <td>10</td>\n",
       "      <td>0.0001356</td>\n",
       "      <td>a</td>\n",
       "      <td>66.0</td>\n",
       "      <td>[10, 2, 0]</td>\n",
       "      <td>0.0089518</td>\n",
       "    </tr>\n",
       "    <tr>\n",
       "      <th>3</th>\n",
       "      <td>1</td>\n",
       "      <td>0.0000557</td>\n",
       "      <td>c</td>\n",
       "      <td>66.0</td>\n",
       "      <td>[10, 1, 1]</td>\n",
       "      <td>0.0036739</td>\n",
       "    </tr>\n",
       "    <tr>\n",
       "      <th>4</th>\n",
       "      <td>9</td>\n",
       "      <td>0.0000814</td>\n",
       "      <td>a</td>\n",
       "      <td>220.0</td>\n",
       "      <td>[9, 3, 0]</td>\n",
       "      <td>0.0179036</td>\n",
       "    </tr>\n",
       "    <tr>\n",
       "      <th>5</th>\n",
       "      <td>9</td>\n",
       "      <td>0.0000543</td>\n",
       "      <td>a</td>\n",
       "      <td>660.0</td>\n",
       "      <td>[9, 2, 1]</td>\n",
       "      <td>0.0358073</td>\n",
       "    </tr>\n",
       "    <tr>\n",
       "      <th>6</th>\n",
       "      <td>8</td>\n",
       "      <td>0.0000512</td>\n",
       "      <td>a</td>\n",
       "      <td>495.0</td>\n",
       "      <td>[8, 4, 0]</td>\n",
       "      <td>0.0253635</td>\n",
       "    </tr>\n",
       "    <tr>\n",
       "      <th>7</th>\n",
       "      <td>8</td>\n",
       "      <td>0.0000301</td>\n",
       "      <td>a</td>\n",
       "      <td>1980.0</td>\n",
       "      <td>[8, 3, 1]</td>\n",
       "      <td>0.0596788</td>\n",
       "    </tr>\n",
       "    <tr>\n",
       "      <th>8</th>\n",
       "      <td>2</td>\n",
       "      <td>0.0000131</td>\n",
       "      <td>c</td>\n",
       "      <td>1485.0</td>\n",
       "      <td>[8, 2, 2]</td>\n",
       "      <td>0.0194754</td>\n",
       "    </tr>\n",
       "    <tr>\n",
       "      <th>9</th>\n",
       "      <td>7</td>\n",
       "      <td>0.0000332</td>\n",
       "      <td>a</td>\n",
       "      <td>792.0</td>\n",
       "      <td>[7, 5, 0]</td>\n",
       "      <td>0.0262587</td>\n",
       "    </tr>\n",
       "    <tr>\n",
       "      <th>10</th>\n",
       "      <td>1</td>\n",
       "      <td>0.0000208</td>\n",
       "      <td>c</td>\n",
       "      <td>3960.0</td>\n",
       "      <td>[7, 4, 1]</td>\n",
       "      <td>0.0825189</td>\n",
       "    </tr>\n",
       "    <tr>\n",
       "      <th>11</th>\n",
       "      <td>7</td>\n",
       "      <td>0.0000121</td>\n",
       "      <td>a</td>\n",
       "      <td>7920.0</td>\n",
       "      <td>[7, 3, 2]</td>\n",
       "      <td>0.0954861</td>\n",
       "    </tr>\n",
       "    <tr>\n",
       "      <th>12</th>\n",
       "      <td>6</td>\n",
       "      <td>0.0000218</td>\n",
       "      <td>a</td>\n",
       "      <td>462.0</td>\n",
       "      <td>[6, 6, 0]</td>\n",
       "      <td>0.0100570</td>\n",
       "    </tr>\n",
       "    <tr>\n",
       "      <th>13</th>\n",
       "      <td>1</td>\n",
       "      <td>0.0000179</td>\n",
       "      <td>c</td>\n",
       "      <td>5544.0</td>\n",
       "      <td>[6, 5, 1]</td>\n",
       "      <td>0.0990226</td>\n",
       "    </tr>\n",
       "    <tr>\n",
       "      <th>14</th>\n",
       "      <td>2</td>\n",
       "      <td>0.0000077</td>\n",
       "      <td>c</td>\n",
       "      <td>13860.0</td>\n",
       "      <td>[6, 4, 2]</td>\n",
       "      <td>0.1072745</td>\n",
       "    </tr>\n",
       "    <tr>\n",
       "      <th>15</th>\n",
       "      <td>3</td>\n",
       "      <td>0.0000035</td>\n",
       "      <td>c</td>\n",
       "      <td>9240.0</td>\n",
       "      <td>[6, 3, 3]</td>\n",
       "      <td>0.0320907</td>\n",
       "    </tr>\n",
       "    <tr>\n",
       "      <th>16</th>\n",
       "      <td>5</td>\n",
       "      <td>0.0000040</td>\n",
       "      <td>a</td>\n",
       "      <td>8316.0</td>\n",
       "      <td>[5, 5, 2]</td>\n",
       "      <td>0.0334201</td>\n",
       "    </tr>\n",
       "    <tr>\n",
       "      <th>17</th>\n",
       "      <td>3</td>\n",
       "      <td>0.0000030</td>\n",
       "      <td>c</td>\n",
       "      <td>27720.0</td>\n",
       "      <td>[5, 4, 3]</td>\n",
       "      <td>0.0825189</td>\n",
       "    </tr>\n",
       "    <tr>\n",
       "      <th>18</th>\n",
       "      <td>4</td>\n",
       "      <td>0.0000006</td>\n",
       "      <td>a</td>\n",
       "      <td>5775.0</td>\n",
       "      <td>[4, 4, 4]</td>\n",
       "      <td>0.0034383</td>\n",
       "    </tr>\n",
       "  </tbody>\n",
       "</table>\n",
       "</div>"
      ],
      "text/plain": [
       "    block_size  contribution disease  indexes   partition   weighted\n",
       "0           12     0.0002441       a      1.0  [12, 0, 0]  0.0002441\n",
       "1           11     0.0002441       a     12.0  [11, 1, 0]  0.0029297\n",
       "2           10     0.0001356       a     66.0  [10, 2, 0]  0.0089518\n",
       "3            1     0.0000557       c     66.0  [10, 1, 1]  0.0036739\n",
       "4            9     0.0000814       a    220.0   [9, 3, 0]  0.0179036\n",
       "5            9     0.0000543       a    660.0   [9, 2, 1]  0.0358073\n",
       "6            8     0.0000512       a    495.0   [8, 4, 0]  0.0253635\n",
       "7            8     0.0000301       a   1980.0   [8, 3, 1]  0.0596788\n",
       "8            2     0.0000131       c   1485.0   [8, 2, 2]  0.0194754\n",
       "9            7     0.0000332       a    792.0   [7, 5, 0]  0.0262587\n",
       "10           1     0.0000208       c   3960.0   [7, 4, 1]  0.0825189\n",
       "11           7     0.0000121       a   7920.0   [7, 3, 2]  0.0954861\n",
       "12           6     0.0000218       a    462.0   [6, 6, 0]  0.0100570\n",
       "13           1     0.0000179       c   5544.0   [6, 5, 1]  0.0990226\n",
       "14           2     0.0000077       c  13860.0   [6, 4, 2]  0.1072745\n",
       "15           3     0.0000035       c   9240.0   [6, 3, 3]  0.0320907\n",
       "16           5     0.0000040       a   8316.0   [5, 5, 2]  0.0334201\n",
       "17           3     0.0000030       c  27720.0   [5, 4, 3]  0.0825189\n",
       "18           4     0.0000006       a   5775.0   [4, 4, 4]  0.0034383"
      ]
     },
     "execution_count": 17,
     "metadata": {},
     "output_type": "execute_result"
    }
   ],
   "source": [
    "choices_df"
   ]
  },
  {
   "cell_type": "code",
   "execution_count": 18,
   "metadata": {},
   "outputs": [],
   "source": [
    "def prior_vuln(Pi):\n",
    "    Pi.sort(reverse=True) \n",
    "    return Pi[0]"
   ]
  },
  {
   "cell_type": "markdown",
   "metadata": {},
   "source": [
    "### Graphs"
   ]
  },
  {
   "cell_type": "code",
   "execution_count": 19,
   "metadata": {},
   "outputs": [],
   "source": [
    "def color_plot_vuln(df):\n",
    "    fig, ax = plt.subplots() # to show xtick labels\n",
    "    df.reset_index().plot.scatter(x='index', \n",
    "                y='weighted',\n",
    "                c = 'contribution', # the color map scale\n",
    "                colormap='winter_r',\n",
    "                ax = ax)\n",
    "    plt.xticks(df.index, df['partition'], rotation=90)\n",
    "    plt.title(\"Individual and Weighted Vulnerability Per Integer Partition\")\n",
    "    plt.show()\n",
    "##Graph options w/o colormap\n",
    "#choices_df.plot(x='partition', \n",
    "#                y='weighted',\n",
    "#                style='o-')\n",
    "#plt.xticks(choices_df.index, choices_df['partition'], rotation=90)\n",
    "#plt.show()"
   ]
  },
  {
   "cell_type": "code",
   "execution_count": 20,
   "metadata": {},
   "outputs": [
    {
     "data": {
      "image/png": "[encoded data removed]",
      "text/plain": [
       "<Figure size 432x288 with 2 Axes>"
      ]
     },
     "metadata": {
      "needs_background": "light"
     },
     "output_type": "display_data"
    }
   ],
   "source": [
    "color_plot_vuln(choices_df)"
   ]
  },
  {
   "cell_type": "code",
   "execution_count": 31,
   "metadata": {},
   "outputs": [],
   "source": [
    "def graph_it_prior_post(n_range, k, probs, df):\n",
    "    x = [i+1 for i in range(n_range)]\n",
    "    y_posterior = df[\"posterior\"].iloc[-1] # saves last posterior y\n",
    "    \n",
    "    plt.plot(x, 'prior', \n",
    "             data=df, \n",
    "             linestyle='--', \n",
    "             label=\"prior\")\n",
    "    plt.plot(x, 'posterior', \n",
    "             data=df, \n",
    "             marker='', \n",
    "             label=\"posterior\")\n",
    "    plt.xlabel('n values')\n",
    "    plt.ylabel('gain vulnerability')\n",
    "    plt.ylim(bottom=0, top = 1)\n",
    "    \n",
    "    plt.show()"
   ]
  },
  {
   "cell_type": "code",
   "execution_count": 29,
   "metadata": {},
   "outputs": [],
   "source": [
    "def graph_prior_post(n_range, k, probs):\n",
    "    post_vs = []\n",
    "    prior_vs = []\n",
    "    for i in range(n_range):\n",
    "        post_vs.append(post_vuln(i+1, k, probs))\n",
    "        prior_vs.append(prior_vuln(probs))\n",
    "    df = pd.DataFrame(\n",
    "        {'prior':prior_vs,\n",
    "         'posterior':post_vs\n",
    "        }\n",
    "    )\n",
    "    graph_it_prior_post(n_range, k, probs, df)"
   ]
  },
  {
   "cell_type": "code",
   "execution_count": 25,
   "metadata": {},
   "outputs": [
    {
     "data": {
      "image/png": "[encoded data removed]",
      "text/plain": [
       "<Figure size 432x288 with 1 Axes>"
      ]
     },
     "metadata": {
      "needs_background": "light"
     },
     "output_type": "display_data"
    }
   ],
   "source": [
    "graph_prior_post(100, 3, [1/2, 1/3, 1/6])"
   ]
  },
  {
   "cell_type": "code",
   "execution_count": 32,
   "metadata": {},
   "outputs": [
    {
     "data": {
      "image/png": "[encoded data removed]",
      "text/plain": [
       "<Figure size 432x288 with 1 Axes>"
      ]
     },
     "metadata": {
      "needs_background": "light"
     },
     "output_type": "display_data"
    }
   ],
   "source": [
    "graph_prior_post(100, 3, [1/3, 1/3, 1/3])"
   ]
  },
  {
   "cell_type": "code",
   "execution_count": 35,
   "metadata": {},
   "outputs": [
    {
     "data": {
      "image/png": "[encoded data removed]",
      "text/plain": [
       "<Figure size 432x288 with 1 Axes>"
      ]
     },
     "metadata": {
      "needs_background": "light"
     },
     "output_type": "display_data"
    }
   ],
   "source": [
    "graph_prior_post(20, 3, [1/3, 1/3, 1/3])"
   ]
  },
  {
   "cell_type": "code",
   "execution_count": 36,
   "metadata": {},
   "outputs": [
    {
     "data": {
      "image/png": "[encoded data removed]",
      "text/plain": [
       "<Figure size 432x288 with 1 Axes>"
      ]
     },
     "metadata": {
      "needs_background": "light"
     },
     "output_type": "display_data"
    }
   ],
   "source": [
    "graph_prior_post(100, 3, [1/2, 1/4, 1/4])"
   ]
  },
  {
   "cell_type": "code",
   "execution_count": 37,
   "metadata": {},
   "outputs": [
    {
     "data": {
      "image/png": "[encoded data removed]",
      "text/plain": [
       "<Figure size 432x288 with 1 Axes>"
      ]
     },
     "metadata": {
      "needs_background": "light"
     },
     "output_type": "display_data"
    }
   ],
   "source": [
    "graph_prior_post(100, 3, [1/2, .24, .26])"
   ]
  },
  {
   "cell_type": "code",
   "execution_count": 27,
   "metadata": {},
   "outputs": [],
   "source": [
    "def graph_post(n_range, k, probs):\n",
    "    post_vs = []\n",
    "    for i in range(n_range):\n",
    "        post_vs.append(post_vuln(i+1, k, probs))\n",
    "    df = pd.DataFrame(\n",
    "        {\n",
    "         'posterior':post_vs\n",
    "        }\n",
    "    )\n",
    "    \n",
    "    x = [i+1 for i in range(n_range)]\n",
    "    y_posterior = df[\"posterior\"].iloc[-1] # saves last posterior y\n",
    "    \n",
    "    plt.plot(x, 'posterior', \n",
    "             data=df, \n",
    "             marker='', \n",
    "             label=\"posterior\")\n",
    "    plt.xlabel('n values')\n",
    "    plt.ylabel('gain vulnerability')\n",
    "    plt.ylim(bottom=0, top = 1)\n",
    "    \n",
    "    plt.show()"
   ]
  },
  {
   "cell_type": "code",
   "execution_count": 28,
   "metadata": {},
   "outputs": [
    {
     "data": {
      "image/png": "[encoded data removed]",
      "text/plain": [
       "<Figure size 432x288 with 1 Axes>"
      ]
     },
     "metadata": {
      "needs_background": "light"
     },
     "output_type": "display_data"
    }
   ],
   "source": [
    "graph_post(200, 3, pi)"
   ]
  },
  {
   "cell_type": "markdown",
   "metadata": {},
   "source": [
    "**Misc. Tests**"
   ]
  },
  {
   "cell_type": "code",
   "execution_count": 18,
   "metadata": {},
   "outputs": [
    {
     "name": "stdout",
     "output_type": "stream",
     "text": [
      "[(3, 3, 0), (0, 3, 3), (3, 0, 3)]\n"
     ]
    }
   ],
   "source": [
    "my_int_list = [3, 3, 0]\n",
    "my_list = list(set(permutations(my_int_list, k)))\n",
    "print(my_list)"
   ]
  },
  {
   "cell_type": "code",
   "execution_count": null,
   "metadata": {
    "scrolled": true
   },
   "outputs": [],
   "source": [
    "n = 6\n",
    "k = 3\n",
    "for p in partitions(n, m = k):\n",
    "    print(\"p = \", p)\n",
    "    print(\"p.keys()= \", p.keys())\n",
    "    for k in p.keys():\n",
    "        print(\"value: \", p[k])\n",
    "    num = calc_set_partitions(n,p)\n",
    "    print(\"index_partitions: \", num)"
   ]
  },
  {
   "cell_type": "markdown",
   "metadata": {},
   "source": [
    "### Trash"
   ]
  },
  {
   "cell_type": "markdown",
   "metadata": {},
   "source": [
    "**k_dictionary**\n",
    "\n",
    "Input: pi, the probability distribution\n",
    "\n",
    "Output: a dictionary with letters for keys. The letters represent individual diseases. Can be used to keep track of individual diseases throughout the gain function calculations.\n",
    "\n",
    "Note-- Not currently in use\n",
    "\n",
    "```python\n",
    "pi = [1/2, 1/3, 1/6]\n",
    "k_dict = {'a': 0.5, 'b': 0.33333, 'c':0.166666}\n",
    "```"
   ]
  },
  {
   "cell_type": "code",
   "execution_count": null,
   "metadata": {},
   "outputs": [],
   "source": [
    "def k_dictionary(pi):\n",
    "    return dict(zip(string.ascii_lowercase, pi))"
   ]
  },
  {
   "cell_type": "code",
   "execution_count": null,
   "metadata": {},
   "outputs": [],
   "source": [
    "pi_dictionary = k_dictionary(pi)\n",
    "\n",
    "print(pi_dictionary)"
   ]
  },
  {
   "cell_type": "code",
   "execution_count": null,
   "metadata": {},
   "outputs": [],
   "source": [
    "def type_1(p, pi):\n",
    "    '''\n",
    "    We use the int partition p to calculate \n",
    "    1. the number of bins and \n",
    "    2. the column names for the dataframe\n",
    "    '''\n",
    "    bins = sum(p.values()) #there will always be <=k 'bins' \n",
    "    col_names = list_all_ints(p)\n",
    "    df = pd.DataFrame(list(permutations(pi, bins)), columns=col_names)\n",
    "    df['prob'] = pow(df[col_names[0]],col_names[0]) *  pow(df[col_names[1]],col_names[1]) *  pow(df[col_names[2]],col_names[2])\n",
    "    return df"
   ]
  },
  {
   "cell_type": "code",
   "execution_count": null,
   "metadata": {},
   "outputs": [],
   "source": [
    "df = type_1({3:1, 2:1, 1:1}, pi)\n",
    "print(df)"
   ]
  }
 ],
 "metadata": {
  "kernelspec": {
   "display_name": "Python 3",
   "language": "python",
   "name": "python3"
  },
  "language_info": {
   "codemirror_mode": {
    "name": "ipython",
    "version": 3
   },
   "file_extension": ".py",
   "mimetype": "text/x-python",
   "name": "python",
   "nbconvert_exporter": "python",
   "pygments_lexer": "ipython3",
   "version": "3.6.7"
  }
 },
 "nbformat": 4,
 "nbformat_minor": 2
}
