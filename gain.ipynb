{
 "cells": [
  {
   "cell_type": "code",
   "execution_count": 6,
   "metadata": {},
   "outputs": [],
   "source": [
    "import collections\n",
    "import math\n",
    "import string\n",
    "import numpy as np\n",
    "import pandas as pd\n",
    "from sympy.utilities.iterables import partitions\n",
    "from sympy.functions.combinatorial.numbers import stirling\n",
    "import matplotlib.pyplot as plt \n",
    "%matplotlib notebook"
   ]
  },
  {
   "cell_type": "markdown",
   "metadata": {},
   "source": [
    "pi_dict takes the probability distribution and outputs a dictionary with letters for keys. The letters represent individual diseases. We use this to keep track of individual diseases throughout the gain function calculations."
   ]
  },
  {
   "cell_type": "code",
   "execution_count": 13,
   "metadata": {},
   "outputs": [],
   "source": [
    "def pi_dict(pi):\n",
    "    return dict(zip(string.ascii_lowercase, pi))"
   ]
  },
  {
   "cell_type": "code",
   "execution_count": 17,
   "metadata": {},
   "outputs": [
    {
     "name": "stdout",
     "output_type": "stream",
     "text": [
      "{'a': 0.5, 'b': 0.3333333333333333, 'c': 0.16666666666666666}\n"
     ]
    }
   ],
   "source": [
    "dist = [1/2, 1/3, 1/6]\n",
    "\n",
    "pi_dictionary = pi_dict(dist)\n",
    "\n",
    "print(pi_dictionary)"
   ]
  },
  {
   "cell_type": "markdown",
   "metadata": {},
   "source": [
    "Calculates number of set partitions given an integer n and a integer partition p"
   ]
  },
  {
   "cell_type": "code",
   "execution_count": 2,
   "metadata": {},
   "outputs": [],
   "source": [
    "def calc_set_partitions(n,p):\n",
    "    num = math.factorial(n)\n",
    "    den = 1\n",
    "    mul = 0\n",
    "    for i in p.keys():\n",
    "        m = p[i]\n",
    "        den = den * pow(math.factorial(i), m) * math.factorial(m)\n",
    "    frac = num / den\n",
    "    return frac"
   ]
  },
  {
   "cell_type": "markdown",
   "metadata": {},
   "source": [
    "find_choice calculates the correct choice of column size and value given a partition and the prior probability distribution represented in a dictionary"
   ]
  },
  {
   "cell_type": "code",
   "execution_count": null,
   "metadata": {},
   "outputs": [],
   "source": [
    "def find_choice(p, prior):\n",
    "    # generates table with type probability, adds, normalizes\n",
    "    # generates df with sum of normalized probability where value = 'a', col = 1, etc.\n",
    "    # maxes df\n",
    "    # returns choice eg ['a', '1', 'prob(a == 1)']\n",
    "    # returns prob(choice)\n",
    "    print('todo')\n",
    "    return 1"
   ]
  },
  {
   "cell_type": "code",
   "execution_count": null,
   "metadata": {},
   "outputs": [],
   "source": [
    "def choose_g_post_vuln(n, k, Prior):\n",
    "    g_sum = 0\n",
    "    for p in partitions(n, m=k):  \n",
    "        num = calc_set_partitions(n,p)\n",
    "        frac = find_choice(p, Prior)\n",
    "        val = num * frac # check\n",
    "        g_sum = g_sum + val\n",
    "    return g_sum"
   ]
  },
  {
   "cell_type": "markdown",
   "metadata": {},
   "source": [
    "Tests"
   ]
  },
  {
   "cell_type": "code",
   "execution_count": 18,
   "metadata": {},
   "outputs": [
    {
     "name": "stdout",
     "output_type": "stream",
     "text": [
      "key:  a\n",
      "key:  b\n",
      "key:  c\n"
     ]
    }
   ],
   "source": [
    "for key in pi_dictionary:\n",
    "    print(\"key: \", key)"
   ]
  },
  {
   "cell_type": "code",
   "execution_count": 5,
   "metadata": {
    "scrolled": true
   },
   "outputs": [
    {
     "name": "stdout",
     "output_type": "stream",
     "text": [
      "p =  {6: 1}\n",
      "p.keys=  dict_keys([6])\n",
      "num:  1.0\n",
      "p =  {5: 1, 1: 1}\n",
      "p.keys=  dict_keys([5, 1])\n",
      "num:  6.0\n",
      "p =  {4: 1, 2: 1}\n",
      "p.keys=  dict_keys([4, 2])\n",
      "num:  15.0\n",
      "p =  {4: 1, 1: 2}\n",
      "p.keys=  dict_keys([4, 1])\n",
      "num:  15.0\n",
      "p =  {3: 2}\n",
      "p.keys=  dict_keys([3])\n",
      "num:  10.0\n",
      "p =  {3: 1, 2: 1, 1: 1}\n",
      "p.keys=  dict_keys([3, 2, 1])\n",
      "num:  60.0\n",
      "p =  {2: 3}\n",
      "p.keys=  dict_keys([2])\n",
      "num:  15.0\n"
     ]
    }
   ],
   "source": [
    "n = 6\n",
    "k = 3\n",
    "for p in partitions(n, m = k):\n",
    "    print(\"p = \", p)\n",
    "    print(\"p.keys= \", p.keys())\n",
    "    num = calc_set_partitions(n,p)\n",
    "    print(\"num: \", num)"
   ]
  },
  {
   "cell_type": "code",
   "execution_count": null,
   "metadata": {},
   "outputs": [],
   "source": []
  }
 ],
 "metadata": {
  "kernelspec": {
   "display_name": "Python 3",
   "language": "python",
   "name": "python3"
  },
  "language_info": {
   "codemirror_mode": {
    "name": "ipython",
    "version": 3
   },
   "file_extension": ".py",
   "mimetype": "text/x-python",
   "name": "python",
   "nbconvert_exporter": "python",
   "pygments_lexer": "ipython3",
   "version": "3.6.7"
  }
 },
 "nbformat": 4,
 "nbformat_minor": 2
}
