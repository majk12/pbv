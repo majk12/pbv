{
 "cells": [
  {
   "cell_type": "code",
   "execution_count": 89,
   "metadata": {},
   "outputs": [],
   "source": [
    "import collections\n",
    "from collections import Counter\n",
    "import math\n",
    "import string\n",
    "import logging\n",
    "import numpy as np\n",
    "import pandas as pd\n",
    "from itertools import permutations\n",
    "from sympy.utilities.iterables import partitions\n",
    "import matplotlib.pyplot as plt \n",
    "pd.set_option('precision', 10)\n",
    "%matplotlib inline"
   ]
  },
  {
   "cell_type": "markdown",
   "metadata": {},
   "source": [
    "### Test Variables"
   ]
  },
  {
   "cell_type": "code",
   "execution_count": 4,
   "metadata": {},
   "outputs": [],
   "source": [
    "prior = [1/2, 1/3, 1/6]\n",
    "n = 10\n",
    "k = 3"
   ]
  },
  {
   "cell_type": "markdown",
   "metadata": {},
   "source": [
    "## Functions"
   ]
  },
  {
   "cell_type": "markdown",
   "metadata": {},
   "source": [
    "---\n",
    "**gen_col** generates a non-unform random sample of size n according to the prior"
   ]
  },
  {
   "cell_type": "code",
   "execution_count": 6,
   "metadata": {},
   "outputs": [],
   "source": [
    "def gen_col(n, k, prior):\n",
    "    return np.random.choice(np.arange(1,k+1), n, p=prior)"
   ]
  },
  {
   "cell_type": "code",
   "execution_count": 9,
   "metadata": {},
   "outputs": [
    {
     "name": "stdout",
     "output_type": "stream",
     "text": [
      "[2 1 3 2 2 2 1 1 1 1]\n"
     ]
    }
   ],
   "source": [
    "a = gen_col(n, k, prior)\n",
    "print(a)"
   ]
  },
  {
   "cell_type": "markdown",
   "metadata": {},
   "source": [
    "---\n",
    "**col_letter_list** turns nparray of ints to a list of strings.\n",
    "\n",
    "Uses **letter_dictionary** as helper function"
   ]
  },
  {
   "cell_type": "code",
   "execution_count": 77,
   "metadata": {},
   "outputs": [],
   "source": [
    "def letter_dictionary():\n",
    "    return dict(zip(range(1, k+1), string.ascii_lowercase))"
   ]
  },
  {
   "cell_type": "code",
   "execution_count": 78,
   "metadata": {},
   "outputs": [
    {
     "name": "stdout",
     "output_type": "stream",
     "text": [
      "{1: 'a', 2: 'b', 3: 'c'}\n"
     ]
    }
   ],
   "source": [
    "letter_dict = letter_dictionary()\n",
    "print(letter_dict)"
   ]
  },
  {
   "cell_type": "code",
   "execution_count": 85,
   "metadata": {},
   "outputs": [],
   "source": [
    "def col_letter_list(col):\n",
    "    letter_list = []\n",
    "    tuple_col = tuple(col)\n",
    "    for x in tuple_col:\n",
    "        letter_list.append(letter_dict[x])\n",
    "    return letter_list"
   ]
  },
  {
   "cell_type": "code",
   "execution_count": 87,
   "metadata": {},
   "outputs": [
    {
     "name": "stdout",
     "output_type": "stream",
     "text": [
      "['b', 'a', 'c', 'b', 'b', 'b', 'a', 'a', 'a', 'a']\n"
     ]
    }
   ],
   "source": [
    "my_letter_list = col_letter_list(a)\n",
    "print(my_letter_list)"
   ]
  },
  {
   "cell_type": "markdown",
   "metadata": {},
   "source": [
    "---\n",
    "**index_dict** is a way to keep track of indices in list to make guess\n",
    "\n",
    "Not currently in use"
   ]
  },
  {
   "cell_type": "code",
   "execution_count": 110,
   "metadata": {},
   "outputs": [],
   "source": [
    "def index_dict(letter_list):\n",
    "    ind_x = []\n",
    "    ind_y = []\n",
    "    ind_z = []\n",
    "    i = 0\n",
    "    for x in letter_list:\n",
    "        if x=='a':\n",
    "            ind_x.append(i)\n",
    "        elif x == 'b':\n",
    "            ind_y.append(i)\n",
    "        elif x == 'c':\n",
    "            ind_z.append(i)\n",
    "        else:\n",
    "            raise Exception(\"x != a, b, c\")\n",
    "        i = i + 1\n",
    "    index_dict = {'x': ind_x, 'y': ind_y, 'z': ind_z}\n",
    "    return index_dict"
   ]
  },
  {
   "cell_type": "code",
   "execution_count": 112,
   "metadata": {},
   "outputs": [
    {
     "name": "stdout",
     "output_type": "stream",
     "text": [
      "{'x': [1, 6, 7, 8, 9], 'y': [0, 3, 4, 5], 'z': [2]}\n"
     ]
    }
   ],
   "source": [
    "my_ind_dict = index_dict(my_letter_list)\n",
    "print(my_ind_dict)"
   ]
  },
  {
   "cell_type": "markdown",
   "metadata": {},
   "source": [
    "---\n",
    "**index_dicts** takes the letter lists and records the indices in 3 seperate lists"
   ]
  },
  {
   "cell_type": "code",
   "execution_count": 126,
   "metadata": {},
   "outputs": [],
   "source": [
    "def index_dicts(letter_list):\n",
    "    ind_x = []\n",
    "    ind_y = []\n",
    "    ind_z = []\n",
    "    i = 0\n",
    "    for x in letter_list:\n",
    "        if x=='a':\n",
    "            ind_x.append(i)\n",
    "        elif x == 'b':\n",
    "            ind_y.append(i)\n",
    "        elif x == 'c':\n",
    "            ind_z.append(i)\n",
    "        else:\n",
    "            raise Exception(\"x != a, b, c\")\n",
    "        i = i + 1\n",
    "    return ind_x, ind_y, ind_z"
   ]
  },
  {
   "cell_type": "code",
   "execution_count": 127,
   "metadata": {},
   "outputs": [
    {
     "name": "stdout",
     "output_type": "stream",
     "text": [
      "[1, 6, 7, 8, 9]\n",
      "[0, 3, 4, 5]\n",
      "[2]\n"
     ]
    }
   ],
   "source": [
    "x, y, z = index_dicts(my_letter_list)\n",
    "print(x)\n",
    "print(y)\n",
    "print(z)"
   ]
  },
  {
   "cell_type": "code",
   "execution_count": null,
   "metadata": {},
   "outputs": [],
   "source": []
  },
  {
   "cell_type": "markdown",
   "metadata": {},
   "source": [
    "---\n",
    "**replace_letters** just replaces a, b, c with x, y, z. "
   ]
  },
  {
   "cell_type": "code",
   "execution_count": 119,
   "metadata": {},
   "outputs": [],
   "source": [
    "def replace_letters(letter_list):\n",
    "    enc_list = []\n",
    "    for x in letter_list:\n",
    "        if x=='a':\n",
    "            enc_list.append('x')\n",
    "        elif x == 'b':\n",
    "            enc_list.append('y')\n",
    "        elif x == 'c':\n",
    "            enc_list.append('z')\n",
    "        else:\n",
    "            raise Exception(\"x != a, b, c\")\n",
    "    return enc_list"
   ]
  },
  {
   "cell_type": "code",
   "execution_count": 121,
   "metadata": {},
   "outputs": [
    {
     "name": "stdout",
     "output_type": "stream",
     "text": [
      "['y', 'x', 'z', 'y', 'y', 'y', 'x', 'x', 'x', 'x']\n"
     ]
    }
   ],
   "source": [
    "my_enc_list = replace_letters(my_letter_list)\n",
    "print(my_enc_list)"
   ]
  },
  {
   "cell_type": "markdown",
   "metadata": {},
   "source": [
    "---\n",
    "**gen_letter_counts** takes the column w/diseases and counts occurances, returns block sizes"
   ]
  },
  {
   "cell_type": "code",
   "execution_count": 160,
   "metadata": {},
   "outputs": [],
   "source": [
    "def gen_letter_counts(letter_list):\n",
    "    my_counter = Counter(letter_list)\n",
    "    counter_list = sorted(list(dict(my_counter).values()), reverse=True)\n",
    "    return counter_list"
   ]
  },
  {
   "cell_type": "code",
   "execution_count": 104,
   "metadata": {},
   "outputs": [
    {
     "name": "stdout",
     "output_type": "stream",
     "text": [
      "[5, 4, 1]\n"
     ]
    }
   ],
   "source": [
    "c = gen_letter_counts(my_letter_list)\n",
    "print(c)"
   ]
  },
  {
   "cell_type": "markdown",
   "metadata": {},
   "source": [
    "---\n",
    "**gen_counts** returns just block sizes in a nparray\n",
    "\n",
    "Not currently in use, counting off letter list directly"
   ]
  },
  {
   "cell_type": "code",
   "execution_count": 19,
   "metadata": {},
   "outputs": [],
   "source": [
    "def gen_counts(a):\n",
    "    unique, counts = np.unique(a, return_counts=True)\n",
    "    unique_counts_dict = dict(zip(unique, counts)) # not using rn\n",
    "    return counts"
   ]
  },
  {
   "cell_type": "code",
   "execution_count": 52,
   "metadata": {},
   "outputs": [
    {
     "name": "stdout",
     "output_type": "stream",
     "text": [
      "[5 4 1]\n"
     ]
    }
   ],
   "source": [
    "int_lista = gen_counts(a)\n",
    "print(int_lista)"
   ]
  },
  {
   "cell_type": "markdown",
   "metadata": {},
   "source": [
    "---\n",
    "**k_dictionary**\n",
    "\n",
    "Input: pi, the probability distribution\n",
    "\n",
    "Output: a dictionary with letters for keys. The letters represent individual diseases. Can be used to keep track of individual diseases throughout the gain function calculations."
   ]
  },
  {
   "cell_type": "code",
   "execution_count": 28,
   "metadata": {},
   "outputs": [],
   "source": [
    "def k_dictionary(prior):\n",
    "    return dict(zip(string.ascii_lowercase, prior))"
   ]
  },
  {
   "cell_type": "code",
   "execution_count": 30,
   "metadata": {},
   "outputs": [
    {
     "name": "stdout",
     "output_type": "stream",
     "text": [
      "{'a': 0.5, 'b': 0.3333333333333333, 'c': 0.16666666666666666}\n"
     ]
    }
   ],
   "source": [
    "pi_dict = k_dictionary(prior)\n",
    "print(pi_dict)"
   ]
  },
  {
   "cell_type": "markdown",
   "metadata": {},
   "source": [
    "---\n",
    "**type_3** calculates all possible probabilies for each column type, given an integer partition as list\n",
    "\n",
    "Input: \n",
    "- an integer partition as list, int_list \n",
    "- pi_dict, a dictionary of diseases and probabilities in k \n",
    "- k, the number of unique plaintext values/diseases\n",
    "\n",
    "Output:\n",
    "- df: columns represent the different blocks. Each row has a different permutation of diseases. The final column is the probability of that particular column type occuring"
   ]
  },
  {
   "cell_type": "code",
   "execution_count": 117,
   "metadata": {},
   "outputs": [],
   "source": [
    "def type_3(int_list, pi_dict, k):\n",
    "    int_list_len = len(int_list)\n",
    "    data = list(permutations(pi_dict.keys(), min(k, int_list_len)))\n",
    "    df = pd.DataFrame(data = data, columns=int_list)\n",
    "    if int_list_len == 1:\n",
    "        df['prob']= pow(df.iloc[:,0].map(pi_dict), df.columns.values[0])\n",
    "    elif int_list_len == 2:\n",
    "        df['prob']= pow(df.iloc[:,0].map(pi_dict), df.columns.values[0]) * pow(df.iloc[:,1].map(pi_dict), df.columns.values[1])\n",
    "    elif int_list_len == 3:\n",
    "        df['prob']= pow(df.iloc[:,0].map(pi_dict), df.columns.values[0]) * pow(df.iloc[:,1].map(pi_dict), df.columns.values[1]) * pow(df.iloc[:,2].map(pi_dict), df.columns.values[2])\n",
    "    elif int_list_len == 4:\n",
    "        df['prob']= pow(df.iloc[:,0].map(pi_dict), df.columns.values[0]) * pow(df.iloc[:,1].map(pi_dict), df.columns.values[1]) * pow(df.iloc[:,2].map(pi_dict), df.columns.values[2]) * pow(df.iloc[:,3].map(pi_dict), df.columns.values[3])\n",
    "    elif int_list_len == 5:\n",
    "        df['prob']= pow(df.iloc[:,0].map(pi_dict), df.columns.values[0]) * pow(df.iloc[:,1].map(pi_dict), df.columns.values[1]) * pow(df.iloc[:,2].map(pi_dict), df.columns.values[2]) * pow(df.iloc[:,3].map(pi_dict), df.columns.values[3]) * pow(df.iloc[:,4].map(pi_dict), df.columns.values[4])\n",
    "    else:\n",
    "         raise ValueError(\"The integer partition doesn't make sense\")\n",
    "    return df"
   ]
  },
  {
   "cell_type": "code",
   "execution_count": 118,
   "metadata": {},
   "outputs": [
    {
     "data": {
      "text/html": [
       "<div>\n",
       "<style scoped>\n",
       "    .dataframe tbody tr th:only-of-type {\n",
       "        vertical-align: middle;\n",
       "    }\n",
       "\n",
       "    .dataframe tbody tr th {\n",
       "        vertical-align: top;\n",
       "    }\n",
       "\n",
       "    .dataframe thead th {\n",
       "        text-align: right;\n",
       "    }\n",
       "</style>\n",
       "<table border=\"1\" class=\"dataframe\">\n",
       "  <thead>\n",
       "    <tr style=\"text-align: right;\">\n",
       "      <th></th>\n",
       "      <th>5</th>\n",
       "      <th>4</th>\n",
       "      <th>1</th>\n",
       "      <th>prob</th>\n",
       "    </tr>\n",
       "  </thead>\n",
       "  <tbody>\n",
       "    <tr>\n",
       "      <th>0</th>\n",
       "      <td>a</td>\n",
       "      <td>b</td>\n",
       "      <td>c</td>\n",
       "      <td>0.0000643004</td>\n",
       "    </tr>\n",
       "    <tr>\n",
       "      <th>1</th>\n",
       "      <td>a</td>\n",
       "      <td>c</td>\n",
       "      <td>b</td>\n",
       "      <td>0.0000080376</td>\n",
       "    </tr>\n",
       "    <tr>\n",
       "      <th>2</th>\n",
       "      <td>b</td>\n",
       "      <td>a</td>\n",
       "      <td>c</td>\n",
       "      <td>0.0000428669</td>\n",
       "    </tr>\n",
       "    <tr>\n",
       "      <th>3</th>\n",
       "      <td>b</td>\n",
       "      <td>c</td>\n",
       "      <td>a</td>\n",
       "      <td>0.0000015877</td>\n",
       "    </tr>\n",
       "    <tr>\n",
       "      <th>4</th>\n",
       "      <td>c</td>\n",
       "      <td>a</td>\n",
       "      <td>b</td>\n",
       "      <td>0.0000026792</td>\n",
       "    </tr>\n",
       "    <tr>\n",
       "      <th>5</th>\n",
       "      <td>c</td>\n",
       "      <td>b</td>\n",
       "      <td>a</td>\n",
       "      <td>0.0000007938</td>\n",
       "    </tr>\n",
       "  </tbody>\n",
       "</table>\n",
       "</div>"
      ],
      "text/plain": [
       "   5  4  1          prob\n",
       "0  a  b  c  0.0000643004\n",
       "1  a  c  b  0.0000080376\n",
       "2  b  a  c  0.0000428669\n",
       "3  b  c  a  0.0000015877\n",
       "4  c  a  b  0.0000026792\n",
       "5  c  b  a  0.0000007938"
      ]
     },
     "execution_count": 118,
     "metadata": {},
     "output_type": "execute_result"
    }
   ],
   "source": [
    "dfa = type_3(int_lista, pi_dict, k)\n",
    "dfa"
   ]
  },
  {
   "cell_type": "code",
   "execution_count": 139,
   "metadata": {},
   "outputs": [],
   "source": [
    "def blocks_to_disease_guess(df):\n",
    "    s = df.loc[df['prob'].idxmax()]\n",
    "    guess_df = pd.DataFrame({'block': s.index, 'disease':s.values})\n",
    "    return guess_df"
   ]
  },
  {
   "cell_type": "code",
   "execution_count": 140,
   "metadata": {},
   "outputs": [
    {
     "data": {
      "text/html": [
       "<div>\n",
       "<style scoped>\n",
       "    .dataframe tbody tr th:only-of-type {\n",
       "        vertical-align: middle;\n",
       "    }\n",
       "\n",
       "    .dataframe tbody tr th {\n",
       "        vertical-align: top;\n",
       "    }\n",
       "\n",
       "    .dataframe thead th {\n",
       "        text-align: right;\n",
       "    }\n",
       "</style>\n",
       "<table border=\"1\" class=\"dataframe\">\n",
       "  <thead>\n",
       "    <tr style=\"text-align: right;\">\n",
       "      <th></th>\n",
       "      <th>block</th>\n",
       "      <th>disease</th>\n",
       "    </tr>\n",
       "  </thead>\n",
       "  <tbody>\n",
       "    <tr>\n",
       "      <th>0</th>\n",
       "      <td>5</td>\n",
       "      <td>a</td>\n",
       "    </tr>\n",
       "    <tr>\n",
       "      <th>1</th>\n",
       "      <td>4</td>\n",
       "      <td>b</td>\n",
       "    </tr>\n",
       "    <tr>\n",
       "      <th>2</th>\n",
       "      <td>1</td>\n",
       "      <td>c</td>\n",
       "    </tr>\n",
       "    <tr>\n",
       "      <th>3</th>\n",
       "      <td>prob</td>\n",
       "      <td>6.430041152e-05</td>\n",
       "    </tr>\n",
       "  </tbody>\n",
       "</table>\n",
       "</div>"
      ],
      "text/plain": [
       "  block          disease\n",
       "0     5                a\n",
       "1     4                b\n",
       "2     1                c\n",
       "3  prob  6.430041152e-05"
      ]
     },
     "execution_count": 140,
     "metadata": {},
     "output_type": "execute_result"
    }
   ],
   "source": [
    "blocks_to_disease_guess(dfa)"
   ]
  },
  {
   "cell_type": "code",
   "execution_count": 200,
   "metadata": {},
   "outputs": [],
   "source": [
    "def make_guess(x, y, z, b2d, enc_list):\n",
    "    guess = []\n",
    "    ## Establish mapping\n",
    "    x_len = len(x)\n",
    "    x_val = b2d.loc[b2d['block'] == x_len, 'disease'].iloc[0]\n",
    "    y_len = len(y)\n",
    "    y_val = b2d.loc[b2d['block'] == y_len, 'disease'].iloc[0]\n",
    "    if y_val == x_val:\n",
    "        y_val = b2d.loc[b2d['block'] == y_len, 'disease'].iloc[1]\n",
    "    z_len = len(z)\n",
    "    z_val = b2d.loc[b2d['block'] == z_len, 'disease'].iloc[0]\n",
    "    if z_val == y_val:\n",
    "        z_val =  b2d.loc[b2d['block'] == y_len, 'disease'].iloc[1]\n",
    "    n = x_len + y_len + z_len\n",
    "    ## Fill in guess list\n",
    "    for i in enc_list:\n",
    "        if i == 'x':\n",
    "            guess.append(x_val)\n",
    "        elif i == 'y':\n",
    "            guess.append(y_val)\n",
    "        elif i == 'z':\n",
    "            guess.append(z_val)\n",
    "        else:\n",
    "            raise Exception(\"i != x, y, z\")\n",
    "    return guess"
   ]
  },
  {
   "cell_type": "code",
   "execution_count": 202,
   "metadata": {},
   "outputs": [
    {
     "name": "stdout",
     "output_type": "stream",
     "text": [
      "['b', 'c', 'b', 'a', 'a', 'b', 'a', 'a', 'a', 'a']\n"
     ]
    }
   ],
   "source": [
    "guess = make_guess(x, y, z, b2d, enc_list)\n",
    "print(guess)"
   ]
  },
  {
   "cell_type": "code",
   "execution_count": 186,
   "metadata": {},
   "outputs": [],
   "source": [
    "def check_guess(letter_list, guess):\n",
    "    return letter_list == guess"
   ]
  },
  {
   "cell_type": "code",
   "execution_count": 187,
   "metadata": {},
   "outputs": [
    {
     "name": "stdout",
     "output_type": "stream",
     "text": [
      "True\n"
     ]
    }
   ],
   "source": [
    "val = check_guess(letter_list, guess)\n",
    "print(val)"
   ]
  },
  {
   "cell_type": "code",
   "execution_count": 188,
   "metadata": {},
   "outputs": [
    {
     "name": "stdout",
     "output_type": "stream",
     "text": [
      "*** Variables ***\n",
      "N:  10\n",
      "K:  3\n",
      "Prior:  [0.5, 0.3333333333333333, 0.16666666666666666]\n",
      "*** Generated Column ***\n",
      "[3 3 3 1 3 2 2 3 1 1]\n",
      "*** Column in Letters ***\n",
      "['c', 'c', 'c', 'a', 'c', 'b', 'b', 'c', 'a', 'a']\n",
      "*** The indices ***\n",
      "x  [3, 8, 9]\n",
      "y  [5, 6]\n",
      "z  [0, 1, 2, 4, 7]\n",
      "int list:  [5, 3, 2]\n",
      "*** DF ***\n",
      "   5  3  2          prob\n",
      "0  a  b  c  0.0000321502\n",
      "1  a  c  b  0.0000160751\n",
      "2  b  a  c  0.0000142890\n",
      "3  b  c  a  0.0000047630\n",
      "4  c  a  b  0.0000017861\n",
      "5  c  b  a  0.0000011907\n",
      "*** Most likely block:disease mapping ***\n",
      "  block          disease\n",
      "0     5                a\n",
      "1     3                b\n",
      "2     2                c\n",
      "3  prob  3.215020576e-05\n",
      "x  b\n",
      "y  c\n",
      "z  a\n",
      "False\n"
     ]
    }
   ],
   "source": [
    "col = gen_col(n, k, prior)\n",
    "print(\"*** Variables ***\")\n",
    "print(\"N: \", n)\n",
    "print(\"K: \", k)\n",
    "print(\"Prior: \", prior)\n",
    "print(\"*** Generated Column ***\")\n",
    "print(col)\n",
    "letter_list = col_letter_list(col)\n",
    "print(\"*** Column in Letters ***\")\n",
    "print(letter_list)\n",
    "x, y, z = index_dicts(letter_list)\n",
    "print(\"*** The indices ***\")\n",
    "print(\"x \", x)\n",
    "print(\"y \", y)\n",
    "print(\"z \", z)\n",
    "enc_list = replace_letters(letter_list)\n",
    "#print(\"*** The `Encrypted' List ***\")\n",
    "#print(enc_list)\n",
    "## int_list = gen_counts(col)\n",
    "int_list = gen_letter_counts(letter_list)\n",
    "print(\"int list: \", int_list)\n",
    "df = type_3(int_list, pi_dict, k)\n",
    "print(\"*** DF ***\")\n",
    "print(df)\n",
    "print(\"*** Most likely block:disease mapping ***\")\n",
    "b2d = blocks_to_disease_guess(df)\n",
    "print(b2d)\n",
    "guess = make_guess(x, y, z, b2d, enc_list)\n",
    "val = check_guess(letter_list, guess)\n",
    "print(val)"
   ]
  },
  {
   "cell_type": "code",
   "execution_count": 194,
   "metadata": {},
   "outputs": [],
   "source": [
    "logging.getLogger().setLevel(logging.INFO)"
   ]
  },
  {
   "cell_type": "code",
   "execution_count": null,
   "metadata": {},
   "outputs": [],
   "source": [
    "logging.disabled = True"
   ]
  },
  {
   "cell_type": "code",
   "execution_count": 203,
   "metadata": {},
   "outputs": [],
   "source": [
    "def bayes_test(n, k, prior):\n",
    "    col = gen_col(n, k, prior)\n",
    "    letter_list = col_letter_list(col)\n",
    "    logging.info(\"*** Plaintext Column *** -\\n {}\".format(letter_list))\n",
    "    x, y, z = index_dicts(letter_list)\n",
    "    enc_list = replace_letters(letter_list)\n",
    "    int_list = gen_letter_counts(letter_list)\n",
    "    df = type_3(int_list, pi_dict, k)\n",
    "    logging.info(\"*** DF *** -\\n {}\".format(df))\n",
    "    b2d = blocks_to_disease_guess(df)\n",
    "    logging.info(\"*** Most likely block:disease mapping *** -\\n {}\".format(b2d))\n",
    "    guess = make_guess(x, y, z, b2d, enc_list)\n",
    "    logging.info(\"*** Guess *** -\\n {}\".format(guess))\n",
    "    val = check_guess(letter_list, guess)\n",
    "    logging.info(\"*** Correct? *** -\\n {}\".format(val))\n",
    "    return val"
   ]
  },
  {
   "cell_type": "code",
   "execution_count": 205,
   "metadata": {},
   "outputs": [
    {
     "name": "stderr",
     "output_type": "stream",
     "text": [
      "INFO:root:*** Plaintext Column *** -\n",
      " ['a', 'b', 'c', 'b', 'a', 'c', 'a', 'a', 'a', 'b']\n",
      "INFO:root:*** DF *** -\n",
      "    5  3  2          prob\n",
      "0  a  b  c  0.0000321502\n",
      "1  a  c  b  0.0000160751\n",
      "2  b  a  c  0.0000142890\n",
      "3  b  c  a  0.0000047630\n",
      "4  c  a  b  0.0000017861\n",
      "5  c  b  a  0.0000011907\n",
      "INFO:root:*** Most likely block:disease mapping *** -\n",
      "   block          disease\n",
      "0     5                a\n",
      "1     3                b\n",
      "2     2                c\n",
      "3  prob  3.215020576e-05\n",
      "INFO:root:*** Guess *** -\n",
      " ['a', 'b', 'c', 'b', 'a', 'c', 'a', 'a', 'a', 'b']\n",
      "INFO:root:*** Correct? *** -\n",
      " True\n"
     ]
    },
    {
     "name": "stdout",
     "output_type": "stream",
     "text": [
      "Correct??  True\n"
     ]
    }
   ],
   "source": [
    "val = bayes_test(n, k, prior)\n",
    "print(\"Correct?? \", val)"
   ]
  },
  {
   "cell_type": "code",
   "execution_count": null,
   "metadata": {},
   "outputs": [],
   "source": []
  }
 ],
 "metadata": {
  "kernelspec": {
   "display_name": "Python 3",
   "language": "python",
   "name": "python3"
  },
  "language_info": {
   "codemirror_mode": {
    "name": "ipython",
    "version": 3
   },
   "file_extension": ".py",
   "mimetype": "text/x-python",
   "name": "python",
   "nbconvert_exporter": "python",
   "pygments_lexer": "ipython3",
   "version": "3.6.7"
  }
 },
 "nbformat": 4,
 "nbformat_minor": 2
}
