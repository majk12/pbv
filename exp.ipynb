{
 "cells": [
  {
   "cell_type": "code",
   "execution_count": 1,
   "metadata": {},
   "outputs": [],
   "source": [
    "import collections\n",
    "from collections import Counter\n",
    "import math\n",
    "import string\n",
    "import logging\n",
    "import numpy as np\n",
    "import pandas as pd\n",
    "from itertools import permutations\n",
    "from sympy.utilities.iterables import partitions\n",
    "import matplotlib.pyplot as plt \n",
    "pd.set_option('precision', 10)\n",
    "%matplotlib inline"
   ]
  },
  {
   "cell_type": "markdown",
   "metadata": {},
   "source": [
    "### Test Variables"
   ]
  },
  {
   "cell_type": "code",
   "execution_count": 2,
   "metadata": {},
   "outputs": [],
   "source": [
    "prior = [1/2, 1/3, 1/6]\n",
    "n = 10\n",
    "k = 3"
   ]
  },
  {
   "cell_type": "markdown",
   "metadata": {},
   "source": [
    "## Functions"
   ]
  },
  {
   "cell_type": "markdown",
   "metadata": {},
   "source": [
    "---\n",
    "**k_dictionary**\n",
    "\n",
    "Input: pi, the probability distribution\n",
    "\n",
    "Output: a dictionary with letters for keys. The letters represent individual diseases. Can be used to keep track of individual diseases throughout the gain function calculations.\n",
    "\n",
    "```python\n",
    "pi = [1/2, 1/3, 1/6]\n",
    "k_dict = {'a': 0.5, 'b': 0.33333, 'c':0.166666}\n",
    "```"
   ]
  },
  {
   "cell_type": "code",
   "execution_count": 3,
   "metadata": {},
   "outputs": [],
   "source": [
    "def k_dictionary(pi):\n",
    "    pi.sort(reverse=True)\n",
    "    return dict(zip(string.ascii_lowercase, pi))"
   ]
  },
  {
   "cell_type": "code",
   "execution_count": 4,
   "metadata": {},
   "outputs": [
    {
     "name": "stdout",
     "output_type": "stream",
     "text": [
      "{'a': 0.5, 'b': 0.3333333333333333, 'c': 0.16666666666666666}\n"
     ]
    }
   ],
   "source": [
    "k_dict = k_dictionary(prior)\n",
    "print(k_dict)"
   ]
  },
  {
   "cell_type": "markdown",
   "metadata": {},
   "source": [
    "---\n",
    "**gen_col** generates a non-unform random sample of size n according to the prior"
   ]
  },
  {
   "cell_type": "code",
   "execution_count": 5,
   "metadata": {},
   "outputs": [],
   "source": [
    "def gen_col(n, prior):\n",
    "    letters = ['a', 'b', 'c']\n",
    "    return np.random.choice(letters, n, p=prior).tolist()"
   ]
  },
  {
   "cell_type": "code",
   "execution_count": 6,
   "metadata": {},
   "outputs": [
    {
     "name": "stdout",
     "output_type": "stream",
     "text": [
      "['b', 'b', 'b', 'b', 'c', 'c', 'a', 'c', 'a', 'b']\n"
     ]
    }
   ],
   "source": [
    "a = gen_col(n, prior)\n",
    "print(a)"
   ]
  },
  {
   "cell_type": "markdown",
   "metadata": {},
   "source": [
    "---\n",
    "**gen_index_list** provides a list of lists containing indices to the adversary"
   ]
  },
  {
   "cell_type": "code",
   "execution_count": 7,
   "metadata": {},
   "outputs": [],
   "source": [
    "def gen_index_list(letter_list):\n",
    "    ind_x = []\n",
    "    ind_y = []\n",
    "    ind_z = []\n",
    "    index_list = []\n",
    "    i = 0\n",
    "    for x in letter_list:\n",
    "        if x=='a':\n",
    "            ind_x.append(i)\n",
    "        elif x == 'b':\n",
    "            ind_y.append(i)\n",
    "        elif x == 'c':\n",
    "            ind_z.append(i)\n",
    "        else:\n",
    "            raise Exception(\"x != a, b, c\")\n",
    "        i = i + 1\n",
    "    index_list.append(ind_x)\n",
    "    index_list.append(ind_y)\n",
    "    index_list.append(ind_z)\n",
    "    return index_list"
   ]
  },
  {
   "cell_type": "code",
   "execution_count": 8,
   "metadata": {},
   "outputs": [
    {
     "name": "stdout",
     "output_type": "stream",
     "text": [
      "[[6, 8], [0, 1, 2, 3, 9], [4, 5, 7]]\n"
     ]
    }
   ],
   "source": [
    "il = gen_index_list(a)\n",
    "print(il)"
   ]
  },
  {
   "cell_type": "markdown",
   "metadata": {},
   "source": [
    "---\n",
    "**index_list_to_guess** acts as the adversary. It takes as input a list of indices, sorts them by size, and associates 'a', 'b', and 'c' with the lists. Outputs a guess column of letters."
   ]
  },
  {
   "cell_type": "code",
   "execution_count": 9,
   "metadata": {},
   "outputs": [],
   "source": [
    "def index_list_to_guess(index_list, n):\n",
    "    guess_list = []\n",
    "    index_list.sort(key=len, reverse=True)\n",
    "    d2b = {'a': index_list[0], 'b': index_list[1], 'c': index_list[2]}\n",
    "    for i in range(n):\n",
    "        if i in d2b['a']:\n",
    "            guess_list.append('a')\n",
    "        elif i in d2b['b']:\n",
    "            guess_list.append('b')\n",
    "        elif i in d2b['c']:\n",
    "            guess_list.append('c')\n",
    "        else:\n",
    "            raise Exception(\"issue generating guess list\")\n",
    "    return guess_list"
   ]
  },
  {
   "cell_type": "code",
   "execution_count": 10,
   "metadata": {},
   "outputs": [
    {
     "name": "stdout",
     "output_type": "stream",
     "text": [
      "['a', 'a', 'a', 'a', 'b', 'b', 'c', 'b', 'c', 'a']\n"
     ]
    }
   ],
   "source": [
    "i2g = index_list_to_guess(il, n)\n",
    "print(i2g)"
   ]
  },
  {
   "cell_type": "markdown",
   "metadata": {},
   "source": [
    "---\n",
    "**bayes_test** \n",
    "- generates the column\n",
    "- generates the index partition\n",
    "- provides the index partition to the adversary\n",
    "- adversary makes guess\n",
    "- checks if guess was correct"
   ]
  },
  {
   "cell_type": "code",
   "execution_count": 11,
   "metadata": {},
   "outputs": [],
   "source": [
    "def bayes_test(n, k, prior):\n",
    "    col = gen_col(n, prior)## Client has a plaintext column\n",
    "    logging.info(\"*** Plaintext Column *** -\\n {}\".format(col))\n",
    "    index_list = gen_index_list(col) ## Generate index partition\n",
    "    guess_list = index_list_to_guess(index_list, n) ## Index partition to adversary, guess\n",
    "    trust_value = (col == guess_list)\n",
    "    logging.info(\"*** True or False? *** -\\n {}\".format(trust_value))\n",
    "    return trust_value"
   ]
  },
  {
   "cell_type": "code",
   "execution_count": null,
   "metadata": {},
   "outputs": [],
   "source": [
    "bayes_test(n, k, prior)"
   ]
  },
  {
   "cell_type": "code",
   "execution_count": null,
   "metadata": {},
   "outputs": [],
   "source": [
    "logging.getLogger().setLevel(logging.INFO)"
   ]
  },
  {
   "cell_type": "code",
   "execution_count": null,
   "metadata": {},
   "outputs": [],
   "source": [
    "logging.getLogger().setLevel(logging.WARNING)"
   ]
  },
  {
   "cell_type": "markdown",
   "metadata": {},
   "source": [
    "---\n",
    "**run_tests** runs `bayes_test` for a set number of times and outputs the success rate"
   ]
  },
  {
   "cell_type": "code",
   "execution_count": 12,
   "metadata": {},
   "outputs": [],
   "source": [
    "def run_tests(num_tests, n, k, prior):\n",
    "    yay = 0\n",
    "    for i in range(num_tests):\n",
    "        val = bayes_test(n, k, prior)\n",
    "        if val == True:\n",
    "            yay = yay + 1\n",
    "    return yay/num_tests"
   ]
  },
  {
   "cell_type": "markdown",
   "metadata": {},
   "source": [
    "# Bayes Tests"
   ]
  },
  {
   "cell_type": "markdown",
   "metadata": {},
   "source": [
    "At n = 3, posterior Bayes ~.4027\n",
    "\n",
    "Trials: 10M, success rate: ~.542 "
   ]
  },
  {
   "cell_type": "code",
   "execution_count": null,
   "metadata": {},
   "outputs": [],
   "source": [
    "num_tests = 10000000\n",
    "n = 3\n",
    "k = 3\n",
    "prior = (1/2, 1/3, 1/6)\n",
    "success = run_tests(num_tests, n, k, prior)\n",
    "print(\"Success rate: \", success)"
   ]
  },
  {
   "cell_type": "markdown",
   "metadata": {},
   "source": [
    "Posterior bayes vulnerability for n = 10: approx .51\n",
    "\n",
    "Adveraging an unusually high success rate. \n",
    "- At 1M tests, ~.62. \n",
    "- At 10M, ~.62"
   ]
  },
  {
   "cell_type": "code",
   "execution_count": null,
   "metadata": {},
   "outputs": [],
   "source": [
    "num_tests = 1000000\n",
    "n = 10\n",
    "k = 3\n",
    "prior = (1/2, 1/3, 1/6)\n",
    "success = run_tests(num_tests, n, k, prior)\n",
    "print(\"Success rate: \", success)"
   ]
  },
  {
   "cell_type": "code",
   "execution_count": null,
   "metadata": {},
   "outputs": [],
   "source": [
    "num_tests = 10000000\n",
    "n = 10\n",
    "k = 3\n",
    "prior = (1/2, 1/3, 1/6)\n",
    "success = run_tests(num_tests, n, k, prior)\n",
    "print(\"Success rate: \", success)"
   ]
  },
  {
   "cell_type": "markdown",
   "metadata": {},
   "source": [
    "Posterior bayes vuln for n = 20 is approx 0.66\n",
    "\n",
    "At 500 tests, we're successfull ~71%"
   ]
  },
  {
   "cell_type": "code",
   "execution_count": null,
   "metadata": {},
   "outputs": [],
   "source": [
    "num_tests = 500\n",
    "n = 20\n",
    "k = 3\n",
    "prior = [1/2, 1/3, 1/6]\n",
    "success_rate = run_tests(num_tests, n, k, prior)\n",
    "print(\"Your success rate: \", success_rate)"
   ]
  },
  {
   "cell_type": "markdown",
   "metadata": {},
   "source": [
    "## C/P Bayes Functions"
   ]
  },
  {
   "cell_type": "code",
   "execution_count": null,
   "metadata": {},
   "outputs": [],
   "source": [
    "from sympy.utilities.iterables import partitions\n",
    "from sympy.functions.combinatorial.numbers import stirling"
   ]
  },
  {
   "cell_type": "code",
   "execution_count": null,
   "metadata": {},
   "outputs": [],
   "source": [
    "def calc_set_partitions(n,p):\n",
    "    num = math.factorial(n)\n",
    "    den = 1\n",
    "    mul = 0\n",
    "    for i in p.keys():\n",
    "        mul = p[i]\n",
    "        den = den * pow(math.factorial(i), mul) * math.factorial(mul)\n",
    "    frac = num / den\n",
    "    return frac"
   ]
  },
  {
   "cell_type": "code",
   "execution_count": null,
   "metadata": {},
   "outputs": [],
   "source": [
    "def calc_max_prob(p, Pi):\n",
    "    Pi.sort(reverse=True)\n",
    "    frac = 1\n",
    "    ind = 0\n",
    "    val = -1\n",
    "    for key in sorted(p.keys(), reverse=True):\n",
    "        val = p[key]\n",
    "        for i in range(val):\n",
    "            frac = frac * pow(Pi[ind], key)\n",
    "            ind = ind + 1\n",
    "    return frac"
   ]
  },
  {
   "cell_type": "code",
   "execution_count": null,
   "metadata": {},
   "outputs": [],
   "source": [
    "def nonuni_post_bayes_vuln(n, k, Pi):\n",
    "    pbvsum = 0\n",
    "    for p in partitions(n, m=k):  \n",
    "        num = calc_set_partitions(n,p)\n",
    "        frac = calc_max_prob(p, Pi)\n",
    "        val = num * frac\n",
    "        pbvsum = pbvsum + val\n",
    "    return pbvsum"
   ]
  },
  {
   "cell_type": "markdown",
   "metadata": {},
   "source": [
    "## Comparing Bayes Posterior Vuln and Experimental Success"
   ]
  },
  {
   "cell_type": "code",
   "execution_count": null,
   "metadata": {},
   "outputs": [],
   "source": [
    "def bayes_post_vs_success(n_range, k, probs, num_tests):\n",
    "    post_bayes_vs = []\n",
    "    success = []\n",
    "    for i in range(n_range):\n",
    "        post_bayes_vs.append(nonuni_post_bayes_vuln(i+1, k, probs))\n",
    "        success.append(run_tests(num_tests, i+1, k, probs))\n",
    "    df = pd.DataFrame(\n",
    "        {'posterior':post_bayes_vs,\n",
    "         'success':success\n",
    "        }\n",
    "    )\n",
    "    return df"
   ]
  },
  {
   "cell_type": "code",
   "execution_count": null,
   "metadata": {},
   "outputs": [],
   "source": [
    "def graph_bayes_exp(n_range, k, probs, df):\n",
    "    x = [i+1 for i in range(n_range)]\n",
    "    plt.plot(x, 'posterior', data=df, label=\"posterior\")\n",
    "    plt.plot(x, 'success', data=df, label=\"success\")\n",
    "    plt.xlabel(\"n values\")\n",
    "    plt.ylim(bottom = -.1, top = 1)\n",
    "    plt.legend()\n",
    "    plt.show()\n",
    "    plt.close()"
   ]
  },
  {
   "cell_type": "markdown",
   "metadata": {},
   "source": [
    "### n = 1 - 100, 100 tests per n"
   ]
  },
  {
   "cell_type": "code",
   "execution_count": null,
   "metadata": {},
   "outputs": [],
   "source": [
    "n_range = 100\n",
    "k = 3\n",
    "probs = [1/2, 1/3, 1/6]\n",
    "num_tests = 100"
   ]
  },
  {
   "cell_type": "code",
   "execution_count": null,
   "metadata": {},
   "outputs": [],
   "source": [
    "df_vs = bayes_post_vs_success(n_range, k, probs, num_tests)\n",
    "df_vs"
   ]
  },
  {
   "cell_type": "code",
   "execution_count": null,
   "metadata": {},
   "outputs": [],
   "source": [
    "df_vs.to_csv (r'data\\df_vs_100_nonuni.csv', index = None, header=True) "
   ]
  },
  {
   "cell_type": "code",
   "execution_count": null,
   "metadata": {},
   "outputs": [],
   "source": [
    "df_vs100_csv = pd.read_csv('data\\df_vs_100_nonuni.csv')"
   ]
  },
  {
   "cell_type": "code",
   "execution_count": null,
   "metadata": {},
   "outputs": [],
   "source": [
    "graph_bayes_exp(n_range, k, probs, df_vs)"
   ]
  },
  {
   "cell_type": "markdown",
   "metadata": {},
   "source": [
    "## n = 1 - 200, 200 tests per n\n",
    "\n",
    "Approx. 13 minutes to run"
   ]
  },
  {
   "cell_type": "code",
   "execution_count": null,
   "metadata": {},
   "outputs": [],
   "source": [
    "n_range = 200\n",
    "k = 3\n",
    "probs = [1/2, 1/3, 1/6]\n",
    "num_tests = 200"
   ]
  },
  {
   "cell_type": "code",
   "execution_count": null,
   "metadata": {},
   "outputs": [],
   "source": [
    "df_200 = bayes_post_vs_success(n_range, k, probs, num_tests)\n",
    "df_200"
   ]
  },
  {
   "cell_type": "code",
   "execution_count": null,
   "metadata": {},
   "outputs": [],
   "source": [
    "df_200.to_csv (r'data\\df_200_nonuni.csv', index = None, header=True) "
   ]
  },
  {
   "cell_type": "code",
   "execution_count": null,
   "metadata": {},
   "outputs": [],
   "source": [
    "graph_bayes_exp(n_range, k, probs, df_200)"
   ]
  },
  {
   "cell_type": "code",
   "execution_count": null,
   "metadata": {},
   "outputs": [],
   "source": []
  }
 ],
 "metadata": {
  "kernelspec": {
   "display_name": "Python 3",
   "language": "python",
   "name": "python3"
  },
  "language_info": {
   "codemirror_mode": {
    "name": "ipython",
    "version": 3
   },
   "file_extension": ".py",
   "mimetype": "text/x-python",
   "name": "python",
   "nbconvert_exporter": "python",
   "pygments_lexer": "ipython3",
   "version": "3.6.7"
  }
 },
 "nbformat": 4,
 "nbformat_minor": 2
}
