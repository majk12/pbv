{
 "cells": [
  {
   "cell_type": "markdown",
   "metadata": {},
   "source": [
    "# Monte Carlo Experiment wrt Bayes"
   ]
  },
  {
   "cell_type": "code",
   "execution_count": 1,
   "metadata": {},
   "outputs": [],
   "source": [
    "import collections\n",
    "from collections import Counter\n",
    "import math\n",
    "import string\n",
    "import logging\n",
    "import random\n",
    "import numpy as np\n",
    "import pandas as pd\n",
    "from itertools import permutations\n",
    "from sympy.utilities.iterables import partitions\n",
    "import matplotlib.pyplot as plt \n",
    "pd.set_option('precision', 10)\n",
    "%matplotlib inline"
   ]
  },
  {
   "cell_type": "markdown",
   "metadata": {},
   "source": [
    "### Test Variables"
   ]
  },
  {
   "cell_type": "code",
   "execution_count": 2,
   "metadata": {},
   "outputs": [],
   "source": [
    "prior = [1/2, 1/3, 1/6]\n",
    "n = 3\n",
    "k = 3"
   ]
  },
  {
   "cell_type": "markdown",
   "metadata": {},
   "source": [
    "## Functions"
   ]
  },
  {
   "cell_type": "markdown",
   "metadata": {},
   "source": [
    "---\n",
    "**gen_col** generates a non-unform random sample of size n according to the prior"
   ]
  },
  {
   "cell_type": "code",
   "execution_count": 3,
   "metadata": {},
   "outputs": [],
   "source": [
    "def gen_col(n, prior):\n",
    "    letters = ['a', 'b', 'c']\n",
    "    return np.random.choice(letters, n, p=prior).tolist()"
   ]
  },
  {
   "cell_type": "code",
   "execution_count": 4,
   "metadata": {},
   "outputs": [
    {
     "name": "stdout",
     "output_type": "stream",
     "text": [
      "['a', 'c', 'c']\n"
     ]
    }
   ],
   "source": [
    "a = gen_col(n, prior)\n",
    "print(a)"
   ]
  },
  {
   "cell_type": "markdown",
   "metadata": {},
   "source": [
    "---\n",
    "**gen_index_list** provides a list of lists containing indices to the adversary"
   ]
  },
  {
   "cell_type": "code",
   "execution_count": 25,
   "metadata": {},
   "outputs": [],
   "source": [
    "def gen_index_list(letter_list):\n",
    "    ind_x = []\n",
    "    ind_y = []\n",
    "    ind_z = []\n",
    "    index_list = []\n",
    "    i = 0\n",
    "    for x in letter_list:\n",
    "        if x=='a':\n",
    "            ind_x.append(i)\n",
    "        elif x == 'b':\n",
    "            ind_y.append(i)\n",
    "        elif x == 'c':\n",
    "            ind_z.append(i)\n",
    "        else:\n",
    "            raise Exception(\"x != a, b, c\")\n",
    "        i = i + 1\n",
    "    index_list.append(ind_x)\n",
    "    index_list.append(ind_y)\n",
    "    index_list.append(ind_z)\n",
    "    return index_list"
   ]
  },
  {
   "cell_type": "code",
   "execution_count": 7,
   "metadata": {},
   "outputs": [
    {
     "name": "stdout",
     "output_type": "stream",
     "text": [
      "List of indices\n",
      "[[0], [], [1, 2]]\n",
      "Sorted by length of block\n",
      "[[1, 2], [0], []]\n"
     ]
    }
   ],
   "source": [
    "il = gen_index_list(a)\n",
    "print(\"List of indices\")\n",
    "print(il)\n",
    "print(\"Sorted by length of block\")\n",
    "il.sort(key=len, reverse=True)\n",
    "print(il)"
   ]
  },
  {
   "cell_type": "markdown",
   "metadata": {},
   "source": [
    "---\n",
    "**index_list_to_guess** acts as the adversary. It takes as input a list of indices, sorts them by size, and associates 'a', 'b', and 'c' with the lists. Outputs a guess column of letters."
   ]
  },
  {
   "cell_type": "code",
   "execution_count": 26,
   "metadata": {},
   "outputs": [],
   "source": [
    "def index_list_to_guess(index_list, n):\n",
    "    guess_list = []\n",
    "    random.shuffle(index_list)\n",
    "    index_list.sort(key=len, reverse=True)\n",
    "    d2b = {'a': index_list[0], 'b': index_list[1], 'c': index_list[2]}\n",
    "    for i in range(n):\n",
    "        if i in d2b['a']:\n",
    "            guess_list.append('a')\n",
    "        elif i in d2b['b']:\n",
    "            guess_list.append('b')\n",
    "        elif i in d2b['c']:\n",
    "            guess_list.append('c')\n",
    "        else:\n",
    "            raise Exception(\"issue generating guess list\")\n",
    "    return guess_list"
   ]
  },
  {
   "cell_type": "code",
   "execution_count": 9,
   "metadata": {},
   "outputs": [
    {
     "name": "stdout",
     "output_type": "stream",
     "text": [
      "['b', 'a', 'a']\n"
     ]
    }
   ],
   "source": [
    "i2g = index_list_to_guess(il, n)\n",
    "print(i2g)"
   ]
  },
  {
   "cell_type": "code",
   "execution_count": 10,
   "metadata": {},
   "outputs": [
    {
     "data": {
      "text/plain": [
       "False"
      ]
     },
     "execution_count": 10,
     "metadata": {},
     "output_type": "execute_result"
    }
   ],
   "source": [
    "a == i2g"
   ]
  },
  {
   "cell_type": "markdown",
   "metadata": {},
   "source": [
    "---\n",
    "**bayes_test** \n",
    "- generates the column\n",
    "- generates the index partition\n",
    "- provides the index partition to the adversary\n",
    "- adversary makes guess\n",
    "- checks if guess was correct"
   ]
  },
  {
   "cell_type": "code",
   "execution_count": 11,
   "metadata": {},
   "outputs": [
    {
     "name": "stdout",
     "output_type": "stream",
     "text": [
      "col:  ['b', 'a', 'a']\n",
      "list of indices:  [[1, 2], [0], []]\n",
      "guess list:  ['b', 'a', 'a']\n",
      "trust value:  True\n"
     ]
    }
   ],
   "source": [
    "n = 3\n",
    "prior = [1/3, 1/3, 1/3]\n",
    "col = gen_col(n, prior)## Client has a plaintext column\n",
    "print(\"col: \", col)\n",
    "index_list = gen_index_list(col) ## Generate index partition\n",
    "print(\"list of indices: \", index_list)\n",
    "guess_list = index_list_to_guess(index_list, n) ## Index partition to adversary, guess\n",
    "print(\"guess list: \", guess_list)\n",
    "trust_value = (col == guess_list)\n",
    "logging.info(\"*** True or False? *** -\\n {}\".format(trust_value))\n",
    "print(\"trust value: \", trust_value)"
   ]
  },
  {
   "cell_type": "code",
   "execution_count": 12,
   "metadata": {},
   "outputs": [],
   "source": [
    "def bayes_test(n, prior):\n",
    "    col = gen_col(n, prior)## Client has a plaintext column\n",
    "    logging.info(\"*** Plaintext Column *** -\\n {}\".format(col))\n",
    "    index_list = gen_index_list(col) ## Generate index partition\n",
    "    guess_list = index_list_to_guess(index_list, n) ## Index partition to adversary, guess\n",
    "    trust_value = (col == guess_list)\n",
    "    logging.info(\"*** True or False? *** -\\n {}\".format(trust_value))\n",
    "    return trust_value"
   ]
  },
  {
   "cell_type": "code",
   "execution_count": 13,
   "metadata": {},
   "outputs": [
    {
     "data": {
      "text/plain": [
       "False"
      ]
     },
     "execution_count": 13,
     "metadata": {},
     "output_type": "execute_result"
    }
   ],
   "source": [
    "bayes_test(n, prior)"
   ]
  },
  {
   "cell_type": "code",
   "execution_count": null,
   "metadata": {},
   "outputs": [],
   "source": [
    "logging.getLogger().setLevel(logging.INFO)"
   ]
  },
  {
   "cell_type": "code",
   "execution_count": null,
   "metadata": {},
   "outputs": [],
   "source": [
    "logging.getLogger().setLevel(logging.WARNING)"
   ]
  },
  {
   "cell_type": "markdown",
   "metadata": {},
   "source": [
    "---\n",
    "**run_tests** runs `bayes_test` for a set number of times and outputs the success rate"
   ]
  },
  {
   "cell_type": "code",
   "execution_count": 14,
   "metadata": {},
   "outputs": [],
   "source": [
    "def run_tests(num_tests, n, prior):\n",
    "    yay = 0\n",
    "    for i in range(num_tests):\n",
    "        val = bayes_test(n, prior)\n",
    "        if val == True:\n",
    "            yay = yay + 1\n",
    "    return yay/num_tests"
   ]
  },
  {
   "cell_type": "markdown",
   "metadata": {},
   "source": [
    "# Bayes Tests"
   ]
  },
  {
   "cell_type": "markdown",
   "metadata": {},
   "source": [
    "### Uniform"
   ]
  },
  {
   "cell_type": "markdown",
   "metadata": {},
   "source": [
    "At n = 10, posterior Bayes ~.166.\n",
    "Trials: 1M, .166"
   ]
  },
  {
   "cell_type": "code",
   "execution_count": 14,
   "metadata": {},
   "outputs": [
    {
     "name": "stdout",
     "output_type": "stream",
     "text": [
      "Success rate:  0.166688\n"
     ]
    }
   ],
   "source": [
    "num_tests = 1000000\n",
    "n = 10\n",
    "prior = (1/3, 1/3, 1/3)\n",
    "success = run_tests(num_tests, n, prior)\n",
    "print(\"Success rate: \", success)"
   ]
  },
  {
   "cell_type": "markdown",
   "metadata": {},
   "source": [
    "### Nonuniform"
   ]
  },
  {
   "cell_type": "markdown",
   "metadata": {},
   "source": [
    "At n = 3, posterior Bayes ~.4027\n",
    "\n",
    "Trials: 1M, success rate: ~.402"
   ]
  },
  {
   "cell_type": "code",
   "execution_count": 15,
   "metadata": {},
   "outputs": [
    {
     "name": "stdout",
     "output_type": "stream",
     "text": [
      "Success rate:  0.402216\n"
     ]
    }
   ],
   "source": [
    "num_tests = 1000000\n",
    "n = 3\n",
    "prior = (1/2, 1/3, 1/6)\n",
    "success = run_tests(num_tests, n, prior)\n",
    "print(\"Success rate: \", success)"
   ]
  },
  {
   "cell_type": "markdown",
   "metadata": {},
   "source": [
    "Posterior bayes vulnerability for n = 10: approx .51\n",
    "\n",
    "Trials: 1M, success rate: ~.51"
   ]
  },
  {
   "cell_type": "code",
   "execution_count": 16,
   "metadata": {},
   "outputs": [
    {
     "name": "stdout",
     "output_type": "stream",
     "text": [
      "Success rate:  0.510227\n"
     ]
    }
   ],
   "source": [
    "num_tests = 1000000\n",
    "n = 10\n",
    "prior = (1/2, 1/3, 1/6)\n",
    "success = run_tests(num_tests, n, prior)\n",
    "print(\"Success rate: \", success)"
   ]
  },
  {
   "cell_type": "markdown",
   "metadata": {},
   "source": [
    "Posterior bayes vuln for n = 20 is approx 0.66\n",
    "\n",
    "Trials: 500, success rate: .67"
   ]
  },
  {
   "cell_type": "code",
   "execution_count": 17,
   "metadata": {},
   "outputs": [
    {
     "name": "stdout",
     "output_type": "stream",
     "text": [
      "Your success rate:  0.67\n"
     ]
    }
   ],
   "source": [
    "num_tests = 500\n",
    "n = 20\n",
    "prior = [1/2, 1/3, 1/6]\n",
    "success_rate = run_tests(num_tests, n, prior)\n",
    "print(\"Your success rate: \", success_rate)"
   ]
  },
  {
   "cell_type": "markdown",
   "metadata": {},
   "source": [
    "## C/P Bayes Functions"
   ]
  },
  {
   "cell_type": "code",
   "execution_count": 15,
   "metadata": {},
   "outputs": [],
   "source": [
    "from sympy.utilities.iterables import partitions\n",
    "from sympy.functions.combinatorial.numbers import stirling"
   ]
  },
  {
   "cell_type": "code",
   "execution_count": 16,
   "metadata": {},
   "outputs": [],
   "source": [
    "def calc_set_partitions(n,p):\n",
    "    num = math.factorial(n)\n",
    "    den = 1\n",
    "    mul = 0\n",
    "    for i in p.keys():\n",
    "        mul = p[i]\n",
    "        den = den * pow(math.factorial(i), mul) * math.factorial(mul)\n",
    "    frac = num / den\n",
    "    return frac"
   ]
  },
  {
   "cell_type": "code",
   "execution_count": 17,
   "metadata": {},
   "outputs": [],
   "source": [
    "def calc_max_prob(p, Pi):\n",
    "    Pi.sort(reverse=True)\n",
    "    frac = 1\n",
    "    ind = 0\n",
    "    val = -1\n",
    "    for key in sorted(p.keys(), reverse=True):\n",
    "        val = p[key]\n",
    "        for i in range(val):\n",
    "            frac = frac * pow(Pi[ind], key)\n",
    "            ind = ind + 1\n",
    "    return frac"
   ]
  },
  {
   "cell_type": "code",
   "execution_count": 18,
   "metadata": {},
   "outputs": [],
   "source": [
    "def nonuni_post_bayes_vuln(n, k, Pi):\n",
    "    pbvsum = 0\n",
    "    for p in partitions(n, m=k):  \n",
    "        num = calc_set_partitions(n,p)\n",
    "        frac = calc_max_prob(p, Pi)\n",
    "        val = num * frac\n",
    "        pbvsum = pbvsum + val\n",
    "    return pbvsum"
   ]
  },
  {
   "cell_type": "markdown",
   "metadata": {},
   "source": [
    "## Comparing Bayes Posterior Vuln and Experimental Success"
   ]
  },
  {
   "cell_type": "code",
   "execution_count": 19,
   "metadata": {},
   "outputs": [],
   "source": [
    "def bayes_post_vs_success(n_range, k, probs, num_tests):\n",
    "    post_bayes_vs = []\n",
    "    success = []\n",
    "    for i in range(n_range):\n",
    "        post_bayes_vs.append(nonuni_post_bayes_vuln(i+1, k, probs))\n",
    "        success.append(run_tests(num_tests, i+1, probs))\n",
    "    df = pd.DataFrame(\n",
    "        {'posterior':post_bayes_vs,\n",
    "         'success':success\n",
    "        }\n",
    "    )\n",
    "    return df"
   ]
  },
  {
   "cell_type": "code",
   "execution_count": 20,
   "metadata": {},
   "outputs": [],
   "source": [
    "def graph_bayes_exp(n_range, df):\n",
    "    x = [i+1 for i in range(n_range)]\n",
    "    plt.plot(x, 'posterior', data=df, label=\"posterior\")\n",
    "    plt.plot(x, 'success', data=df, label=\"success\")\n",
    "    plt.xlabel(\"n values\")\n",
    "    plt.ylim(bottom = -.1, top = 1)\n",
    "    plt.legend()\n",
    "    plt.show()\n",
    "    plt.close()"
   ]
  },
  {
   "cell_type": "markdown",
   "metadata": {},
   "source": [
    "## n = 1- 200, 100K tests per n"
   ]
  },
  {
   "cell_type": "markdown",
   "metadata": {},
   "source": [
    "### Non-uniform prior\n",
    "\n",
    "Success rate and Bayes posterior vulnerability are almost perfectly matched"
   ]
  },
  {
   "cell_type": "code",
   "execution_count": 25,
   "metadata": {},
   "outputs": [
    {
     "data": {
      "text/html": [
       "<div>\n",
       "<style scoped>\n",
       "    .dataframe tbody tr th:only-of-type {\n",
       "        vertical-align: middle;\n",
       "    }\n",
       "\n",
       "    .dataframe tbody tr th {\n",
       "        vertical-align: top;\n",
       "    }\n",
       "\n",
       "    .dataframe thead th {\n",
       "        text-align: right;\n",
       "    }\n",
       "</style>\n",
       "<table border=\"1\" class=\"dataframe\">\n",
       "  <thead>\n",
       "    <tr style=\"text-align: right;\">\n",
       "      <th></th>\n",
       "      <th>posterior</th>\n",
       "      <th>success</th>\n",
       "    </tr>\n",
       "  </thead>\n",
       "  <tbody>\n",
       "    <tr>\n",
       "      <th>0</th>\n",
       "      <td>0.5000000000</td>\n",
       "      <td>0.49922</td>\n",
       "    </tr>\n",
       "    <tr>\n",
       "      <th>1</th>\n",
       "      <td>0.4166666667</td>\n",
       "      <td>0.41544</td>\n",
       "    </tr>\n",
       "    <tr>\n",
       "      <th>2</th>\n",
       "      <td>0.4027777778</td>\n",
       "      <td>0.40229</td>\n",
       "    </tr>\n",
       "    <tr>\n",
       "      <th>3</th>\n",
       "      <td>0.3958333333</td>\n",
       "      <td>0.39472</td>\n",
       "    </tr>\n",
       "    <tr>\n",
       "      <th>4</th>\n",
       "      <td>0.4131944444</td>\n",
       "      <td>0.41286</td>\n",
       "    </tr>\n",
       "    <tr>\n",
       "      <th>5</th>\n",
       "      <td>0.4311342593</td>\n",
       "      <td>0.42961</td>\n",
       "    </tr>\n",
       "    <tr>\n",
       "      <th>6</th>\n",
       "      <td>0.4507137346</td>\n",
       "      <td>0.45018</td>\n",
       "    </tr>\n",
       "    <tr>\n",
       "      <th>7</th>\n",
       "      <td>0.4712416409</td>\n",
       "      <td>0.47083</td>\n",
       "    </tr>\n",
       "    <tr>\n",
       "      <th>8</th>\n",
       "      <td>0.4918954690</td>\n",
       "      <td>0.49233</td>\n",
       "    </tr>\n",
       "    <tr>\n",
       "      <th>9</th>\n",
       "      <td>0.5100027328</td>\n",
       "      <td>0.50987</td>\n",
       "    </tr>\n",
       "    <tr>\n",
       "      <th>10</th>\n",
       "      <td>0.5286089946</td>\n",
       "      <td>0.53158</td>\n",
       "    </tr>\n",
       "    <tr>\n",
       "      <th>11</th>\n",
       "      <td>0.5460162100</td>\n",
       "      <td>0.54708</td>\n",
       "    </tr>\n",
       "    <tr>\n",
       "      <th>12</th>\n",
       "      <td>0.5620028440</td>\n",
       "      <td>0.56264</td>\n",
       "    </tr>\n",
       "    <tr>\n",
       "      <th>13</th>\n",
       "      <td>0.5777079683</td>\n",
       "      <td>0.57727</td>\n",
       "    </tr>\n",
       "    <tr>\n",
       "      <th>14</th>\n",
       "      <td>0.5926510928</td>\n",
       "      <td>0.59077</td>\n",
       "    </tr>\n",
       "    <tr>\n",
       "      <th>15</th>\n",
       "      <td>0.6064540470</td>\n",
       "      <td>0.60760</td>\n",
       "    </tr>\n",
       "    <tr>\n",
       "      <th>16</th>\n",
       "      <td>0.6199858515</td>\n",
       "      <td>0.61927</td>\n",
       "    </tr>\n",
       "    <tr>\n",
       "      <th>17</th>\n",
       "      <td>0.6328641760</td>\n",
       "      <td>0.63370</td>\n",
       "    </tr>\n",
       "    <tr>\n",
       "      <th>18</th>\n",
       "      <td>0.6449275762</td>\n",
       "      <td>0.64429</td>\n",
       "    </tr>\n",
       "    <tr>\n",
       "      <th>19</th>\n",
       "      <td>0.6566809854</td>\n",
       "      <td>0.65762</td>\n",
       "    </tr>\n",
       "    <tr>\n",
       "      <th>20</th>\n",
       "      <td>0.6679182598</td>\n",
       "      <td>0.66739</td>\n",
       "    </tr>\n",
       "    <tr>\n",
       "      <th>21</th>\n",
       "      <td>0.6785217392</td>\n",
       "      <td>0.67843</td>\n",
       "    </tr>\n",
       "    <tr>\n",
       "      <th>22</th>\n",
       "      <td>0.6888306890</td>\n",
       "      <td>0.68650</td>\n",
       "    </tr>\n",
       "    <tr>\n",
       "      <th>23</th>\n",
       "      <td>0.6987095451</td>\n",
       "      <td>0.69834</td>\n",
       "    </tr>\n",
       "    <tr>\n",
       "      <th>24</th>\n",
       "      <td>0.7080887729</td>\n",
       "      <td>0.70964</td>\n",
       "    </tr>\n",
       "    <tr>\n",
       "      <th>25</th>\n",
       "      <td>0.7171911765</td>\n",
       "      <td>0.71724</td>\n",
       "    </tr>\n",
       "    <tr>\n",
       "      <th>26</th>\n",
       "      <td>0.7259328613</td>\n",
       "      <td>0.72536</td>\n",
       "    </tr>\n",
       "    <tr>\n",
       "      <th>27</th>\n",
       "      <td>0.7342690326</td>\n",
       "      <td>0.73392</td>\n",
       "    </tr>\n",
       "    <tr>\n",
       "      <th>28</th>\n",
       "      <td>0.7423516002</td>\n",
       "      <td>0.74167</td>\n",
       "    </tr>\n",
       "    <tr>\n",
       "      <th>29</th>\n",
       "      <td>0.7501268426</td>\n",
       "      <td>0.75139</td>\n",
       "    </tr>\n",
       "    <tr>\n",
       "      <th>...</th>\n",
       "      <td>...</td>\n",
       "      <td>...</td>\n",
       "    </tr>\n",
       "    <tr>\n",
       "      <th>170</th>\n",
       "      <td>0.9911884058</td>\n",
       "      <td>0.99107</td>\n",
       "    </tr>\n",
       "    <tr>\n",
       "      <th>171</th>\n",
       "      <td>0.9913667033</td>\n",
       "      <td>0.99118</td>\n",
       "    </tr>\n",
       "    <tr>\n",
       "      <th>172</th>\n",
       "      <td>0.9915411901</td>\n",
       "      <td>0.99188</td>\n",
       "    </tr>\n",
       "    <tr>\n",
       "      <th>173</th>\n",
       "      <td>0.9917119538</td>\n",
       "      <td>0.99204</td>\n",
       "    </tr>\n",
       "    <tr>\n",
       "      <th>174</th>\n",
       "      <td>0.9918790793</td>\n",
       "      <td>0.99244</td>\n",
       "    </tr>\n",
       "    <tr>\n",
       "      <th>175</th>\n",
       "      <td>0.9920426497</td>\n",
       "      <td>0.99208</td>\n",
       "    </tr>\n",
       "    <tr>\n",
       "      <th>176</th>\n",
       "      <td>0.9922027461</td>\n",
       "      <td>0.99234</td>\n",
       "    </tr>\n",
       "    <tr>\n",
       "      <th>177</th>\n",
       "      <td>0.9923594474</td>\n",
       "      <td>0.99268</td>\n",
       "    </tr>\n",
       "    <tr>\n",
       "      <th>178</th>\n",
       "      <td>0.9925128305</td>\n",
       "      <td>0.99236</td>\n",
       "    </tr>\n",
       "    <tr>\n",
       "      <th>179</th>\n",
       "      <td>0.9926629707</td>\n",
       "      <td>0.99277</td>\n",
       "    </tr>\n",
       "    <tr>\n",
       "      <th>180</th>\n",
       "      <td>0.9928099412</td>\n",
       "      <td>0.99233</td>\n",
       "    </tr>\n",
       "    <tr>\n",
       "      <th>181</th>\n",
       "      <td>0.9929538135</td>\n",
       "      <td>0.99301</td>\n",
       "    </tr>\n",
       "    <tr>\n",
       "      <th>182</th>\n",
       "      <td>0.9930946574</td>\n",
       "      <td>0.99328</td>\n",
       "    </tr>\n",
       "    <tr>\n",
       "      <th>183</th>\n",
       "      <td>0.9932325409</td>\n",
       "      <td>0.99320</td>\n",
       "    </tr>\n",
       "    <tr>\n",
       "      <th>184</th>\n",
       "      <td>0.9933675304</td>\n",
       "      <td>0.99312</td>\n",
       "    </tr>\n",
       "    <tr>\n",
       "      <th>185</th>\n",
       "      <td>0.9934996906</td>\n",
       "      <td>0.99379</td>\n",
       "    </tr>\n",
       "    <tr>\n",
       "      <th>186</th>\n",
       "      <td>0.9936290849</td>\n",
       "      <td>0.99369</td>\n",
       "    </tr>\n",
       "    <tr>\n",
       "      <th>187</th>\n",
       "      <td>0.9937557748</td>\n",
       "      <td>0.99351</td>\n",
       "    </tr>\n",
       "    <tr>\n",
       "      <th>188</th>\n",
       "      <td>0.9938798205</td>\n",
       "      <td>0.99401</td>\n",
       "    </tr>\n",
       "    <tr>\n",
       "      <th>189</th>\n",
       "      <td>0.9940012809</td>\n",
       "      <td>0.99397</td>\n",
       "    </tr>\n",
       "    <tr>\n",
       "      <th>190</th>\n",
       "      <td>0.9941202133</td>\n",
       "      <td>0.99422</td>\n",
       "    </tr>\n",
       "    <tr>\n",
       "      <th>191</th>\n",
       "      <td>0.9942366736</td>\n",
       "      <td>0.99424</td>\n",
       "    </tr>\n",
       "    <tr>\n",
       "      <th>192</th>\n",
       "      <td>0.9943507165</td>\n",
       "      <td>0.99386</td>\n",
       "    </tr>\n",
       "    <tr>\n",
       "      <th>193</th>\n",
       "      <td>0.9944623952</td>\n",
       "      <td>0.99416</td>\n",
       "    </tr>\n",
       "    <tr>\n",
       "      <th>194</th>\n",
       "      <td>0.9945717620</td>\n",
       "      <td>0.99455</td>\n",
       "    </tr>\n",
       "    <tr>\n",
       "      <th>195</th>\n",
       "      <td>0.9946788676</td>\n",
       "      <td>0.99472</td>\n",
       "    </tr>\n",
       "    <tr>\n",
       "      <th>196</th>\n",
       "      <td>0.9947837616</td>\n",
       "      <td>0.99468</td>\n",
       "    </tr>\n",
       "    <tr>\n",
       "      <th>197</th>\n",
       "      <td>0.9948864924</td>\n",
       "      <td>0.99519</td>\n",
       "    </tr>\n",
       "    <tr>\n",
       "      <th>198</th>\n",
       "      <td>0.9949871075</td>\n",
       "      <td>0.99468</td>\n",
       "    </tr>\n",
       "    <tr>\n",
       "      <th>199</th>\n",
       "      <td>0.9950856530</td>\n",
       "      <td>0.99534</td>\n",
       "    </tr>\n",
       "  </tbody>\n",
       "</table>\n",
       "<p>200 rows × 2 columns</p>\n",
       "</div>"
      ],
      "text/plain": [
       "        posterior  success\n",
       "0    0.5000000000  0.49922\n",
       "1    0.4166666667  0.41544\n",
       "2    0.4027777778  0.40229\n",
       "3    0.3958333333  0.39472\n",
       "4    0.4131944444  0.41286\n",
       "5    0.4311342593  0.42961\n",
       "6    0.4507137346  0.45018\n",
       "7    0.4712416409  0.47083\n",
       "8    0.4918954690  0.49233\n",
       "9    0.5100027328  0.50987\n",
       "10   0.5286089946  0.53158\n",
       "11   0.5460162100  0.54708\n",
       "12   0.5620028440  0.56264\n",
       "13   0.5777079683  0.57727\n",
       "14   0.5926510928  0.59077\n",
       "15   0.6064540470  0.60760\n",
       "16   0.6199858515  0.61927\n",
       "17   0.6328641760  0.63370\n",
       "18   0.6449275762  0.64429\n",
       "19   0.6566809854  0.65762\n",
       "20   0.6679182598  0.66739\n",
       "21   0.6785217392  0.67843\n",
       "22   0.6888306890  0.68650\n",
       "23   0.6987095451  0.69834\n",
       "24   0.7080887729  0.70964\n",
       "25   0.7171911765  0.71724\n",
       "26   0.7259328613  0.72536\n",
       "27   0.7342690326  0.73392\n",
       "28   0.7423516002  0.74167\n",
       "29   0.7501268426  0.75139\n",
       "..            ...      ...\n",
       "170  0.9911884058  0.99107\n",
       "171  0.9913667033  0.99118\n",
       "172  0.9915411901  0.99188\n",
       "173  0.9917119538  0.99204\n",
       "174  0.9918790793  0.99244\n",
       "175  0.9920426497  0.99208\n",
       "176  0.9922027461  0.99234\n",
       "177  0.9923594474  0.99268\n",
       "178  0.9925128305  0.99236\n",
       "179  0.9926629707  0.99277\n",
       "180  0.9928099412  0.99233\n",
       "181  0.9929538135  0.99301\n",
       "182  0.9930946574  0.99328\n",
       "183  0.9932325409  0.99320\n",
       "184  0.9933675304  0.99312\n",
       "185  0.9934996906  0.99379\n",
       "186  0.9936290849  0.99369\n",
       "187  0.9937557748  0.99351\n",
       "188  0.9938798205  0.99401\n",
       "189  0.9940012809  0.99397\n",
       "190  0.9941202133  0.99422\n",
       "191  0.9942366736  0.99424\n",
       "192  0.9943507165  0.99386\n",
       "193  0.9944623952  0.99416\n",
       "194  0.9945717620  0.99455\n",
       "195  0.9946788676  0.99472\n",
       "196  0.9947837616  0.99468\n",
       "197  0.9948864924  0.99519\n",
       "198  0.9949871075  0.99468\n",
       "199  0.9950856530  0.99534\n",
       "\n",
       "[200 rows x 2 columns]"
      ]
     },
     "execution_count": 25,
     "metadata": {},
     "output_type": "execute_result"
    }
   ],
   "source": [
    "n_range = 200\n",
    "k = 3\n",
    "probs = [1/2, 1/3, 1/6]\n",
    "num_tests = 100000\n",
    "df_M = bayes_post_vs_success(n_range, k, probs, num_tests)\n",
    "df_M"
   ]
  },
  {
   "cell_type": "code",
   "execution_count": 26,
   "metadata": {},
   "outputs": [],
   "source": [
    "df_M.to_csv(r'data\\df_200_nonuni.csv', index = None, header=True) "
   ]
  },
  {
   "cell_type": "code",
   "execution_count": 28,
   "metadata": {},
   "outputs": [
    {
     "data": {
      "image/png": "[encoded data removed]",
      "text/plain": [
       "<Figure size 432x288 with 1 Axes>"
      ]
     },
     "metadata": {
      "needs_background": "light"
     },
     "output_type": "display_data"
    }
   ],
   "source": [
    "graph_bayes_exp(n_range, df_M)"
   ]
  },
  {
   "cell_type": "markdown",
   "metadata": {},
   "source": [
    "### Uniform Prior\n",
    "\n",
    "Odd results, too high for low n's, consistantly just above posterior for higher n's."
   ]
  },
  {
   "cell_type": "code",
   "execution_count": 28,
   "metadata": {
    "scrolled": true
   },
   "outputs": [
    {
     "data": {
      "text/html": [
       "<div>\n",
       "<style scoped>\n",
       "    .dataframe tbody tr th:only-of-type {\n",
       "        vertical-align: middle;\n",
       "    }\n",
       "\n",
       "    .dataframe tbody tr th {\n",
       "        vertical-align: top;\n",
       "    }\n",
       "\n",
       "    .dataframe thead th {\n",
       "        text-align: right;\n",
       "    }\n",
       "</style>\n",
       "<table border=\"1\" class=\"dataframe\">\n",
       "  <thead>\n",
       "    <tr style=\"text-align: right;\">\n",
       "      <th></th>\n",
       "      <th>posterior</th>\n",
       "      <th>success</th>\n",
       "    </tr>\n",
       "  </thead>\n",
       "  <tbody>\n",
       "    <tr>\n",
       "      <th>0</th>\n",
       "      <td>0.3333333333</td>\n",
       "      <td>0.33446</td>\n",
       "    </tr>\n",
       "    <tr>\n",
       "      <th>1</th>\n",
       "      <td>0.2222222222</td>\n",
       "      <td>0.22384</td>\n",
       "    </tr>\n",
       "    <tr>\n",
       "      <th>2</th>\n",
       "      <td>0.1851851852</td>\n",
       "      <td>0.18327</td>\n",
       "    </tr>\n",
       "    <tr>\n",
       "      <th>3</th>\n",
       "      <td>0.1728395062</td>\n",
       "      <td>0.17082</td>\n",
       "    </tr>\n",
       "    <tr>\n",
       "      <th>4</th>\n",
       "      <td>0.1687242798</td>\n",
       "      <td>0.16865</td>\n",
       "    </tr>\n",
       "    <tr>\n",
       "      <th>5</th>\n",
       "      <td>0.1673525377</td>\n",
       "      <td>0.16770</td>\n",
       "    </tr>\n",
       "    <tr>\n",
       "      <th>6</th>\n",
       "      <td>0.1668952904</td>\n",
       "      <td>0.16859</td>\n",
       "    </tr>\n",
       "    <tr>\n",
       "      <th>7</th>\n",
       "      <td>0.1667428746</td>\n",
       "      <td>0.16810</td>\n",
       "    </tr>\n",
       "    <tr>\n",
       "      <th>8</th>\n",
       "      <td>0.1666920693</td>\n",
       "      <td>0.16834</td>\n",
       "    </tr>\n",
       "    <tr>\n",
       "      <th>9</th>\n",
       "      <td>0.1666751342</td>\n",
       "      <td>0.16569</td>\n",
       "    </tr>\n",
       "    <tr>\n",
       "      <th>10</th>\n",
       "      <td>0.1666694892</td>\n",
       "      <td>0.16765</td>\n",
       "    </tr>\n",
       "    <tr>\n",
       "      <th>11</th>\n",
       "      <td>0.1666676075</td>\n",
       "      <td>0.16593</td>\n",
       "    </tr>\n",
       "    <tr>\n",
       "      <th>12</th>\n",
       "      <td>0.1666669803</td>\n",
       "      <td>0.16674</td>\n",
       "    </tr>\n",
       "    <tr>\n",
       "      <th>13</th>\n",
       "      <td>0.1666667712</td>\n",
       "      <td>0.16569</td>\n",
       "    </tr>\n",
       "    <tr>\n",
       "      <th>14</th>\n",
       "      <td>0.1666667015</td>\n",
       "      <td>0.16484</td>\n",
       "    </tr>\n",
       "    <tr>\n",
       "      <th>15</th>\n",
       "      <td>0.1666666783</td>\n",
       "      <td>0.16477</td>\n",
       "    </tr>\n",
       "    <tr>\n",
       "      <th>16</th>\n",
       "      <td>0.1666666705</td>\n",
       "      <td>0.16798</td>\n",
       "    </tr>\n",
       "    <tr>\n",
       "      <th>17</th>\n",
       "      <td>0.1666666680</td>\n",
       "      <td>0.16528</td>\n",
       "    </tr>\n",
       "    <tr>\n",
       "      <th>18</th>\n",
       "      <td>0.1666666671</td>\n",
       "      <td>0.16629</td>\n",
       "    </tr>\n",
       "    <tr>\n",
       "      <th>19</th>\n",
       "      <td>0.1666666668</td>\n",
       "      <td>0.16682</td>\n",
       "    </tr>\n",
       "    <tr>\n",
       "      <th>20</th>\n",
       "      <td>0.1666666667</td>\n",
       "      <td>0.16676</td>\n",
       "    </tr>\n",
       "    <tr>\n",
       "      <th>21</th>\n",
       "      <td>0.1666666667</td>\n",
       "      <td>0.16633</td>\n",
       "    </tr>\n",
       "    <tr>\n",
       "      <th>22</th>\n",
       "      <td>0.1666666667</td>\n",
       "      <td>0.16504</td>\n",
       "    </tr>\n",
       "    <tr>\n",
       "      <th>23</th>\n",
       "      <td>0.1666666667</td>\n",
       "      <td>0.16536</td>\n",
       "    </tr>\n",
       "    <tr>\n",
       "      <th>24</th>\n",
       "      <td>0.1666666667</td>\n",
       "      <td>0.16875</td>\n",
       "    </tr>\n",
       "    <tr>\n",
       "      <th>25</th>\n",
       "      <td>0.1666666667</td>\n",
       "      <td>0.16627</td>\n",
       "    </tr>\n",
       "    <tr>\n",
       "      <th>26</th>\n",
       "      <td>0.1666666667</td>\n",
       "      <td>0.16911</td>\n",
       "    </tr>\n",
       "    <tr>\n",
       "      <th>27</th>\n",
       "      <td>0.1666666667</td>\n",
       "      <td>0.16690</td>\n",
       "    </tr>\n",
       "    <tr>\n",
       "      <th>28</th>\n",
       "      <td>0.1666666667</td>\n",
       "      <td>0.16636</td>\n",
       "    </tr>\n",
       "    <tr>\n",
       "      <th>29</th>\n",
       "      <td>0.1666666667</td>\n",
       "      <td>0.16653</td>\n",
       "    </tr>\n",
       "    <tr>\n",
       "      <th>...</th>\n",
       "      <td>...</td>\n",
       "      <td>...</td>\n",
       "    </tr>\n",
       "    <tr>\n",
       "      <th>170</th>\n",
       "      <td>0.1666666667</td>\n",
       "      <td>0.16559</td>\n",
       "    </tr>\n",
       "    <tr>\n",
       "      <th>171</th>\n",
       "      <td>0.1666666667</td>\n",
       "      <td>0.16682</td>\n",
       "    </tr>\n",
       "    <tr>\n",
       "      <th>172</th>\n",
       "      <td>0.1666666667</td>\n",
       "      <td>0.16626</td>\n",
       "    </tr>\n",
       "    <tr>\n",
       "      <th>173</th>\n",
       "      <td>0.1666666667</td>\n",
       "      <td>0.16711</td>\n",
       "    </tr>\n",
       "    <tr>\n",
       "      <th>174</th>\n",
       "      <td>0.1666666667</td>\n",
       "      <td>0.16604</td>\n",
       "    </tr>\n",
       "    <tr>\n",
       "      <th>175</th>\n",
       "      <td>0.1666666667</td>\n",
       "      <td>0.16464</td>\n",
       "    </tr>\n",
       "    <tr>\n",
       "      <th>176</th>\n",
       "      <td>0.1666666667</td>\n",
       "      <td>0.16566</td>\n",
       "    </tr>\n",
       "    <tr>\n",
       "      <th>177</th>\n",
       "      <td>0.1666666667</td>\n",
       "      <td>0.16455</td>\n",
       "    </tr>\n",
       "    <tr>\n",
       "      <th>178</th>\n",
       "      <td>0.1666666667</td>\n",
       "      <td>0.16641</td>\n",
       "    </tr>\n",
       "    <tr>\n",
       "      <th>179</th>\n",
       "      <td>0.1666666667</td>\n",
       "      <td>0.16603</td>\n",
       "    </tr>\n",
       "    <tr>\n",
       "      <th>180</th>\n",
       "      <td>0.1666666667</td>\n",
       "      <td>0.16777</td>\n",
       "    </tr>\n",
       "    <tr>\n",
       "      <th>181</th>\n",
       "      <td>0.1666666667</td>\n",
       "      <td>0.16773</td>\n",
       "    </tr>\n",
       "    <tr>\n",
       "      <th>182</th>\n",
       "      <td>0.1666666667</td>\n",
       "      <td>0.16723</td>\n",
       "    </tr>\n",
       "    <tr>\n",
       "      <th>183</th>\n",
       "      <td>0.1666666667</td>\n",
       "      <td>0.16790</td>\n",
       "    </tr>\n",
       "    <tr>\n",
       "      <th>184</th>\n",
       "      <td>0.1666666667</td>\n",
       "      <td>0.16658</td>\n",
       "    </tr>\n",
       "    <tr>\n",
       "      <th>185</th>\n",
       "      <td>0.1666666667</td>\n",
       "      <td>0.16536</td>\n",
       "    </tr>\n",
       "    <tr>\n",
       "      <th>186</th>\n",
       "      <td>0.1666666667</td>\n",
       "      <td>0.16737</td>\n",
       "    </tr>\n",
       "    <tr>\n",
       "      <th>187</th>\n",
       "      <td>0.1666666667</td>\n",
       "      <td>0.16559</td>\n",
       "    </tr>\n",
       "    <tr>\n",
       "      <th>188</th>\n",
       "      <td>0.1666666667</td>\n",
       "      <td>0.16513</td>\n",
       "    </tr>\n",
       "    <tr>\n",
       "      <th>189</th>\n",
       "      <td>0.1666666667</td>\n",
       "      <td>0.16798</td>\n",
       "    </tr>\n",
       "    <tr>\n",
       "      <th>190</th>\n",
       "      <td>0.1666666667</td>\n",
       "      <td>0.16680</td>\n",
       "    </tr>\n",
       "    <tr>\n",
       "      <th>191</th>\n",
       "      <td>0.1666666667</td>\n",
       "      <td>0.17071</td>\n",
       "    </tr>\n",
       "    <tr>\n",
       "      <th>192</th>\n",
       "      <td>0.1666666667</td>\n",
       "      <td>0.16914</td>\n",
       "    </tr>\n",
       "    <tr>\n",
       "      <th>193</th>\n",
       "      <td>0.1666666667</td>\n",
       "      <td>0.16626</td>\n",
       "    </tr>\n",
       "    <tr>\n",
       "      <th>194</th>\n",
       "      <td>0.1666666667</td>\n",
       "      <td>0.16514</td>\n",
       "    </tr>\n",
       "    <tr>\n",
       "      <th>195</th>\n",
       "      <td>0.1666666667</td>\n",
       "      <td>0.16700</td>\n",
       "    </tr>\n",
       "    <tr>\n",
       "      <th>196</th>\n",
       "      <td>0.1666666667</td>\n",
       "      <td>0.16545</td>\n",
       "    </tr>\n",
       "    <tr>\n",
       "      <th>197</th>\n",
       "      <td>0.1666666667</td>\n",
       "      <td>0.16626</td>\n",
       "    </tr>\n",
       "    <tr>\n",
       "      <th>198</th>\n",
       "      <td>0.1666666667</td>\n",
       "      <td>0.16690</td>\n",
       "    </tr>\n",
       "    <tr>\n",
       "      <th>199</th>\n",
       "      <td>0.1666666667</td>\n",
       "      <td>0.16488</td>\n",
       "    </tr>\n",
       "  </tbody>\n",
       "</table>\n",
       "<p>200 rows × 2 columns</p>\n",
       "</div>"
      ],
      "text/plain": [
       "        posterior  success\n",
       "0    0.3333333333  0.33446\n",
       "1    0.2222222222  0.22384\n",
       "2    0.1851851852  0.18327\n",
       "3    0.1728395062  0.17082\n",
       "4    0.1687242798  0.16865\n",
       "5    0.1673525377  0.16770\n",
       "6    0.1668952904  0.16859\n",
       "7    0.1667428746  0.16810\n",
       "8    0.1666920693  0.16834\n",
       "9    0.1666751342  0.16569\n",
       "10   0.1666694892  0.16765\n",
       "11   0.1666676075  0.16593\n",
       "12   0.1666669803  0.16674\n",
       "13   0.1666667712  0.16569\n",
       "14   0.1666667015  0.16484\n",
       "15   0.1666666783  0.16477\n",
       "16   0.1666666705  0.16798\n",
       "17   0.1666666680  0.16528\n",
       "18   0.1666666671  0.16629\n",
       "19   0.1666666668  0.16682\n",
       "20   0.1666666667  0.16676\n",
       "21   0.1666666667  0.16633\n",
       "22   0.1666666667  0.16504\n",
       "23   0.1666666667  0.16536\n",
       "24   0.1666666667  0.16875\n",
       "25   0.1666666667  0.16627\n",
       "26   0.1666666667  0.16911\n",
       "27   0.1666666667  0.16690\n",
       "28   0.1666666667  0.16636\n",
       "29   0.1666666667  0.16653\n",
       "..            ...      ...\n",
       "170  0.1666666667  0.16559\n",
       "171  0.1666666667  0.16682\n",
       "172  0.1666666667  0.16626\n",
       "173  0.1666666667  0.16711\n",
       "174  0.1666666667  0.16604\n",
       "175  0.1666666667  0.16464\n",
       "176  0.1666666667  0.16566\n",
       "177  0.1666666667  0.16455\n",
       "178  0.1666666667  0.16641\n",
       "179  0.1666666667  0.16603\n",
       "180  0.1666666667  0.16777\n",
       "181  0.1666666667  0.16773\n",
       "182  0.1666666667  0.16723\n",
       "183  0.1666666667  0.16790\n",
       "184  0.1666666667  0.16658\n",
       "185  0.1666666667  0.16536\n",
       "186  0.1666666667  0.16737\n",
       "187  0.1666666667  0.16559\n",
       "188  0.1666666667  0.16513\n",
       "189  0.1666666667  0.16798\n",
       "190  0.1666666667  0.16680\n",
       "191  0.1666666667  0.17071\n",
       "192  0.1666666667  0.16914\n",
       "193  0.1666666667  0.16626\n",
       "194  0.1666666667  0.16514\n",
       "195  0.1666666667  0.16700\n",
       "196  0.1666666667  0.16545\n",
       "197  0.1666666667  0.16626\n",
       "198  0.1666666667  0.16690\n",
       "199  0.1666666667  0.16488\n",
       "\n",
       "[200 rows x 2 columns]"
      ]
     },
     "execution_count": 28,
     "metadata": {},
     "output_type": "execute_result"
    }
   ],
   "source": [
    "n_range = 200\n",
    "k = 3\n",
    "probs = [1/3, 1/3, 1/3]\n",
    "num_tests = 100000\n",
    "df_exp_uni = bayes_post_vs_success(n_range, k, probs, num_tests)\n",
    "df_exp_uni"
   ]
  },
  {
   "cell_type": "code",
   "execution_count": 29,
   "metadata": {},
   "outputs": [],
   "source": [
    "df_exp_uni.to_csv(r'data\\df_exp_uni.csv', index = None, header=True) "
   ]
  },
  {
   "cell_type": "code",
   "execution_count": 30,
   "metadata": {},
   "outputs": [
    {
     "data": {
      "image/png": "[encoded data removed]",
      "text/plain": [
       "<Figure size 432x288 with 1 Axes>"
      ]
     },
     "metadata": {
      "needs_background": "light"
     },
     "output_type": "display_data"
    }
   ],
   "source": [
    "graph_bayes_exp(n_range, df_exp_uni)"
   ]
  },
  {
   "cell_type": "code",
   "execution_count": null,
   "metadata": {},
   "outputs": [],
   "source": []
  }
 ],
 "metadata": {
  "kernelspec": {
   "display_name": "Python 3",
   "language": "python",
   "name": "python3"
  },
  "language_info": {
   "codemirror_mode": {
    "name": "ipython",
    "version": 3
   },
   "file_extension": ".py",
   "mimetype": "text/x-python",
   "name": "python",
   "nbconvert_exporter": "python",
   "pygments_lexer": "ipython3",
   "version": "3.6.7"
  }
 },
 "nbformat": 4,
 "nbformat_minor": 2
}
