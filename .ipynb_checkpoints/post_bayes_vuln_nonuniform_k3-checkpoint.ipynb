{
 "cells": [
  {
   "cell_type": "markdown",
   "metadata": {},
   "source": [
    "## Posterior Bayes Vulnerability\n",
    "\n",
    "Under a nonuniform prior\n",
    "k = 3"
   ]
  },
  {
   "cell_type": "code",
   "execution_count": 1,
   "metadata": {
    "collapsed": true
   },
   "outputs": [],
   "source": [
    "from sympy.functions.combinatorial.numbers import stirling\n",
    "import matplotlib.pyplot as plt \n",
    "%matplotlib notebook"
   ]
  },
  {
   "cell_type": "code",
   "execution_count": 8,
   "metadata": {
    "collapsed": true
   },
   "outputs": [],
   "source": [
    "from sympy.utilities.iterables import partitions\n",
    "from sympy import binomial"
   ]
  },
  {
   "cell_type": "code",
   "execution_count": 2,
   "metadata": {
    "collapsed": true
   },
   "outputs": [],
   "source": [
    "k = 3"
   ]
  },
  {
   "cell_type": "code",
   "execution_count": 3,
   "metadata": {
    "collapsed": true
   },
   "outputs": [],
   "source": [
    "n = 6"
   ]
  },
  {
   "cell_type": "code",
   "execution_count": 21,
   "metadata": {
    "collapsed": false
   },
   "outputs": [
    {
     "name": "stdout",
     "output_type": "stream",
     "text": [
      "[0.5, 0.3333333333333333, 0.16666666666666666]\n"
     ]
    }
   ],
   "source": [
    "probs = [1/2, 1/3, 1/6]\n",
    "print(probs)"
   ]
  },
  {
   "cell_type": "code",
   "execution_count": 11,
   "metadata": {
    "collapsed": false
   },
   "outputs": [
    {
     "name": "stdout",
     "output_type": "stream",
     "text": [
      "{6: 1}\n",
      "{1: 1, 5: 1}\n",
      "{2: 1, 4: 1}\n",
      "{1: 2, 4: 1}\n",
      "{3: 2}\n",
      "{1: 1, 2: 1, 3: 1}\n",
      "{2: 3}\n"
     ]
    }
   ],
   "source": [
    "for p in partitions(6, m=3):\n",
    "    print(p)"
   ]
  },
  {
   "cell_type": "code",
   "execution_count": 27,
   "metadata": {
    "collapsed": true
   },
   "outputs": [],
   "source": [
    "import collections"
   ]
  },
  {
   "cell_type": "code",
   "execution_count": 53,
   "metadata": {
    "collapsed": false
   },
   "outputs": [],
   "source": [
    "def nonuni_post_bayes_vuln(n, k, P):\n",
    "    pbvsum = 0\n",
    "    for p in partitions(n, m=k):  \n",
    "        num = calc_set_partitions(p)\n",
    "        frac = calc_max_prob(p, P)\n",
    "        val = num / frac\n",
    "        pbvsum = pbvsum + val\n",
    "    return pbvsum"
   ]
  },
  {
   "cell_type": "code",
   "execution_count": 36,
   "metadata": {
    "collapsed": true
   },
   "outputs": [],
   "source": [
    "def calc_set_partitions(p):\n",
    "    num = 0\n",
    "    for x in sorted(p):\n",
    "        if p[x] == 1:\n",
    "            print(\"only 1\")\n",
    "        else:\n",
    "            print(\"more than 1\")\n",
    "    return num"
   ]
  },
  {
   "cell_type": "code",
   "execution_count": 37,
   "metadata": {
    "collapsed": false
   },
   "outputs": [],
   "source": [
    "def calc_max_prob(p, P):\n",
    "    P.sort()\n",
    "    frac = 1\n",
    "    for key in sorted(p.keys(), reverse=True):\n",
    "        pow(P[1], key)\n",
    "    return frac"
   ]
  },
  {
   "cell_type": "code",
   "execution_count": null,
   "metadata": {
    "collapsed": true
   },
   "outputs": [],
   "source": [
    "calc_max_prob({1:1, 5:1}, probs)"
   ]
  },
  {
   "cell_type": "code",
   "execution_count": 54,
   "metadata": {
    "collapsed": false
   },
   "outputs": [
    {
     "name": "stdout",
     "output_type": "stream",
     "text": [
      "key:  6\n",
      "{6: 1}\n",
      "key:  5\n",
      "key:  1\n",
      "{1: 1, 5: 1}\n",
      "key:  4\n",
      "key:  2\n",
      "{2: 1, 4: 1}\n",
      "key:  4\n",
      "key:  1\n",
      "{1: 2, 4: 1}\n",
      "key:  3\n",
      "{3: 2}\n",
      "key:  3\n",
      "key:  2\n",
      "key:  1\n",
      "{1: 1, 2: 1, 3: 1}\n",
      "key:  2\n",
      "{2: 3}\n"
     ]
    },
    {
     "data": {
      "text/plain": [
       "0.0"
      ]
     },
     "execution_count": 54,
     "metadata": {},
     "output_type": "execute_result"
    }
   ],
   "source": [
    "nonuni_post_bayes_vuln(n, k, probs)"
   ]
  },
  {
   "cell_type": "code",
   "execution_count": 55,
   "metadata": {
    "collapsed": false
   },
   "outputs": [
    {
     "name": "stdout",
     "output_type": "stream",
     "text": [
      "{24: 1}\n",
      "{1: 1, 23: 1}\n",
      "{2: 1, 22: 1}\n",
      "{1: 2, 22: 1}\n",
      "{3: 1, 21: 1}\n",
      "{1: 1, 2: 1, 21: 1}\n",
      "{4: 1, 20: 1}\n",
      "{1: 1, 3: 1, 20: 1}\n",
      "{2: 2, 20: 1}\n",
      "{19: 1, 5: 1}\n",
      "{1: 1, 19: 1, 4: 1}\n",
      "{3: 1, 2: 1, 19: 1}\n",
      "{18: 1, 6: 1}\n",
      "{1: 1, 18: 1, 5: 1}\n",
      "{18: 1, 4: 1, 2: 1}\n",
      "{18: 1, 3: 2}\n",
      "{17: 1, 7: 1}\n",
      "{17: 1, 6: 1, 1: 1}\n",
      "{17: 1, 2: 1, 5: 1}\n",
      "{17: 1, 3: 1, 4: 1}\n",
      "{16: 1, 8: 1}\n",
      "{16: 1, 1: 1, 7: 1}\n",
      "{16: 1, 2: 1, 6: 1}\n",
      "{16: 1, 3: 1, 5: 1}\n",
      "{16: 1, 4: 2}\n",
      "{9: 1, 15: 1}\n",
      "{1: 1, 8: 1, 15: 1}\n",
      "{2: 1, 7: 1, 15: 1}\n",
      "{3: 1, 6: 1, 15: 1}\n",
      "{4: 1, 5: 1, 15: 1}\n",
      "{10: 1, 14: 1}\n",
      "{1: 1, 9: 1, 14: 1}\n",
      "{2: 1, 8: 1, 14: 1}\n",
      "{3: 1, 7: 1, 14: 1}\n",
      "{4: 1, 6: 1, 14: 1}\n",
      "{5: 2, 14: 1}\n",
      "{11: 1, 13: 1}\n",
      "{1: 1, 10: 1, 13: 1}\n",
      "{2: 1, 9: 1, 13: 1}\n",
      "{3: 1, 8: 1, 13: 1}\n",
      "{4: 1, 7: 1, 13: 1}\n",
      "{5: 1, 6: 1, 13: 1}\n",
      "{12: 2}\n",
      "{1: 1, 11: 1, 12: 1}\n",
      "{2: 1, 10: 1, 12: 1}\n",
      "{3: 1, 9: 1, 12: 1}\n",
      "{4: 1, 8: 1, 12: 1}\n",
      "{5: 1, 7: 1, 12: 1}\n",
      "{6: 2, 12: 1}\n",
      "{2: 1, 11: 2}\n",
      "{3: 1, 10: 1, 11: 1}\n",
      "{4: 1, 9: 1, 11: 1}\n",
      "{5: 1, 8: 1, 11: 1}\n",
      "{6: 1, 7: 1, 11: 1}\n",
      "{4: 1, 10: 2}\n",
      "{5: 1, 9: 1, 10: 1}\n",
      "{6: 1, 8: 1, 10: 1}\n",
      "{7: 2, 10: 1}\n",
      "{6: 1, 9: 2}\n",
      "{7: 1, 8: 1, 9: 1}\n",
      "{8: 3}\n"
     ]
    }
   ],
   "source": [
    "for p in partitions(24, m=3):\n",
    "    print(p)"
   ]
  },
  {
   "cell_type": "code",
   "execution_count": null,
   "metadata": {
    "collapsed": true
   },
   "outputs": [],
   "source": []
  }
 ],
 "metadata": {
  "kernelspec": {
   "display_name": "Python [Anaconda]",
   "language": "python",
   "name": "Python [Anaconda]"
  },
  "language_info": {
   "codemirror_mode": {
    "name": "ipython",
    "version": 3
   },
   "file_extension": ".py",
   "mimetype": "text/x-python",
   "name": "python",
   "nbconvert_exporter": "python",
   "pygments_lexer": "ipython3",
   "version": "3.5.2"
  }
 },
 "nbformat": 4,
 "nbformat_minor": 0
}
