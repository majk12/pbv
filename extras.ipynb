{
 "cells": [
  {
   "cell_type": "markdown",
   "metadata": {},
   "source": [
    "## Math How-Tos"
   ]
  },
  {
   "cell_type": "code",
   "execution_count": 2,
   "metadata": {
    "collapsed": true
   },
   "outputs": [],
   "source": [
    "from sympy.functions.combinatorial.numbers import stirling, bell\n",
    "from sympy import binomial\n",
    "from sympy.utilities.iterables import partitions\n",
    "from sympy.combinatorics.partitions import IntegerPartition"
   ]
  },
  {
   "cell_type": "code",
   "execution_count": 2,
   "metadata": {
    "collapsed": true
   },
   "outputs": [],
   "source": [
    "k = 3"
   ]
  },
  {
   "cell_type": "code",
   "execution_count": 3,
   "metadata": {
    "collapsed": true
   },
   "outputs": [],
   "source": [
    "n = 26"
   ]
  },
  {
   "cell_type": "code",
   "execution_count": 4,
   "metadata": {
    "collapsed": false
   },
   "outputs": [
    {
     "data": {
      "text/plain": [
       "423610750290"
      ]
     },
     "execution_count": 4,
     "metadata": {},
     "output_type": "execute_result"
    }
   ],
   "source": [
    "stirling(n, k)"
   ]
  },
  {
   "cell_type": "code",
   "execution_count": 5,
   "metadata": {
    "collapsed": false
   },
   "outputs": [
    {
     "data": {
      "text/plain": [
       "3"
      ]
     },
     "execution_count": 5,
     "metadata": {},
     "output_type": "execute_result"
    }
   ],
   "source": [
    "binomial(3, 2)"
   ]
  },
  {
   "cell_type": "code",
   "execution_count": 6,
   "metadata": {
    "collapsed": false
   },
   "outputs": [
    {
     "data": {
      "text/plain": [
       "[{6: 1},\n",
       " {1: 1, 5: 1},\n",
       " {2: 1, 4: 1},\n",
       " {1: 2, 4: 1},\n",
       " {3: 2},\n",
       " {1: 1, 2: 1, 3: 1},\n",
       " {1: 3, 3: 1},\n",
       " {2: 3},\n",
       " {1: 2, 2: 2},\n",
       " {1: 4, 2: 1},\n",
       " {1: 6}]"
      ]
     },
     "execution_count": 6,
     "metadata": {},
     "output_type": "execute_result"
    }
   ],
   "source": [
    "[p.copy() for p in partitions(6)]"
   ]
  },
  {
   "cell_type": "code",
   "execution_count": 4,
   "metadata": {
    "collapsed": false
   },
   "outputs": [
    {
     "name": "stdout",
     "output_type": "stream",
     "text": [
      "{6: 1}\n",
      "{1: 1, 5: 1}\n",
      "{2: 1, 4: 1}\n",
      "{1: 2, 4: 1}\n",
      "{3: 2}\n",
      "{1: 1, 2: 1, 3: 1}\n",
      "{2: 3}\n"
     ]
    }
   ],
   "source": [
    "for p in partitions(6, m=3):\n",
    "    print(p)"
   ]
  },
  {
   "cell_type": "code",
   "execution_count": 6,
   "metadata": {
    "collapsed": false
   },
   "outputs": [
    {
     "name": "stdout",
     "output_type": "stream",
     "text": [
      "{12: 1}\n",
      "{1: 1, 11: 1}\n",
      "{10: 1, 2: 1}\n",
      "{1: 2, 10: 1}\n",
      "{9: 1, 3: 1}\n",
      "{1: 1, 2: 1, 9: 1}\n",
      "{4: 1, 8: 1}\n",
      "{1: 1, 3: 1, 8: 1}\n",
      "{2: 2, 8: 1}\n",
      "{5: 1, 7: 1}\n",
      "{1: 1, 4: 1, 7: 1}\n",
      "{2: 1, 3: 1, 7: 1}\n",
      "{6: 2}\n",
      "{1: 1, 5: 1, 6: 1}\n",
      "{2: 1, 4: 1, 6: 1}\n",
      "{3: 2, 6: 1}\n",
      "{2: 1, 5: 2}\n",
      "{3: 1, 4: 1, 5: 1}\n",
      "{4: 3}\n"
     ]
    }
   ],
   "source": [
    "for p in partitions(12, m=3):\n",
    "    print(p)"
   ]
  },
  {
   "cell_type": "code",
   "execution_count": 7,
   "metadata": {
    "collapsed": false
   },
   "outputs": [
    {
     "data": {
      "text/plain": [
       "231"
      ]
     },
     "execution_count": 7,
     "metadata": {},
     "output_type": "execute_result"
    }
   ],
   "source": [
    "binomial(22, 2)"
   ]
  },
  {
   "cell_type": "code",
   "execution_count": 5,
   "metadata": {
    "collapsed": false
   },
   "outputs": [
    {
     "data": {
      "text/plain": [
       "3.9736429850260414e-08"
      ]
     },
     "execution_count": 5,
     "metadata": {},
     "output_type": "execute_result"
    }
   ],
   "source": [
    "pow(1/2, 23) * 1/3"
   ]
  },
  {
   "cell_type": "code",
   "execution_count": null,
   "metadata": {
    "collapsed": true
   },
   "outputs": [],
   "source": []
  }
 ],
 "metadata": {
  "kernelspec": {
   "display_name": "Python [Anaconda]",
   "language": "python",
   "name": "Python [Anaconda]"
  },
  "language_info": {
   "codemirror_mode": {
    "name": "ipython",
    "version": 3
   },
   "file_extension": ".py",
   "mimetype": "text/x-python",
   "name": "python",
   "nbconvert_exporter": "python",
   "pygments_lexer": "ipython3",
   "version": "3.5.2"
  }
 },
 "nbformat": 4,
 "nbformat_minor": 0
}
