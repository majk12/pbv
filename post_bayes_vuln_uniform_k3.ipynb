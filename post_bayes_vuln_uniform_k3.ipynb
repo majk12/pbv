{
 "cells": [
  {
   "cell_type": "markdown",
   "metadata": {},
   "source": [
    "## Calculate Posterior Bayes Vulnerability Under a Uniform Prior\n",
    "where k = 3"
   ]
  },
  {
   "cell_type": "code",
   "execution_count": 1,
   "metadata": {},
   "outputs": [],
   "source": [
    "from sympy.functions.combinatorial.numbers import stirling\n",
    "import matplotlib.pyplot as plt \n",
    "%matplotlib notebook"
   ]
  },
  {
   "cell_type": "markdown",
   "metadata": {},
   "source": [
    "### Variables"
   ]
  },
  {
   "cell_type": "code",
   "execution_count": 2,
   "metadata": {},
   "outputs": [],
   "source": [
    "k = 3"
   ]
  },
  {
   "cell_type": "code",
   "execution_count": 3,
   "metadata": {},
   "outputs": [],
   "source": [
    "n = 3"
   ]
  },
  {
   "cell_type": "code",
   "execution_count": null,
   "metadata": {},
   "outputs": [],
   "source": [
    "range_max = 50"
   ]
  },
  {
   "cell_type": "markdown",
   "metadata": {},
   "source": [
    "### Function"
   ]
  },
  {
   "cell_type": "code",
   "execution_count": 4,
   "metadata": {},
   "outputs": [],
   "source": [
    "def uni_post_bayes_vuln(n, k):\n",
    "    num = 0\n",
    "    den = 0\n",
    "    for i in range(1, k+1):\n",
    "        num = num + stirling(n, i)\n",
    "    den = pow(k, n)\n",
    "    return num/den"
   ]
  },
  {
   "cell_type": "markdown",
   "metadata": {},
   "source": [
    "### Calculation n = 3"
   ]
  },
  {
   "cell_type": "code",
   "execution_count": 5,
   "metadata": {},
   "outputs": [
    {
     "data": {
      "text/plain": [
       "5/27"
      ]
     },
     "execution_count": 5,
     "metadata": {},
     "output_type": "execute_result"
    }
   ],
   "source": [
    "uni_post_bayes_vuln(n, k)"
   ]
  },
  {
   "cell_type": "markdown",
   "metadata": {},
   "source": [
    "### Graph n = 1 through 50"
   ]
  },
  {
   "cell_type": "code",
   "execution_count": 6,
   "metadata": {},
   "outputs": [
    {
     "name": "stdout",
     "output_type": "stream",
     "text": [
      "[1/3, 2/9, 5/27, 14/81, 41/243, 122/729, 365/2187, 1094/6561, 3281/19683, 9842/59049, 29525/177147, 88574/531441, 265721/1594323, 797162/4782969, 2391485/14348907, 7174454/43046721, 21523361/129140163, 64570082/387420489, 193710245/1162261467, 581130734/3486784401, 1743392201/10460353203, 5230176602/31381059609, 15690529805/94143178827, 47071589414/282429536481, 141214768241/847288609443, 423644304722/2541865828329, 1270932914165/7625597484987, 3812798742494/22876792454961, 11438396227481/68630377364883, 34315188682442/205891132094649, 102945566047325/617673396283947, 308836698141974/1853020188851841, 926510094425921/5559060566555523, 2779530283277762/16677181699666569, 8338590849833285/50031545098999707, 25015772549499854/150094635296999121, 75047317648499561/450283905890997363, 225141952945498682/1350851717672992089, 675425858836496045/4052555153018976267, 2026277576509488134/12157665459056928801, 6078832729528464401/36472996377170786403, 18236498188585393202/109418989131512359209, 54709494565756179605/328256967394537077627, 164128483697268538814/984770902183611232881, 492385451091805616441/2954312706550833698643, 1477156353275416849322/8862938119652501095929, 4431469059826250547965/26588814358957503287787, 13294407179478751643894/79766443076872509863361, 39883221538436254931681/239299329230617529590083]\n"
     ]
    }
   ],
   "source": [
    "upbvs = []\n",
    "for i in range(1, range_max):\n",
    "    upbv = uni_post_bayes_vuln(i, k)\n",
    "    upbvs.append(upbv)\n",
    "print(upbvs)"
   ]
  },
  {
   "cell_type": "code",
   "execution_count": 7,
   "metadata": {
    "scrolled": false
   },
   "outputs": [
    {
     "data": {
      "image/png": "[encoded data removed]",
      "text/plain": [
       "<Figure size 432x288 with 1 Axes>"
      ]
     },
     "metadata": {
      "needs_background": "light"
     },
     "output_type": "display_data"
    }
   ],
   "source": [
    "# plotting the points  \n",
    "x = [i for i in range(1, range_max)]\n",
    "\n",
    "plt.plot(x, upbvs)\n",
    "\n",
    "plt.xlabel('n values')\n",
    "plt.ylabel('posterior bayes vulnerability')\n",
    "\n",
    "plt.title('k = 3, uniform prior')\n",
    "\n",
    "plt.show()"
   ]
  }
 ],
 "metadata": {
  "kernelspec": {
   "display_name": "Python 3",
   "language": "python",
   "name": "python3"
  },
  "language_info": {
   "codemirror_mode": {
    "name": "ipython",
    "version": 3
   },
   "file_extension": ".py",
   "mimetype": "text/x-python",
   "name": "python",
   "nbconvert_exporter": "python",
   "pygments_lexer": "ipython3",
   "version": "3.7.0"
  }
 },
 "nbformat": 4,
 "nbformat_minor": 1
}
