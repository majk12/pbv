{
 "cells": [
  {
   "cell_type": "markdown",
   "metadata": {},
   "source": [
    "## Posterior Bayes Vulnerability\n",
    "\n",
    " k = 3, under a nonuniform prior 1/2, 1/3, 1/6"
   ]
  },
  {
   "cell_type": "code",
   "execution_count": 1,
   "metadata": {},
   "outputs": [],
   "source": [
    "import collections\n",
    "import math\n",
    "from sympy.utilities.iterables import partitions\n",
    "import matplotlib.pyplot as plt \n",
    "%matplotlib notebook"
   ]
  },
  {
   "cell_type": "markdown",
   "metadata": {},
   "source": [
    "### Variables"
   ]
  },
  {
   "cell_type": "code",
   "execution_count": 2,
   "metadata": {},
   "outputs": [],
   "source": [
    "k = 3"
   ]
  },
  {
   "cell_type": "code",
   "execution_count": 3,
   "metadata": {},
   "outputs": [],
   "source": [
    "n = 6"
   ]
  },
  {
   "cell_type": "code",
   "execution_count": 4,
   "metadata": {},
   "outputs": [],
   "source": [
    "probs = [1/2, 1/3, 1/6]"
   ]
  },
  {
   "cell_type": "code",
   "execution_count": 5,
   "metadata": {},
   "outputs": [],
   "source": [
    "range_max = 50"
   ]
  },
  {
   "cell_type": "markdown",
   "metadata": {},
   "source": [
    "### Functions"
   ]
  },
  {
   "cell_type": "code",
   "execution_count": 6,
   "metadata": {},
   "outputs": [],
   "source": [
    "def calc_set_partitions(n,p):\n",
    "    num = math.factorial(n)\n",
    "    den = 1\n",
    "    val = 0\n",
    "    for key in p.keys():\n",
    "        val = p[key]\n",
    "        for i in range(val):\n",
    "            den = den * math.factorial(key)\n",
    "        den = den * math.factorial(val)\n",
    "    frac = num / den\n",
    "    return frac"
   ]
  },
  {
   "cell_type": "code",
   "execution_count": 7,
   "metadata": {},
   "outputs": [],
   "source": [
    "def calc_max_prob(p, Pi):\n",
    "    Pi.sort(reverse=True)\n",
    "    frac = 1\n",
    "    ind = 0\n",
    "    val = -1\n",
    "    for key in sorted(p.keys(), reverse=True):\n",
    "        val = p[key]\n",
    "        for i in range(val):\n",
    "            frac = frac * pow(Pi[ind], key)\n",
    "            ind = ind + 1\n",
    "    return frac"
   ]
  },
  {
   "cell_type": "code",
   "execution_count": 8,
   "metadata": {},
   "outputs": [],
   "source": [
    "def nonuni_post_bayes_vuln(n, k, Pi):\n",
    "    pbvsum = 0\n",
    "    for p in partitions(n, m=k):  \n",
    "        num = calc_set_partitions(n,p)\n",
    "        frac = calc_max_prob(p, Pi)\n",
    "        val = num * frac\n",
    "        pbvsum = pbvsum + val\n",
    "    return pbvsum"
   ]
  },
  {
   "cell_type": "markdown",
   "metadata": {},
   "source": [
    "### Calculation"
   ]
  },
  {
   "cell_type": "code",
   "execution_count": 9,
   "metadata": {},
   "outputs": [
    {
     "data": {
      "text/plain": [
       "0.43113425925925924"
      ]
     },
     "execution_count": 9,
     "metadata": {},
     "output_type": "execute_result"
    }
   ],
   "source": [
    "nonuni_post_bayes_vuln(n, k, probs)"
   ]
  },
  {
   "cell_type": "code",
   "execution_count": 10,
   "metadata": {},
   "outputs": [
    {
     "data": {
      "text/plain": [
       "0.43113425925925924"
      ]
     },
     "execution_count": 10,
     "metadata": {},
     "output_type": "execute_result"
    }
   ],
   "source": [
    "745/1728"
   ]
  },
  {
   "cell_type": "markdown",
   "metadata": {},
   "source": [
    "### Graph for n = 1 - 50"
   ]
  },
  {
   "cell_type": "code",
   "execution_count": 11,
   "metadata": {},
   "outputs": [
    {
     "name": "stdout",
     "output_type": "stream",
     "text": [
      "[0.5, 0.41666666666666663, 0.4027777777777778, 0.3958333333333333, 0.4131944444444444, 0.43113425925925924, 0.45071373456790115, 0.47124164094650195, 0.49189546896433456, 0.5100027327674895, 0.5286089945558984, 0.5460162099551324, 0.5620028439536178, 0.5777079682945385, 0.5926510927572133, 0.6064540469803313, 0.6199858515476071, 0.6328641759507894, 0.6449275762052176, 0.6566809853732916, 0.6679182597648781, 0.6785217391782529, 0.6888306889914446, 0.6987095450758978, 0.708088772920213, 0.7171911765432654, 0.7259328612922994, 0.7342690325659702, 0.7423516001752649, 0.750126842643426, 0.7575671873933534, 0.7647772270497627, 0.7717230716833271, 0.778387857720002, 0.7848448735801133, 0.7910728732069704, 0.7970620098085374, 0.802864302920058, 0.8084667620927148, 0.8138640456690108, 0.8190935860760112, 0.8241477614597112, 0.8290241292085966, 0.8337499783661965, 0.8383211829261487, 0.8427371368666922, 0.847018000709073, 0.8511619078918214, 0.8551693921509967]\n"
     ]
    }
   ],
   "source": [
    "nupbvs = []\n",
    "for i in range(1, range_max):\n",
    "    nupbv = nonuni_post_bayes_vuln(i, k, probs)\n",
    "    nupbvs.append(nupbv)\n",
    "print(nupbvs)"
   ]
  },
  {
   "cell_type": "code",
   "execution_count": 12,
   "metadata": {},
   "outputs": [
    {
     "data": {
      "image/png": "[encoded data removed]",
      "text/plain": [
       "<Figure size 432x288 with 1 Axes>"
      ]
     },
     "metadata": {
      "needs_background": "light"
     },
     "output_type": "display_data"
    }
   ],
   "source": [
    "# plotting the points  \n",
    "x = [i for i in range(1, range_max)]\n",
    "\n",
    "plt.plot(x, nupbvs)\n",
    "\n",
    "plt.xlabel('n values')\n",
    "plt.ylabel('posterior bayes vulnerability')\n",
    "\n",
    "plt.title('k = 3, prior = 1/2, 1/3, 1/6')\n",
    "\n",
    "plt.show()"
   ]
  },
  {
   "cell_type": "code",
   "execution_count": null,
   "metadata": {},
   "outputs": [],
   "source": []
  }
 ],
 "metadata": {
  "kernelspec": {
   "display_name": "Python 3",
   "language": "python",
   "name": "python3"
  },
  "language_info": {
   "codemirror_mode": {
    "name": "ipython",
    "version": 3
   },
   "file_extension": ".py",
   "mimetype": "text/x-python",
   "name": "python",
   "nbconvert_exporter": "python",
   "pygments_lexer": "ipython3",
   "version": "3.7.0"
  }
 },
 "nbformat": 4,
 "nbformat_minor": 1
}
