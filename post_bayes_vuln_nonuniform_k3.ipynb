{
 "cells": [
  {
   "cell_type": "markdown",
   "metadata": {},
   "source": [
    "## Posterior Bayes Vulnerability\n",
    "\n",
    " k = 3, under a nonuniform prior 1/2, 1/3, 1/6"
   ]
  },
  {
   "cell_type": "code",
   "execution_count": 1,
   "metadata": {},
   "outputs": [],
   "source": [
    "import collections\n",
    "import math\n",
    "from sympy.utilities.iterables import partitions\n",
    "import matplotlib.pyplot as plt \n",
    "%matplotlib notebook"
   ]
  },
  {
   "cell_type": "markdown",
   "metadata": {},
   "source": [
    "### Variables"
   ]
  },
  {
   "cell_type": "code",
   "execution_count": 2,
   "metadata": {},
   "outputs": [],
   "source": [
    "k = 3"
   ]
  },
  {
   "cell_type": "code",
   "execution_count": 3,
   "metadata": {},
   "outputs": [],
   "source": [
    "n = 6"
   ]
  },
  {
   "cell_type": "code",
   "execution_count": 4,
   "metadata": {},
   "outputs": [],
   "source": [
    "probs = [1/2, 1/3, 1/6]"
   ]
  },
  {
   "cell_type": "code",
   "execution_count": 5,
   "metadata": {},
   "outputs": [],
   "source": [
    "range_max = 100"
   ]
  },
  {
   "cell_type": "markdown",
   "metadata": {},
   "source": [
    "### Functions"
   ]
  },
  {
   "cell_type": "markdown",
   "metadata": {},
   "source": [
    "__calc_set_paritions(n,p)__ calculates the number of set partitions\n",
    "<br>\n",
    "n: positive integer\n",
    "<br>\n",
    "p: a unique integer partition, as a python dictionary\n",
    "<br>\n",
    "Example:\n",
    "```python\n",
    "calc_set_partitions(6, {4:1, 1:2})\n",
    "```\n",
    "Output:\n",
    "```python\n",
    "15.0\n",
    "```\n",
    "Specific formula:<br>\n",
    "$$|\\text{set partitions}(6,\\{4:1, 1:2\\}) |= \\frac{6!}{\\left(4!\\right)1! \\times \\left(1!1!\\right)2!} $$\n",
    "\n",
    "Generalized formula:<br>\n",
    "$$|\\text{set partitions}(n,p)|= \\frac{n!}{\\prod_{i \\in p} i! |i|!} $$\n",
    "where i indicates an integer in the integer partition and |i| indicates the number of times that integer occurs"
   ]
  },
  {
   "cell_type": "code",
   "execution_count": 6,
   "metadata": {},
   "outputs": [],
   "source": [
    "def calc_set_partitions(n,p):\n",
    "    num = math.factorial(n)\n",
    "    den = 1\n",
    "    val = 0\n",
    "    for key in p.keys():\n",
    "        val = p[key]\n",
    "        for i in range(val):\n",
    "            den = den * math.factorial(key)\n",
    "        den = den * math.factorial(val)\n",
    "    frac = num / den\n",
    "    return frac"
   ]
  },
  {
   "cell_type": "markdown",
   "metadata": {},
   "source": [
    "__calc_max_prob__ calculates the maximum probability of a unique integer partition <br>\n",
    "Multiplies the largest fraction in $\\pi$ to the power of the largest integer in the integer partition in decending order<br>\n",
    "p: a unique integer partition, as a python dictionary<br>\n",
    "Pi: the prior probability distribution<br>\n",
    "Example:\n",
    "```python\n",
    "calc_max_prob({4:1,1:2},[1/2, 1/3, 1/6])\n",
    "```\n",
    "Output:\n",
    "```python\n",
    "0.003472222222222222\n",
    "``` \n",
    "which is equal to 1/288"
   ]
  },
  {
   "cell_type": "code",
   "execution_count": 7,
   "metadata": {},
   "outputs": [],
   "source": [
    "def calc_max_prob(p, Pi):\n",
    "    Pi.sort(reverse=True)\n",
    "    frac = 1\n",
    "    ind = 0\n",
    "    val = -1\n",
    "    for key in sorted(p.keys(), reverse=True):\n",
    "        val = p[key]\n",
    "        for i in range(val):\n",
    "            frac = frac * pow(Pi[ind], key)\n",
    "            ind = ind + 1\n",
    "    return frac"
   ]
  },
  {
   "cell_type": "markdown",
   "metadata": {},
   "source": [
    "$$ V_1 [C \\triangleright \\pi ]  = \\sum_{p=1}^{|\\text{partitions}(n, k)|} \\text{set partitions}(n, p)\\times\\text{max prob} (p, \\pi )  $$\n",
    "\n",
    "__partitions(n, m)__ generates a dictionary of integer partitions\n",
    "<br>\n",
    "n: positive integer\n",
    "<br>\n",
    "m: the maximum number of parts in partition\n",
    "<br>\n",
    "Outputs a dictionary where the keys are the integers and the values are the number of times that integer occurs\n",
    "\n",
    "Example:\n",
    "```python\n",
    "for p in partitions(6,3):\n",
    "    print(p)\n",
    "```\n",
    "Output:\n",
    "```python\n",
    "{6:1}\n",
    "{5:1, 1:1}\n",
    "{4:1, 2:1}\n",
    "{4:1, 1:2}\n",
    "{3:2}\n",
    "{3:1, 2:1, 1:1}\n",
    "{2:3}\n",
    "```\n",
    "For every dictionary, __nonuni_post_bayes_vuln__ multiplies the number of set partitions and its max probability.\n",
    "These numbers are added together for all integer partitions to calculate the final posterior bayes vulnerability."
   ]
  },
  {
   "cell_type": "code",
   "execution_count": 8,
   "metadata": {},
   "outputs": [],
   "source": [
    "def nonuni_post_bayes_vuln(n, k, Pi):\n",
    "    pbvsum = 0\n",
    "    for p in partitions(n, m=k):  \n",
    "        num = calc_set_partitions(n,p)\n",
    "        frac = calc_max_prob(p, Pi)\n",
    "        val = num * frac\n",
    "        pbvsum = pbvsum + val\n",
    "    return pbvsum"
   ]
  },
  {
   "cell_type": "markdown",
   "metadata": {},
   "source": [
    "### Test Calculation"
   ]
  },
  {
   "cell_type": "code",
   "execution_count": 9,
   "metadata": {},
   "outputs": [
    {
     "data": {
      "text/plain": [
       "0.43113425925925924"
      ]
     },
     "execution_count": 9,
     "metadata": {},
     "output_type": "execute_result"
    }
   ],
   "source": [
    "nonuni_post_bayes_vuln(n, k, probs)"
   ]
  },
  {
   "cell_type": "code",
   "execution_count": 10,
   "metadata": {},
   "outputs": [
    {
     "data": {
      "text/plain": [
       "0.43113425925925924"
      ]
     },
     "execution_count": 10,
     "metadata": {},
     "output_type": "execute_result"
    }
   ],
   "source": [
    "745/1728"
   ]
  },
  {
   "cell_type": "markdown",
   "metadata": {},
   "source": [
    "### Graph for n = 1 - range_max"
   ]
  },
  {
   "cell_type": "code",
   "execution_count": 11,
   "metadata": {},
   "outputs": [
    {
     "name": "stdout",
     "output_type": "stream",
     "text": [
      "[0.5, 0.41666666666666663, 0.4027777777777778, 0.3958333333333333, 0.4131944444444444, 0.43113425925925924, 0.45071373456790115, 0.47124164094650195, 0.49189546896433456, 0.5100027327674895, 0.5286089945558984, 0.5460162099551324, 0.5620028439536178, 0.5777079682945385, 0.5926510927572133, 0.6064540469803313, 0.6199858515476071, 0.6328641759507894, 0.6449275762052176, 0.6566809853732916, 0.6679182597648781, 0.6785217391782529, 0.6888306889914446, 0.6987095450758978, 0.708088772920213, 0.7171911765432654, 0.7259328612922994, 0.7342690325659702, 0.7423516001752649, 0.750126842643426, 0.7575671873933534, 0.7647772270497627, 0.7717230716833271, 0.778387857720002, 0.7848448735801133, 0.7910728732069704, 0.7970620098085374, 0.802864302920058, 0.8084667620927148, 0.8138640456690108, 0.8190935860760112, 0.8241477614597112, 0.8290241292085966, 0.8337499783661965, 0.8383211829261487, 0.8427371368666922, 0.847018000709073, 0.8511619078918214, 0.8551693921509967, 0.8590555494129081, 0.8628199555901321, 0.8664638251218445, 0.8699986184326564, 0.8734248120073597, 0.8767440002036685, 0.8799650065127771, 0.883088848977509, 0.8861173061736667, 0.8890572687416837, 0.8919100592607909, 0.8946775149438247, 0.8973650942551569, 0.8999742690503824, 0.9025068563421836, 0.9049672414558381, 0.907356945145946, 0.9096777164915357, 0.911933127315284, 0.9141246837378295, 0.9162540397570079, 0.9183241430603509, 0.9203364462788295, 0.9222924946855999, 0.9241947511718488, 0.9260445924697528, 0.9278434502172159, 0.9295934059807109, 0.9312957490531275, 0.93295179805016, 0.9345633307907536, 0.936131544675566, 0.9376576492837474, 0.9391431774361156, 0.9405892347161408, 0.9419969275920679, 0.9433675888458362, 0.9447022351198189, 0.946001876692157, 0.9472676810874967, 0.9485005805258374, 0.9497014963972245, 0.9508714581789233, 0.9520113190597064, 0.9531219188347644, 0.9542041704634292, 0.9552588538616327, 0.9562867342749767, 0.957288625374886, 0.9582652396053183]\n"
     ]
    }
   ],
   "source": [
    "nupbvs = []\n",
    "for i in range(1, range_max):\n",
    "    nupbv = nonuni_post_bayes_vuln(i, k, probs)\n",
    "    nupbvs.append(nupbv)\n",
    "print(nupbvs)"
   ]
  },
  {
   "cell_type": "code",
   "execution_count": 12,
   "metadata": {},
   "outputs": [
    {
     "data": {
      "image/png": "[encoded data removed]",
      "text/plain": [
       "<Figure size 432x288 with 1 Axes>"
      ]
     },
     "metadata": {
      "needs_background": "light"
     },
     "output_type": "display_data"
    }
   ],
   "source": [
    "# plotting the points  \n",
    "x = [i for i in range(1, range_max)]\n",
    "\n",
    "plt.plot(x, nupbvs)\n",
    "\n",
    "plt.xlabel('n values')\n",
    "plt.ylabel('posterior bayes vulnerability')\n",
    "\n",
    "plt.title('k = 3, prior = 1/2, 1/3, 1/6')\n",
    "\n",
    "plt.show()"
   ]
  }
 ],
 "metadata": {
  "kernelspec": {
   "display_name": "Python 3",
   "language": "python",
   "name": "python3"
  },
  "language_info": {
   "codemirror_mode": {
    "name": "ipython",
    "version": 3
   },
   "file_extension": ".py",
   "mimetype": "text/x-python",
   "name": "python",
   "nbconvert_exporter": "python",
   "pygments_lexer": "ipython3",
   "version": "3.6.7"
  }
 },
 "nbformat": 4,
 "nbformat_minor": 1
}
