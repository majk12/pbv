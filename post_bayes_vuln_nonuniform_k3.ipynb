{
 "cells": [
  {
   "cell_type": "markdown",
   "metadata": {},
   "source": [
    "## Posterior Bayes Vulnerability\n",
    "\n",
    " k = 3, under a nonuniform prior 1/2, 1/3, 1/6"
   ]
  },
  {
   "cell_type": "code",
   "execution_count": 1,
   "metadata": {},
   "outputs": [],
   "source": [
    "import collections\n",
    "import math\n",
    "from sympy.utilities.iterables import partitions\n",
    "import matplotlib.pyplot as plt \n",
    "%matplotlib notebook"
   ]
  },
  {
   "cell_type": "markdown",
   "metadata": {},
   "source": [
    "### Variables"
   ]
  },
  {
   "cell_type": "code",
   "execution_count": 2,
   "metadata": {},
   "outputs": [],
   "source": [
    "k = 3"
   ]
  },
  {
   "cell_type": "code",
   "execution_count": 3,
   "metadata": {},
   "outputs": [],
   "source": [
    "n = 6"
   ]
  },
  {
   "cell_type": "code",
   "execution_count": 4,
   "metadata": {},
   "outputs": [],
   "source": [
    "probs = [1/2, 1/3, 1/6]"
   ]
  },
  {
   "cell_type": "code",
   "execution_count": 5,
   "metadata": {},
   "outputs": [],
   "source": [
    "range_max = 200"
   ]
  },
  {
   "cell_type": "markdown",
   "metadata": {},
   "source": [
    "### Functions"
   ]
  },
  {
   "cell_type": "markdown",
   "metadata": {},
   "source": [
    "__calc_set_paritions(n,p)__ calculates the number of set partitions\n",
    "<br>\n",
    "n: positive integer\n",
    "<br>\n",
    "p: a unique integer partition, as a python dictionary\n",
    "<br>\n",
    "Example:\n",
    "```python\n",
    "calc_set_partitions(6, {4:1, 1:2})\n",
    "```\n",
    "Output:\n",
    "```python\n",
    "15.0\n",
    "```\n",
    "Specific formula:<br>\n",
    "$$|\\text{set partitions}(6,\\{4:1, 1:2\\}) |= \\frac{6!}{\\left(4!\\right)1! \\times \\left(1!1!\\right)2!} $$\n",
    "\n",
    "Generalized formula:<br>\n",
    "With an interger parition $p$ containing integers $i$, each with multiplicity of $m$,\n",
    "$$|\\text{set partitions}(n,p)|=\\frac{n!}{\\prod_{i \\in p} i!^m m!}$$"
   ]
  },
  {
   "cell_type": "code",
   "execution_count": 6,
   "metadata": {},
   "outputs": [],
   "source": [
    "def calc_set_partitions(n,p):\n",
    "    num = math.factorial(n)\n",
    "    den = 1\n",
    "    val = 0\n",
    "    for key in p.keys():\n",
    "        val = p[key]\n",
    "        for i in range(val):\n",
    "            den = den * math.factorial(key)\n",
    "        den = den * math.factorial(val)\n",
    "    frac = num / den\n",
    "    return frac"
   ]
  },
  {
   "cell_type": "markdown",
   "metadata": {},
   "source": [
    "__calc_max_prob__ calculates the maximum probability of a unique integer partition <br>\n",
    "Multiplies the largest fraction in $\\pi$ to the power of the largest integer in the integer partition in decending order<br>\n",
    "p: a unique integer partition, as a python dictionary<br>\n",
    "Pi: the prior probability distribution<br>\n",
    "Example:\n",
    "```python\n",
    "calc_max_prob({4:1,1:2},[1/2, 1/3, 1/6])\n",
    "```\n",
    "Output:\n",
    "```python\n",
    "0.003472222222222222\n",
    "``` \n",
    "which is equal to 1/288"
   ]
  },
  {
   "cell_type": "code",
   "execution_count": 7,
   "metadata": {},
   "outputs": [],
   "source": [
    "def calc_max_prob(p, Pi):\n",
    "    Pi.sort(reverse=True)\n",
    "    frac = 1\n",
    "    ind = 0\n",
    "    val = -1\n",
    "    for key in sorted(p.keys(), reverse=True):\n",
    "        val = p[key]\n",
    "        for i in range(val):\n",
    "            frac = frac * pow(Pi[ind], key)\n",
    "            ind = ind + 1\n",
    "    return frac"
   ]
  },
  {
   "cell_type": "markdown",
   "metadata": {},
   "source": [
    "$$ V_1 [C \\triangleright \\pi ]  = \\sum_{p=1}^{|\\text{partitions}(n, k)|} \\text{set partitions}(n, p)\\times\\text{max prob} (p, \\pi )  $$\n",
    "\n",
    "__partitions(n, m)__ generates a dictionary of integer partitions\n",
    "<br>\n",
    "n: positive integer\n",
    "<br>\n",
    "m: the maximum number of parts in partition\n",
    "<br>\n",
    "Outputs a dictionary where the keys are the integers and the values are the number of times that integer occurs\n",
    "\n",
    "Example:\n",
    "```python\n",
    "for p in partitions(6,3):\n",
    "    print(p)\n",
    "```\n",
    "Output:\n",
    "```python\n",
    "{6:1}\n",
    "{5:1, 1:1}\n",
    "{4:1, 2:1}\n",
    "{4:1, 1:2}\n",
    "{3:2}\n",
    "{3:1, 2:1, 1:1}\n",
    "{2:3}\n",
    "```\n",
    "For every dictionary, __nonuni_post_bayes_vuln__ multiplies the number of set partitions and its max probability.\n",
    "These numbers are added together for all integer partitions to calculate the final posterior bayes vulnerability."
   ]
  },
  {
   "cell_type": "code",
   "execution_count": 8,
   "metadata": {},
   "outputs": [],
   "source": [
    "def nonuni_post_bayes_vuln(n, k, Pi):\n",
    "    pbvsum = 0\n",
    "    for p in partitions(n, m=k):  \n",
    "        num = calc_set_partitions(n,p)\n",
    "        frac = calc_max_prob(p, Pi)\n",
    "        val = num * frac\n",
    "        pbvsum = pbvsum + val\n",
    "    return pbvsum"
   ]
  },
  {
   "cell_type": "markdown",
   "metadata": {},
   "source": [
    "### Test Calculation"
   ]
  },
  {
   "cell_type": "code",
   "execution_count": 9,
   "metadata": {},
   "outputs": [
    {
     "data": {
      "text/plain": [
       "0.43113425925925924"
      ]
     },
     "execution_count": 9,
     "metadata": {},
     "output_type": "execute_result"
    }
   ],
   "source": [
    "nonuni_post_bayes_vuln(n, k, probs)"
   ]
  },
  {
   "cell_type": "code",
   "execution_count": 10,
   "metadata": {},
   "outputs": [
    {
     "data": {
      "text/plain": [
       "0.43113425925925924"
      ]
     },
     "execution_count": 10,
     "metadata": {},
     "output_type": "execute_result"
    }
   ],
   "source": [
    "745/1728"
   ]
  },
  {
   "cell_type": "markdown",
   "metadata": {},
   "source": [
    "### Graph for n = 1 - range_max"
   ]
  },
  {
   "cell_type": "code",
   "execution_count": 11,
   "metadata": {},
   "outputs": [
    {
     "name": "stdout",
     "output_type": "stream",
     "text": [
      "[0.5, 0.41666666666666663, 0.4027777777777778, 0.3958333333333333, 0.4131944444444444, 0.43113425925925924, 0.45071373456790115, 0.47124164094650195, 0.49189546896433456, 0.5100027327674895, 0.5286089945558984, 0.5460162099551324, 0.5620028439536178, 0.5777079682945385, 0.5926510927572133, 0.6064540469803313, 0.6199858515476071, 0.6328641759507894, 0.6449275762052176, 0.6566809853732916, 0.6679182597648781, 0.6785217391782529, 0.6888306889914446, 0.6987095450758978, 0.708088772920213, 0.7171911765432654, 0.7259328612922994, 0.7342690325659702, 0.7423516001752649, 0.750126842643426, 0.7575671873933534, 0.7647772270497627, 0.7717230716833271, 0.778387857720002, 0.7848448735801133, 0.7910728732069704, 0.7970620098085374, 0.802864302920058, 0.8084667620927148, 0.8138640456690108, 0.8190935860760112, 0.8241477614597112, 0.8290241292085966, 0.8337499783661965, 0.8383211829261487, 0.8427371368666922, 0.847018000709073, 0.8511619078918214, 0.8551693921509967, 0.8590555494129081, 0.8628199555901321, 0.8664638251218445, 0.8699986184326564, 0.8734248120073597, 0.8767440002036685, 0.8799650065127771, 0.883088848977509, 0.8861173061736667, 0.8890572687416837, 0.8919100592607909, 0.8946775149438247, 0.8973650942551569, 0.8999742690503824, 0.9025068563421836, 0.9049672414558381, 0.907356945145946, 0.9096777164915357, 0.911933127315284, 0.9141246837378295, 0.9162540397570079, 0.9183241430603509, 0.9203364462788295, 0.9222924946855999, 0.9241947511718488, 0.9260445924697528, 0.9278434502172159, 0.9295934059807109, 0.9312957490531275, 0.93295179805016, 0.9345633307907536, 0.936131544675566, 0.9376576492837474, 0.9391431774361156, 0.9405892347161408, 0.9419969275920679, 0.9433675888458362, 0.9447022351198189, 0.946001876692157, 0.9472676810874967, 0.9485005805258374, 0.9497014963972245, 0.9508714581789233, 0.9520113190597064, 0.9531219188347644, 0.9542041704634292, 0.9552588538616327, 0.9562867342749767, 0.957288625374886, 0.9582652396053183, 0.9592172743212379, 0.9601454578517411, 0.9610504408097551, 0.9619328588606383, 0.9627933664032869, 0.963632557580681, 0.9644510120835053, 0.9652493198187851, 0.9660280234758459, 0.9667876519990835, 0.9675287386882979, 0.9682517794220229, 0.9689572571566678, 0.9696456552337521, 0.9703174269851331, 0.9709730136938137, 0.9716128543988596, 0.9722373637801998, 0.9728469453496977, 0.9734419986934039, 0.9740229033827846, 0.9745900286819221, 0.9751437389119701, 0.9756843817509483, 0.976212295393069, 0.9767278125350823, 0.9772312518731432, 0.9777229233963306, 0.9782031313598463, 0.9786721681116363, 0.9791303180175687, 0.9795778596884823, 0.9800150615046863, 0.9804421845361522, 0.9808594842188636, 0.9812672071166849, 0.981665593102185, 0.9820548766255899, 0.9824352843782214, 0.9828070369283672, 0.9831703496880192, 0.9835254312329613, 0.983872484536109, 0.9842117077093908, 0.9845432928017541, 0.9848674267344789, 0.9851842918751831, 0.9854940651832795, 0.9857969189240487, 0.9860930211167948, 0.9863825349325614, 0.9866656192434408, 0.9869424289759454, 0.9872131146915035, 0.9874778230126385, 0.9877366969045618, 0.987989875387782, 0.9882374938718554, 0.9884796843823082, 0.9887165753684012, 0.9889482919671868, 0.9891749561884771, 0.9893966867908537, 0.9896135994928568, 0.98982580712555, 0.9900334195571496, 0.9902365438638843, 0.9904352844572921, 0.9906297430432203, 0.9908200187616986, 0.9910062082943621, 0.9911884058474689, 0.9913667032677874, 0.991541190134205, 0.9917119537573131, 0.9918790792765315, 0.992042649739027, 0.9922027461104621, 0.9923594473573323, 0.9925128305155521, 0.9926629707085245, 0.9928099412176585, 0.992953813542526, 0.993094657423413, 0.9932325409023758, 0.9933675303763327, 0.9934996906222262, 0.9936290848503047, 0.9937557747513152, 0.9938798205228889, 0.9940012809164065, 0.9941202132792167, 0.9942366735812457, 0.9943507164565707, 0.9944623952413271, 0.9945717619999337, 0.9946788675621903, 0.9947837615574648, 0.9948864924401248, 0.9949871075227806, 0.9950856530072885]\n"
     ]
    }
   ],
   "source": [
    "nupbvs = []\n",
    "for i in range(range_max):\n",
    "    nupbv = nonuni_post_bayes_vuln(i+1, k, probs)\n",
    "    nupbvs.append(nupbv)\n",
    "print(nupbvs)"
   ]
  },
  {
   "cell_type": "code",
   "execution_count": 12,
   "metadata": {},
   "outputs": [
    {
     "data": {
      "image/png": "[encoded data removed]",
      "text/plain": [
       "<Figure size 432x288 with 1 Axes>"
      ]
     },
     "metadata": {
      "needs_background": "light"
     },
     "output_type": "display_data"
    }
   ],
   "source": [
    "# plotting the points  \n",
    "x = [i+1 for i in range(range_max)]\n",
    "\n",
    "plt.plot(x, nupbvs)\n",
    "\n",
    "plt.xlabel('n values')\n",
    "plt.ylabel('posterior bayes vulnerability')\n",
    "\n",
    "plt.title('k = 3, prior = 1/2, 1/3, 1/6')\n",
    "\n",
    "plt.show()"
   ]
  }
 ],
 "metadata": {
  "kernelspec": {
   "display_name": "Python 3",
   "language": "python",
   "name": "python3"
  },
  "language_info": {
   "codemirror_mode": {
    "name": "ipython",
    "version": 3
   },
   "file_extension": ".py",
   "mimetype": "text/x-python",
   "name": "python",
   "nbconvert_exporter": "python",
   "pygments_lexer": "ipython3",
   "version": "3.6.7"
  }
 },
 "nbformat": 4,
 "nbformat_minor": 1
}
